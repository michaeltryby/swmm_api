{
 "cells": [
  {
   "cell_type": "code",
   "execution_count": 34,
   "metadata": {
    "pycharm": {
     "is_executing": false
    },
    "scrolled": true
   },
   "outputs": [],
   "source": [
    "from idf_analysis.idf_class import IntensityDurationFrequencyAnalyse\n",
    "from idf_analysis.definitions import *\n",
    "import pandas as pd\n",
    "from os import path\n",
    "%matplotlib inline"
   ]
  },
  {
   "cell_type": "code",
   "execution_count": 35,
   "metadata": {
    "scrolled": true
   },
   "outputs": [],
   "source": [
    "output_directory = path.join('example', 'EXAMPLE_data')"
   ]
  },
  {
   "cell_type": "markdown",
   "metadata": {},
   "source": [
    "# Intensity Duration Frequency Analyse"
   ]
  },
  {
   "cell_type": "markdown",
   "metadata": {},
   "source": [
    "## Parameter\n",
    "\n",
    "**series_kind**:\n",
    "\n",
    "`PARTIAL` = Partielle Serie (partial duration series, PDS) (peak over threshold, POT)\n",
    "\n",
    "`ANNUAL` = Jährliche Serie (annual maximum series, AMS)\n",
    "\n",
    "**worksheet**:\n",
    "\n",
    "`DWA`:\n",
    "- DWA-A 531\n",
    "- KOSTRA - empfohlen\n",
    "- Stützstellen: 60min und 12h\n",
    "\n",
    "`DWA-adv`:\n",
    "- DWA-A 531\n",
    "- Unterscheidung in überwiegend konvektiv und advektiv verursachte Starkregen\n",
    "- Stützstellen: 3h und 24h\n",
    "\n",
    "`ATV`:\n",
    "- ATV-A 121\n",
    "- Stützstellen: 3h und 48h\n",
    "\n",
    "**extended_durations** = Inkludiert die Dauerstufen `[720, 1080, 1440, 2880, 4320, 5760, 7200, 8640]` in der Analyse (in Minutesn)\n",
    "\n",
    "Standardmäßig berechnete Dauerstufen `[5m, 10m, 15m, 20m, 30m, 45m, 60m, 1.5h, 3h, 4.5h, 6h, 7.5h, 10h, 12h]`"
   ]
  },
  {
   "cell_type": "code",
   "execution_count": 36,
   "metadata": {
    "pycharm": {
     "is_executing": false
    },
    "scrolled": true
   },
   "outputs": [],
   "source": [
    "idf = IntensityDurationFrequencyAnalyse(series_kind=PARTIAL, worksheet=DWA, extended_durations=True)"
   ]
  },
  {
   "cell_type": "code",
   "execution_count": 37,
   "metadata": {
    "pycharm": {
     "is_executing": false
    },
    "scrolled": true
   },
   "outputs": [],
   "source": [
    "data = pd.read_parquet(path.join('example','expample_rain_data.parquet'))"
   ]
  },
  {
   "cell_type": "code",
   "execution_count": 38,
   "metadata": {
    "pycharm": {
     "is_executing": false
    },
    "scrolled": true
   },
   "outputs": [
    {
     "data": {
      "text/html": [
       "<div>\n",
       "<style scoped>\n",
       "    .dataframe tbody tr th:only-of-type {\n",
       "        vertical-align: middle;\n",
       "    }\n",
       "\n",
       "    .dataframe tbody tr th {\n",
       "        vertical-align: top;\n",
       "    }\n",
       "\n",
       "    .dataframe thead th {\n",
       "        text-align: right;\n",
       "    }\n",
       "</style>\n",
       "<table border=\"1\" class=\"dataframe\">\n",
       "  <thead>\n",
       "    <tr style=\"text-align: right;\">\n",
       "      <th></th>\n",
       "      <th>precipitation</th>\n",
       "    </tr>\n",
       "    <tr>\n",
       "      <th>datetime</th>\n",
       "      <th></th>\n",
       "    </tr>\n",
       "  </thead>\n",
       "  <tbody>\n",
       "    <tr>\n",
       "      <th>1984-06-18 07:01:00</th>\n",
       "      <td>0.0</td>\n",
       "    </tr>\n",
       "    <tr>\n",
       "      <th>1984-06-18 07:02:00</th>\n",
       "      <td>0.0</td>\n",
       "    </tr>\n",
       "    <tr>\n",
       "      <th>1984-06-18 07:03:00</th>\n",
       "      <td>0.0</td>\n",
       "    </tr>\n",
       "    <tr>\n",
       "      <th>1984-06-18 07:04:00</th>\n",
       "      <td>0.0</td>\n",
       "    </tr>\n",
       "    <tr>\n",
       "      <th>1984-06-18 07:05:00</th>\n",
       "      <td>0.0</td>\n",
       "    </tr>\n",
       "  </tbody>\n",
       "</table>\n",
       "</div>"
      ],
      "text/plain": [
       "                     precipitation\n",
       "datetime                          \n",
       "1984-06-18 07:01:00            0.0\n",
       "1984-06-18 07:02:00            0.0\n",
       "1984-06-18 07:03:00            0.0\n",
       "1984-06-18 07:04:00            0.0\n",
       "1984-06-18 07:05:00            0.0"
      ]
     },
     "execution_count": 38,
     "metadata": {},
     "output_type": "execute_result"
    }
   ],
   "source": [
    "data.head()"
   ]
  },
  {
   "cell_type": "code",
   "execution_count": 39,
   "metadata": {
    "pycharm": {
     "is_executing": false
    },
    "scrolled": true
   },
   "outputs": [
    {
     "data": {
      "text/html": [
       "<div>\n",
       "<style scoped>\n",
       "    .dataframe tbody tr th:only-of-type {\n",
       "        vertical-align: middle;\n",
       "    }\n",
       "\n",
       "    .dataframe tbody tr th {\n",
       "        vertical-align: top;\n",
       "    }\n",
       "\n",
       "    .dataframe thead th {\n",
       "        text-align: right;\n",
       "    }\n",
       "</style>\n",
       "<table border=\"1\" class=\"dataframe\">\n",
       "  <thead>\n",
       "    <tr style=\"text-align: right;\">\n",
       "      <th></th>\n",
       "      <th>precipitation</th>\n",
       "    </tr>\n",
       "    <tr>\n",
       "      <th>datetime</th>\n",
       "      <th></th>\n",
       "    </tr>\n",
       "  </thead>\n",
       "  <tbody>\n",
       "    <tr>\n",
       "      <th>2015-12-31 23:56:00</th>\n",
       "      <td>0.0</td>\n",
       "    </tr>\n",
       "    <tr>\n",
       "      <th>2015-12-31 23:57:00</th>\n",
       "      <td>0.0</td>\n",
       "    </tr>\n",
       "    <tr>\n",
       "      <th>2015-12-31 23:58:00</th>\n",
       "      <td>0.0</td>\n",
       "    </tr>\n",
       "    <tr>\n",
       "      <th>2015-12-31 23:59:00</th>\n",
       "      <td>0.0</td>\n",
       "    </tr>\n",
       "    <tr>\n",
       "      <th>2016-01-01 00:00:00</th>\n",
       "      <td>NaN</td>\n",
       "    </tr>\n",
       "  </tbody>\n",
       "</table>\n",
       "</div>"
      ],
      "text/plain": [
       "                     precipitation\n",
       "datetime                          \n",
       "2015-12-31 23:56:00            0.0\n",
       "2015-12-31 23:57:00            0.0\n",
       "2015-12-31 23:58:00            0.0\n",
       "2015-12-31 23:59:00            0.0\n",
       "2016-01-01 00:00:00            NaN"
      ]
     },
     "execution_count": 39,
     "metadata": {},
     "output_type": "execute_result"
    }
   ],
   "source": [
    "data.tail()"
   ]
  },
  {
   "cell_type": "code",
   "execution_count": 40,
   "metadata": {
    "pycharm": {
     "is_executing": false
    },
    "scrolled": true
   },
   "outputs": [],
   "source": [
    "idf.set_series(data['precipitation'])"
   ]
  },
  {
   "cell_type": "markdown",
   "metadata": {},
   "source": [
    "Bei jeder neuen Berechnung werden Zwischenergebnisse erstellt, welche nur abhängig von der gewählten Serie `series_kind` und der angegebenen/benötigten Dauerstufen sind. Dieser Vorgang dauert einige Sekunden.\n",
    "Auserdem enthalten diese Zwischenergebnisse die Parameter, die zur Berechnung der Regenhöhe und Regenspende benötigt werden.\n",
    "Hier sind bereist die Berechnungsverfahren und Stückpunkte laut dem gewählten `worksheet` berücksichtigt.\n",
    "\n",
    "Abgerufen können diese Zwischenergebnisse mit:"
   ]
  },
  {
   "cell_type": "code",
   "execution_count": 41,
   "metadata": {
    "scrolled": true
   },
   "outputs": [
    {
     "name": "stderr",
     "output_type": "stream",
     "text": [
      "Calculating Parameters u and w for duration 8640: 100%|██████████| 21/21 [00:15<00:00,  1.39it/s]"
     ]
    },
    {
     "name": "stdout",
     "output_type": "stream",
     "text": [
      "C:\\Users\\mp\\PycharmProjects\\intensity_duration_frequency_analysis\\idf_analysis\\idf_class.py:144\n",
      "calculate_u_w/\n",
      "├── ==> 15.2028s\n",
      "├── Series(name=\"precipitation\", dtype=\"float64\", shape=(649368,))\n",
      "├── [5, 10, 15, 20, 30, 45, 60, 90.0, 180, 270.0, 360, 450.0, 600, 720, 1080.0, 1440.0, 2880.0, 4320.0, 5760.0, 7200.0, 8640.0]\n",
      "└── partial\n",
      "\n"
     ]
    },
    {
     "name": "stderr",
     "output_type": "stream",
     "text": [
      "\n"
     ]
    },
    {
     "data": {
      "text/plain": [
       "[OrderedDict([('von', 0),\n",
       "              ('bis', 60),\n",
       "              ('u', 'hyperbolic'),\n",
       "              ('w', 'double_logarithmic'),\n",
       "              ('duration', [5, 10, 15, 20, 30, 45, 60]),\n",
       "              ('u_values',\n",
       "               [4.955572213547333,\n",
       "                7.81861652350384,\n",
       "                9.545176309652488,\n",
       "                10.841471952039706,\n",
       "                12.61420985254746,\n",
       "                14.90283881780147,\n",
       "                17.084364589101774]),\n",
       "              ('w_values',\n",
       "               [1.8558594500857613,\n",
       "                3.4163060430609264,\n",
       "                4.44648949547268,\n",
       "                4.9843245072990925,\n",
       "                5.31859293270383,\n",
       "                5.522592055884215,\n",
       "                6.24919487469558]),\n",
       "              ('a_u', 22.037888976986956),\n",
       "              ('b_u', 19.08959556575749),\n",
       "              ('a_w', 0.13058660953504586),\n",
       "              ('b_w', 0.4408531243747329)]),\n",
       " OrderedDict([('von', 60),\n",
       "              ('bis', 720),\n",
       "              ('u', 'double_logarithmic'),\n",
       "              ('w', 'double_logarithmic'),\n",
       "              ('duration', [60, 90, 180, 270, 360, 450, 600, 720]),\n",
       "              ('u_values',\n",
       "               [17.084364589101774,\n",
       "                19.280280668325055,\n",
       "                22.866761370121772,\n",
       "                25.416002213009776,\n",
       "                27.561997472190157,\n",
       "                28.946030046115254,\n",
       "                31.164173693360503,\n",
       "                32.775061093226945]),\n",
       "              ('w_values',\n",
       "               [6.24919487469558,\n",
       "                7.714303079776096,\n",
       "                8.31407040223496,\n",
       "                8.133575697522067,\n",
       "                8.25853739327351,\n",
       "                8.240661132598287,\n",
       "                8.739080953534232,\n",
       "                8.94281522044999]),\n",
       "              ('a_u', 1.693231101109454),\n",
       "              ('b_u', 0.2743529092758318),\n",
       "              ('a_w', 1.511443311250534),\n",
       "              ('b_w', 0.10359359950317112)]),\n",
       " OrderedDict([('von', 720),\n",
       "              ('bis', inf),\n",
       "              ('u', 'linear'),\n",
       "              ('w', 'linear'),\n",
       "              ('duration', [720, 1080, 1440, 2880, 4320, 5760, 7200, 8640]),\n",
       "              ('u_values',\n",
       "               [32.775061093226945,\n",
       "                36.61500661354568,\n",
       "                39.12522734771483,\n",
       "                46.64321721217384,\n",
       "                51.238516590136086,\n",
       "                53.61954318520265,\n",
       "                55.568497215667996,\n",
       "                57.77200828574673]),\n",
       "              ('w_values',\n",
       "               [8.94281522044999,\n",
       "                9.290284704154335,\n",
       "                10.129629592690515,\n",
       "                15.042027802667414,\n",
       "                17.304963187053183,\n",
       "                18.6770841643819,\n",
       "                19.52708635249154,\n",
       "                20.58017686749033])])]"
      ]
     },
     "execution_count": 41,
     "metadata": {},
     "output_type": "execute_result"
    }
   ],
   "source": [
    "idf.parameters"
   ]
  },
  {
   "cell_type": "markdown",
   "metadata": {},
   "source": [
    "Um Zeit zu sparen gibt es dies Möglichkeit, die Parameter zwischenzuspeichern und bei erneuterm aufrufen des Skripts werden diese Parameter nicht mehr berechnet sondern aus der Datei gelesen."
   ]
  },
  {
   "cell_type": "code",
   "execution_count": 42,
   "metadata": {
    "pycharm": {
     "is_executing": false
    },
    "scrolled": true
   },
   "outputs": [],
   "source": [
    "idf.auto_save_parameters(path.join(output_directory, 'parameters.yaml'))"
   ]
  },
  {
   "cell_type": "code",
   "execution_count": 43,
   "metadata": {
    "scrolled": true
   },
   "outputs": [
    {
     "name": "stdout",
     "output_type": "stream",
     "text": [
      "Folder PATH listing\n",
      "Volume serial number is 22B2-B9BA\n",
      "C:\\USERS\\MP\\PYCHARMPROJECTS\\INTENSITY_DURATION_FREQUENCY_ANALYSIS\\EXAMPLE\\EXAMPLE_DATA\n",
      "No subfolders exist \n",
      "\n"
     ]
    }
   ],
   "source": [
    "! tree example/EXAMPLE_data"
   ]
  },
  {
   "cell_type": "code",
   "execution_count": 44,
   "metadata": {
    "pycharm": {
     "is_executing": false
    },
    "scrolled": false
   },
   "outputs": [
    {
     "name": "stdout",
     "output_type": "stream",
     "text": [
      " Volume in drive C has no label.\n",
      " Volume Serial Number is 22B2-B9BA\n",
      "\n",
      " Directory of C:\\Users\\mp\\PycharmProjects\\intensity_duration_frequency_analysis\\example\\EXAMPLE_data\n",
      "\n",
      "16.03.2020  17:51    <DIR>          .\n",
      "16.03.2020  17:51    <DIR>          ..\n",
      "16.03.2020  17:51            96'839 idf_plot.png\n",
      "16.03.2020  17:51            85'955 idf_plot_bw.png\n",
      "16.03.2020  17:51             3'647 idf_table.csv\n",
      "16.03.2020  17:49             1'790 parameters.yaml\n",
      "               4 File(s)        188'231 bytes\n",
      "               2 Dir(s)  912'104'488'960 bytes free\n"
     ]
    }
   ],
   "source": [
    "! dir example\\EXAMPLE_data"
   ]
  },
  {
   "cell_type": "markdown",
   "metadata": {},
   "source": [
    "## Berechnungen"
   ]
  },
  {
   "cell_type": "code",
   "execution_count": 45,
   "metadata": {
    "pycharm": {
     "is_executing": false
    },
    "scrolled": true
   },
   "outputs": [],
   "source": [
    "from IPython.display import Latex\n",
    "def print_latex(string):\n",
    "    Latex('$' + string.replace(' ', '\\;')+ '$')"
   ]
  },
  {
   "cell_type": "code",
   "execution_count": 46,
   "metadata": {
    "pycharm": {
     "is_executing": false
    },
    "scrolled": true
   },
   "outputs": [
    {
     "data": {
      "text/plain": [
       "9.697044777699137"
      ]
     },
     "execution_count": 46,
     "metadata": {},
     "output_type": "execute_result"
    }
   ],
   "source": [
    "idf.depth_of_rainfall(duration=15, return_period=1)"
   ]
  },
  {
   "cell_type": "code",
   "execution_count": 47,
   "metadata": {
    "pycharm": {
     "is_executing": false
    },
    "scrolled": false
   },
   "outputs": [
    {
     "name": "stdout",
     "output_type": "stream",
     "text": [
      "Resultierende Regenhöhe h_N(T_n=1.0a, D=15.0min) = 9.70 mm\n"
     ]
    }
   ],
   "source": [
    "print('Resultierende Regenhöhe h_N(T_n={t:0.1f}a, D={d:0.1f}min) = {h:0.2f} mm'\n",
    "      ''.format(t=1, d=15, h=idf.depth_of_rainfall(15, 1)))"
   ]
  },
  {
   "cell_type": "code",
   "execution_count": 48,
   "metadata": {
    "pycharm": {
     "is_executing": false
    },
    "scrolled": true
   },
   "outputs": [
    {
     "data": {
      "text/plain": [
       "107.74494197443484"
      ]
     },
     "execution_count": 48,
     "metadata": {},
     "output_type": "execute_result"
    }
   ],
   "source": [
    "idf.rain_flow_rate(duration=15, return_period=1)"
   ]
  },
  {
   "cell_type": "code",
   "execution_count": 49,
   "metadata": {
    "pycharm": {
     "is_executing": false
    },
    "scrolled": true
   },
   "outputs": [
    {
     "name": "stdout",
     "output_type": "stream",
     "text": [
      "Resultierende Regenspende r_N(T_n=1.0a, D=15.0min) = 107.74 L/(s*ha)\n"
     ]
    }
   ],
   "source": [
    "print('Resultierende Regenspende r_N(T_n={t:0.1f}a, D={d:0.1f}min) = {r:0.2f} L/(s*ha)'\n",
    "      ''.format(t=1, d=15, r=idf.rain_flow_rate(15, 1)))"
   ]
  },
  {
   "cell_type": "code",
   "execution_count": 50,
   "metadata": {
    "pycharm": {
     "is_executing": false
    },
    "scrolled": true
   },
   "outputs": [
    {
     "data": {
      "text/plain": [
       "7.652347088411985"
      ]
     },
     "execution_count": 50,
     "metadata": {},
     "output_type": "execute_result"
    }
   ],
   "source": [
    "idf.r_720_1()"
   ]
  },
  {
   "cell_type": "code",
   "execution_count": 51,
   "metadata": {
    "pycharm": {
     "is_executing": false
    },
    "scrolled": true
   },
   "outputs": [
    {
     "data": {
      "text/plain": [
       "1.0839064324968273"
      ]
     },
     "execution_count": 51,
     "metadata": {},
     "output_type": "execute_result"
    }
   ],
   "source": [
    "idf.get_return_period(height_of_rainfall=10, duration=15)"
   ]
  },
  {
   "cell_type": "code",
   "execution_count": 52,
   "metadata": {
    "pycharm": {
     "is_executing": false
    },
    "scrolled": true
   },
   "outputs": [
    {
     "data": {
      "text/plain": [
       "15.857926254554602"
      ]
     },
     "execution_count": 52,
     "metadata": {},
     "output_type": "execute_result"
    }
   ],
   "source": [
    "idf.get_duration(height_of_rainfall=10, return_period=1)"
   ]
  },
  {
   "cell_type": "code",
   "execution_count": 53,
   "metadata": {
    "pycharm": {
     "is_executing": false
    },
    "scrolled": true
   },
   "outputs": [
    {
     "data": {
      "text/html": [
       "<div>\n",
       "<style scoped>\n",
       "    .dataframe tbody tr th:only-of-type {\n",
       "        vertical-align: middle;\n",
       "    }\n",
       "\n",
       "    .dataframe tbody tr th {\n",
       "        vertical-align: top;\n",
       "    }\n",
       "\n",
       "    .dataframe thead th {\n",
       "        text-align: right;\n",
       "    }\n",
       "</style>\n",
       "<table border=\"1\" class=\"dataframe\">\n",
       "  <thead>\n",
       "    <tr style=\"text-align: right;\">\n",
       "      <th></th>\n",
       "      <th>0.5</th>\n",
       "      <th>1.0</th>\n",
       "      <th>2.0</th>\n",
       "      <th>3.0</th>\n",
       "      <th>5.0</th>\n",
       "      <th>10.0</th>\n",
       "      <th>15.0</th>\n",
       "      <th>50.0</th>\n",
       "      <th>100.0</th>\n",
       "    </tr>\n",
       "  </thead>\n",
       "  <tbody>\n",
       "    <tr>\n",
       "      <th>5.0</th>\n",
       "      <td>2.968387</td>\n",
       "      <td>4.574151</td>\n",
       "      <td>6.179915</td>\n",
       "      <td>7.119226</td>\n",
       "      <td>8.302619</td>\n",
       "      <td>9.908382</td>\n",
       "      <td>10.847694</td>\n",
       "      <td>13.636850</td>\n",
       "      <td>15.242613</td>\n",
       "    </tr>\n",
       "    <tr>\n",
       "      <th>10.0</th>\n",
       "      <td>5.396192</td>\n",
       "      <td>7.575866</td>\n",
       "      <td>9.755541</td>\n",
       "      <td>11.030569</td>\n",
       "      <td>12.636914</td>\n",
       "      <td>14.816588</td>\n",
       "      <td>16.091616</td>\n",
       "      <td>19.877635</td>\n",
       "      <td>22.057310</td>\n",
       "    </tr>\n",
       "    <tr>\n",
       "      <th>15.0</th>\n",
       "      <td>7.090759</td>\n",
       "      <td>9.697045</td>\n",
       "      <td>12.303330</td>\n",
       "      <td>13.827910</td>\n",
       "      <td>15.748653</td>\n",
       "      <td>18.354938</td>\n",
       "      <td>19.879518</td>\n",
       "      <td>24.406546</td>\n",
       "      <td>27.012832</td>\n",
       "    </tr>\n",
       "    <tr>\n",
       "      <th>20.0</th>\n",
       "      <td>8.316873</td>\n",
       "      <td>11.275578</td>\n",
       "      <td>14.234283</td>\n",
       "      <td>15.965014</td>\n",
       "      <td>18.145478</td>\n",
       "      <td>21.104183</td>\n",
       "      <td>22.834914</td>\n",
       "      <td>27.974083</td>\n",
       "      <td>30.932787</td>\n",
       "    </tr>\n",
       "    <tr>\n",
       "      <th>30.0</th>\n",
       "      <td>9.930169</td>\n",
       "      <td>13.467959</td>\n",
       "      <td>17.005749</td>\n",
       "      <td>19.075223</td>\n",
       "      <td>21.682453</td>\n",
       "      <td>25.220243</td>\n",
       "      <td>27.289717</td>\n",
       "      <td>33.434736</td>\n",
       "      <td>36.972526</td>\n",
       "    </tr>\n",
       "    <tr>\n",
       "      <th>45.0</th>\n",
       "      <td>11.243514</td>\n",
       "      <td>15.473729</td>\n",
       "      <td>19.703943</td>\n",
       "      <td>22.178460</td>\n",
       "      <td>25.295983</td>\n",
       "      <td>29.526197</td>\n",
       "      <td>32.000714</td>\n",
       "      <td>39.348452</td>\n",
       "      <td>43.578666</td>\n",
       "    </tr>\n",
       "    <tr>\n",
       "      <th>60.0</th>\n",
       "      <td>11.916456</td>\n",
       "      <td>16.718676</td>\n",
       "      <td>21.520896</td>\n",
       "      <td>24.330015</td>\n",
       "      <td>27.869085</td>\n",
       "      <td>32.671305</td>\n",
       "      <td>35.480424</td>\n",
       "      <td>43.821714</td>\n",
       "      <td>48.623934</td>\n",
       "    </tr>\n",
       "    <tr>\n",
       "      <th>90.0</th>\n",
       "      <td>13.677631</td>\n",
       "      <td>18.685858</td>\n",
       "      <td>23.694084</td>\n",
       "      <td>26.623709</td>\n",
       "      <td>30.314600</td>\n",
       "      <td>35.322826</td>\n",
       "      <td>38.252451</td>\n",
       "      <td>46.951568</td>\n",
       "      <td>51.959795</td>\n",
       "    </tr>\n",
       "    <tr>\n",
       "      <th>180.0</th>\n",
       "      <td>17.218567</td>\n",
       "      <td>22.599639</td>\n",
       "      <td>27.980710</td>\n",
       "      <td>31.128435</td>\n",
       "      <td>35.094099</td>\n",
       "      <td>40.475171</td>\n",
       "      <td>43.622896</td>\n",
       "      <td>52.969631</td>\n",
       "      <td>58.350703</td>\n",
       "    </tr>\n",
       "    <tr>\n",
       "      <th>270.0</th>\n",
       "      <td>19.646886</td>\n",
       "      <td>25.258796</td>\n",
       "      <td>30.870706</td>\n",
       "      <td>34.153462</td>\n",
       "      <td>38.289247</td>\n",
       "      <td>43.901157</td>\n",
       "      <td>47.183913</td>\n",
       "      <td>56.931607</td>\n",
       "      <td>62.543517</td>\n",
       "    </tr>\n",
       "    <tr>\n",
       "      <th>360.0</th>\n",
       "      <td>21.551494</td>\n",
       "      <td>27.333167</td>\n",
       "      <td>33.114840</td>\n",
       "      <td>36.496902</td>\n",
       "      <td>40.757796</td>\n",
       "      <td>46.539469</td>\n",
       "      <td>49.921531</td>\n",
       "      <td>59.964098</td>\n",
       "      <td>65.745771</td>\n",
       "    </tr>\n",
       "    <tr>\n",
       "      <th>450.0</th>\n",
       "      <td>23.141908</td>\n",
       "      <td>29.058788</td>\n",
       "      <td>34.975668</td>\n",
       "      <td>38.436821</td>\n",
       "      <td>42.797359</td>\n",
       "      <td>48.714239</td>\n",
       "      <td>52.175392</td>\n",
       "      <td>62.452810</td>\n",
       "      <td>68.369690</td>\n",
       "    </tr>\n",
       "    <tr>\n",
       "      <th>600.0</th>\n",
       "      <td>25.349363</td>\n",
       "      <td>31.445232</td>\n",
       "      <td>37.541101</td>\n",
       "      <td>41.106956</td>\n",
       "      <td>45.599402</td>\n",
       "      <td>51.695271</td>\n",
       "      <td>55.261126</td>\n",
       "      <td>65.849441</td>\n",
       "      <td>71.945310</td>\n",
       "    </tr>\n",
       "    <tr>\n",
       "      <th>720.0</th>\n",
       "      <td>26.846041</td>\n",
       "      <td>33.058139</td>\n",
       "      <td>39.270238</td>\n",
       "      <td>42.904082</td>\n",
       "      <td>47.482185</td>\n",
       "      <td>53.694283</td>\n",
       "      <td>57.328127</td>\n",
       "      <td>68.118328</td>\n",
       "      <td>74.330426</td>\n",
       "    </tr>\n",
       "    <tr>\n",
       "      <th>1080.0</th>\n",
       "      <td>30.175472</td>\n",
       "      <td>36.615007</td>\n",
       "      <td>43.054541</td>\n",
       "      <td>46.821428</td>\n",
       "      <td>51.567143</td>\n",
       "      <td>58.006678</td>\n",
       "      <td>61.773564</td>\n",
       "      <td>72.958814</td>\n",
       "      <td>79.398349</td>\n",
       "    </tr>\n",
       "    <tr>\n",
       "      <th>1440.0</th>\n",
       "      <td>32.103903</td>\n",
       "      <td>39.125227</td>\n",
       "      <td>46.146552</td>\n",
       "      <td>50.253763</td>\n",
       "      <td>55.428237</td>\n",
       "      <td>62.449561</td>\n",
       "      <td>66.556773</td>\n",
       "      <td>78.752571</td>\n",
       "      <td>85.773896</td>\n",
       "    </tr>\n",
       "    <tr>\n",
       "      <th>2880.0</th>\n",
       "      <td>36.216878</td>\n",
       "      <td>46.643217</td>\n",
       "      <td>57.069556</td>\n",
       "      <td>63.168574</td>\n",
       "      <td>70.852427</td>\n",
       "      <td>81.278766</td>\n",
       "      <td>87.377784</td>\n",
       "      <td>105.487976</td>\n",
       "      <td>115.914315</td>\n",
       "    </tr>\n",
       "    <tr>\n",
       "      <th>4320.0</th>\n",
       "      <td>39.243630</td>\n",
       "      <td>51.238517</td>\n",
       "      <td>63.233403</td>\n",
       "      <td>70.249962</td>\n",
       "      <td>79.089780</td>\n",
       "      <td>91.084667</td>\n",
       "      <td>98.101226</td>\n",
       "      <td>118.935931</td>\n",
       "      <td>130.930817</td>\n",
       "    </tr>\n",
       "    <tr>\n",
       "      <th>5760.0</th>\n",
       "      <td>40.673575</td>\n",
       "      <td>53.619543</td>\n",
       "      <td>66.565511</td>\n",
       "      <td>74.138417</td>\n",
       "      <td>83.679151</td>\n",
       "      <td>96.625119</td>\n",
       "      <td>104.198025</td>\n",
       "      <td>126.684726</td>\n",
       "      <td>139.630694</td>\n",
       "    </tr>\n",
       "    <tr>\n",
       "      <th>7200.0</th>\n",
       "      <td>42.033352</td>\n",
       "      <td>55.568497</td>\n",
       "      <td>69.103642</td>\n",
       "      <td>77.021194</td>\n",
       "      <td>86.996130</td>\n",
       "      <td>100.531275</td>\n",
       "      <td>108.448827</td>\n",
       "      <td>131.958908</td>\n",
       "      <td>145.494053</td>\n",
       "    </tr>\n",
       "    <tr>\n",
       "      <th>8640.0</th>\n",
       "      <td>43.506917</td>\n",
       "      <td>57.772008</td>\n",
       "      <td>72.037100</td>\n",
       "      <td>80.381643</td>\n",
       "      <td>90.894525</td>\n",
       "      <td>105.159617</td>\n",
       "      <td>113.504160</td>\n",
       "      <td>138.282134</td>\n",
       "      <td>152.547225</td>\n",
       "    </tr>\n",
       "  </tbody>\n",
       "</table>\n",
       "</div>"
      ],
      "text/plain": [
       "            0.5        1.0        2.0        3.0        5.0         10.0   \\\n",
       "5.0      2.968387   4.574151   6.179915   7.119226   8.302619    9.908382   \n",
       "10.0     5.396192   7.575866   9.755541  11.030569  12.636914   14.816588   \n",
       "15.0     7.090759   9.697045  12.303330  13.827910  15.748653   18.354938   \n",
       "20.0     8.316873  11.275578  14.234283  15.965014  18.145478   21.104183   \n",
       "30.0     9.930169  13.467959  17.005749  19.075223  21.682453   25.220243   \n",
       "45.0    11.243514  15.473729  19.703943  22.178460  25.295983   29.526197   \n",
       "60.0    11.916456  16.718676  21.520896  24.330015  27.869085   32.671305   \n",
       "90.0    13.677631  18.685858  23.694084  26.623709  30.314600   35.322826   \n",
       "180.0   17.218567  22.599639  27.980710  31.128435  35.094099   40.475171   \n",
       "270.0   19.646886  25.258796  30.870706  34.153462  38.289247   43.901157   \n",
       "360.0   21.551494  27.333167  33.114840  36.496902  40.757796   46.539469   \n",
       "450.0   23.141908  29.058788  34.975668  38.436821  42.797359   48.714239   \n",
       "600.0   25.349363  31.445232  37.541101  41.106956  45.599402   51.695271   \n",
       "720.0   26.846041  33.058139  39.270238  42.904082  47.482185   53.694283   \n",
       "1080.0  30.175472  36.615007  43.054541  46.821428  51.567143   58.006678   \n",
       "1440.0  32.103903  39.125227  46.146552  50.253763  55.428237   62.449561   \n",
       "2880.0  36.216878  46.643217  57.069556  63.168574  70.852427   81.278766   \n",
       "4320.0  39.243630  51.238517  63.233403  70.249962  79.089780   91.084667   \n",
       "5760.0  40.673575  53.619543  66.565511  74.138417  83.679151   96.625119   \n",
       "7200.0  42.033352  55.568497  69.103642  77.021194  86.996130  100.531275   \n",
       "8640.0  43.506917  57.772008  72.037100  80.381643  90.894525  105.159617   \n",
       "\n",
       "             15.0        50.0        100.0  \n",
       "5.0      10.847694   13.636850   15.242613  \n",
       "10.0     16.091616   19.877635   22.057310  \n",
       "15.0     19.879518   24.406546   27.012832  \n",
       "20.0     22.834914   27.974083   30.932787  \n",
       "30.0     27.289717   33.434736   36.972526  \n",
       "45.0     32.000714   39.348452   43.578666  \n",
       "60.0     35.480424   43.821714   48.623934  \n",
       "90.0     38.252451   46.951568   51.959795  \n",
       "180.0    43.622896   52.969631   58.350703  \n",
       "270.0    47.183913   56.931607   62.543517  \n",
       "360.0    49.921531   59.964098   65.745771  \n",
       "450.0    52.175392   62.452810   68.369690  \n",
       "600.0    55.261126   65.849441   71.945310  \n",
       "720.0    57.328127   68.118328   74.330426  \n",
       "1080.0   61.773564   72.958814   79.398349  \n",
       "1440.0   66.556773   78.752571   85.773896  \n",
       "2880.0   87.377784  105.487976  115.914315  \n",
       "4320.0   98.101226  118.935931  130.930817  \n",
       "5760.0  104.198025  126.684726  139.630694  \n",
       "7200.0  108.448827  131.958908  145.494053  \n",
       "8640.0  113.504160  138.282134  152.547225  "
      ]
     },
     "execution_count": 53,
     "metadata": {},
     "output_type": "execute_result"
    }
   ],
   "source": [
    "idf.result_table()"
   ]
  },
  {
   "cell_type": "code",
   "execution_count": 54,
   "metadata": {
    "pycharm": {
     "is_executing": false
    },
    "scrolled": true
   },
   "outputs": [
    {
     "data": {
      "text/html": [
       "<div>\n",
       "<style scoped>\n",
       "    .dataframe tbody tr th:only-of-type {\n",
       "        vertical-align: middle;\n",
       "    }\n",
       "\n",
       "    .dataframe tbody tr th {\n",
       "        vertical-align: top;\n",
       "    }\n",
       "\n",
       "    .dataframe thead tr th {\n",
       "        text-align: left;\n",
       "    }\n",
       "\n",
       "    .dataframe thead tr:last-of-type th {\n",
       "        text-align: right;\n",
       "    }\n",
       "</style>\n",
       "<table border=\"1\" class=\"dataframe\">\n",
       "  <thead>\n",
       "    <tr>\n",
       "      <th>return period (a)</th>\n",
       "      <th>0.5</th>\n",
       "      <th>1.0</th>\n",
       "      <th>2.0</th>\n",
       "      <th>3.0</th>\n",
       "      <th>5.0</th>\n",
       "      <th>10.0</th>\n",
       "      <th>15.0</th>\n",
       "      <th>50.0</th>\n",
       "      <th>100.0</th>\n",
       "    </tr>\n",
       "    <tr>\n",
       "      <th>frequency (1/a)</th>\n",
       "      <th>2.000</th>\n",
       "      <th>1.000</th>\n",
       "      <th>0.500</th>\n",
       "      <th>0.333</th>\n",
       "      <th>0.200</th>\n",
       "      <th>0.100</th>\n",
       "      <th>0.067</th>\n",
       "      <th>0.020</th>\n",
       "      <th>0.010</th>\n",
       "    </tr>\n",
       "    <tr>\n",
       "      <th>duration (min)</th>\n",
       "      <th></th>\n",
       "      <th></th>\n",
       "      <th></th>\n",
       "      <th></th>\n",
       "      <th></th>\n",
       "      <th></th>\n",
       "      <th></th>\n",
       "      <th></th>\n",
       "      <th></th>\n",
       "    </tr>\n",
       "  </thead>\n",
       "  <tbody>\n",
       "    <tr>\n",
       "      <th>5.0</th>\n",
       "      <td>2.968387</td>\n",
       "      <td>4.574151</td>\n",
       "      <td>6.179915</td>\n",
       "      <td>7.119226</td>\n",
       "      <td>8.302619</td>\n",
       "      <td>9.908382</td>\n",
       "      <td>10.847694</td>\n",
       "      <td>13.636850</td>\n",
       "      <td>15.242613</td>\n",
       "    </tr>\n",
       "    <tr>\n",
       "      <th>10.0</th>\n",
       "      <td>5.396192</td>\n",
       "      <td>7.575866</td>\n",
       "      <td>9.755541</td>\n",
       "      <td>11.030569</td>\n",
       "      <td>12.636914</td>\n",
       "      <td>14.816588</td>\n",
       "      <td>16.091616</td>\n",
       "      <td>19.877635</td>\n",
       "      <td>22.057310</td>\n",
       "    </tr>\n",
       "    <tr>\n",
       "      <th>15.0</th>\n",
       "      <td>7.090759</td>\n",
       "      <td>9.697045</td>\n",
       "      <td>12.303330</td>\n",
       "      <td>13.827910</td>\n",
       "      <td>15.748653</td>\n",
       "      <td>18.354938</td>\n",
       "      <td>19.879518</td>\n",
       "      <td>24.406546</td>\n",
       "      <td>27.012832</td>\n",
       "    </tr>\n",
       "    <tr>\n",
       "      <th>20.0</th>\n",
       "      <td>8.316873</td>\n",
       "      <td>11.275578</td>\n",
       "      <td>14.234283</td>\n",
       "      <td>15.965014</td>\n",
       "      <td>18.145478</td>\n",
       "      <td>21.104183</td>\n",
       "      <td>22.834914</td>\n",
       "      <td>27.974083</td>\n",
       "      <td>30.932787</td>\n",
       "    </tr>\n",
       "    <tr>\n",
       "      <th>30.0</th>\n",
       "      <td>9.930169</td>\n",
       "      <td>13.467959</td>\n",
       "      <td>17.005749</td>\n",
       "      <td>19.075223</td>\n",
       "      <td>21.682453</td>\n",
       "      <td>25.220243</td>\n",
       "      <td>27.289717</td>\n",
       "      <td>33.434736</td>\n",
       "      <td>36.972526</td>\n",
       "    </tr>\n",
       "    <tr>\n",
       "      <th>45.0</th>\n",
       "      <td>11.243514</td>\n",
       "      <td>15.473729</td>\n",
       "      <td>19.703943</td>\n",
       "      <td>22.178460</td>\n",
       "      <td>25.295983</td>\n",
       "      <td>29.526197</td>\n",
       "      <td>32.000714</td>\n",
       "      <td>39.348452</td>\n",
       "      <td>43.578666</td>\n",
       "    </tr>\n",
       "    <tr>\n",
       "      <th>60.0</th>\n",
       "      <td>11.916456</td>\n",
       "      <td>16.718676</td>\n",
       "      <td>21.520896</td>\n",
       "      <td>24.330015</td>\n",
       "      <td>27.869085</td>\n",
       "      <td>32.671305</td>\n",
       "      <td>35.480424</td>\n",
       "      <td>43.821714</td>\n",
       "      <td>48.623934</td>\n",
       "    </tr>\n",
       "    <tr>\n",
       "      <th>90.0</th>\n",
       "      <td>13.677631</td>\n",
       "      <td>18.685858</td>\n",
       "      <td>23.694084</td>\n",
       "      <td>26.623709</td>\n",
       "      <td>30.314600</td>\n",
       "      <td>35.322826</td>\n",
       "      <td>38.252451</td>\n",
       "      <td>46.951568</td>\n",
       "      <td>51.959795</td>\n",
       "    </tr>\n",
       "    <tr>\n",
       "      <th>180.0</th>\n",
       "      <td>17.218567</td>\n",
       "      <td>22.599639</td>\n",
       "      <td>27.980710</td>\n",
       "      <td>31.128435</td>\n",
       "      <td>35.094099</td>\n",
       "      <td>40.475171</td>\n",
       "      <td>43.622896</td>\n",
       "      <td>52.969631</td>\n",
       "      <td>58.350703</td>\n",
       "    </tr>\n",
       "    <tr>\n",
       "      <th>270.0</th>\n",
       "      <td>19.646886</td>\n",
       "      <td>25.258796</td>\n",
       "      <td>30.870706</td>\n",
       "      <td>34.153462</td>\n",
       "      <td>38.289247</td>\n",
       "      <td>43.901157</td>\n",
       "      <td>47.183913</td>\n",
       "      <td>56.931607</td>\n",
       "      <td>62.543517</td>\n",
       "    </tr>\n",
       "    <tr>\n",
       "      <th>360.0</th>\n",
       "      <td>21.551494</td>\n",
       "      <td>27.333167</td>\n",
       "      <td>33.114840</td>\n",
       "      <td>36.496902</td>\n",
       "      <td>40.757796</td>\n",
       "      <td>46.539469</td>\n",
       "      <td>49.921531</td>\n",
       "      <td>59.964098</td>\n",
       "      <td>65.745771</td>\n",
       "    </tr>\n",
       "    <tr>\n",
       "      <th>450.0</th>\n",
       "      <td>23.141908</td>\n",
       "      <td>29.058788</td>\n",
       "      <td>34.975668</td>\n",
       "      <td>38.436821</td>\n",
       "      <td>42.797359</td>\n",
       "      <td>48.714239</td>\n",
       "      <td>52.175392</td>\n",
       "      <td>62.452810</td>\n",
       "      <td>68.369690</td>\n",
       "    </tr>\n",
       "    <tr>\n",
       "      <th>600.0</th>\n",
       "      <td>25.349363</td>\n",
       "      <td>31.445232</td>\n",
       "      <td>37.541101</td>\n",
       "      <td>41.106956</td>\n",
       "      <td>45.599402</td>\n",
       "      <td>51.695271</td>\n",
       "      <td>55.261126</td>\n",
       "      <td>65.849441</td>\n",
       "      <td>71.945310</td>\n",
       "    </tr>\n",
       "    <tr>\n",
       "      <th>720.0</th>\n",
       "      <td>26.846041</td>\n",
       "      <td>33.058139</td>\n",
       "      <td>39.270238</td>\n",
       "      <td>42.904082</td>\n",
       "      <td>47.482185</td>\n",
       "      <td>53.694283</td>\n",
       "      <td>57.328127</td>\n",
       "      <td>68.118328</td>\n",
       "      <td>74.330426</td>\n",
       "    </tr>\n",
       "    <tr>\n",
       "      <th>1080.0</th>\n",
       "      <td>30.175472</td>\n",
       "      <td>36.615007</td>\n",
       "      <td>43.054541</td>\n",
       "      <td>46.821428</td>\n",
       "      <td>51.567143</td>\n",
       "      <td>58.006678</td>\n",
       "      <td>61.773564</td>\n",
       "      <td>72.958814</td>\n",
       "      <td>79.398349</td>\n",
       "    </tr>\n",
       "    <tr>\n",
       "      <th>1440.0</th>\n",
       "      <td>32.103903</td>\n",
       "      <td>39.125227</td>\n",
       "      <td>46.146552</td>\n",
       "      <td>50.253763</td>\n",
       "      <td>55.428237</td>\n",
       "      <td>62.449561</td>\n",
       "      <td>66.556773</td>\n",
       "      <td>78.752571</td>\n",
       "      <td>85.773896</td>\n",
       "    </tr>\n",
       "    <tr>\n",
       "      <th>2880.0</th>\n",
       "      <td>36.216878</td>\n",
       "      <td>46.643217</td>\n",
       "      <td>57.069556</td>\n",
       "      <td>63.168574</td>\n",
       "      <td>70.852427</td>\n",
       "      <td>81.278766</td>\n",
       "      <td>87.377784</td>\n",
       "      <td>105.487976</td>\n",
       "      <td>115.914315</td>\n",
       "    </tr>\n",
       "    <tr>\n",
       "      <th>4320.0</th>\n",
       "      <td>39.243630</td>\n",
       "      <td>51.238517</td>\n",
       "      <td>63.233403</td>\n",
       "      <td>70.249962</td>\n",
       "      <td>79.089780</td>\n",
       "      <td>91.084667</td>\n",
       "      <td>98.101226</td>\n",
       "      <td>118.935931</td>\n",
       "      <td>130.930817</td>\n",
       "    </tr>\n",
       "    <tr>\n",
       "      <th>5760.0</th>\n",
       "      <td>40.673575</td>\n",
       "      <td>53.619543</td>\n",
       "      <td>66.565511</td>\n",
       "      <td>74.138417</td>\n",
       "      <td>83.679151</td>\n",
       "      <td>96.625119</td>\n",
       "      <td>104.198025</td>\n",
       "      <td>126.684726</td>\n",
       "      <td>139.630694</td>\n",
       "    </tr>\n",
       "    <tr>\n",
       "      <th>7200.0</th>\n",
       "      <td>42.033352</td>\n",
       "      <td>55.568497</td>\n",
       "      <td>69.103642</td>\n",
       "      <td>77.021194</td>\n",
       "      <td>86.996130</td>\n",
       "      <td>100.531275</td>\n",
       "      <td>108.448827</td>\n",
       "      <td>131.958908</td>\n",
       "      <td>145.494053</td>\n",
       "    </tr>\n",
       "    <tr>\n",
       "      <th>8640.0</th>\n",
       "      <td>43.506917</td>\n",
       "      <td>57.772008</td>\n",
       "      <td>72.037100</td>\n",
       "      <td>80.381643</td>\n",
       "      <td>90.894525</td>\n",
       "      <td>105.159617</td>\n",
       "      <td>113.504160</td>\n",
       "      <td>138.282134</td>\n",
       "      <td>152.547225</td>\n",
       "    </tr>\n",
       "  </tbody>\n",
       "</table>\n",
       "</div>"
      ],
      "text/plain": [
       "return period (a)      0.5        1.0        2.0        3.0        5.0    \\\n",
       "frequency (1/a)        2.000      1.000      0.500      0.333      0.200   \n",
       "duration (min)                                                             \n",
       "5.0                 2.968387   4.574151   6.179915   7.119226   8.302619   \n",
       "10.0                5.396192   7.575866   9.755541  11.030569  12.636914   \n",
       "15.0                7.090759   9.697045  12.303330  13.827910  15.748653   \n",
       "20.0                8.316873  11.275578  14.234283  15.965014  18.145478   \n",
       "30.0                9.930169  13.467959  17.005749  19.075223  21.682453   \n",
       "45.0               11.243514  15.473729  19.703943  22.178460  25.295983   \n",
       "60.0               11.916456  16.718676  21.520896  24.330015  27.869085   \n",
       "90.0               13.677631  18.685858  23.694084  26.623709  30.314600   \n",
       "180.0              17.218567  22.599639  27.980710  31.128435  35.094099   \n",
       "270.0              19.646886  25.258796  30.870706  34.153462  38.289247   \n",
       "360.0              21.551494  27.333167  33.114840  36.496902  40.757796   \n",
       "450.0              23.141908  29.058788  34.975668  38.436821  42.797359   \n",
       "600.0              25.349363  31.445232  37.541101  41.106956  45.599402   \n",
       "720.0              26.846041  33.058139  39.270238  42.904082  47.482185   \n",
       "1080.0             30.175472  36.615007  43.054541  46.821428  51.567143   \n",
       "1440.0             32.103903  39.125227  46.146552  50.253763  55.428237   \n",
       "2880.0             36.216878  46.643217  57.069556  63.168574  70.852427   \n",
       "4320.0             39.243630  51.238517  63.233403  70.249962  79.089780   \n",
       "5760.0             40.673575  53.619543  66.565511  74.138417  83.679151   \n",
       "7200.0             42.033352  55.568497  69.103642  77.021194  86.996130   \n",
       "8640.0             43.506917  57.772008  72.037100  80.381643  90.894525   \n",
       "\n",
       "return period (a)       10.0        15.0        50.0        100.0  \n",
       "frequency (1/a)         0.100       0.067       0.020       0.010  \n",
       "duration (min)                                                     \n",
       "5.0                  9.908382   10.847694   13.636850   15.242613  \n",
       "10.0                14.816588   16.091616   19.877635   22.057310  \n",
       "15.0                18.354938   19.879518   24.406546   27.012832  \n",
       "20.0                21.104183   22.834914   27.974083   30.932787  \n",
       "30.0                25.220243   27.289717   33.434736   36.972526  \n",
       "45.0                29.526197   32.000714   39.348452   43.578666  \n",
       "60.0                32.671305   35.480424   43.821714   48.623934  \n",
       "90.0                35.322826   38.252451   46.951568   51.959795  \n",
       "180.0               40.475171   43.622896   52.969631   58.350703  \n",
       "270.0               43.901157   47.183913   56.931607   62.543517  \n",
       "360.0               46.539469   49.921531   59.964098   65.745771  \n",
       "450.0               48.714239   52.175392   62.452810   68.369690  \n",
       "600.0               51.695271   55.261126   65.849441   71.945310  \n",
       "720.0               53.694283   57.328127   68.118328   74.330426  \n",
       "1080.0              58.006678   61.773564   72.958814   79.398349  \n",
       "1440.0              62.449561   66.556773   78.752571   85.773896  \n",
       "2880.0              81.278766   87.377784  105.487976  115.914315  \n",
       "4320.0              91.084667   98.101226  118.935931  130.930817  \n",
       "5760.0              96.625119  104.198025  126.684726  139.630694  \n",
       "7200.0             100.531275  108.448827  131.958908  145.494053  \n",
       "8640.0             105.159617  113.504160  138.282134  152.547225  "
      ]
     },
     "execution_count": 54,
     "metadata": {},
     "output_type": "execute_result"
    }
   ],
   "source": [
    "idf.result_table(add_names=True)"
   ]
  },
  {
   "cell_type": "markdown",
   "metadata": {},
   "source": [
    "To save the table as a csv:"
   ]
  },
  {
   "cell_type": "code",
   "execution_count": 55,
   "metadata": {
    "pycharm": {
     "is_executing": false
    },
    "scrolled": true
   },
   "outputs": [],
   "source": [
    "idf.result_table(add_names=True).to_csv(path.join(output_directory, 'idf_table.csv'), sep=';', decimal='.', float_format='%0.2f')"
   ]
  },
  {
   "cell_type": "code",
   "execution_count": 56,
   "metadata": {
    "pycharm": {
     "is_executing": false
    },
    "scrolled": true
   },
   "outputs": [
    {
     "name": "stdout",
     "output_type": "stream",
     "text": [
      "Folder PATH listing\n",
      "Volume serial number is 22B2-B9BA\n",
      "C:\\USERS\\MP\\PYCHARMPROJECTS\\INTENSITY_DURATION_FREQUENCY_ANALYSIS\\EXAMPLE\\EXAMPLE_DATA\n",
      "No subfolders exist \n",
      "\n"
     ]
    }
   ],
   "source": [
    "! tree example/EXAMPLE_data"
   ]
  },
  {
   "cell_type": "code",
   "execution_count": 57,
   "metadata": {
    "scrolled": true
   },
   "outputs": [
    {
     "name": "stdout",
     "output_type": "stream",
     "text": [
      " Volume in drive C has no label.\n",
      " Volume Serial Number is 22B2-B9BA\n",
      "\n",
      " Directory of C:\\Users\\mp\\PycharmProjects\\intensity_duration_frequency_analysis\\example\\EXAMPLE_data\n",
      "\n",
      "16.03.2020  17:51    <DIR>          .\n",
      "16.03.2020  17:51    <DIR>          ..\n",
      "16.03.2020  17:51            96'839 idf_plot.png\n",
      "16.03.2020  17:51            85'955 idf_plot_bw.png\n",
      "16.03.2020  18:24             1'446 idf_table.csv\n",
      "16.03.2020  17:49             1'790 parameters.yaml\n",
      "               4 File(s)        186'030 bytes\n",
      "               2 Dir(s)  912'104'488'960 bytes free\n"
     ]
    }
   ],
   "source": [
    "! dir example\\EXAMPLE_data"
   ]
  },
  {
   "cell_type": "code",
   "execution_count": 58,
   "metadata": {
    "pycharm": {
     "is_executing": false
    },
    "scrolled": true
   },
   "outputs": [
    {
     "data": {
      "image/png": "[encoded data removed]",
      "text/plain": [
       "<Figure size 841.89x595.276 with 1 Axes>"
      ]
     },
     "metadata": {
      "needs_background": "light"
     },
     "output_type": "display_data"
    }
   ],
   "source": [
    "fig, ax = idf.result_figure(color=True)"
   ]
  },
  {
   "cell_type": "markdown",
   "metadata": {},
   "source": [
    "----------------------------------------------------------------------------------"
   ]
  },
  {
   "cell_type": "markdown",
   "metadata": {},
   "source": [
    "*Dieser Block funktioniert nur in einen laufenden Jupyter Notebook!*"
   ]
  },
  {
   "cell_type": "code",
   "execution_count": null,
   "metadata": {
    "pycharm": {
     "is_executing": false
    },
    "scrolled": true
   },
   "outputs": [],
   "source": [
    "from ipywidgets import interact, fixed, interact_manual\n",
    "import ipywidgets as widgets"
   ]
  },
  {
   "cell_type": "code",
   "execution_count": null,
   "metadata": {
    "pycharm": {
     "is_executing": false
    },
    "scrolled": true
   },
   "outputs": [],
   "source": [
    "def f(min_duration = 5, max_duration=720, color=True, logx=False):\n",
    "    fig, ax = idf.result_figure(return_periods=[1,2,5,10,50], \n",
    "                            min_duration=min_duration, \n",
    "                            max_duration=max_duration, \n",
    "                            color=color, \n",
    "                            logx=logx)"
   ]
  },
  {
   "cell_type": "code",
   "execution_count": null,
   "metadata": {
    "pycharm": {
     "is_executing": false
    },
    "scrolled": true
   },
   "outputs": [],
   "source": [
    "interact(f, min_duration = (0,60,5), max_duration=(60,8640, 60), color=True, logx=False)"
   ]
  },
  {
   "cell_type": "markdown",
   "metadata": {},
   "source": [
    "----------------------------------------------------------------------------------"
   ]
  },
  {
   "cell_type": "markdown",
   "metadata": {},
   "source": [
    "To save the plot as a png use:"
   ]
  },
  {
   "cell_type": "code",
   "execution_count": 62,
   "metadata": {
    "pycharm": {
     "is_executing": false
    },
    "scrolled": false
   },
   "outputs": [
    {
     "data": {
      "image/png": "[encoded data removed]",
      "text/plain": [
       "<Figure size 841.89x595.276 with 1 Axes>"
      ]
     },
     "metadata": {
      "needs_background": "light"
     },
     "output_type": "display_data"
    }
   ],
   "source": [
    "fig, ax = idf.result_figure()\n",
    "fig.savefig(path.join(output_directory, 'idf_plot.png'), dpi=260)"
   ]
  },
  {
   "cell_type": "code",
   "execution_count": 63,
   "metadata": {
    "pycharm": {
     "is_executing": false
    },
    "scrolled": true
   },
   "outputs": [
    {
     "name": "stdout",
     "output_type": "stream",
     "text": [
      "Folder PATH listing\n",
      "Volume serial number is 22B2-B9BA\n",
      "C:\\USERS\\MP\\PYCHARMPROJECTS\\INTENSITY_DURATION_FREQUENCY_ANALYSIS\\EXAMPLE\\EXAMPLE_DATA\n",
      "No subfolders exist \n",
      "\n",
      " Volume in drive C has no label.\n",
      " Volume Serial Number is 22B2-B9BA\n",
      "\n",
      " Directory of C:\\Users\\mp\\PycharmProjects\\intensity_duration_frequency_analysis\\example\\EXAMPLE_data\n",
      "\n",
      "16.03.2020  17:51    <DIR>          .\n",
      "16.03.2020  17:51    <DIR>          ..\n",
      "16.03.2020  18:24           251'106 idf_plot.png\n",
      "16.03.2020  17:51            85'955 idf_plot_bw.png\n",
      "16.03.2020  18:24             1'446 idf_table.csv\n",
      "16.03.2020  17:49             1'790 parameters.yaml\n",
      "               4 File(s)        340'297 bytes\n",
      "               2 Dir(s)  912'104'321'024 bytes free\n"
     ]
    }
   ],
   "source": [
    "! tree example/EXAMPLE_data\n",
    "! dir example\\EXAMPLE_data"
   ]
  }
 ],
 "metadata": {
  "kernelspec": {
   "display_name": "Python 3",
   "language": "python",
   "name": "python3"
  },
  "language_info": {
   "codemirror_mode": {
    "name": "ipython",
    "version": 3
   },
   "file_extension": ".py",
   "mimetype": "text/x-python",
   "name": "python",
   "nbconvert_exporter": "python",
   "pygments_lexer": "ipython3",
   "version": "3.8.1"
  },
  "pycharm": {
   "stem_cell": {
    "cell_type": "raw",
    "metadata": {
     "collapsed": false
    },
    "source": []
   }
  }
 },
 "nbformat": 4,
 "nbformat_minor": 1
}
