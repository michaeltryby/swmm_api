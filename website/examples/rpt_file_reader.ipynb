{
 "cells": [
  {
   "cell_type": "markdown",
   "source": [
    "## Example for RPT File Reader\n"
   ],
   "metadata": {
    "collapsed": false
   }
  },
  {
   "cell_type": "code",
   "execution_count": 1,
   "metadata": {
    "collapsed": true
   },
   "outputs": [],
   "source": [
    "from swmm_api import read_rpt_file, SwmmReport"
   ]
  },
  {
   "cell_type": "code",
   "execution_count": 2,
   "outputs": [],
   "source": [
    "r = read_rpt_file('epaswmm5_apps_manual/Example7-Final.rpt')"
   ],
   "metadata": {
    "collapsed": false,
    "pycharm": {
     "name": "#%%\n"
    }
   }
  },
  {
   "cell_type": "markdown",
   "source": [
    "Is equal to:"
   ],
   "metadata": {
    "collapsed": false
   }
  },
  {
   "cell_type": "code",
   "execution_count": 3,
   "outputs": [],
   "source": [
    "r = SwmmReport('epaswmm5_apps_manual/Example7-Final.rpt')"
   ],
   "metadata": {
    "collapsed": false,
    "pycharm": {
     "name": "#%%\n"
    }
   }
  },
  {
   "cell_type": "code",
   "execution_count": 3,
   "outputs": [
    {
     "data": {
      "text/plain": "Empty DataFrame\nColumns: []\nIndex: []",
      "text/html": "<div>\n<style scoped>\n    .dataframe tbody tr th:only-of-type {\n        vertical-align: middle;\n    }\n\n    .dataframe tbody tr th {\n        vertical-align: top;\n    }\n\n    .dataframe thead th {\n        text-align: right;\n    }\n</style>\n<table border=\"1\" class=\"dataframe\">\n  <thead>\n    <tr style=\"text-align: right;\">\n      <th></th>\n    </tr>\n  </thead>\n  <tbody>\n  </tbody>\n</table>\n</div>"
     },
     "execution_count": 3,
     "metadata": {},
     "output_type": "execute_result"
    }
   ],
   "source": [
    "r.node_flooding_summary"
   ],
   "metadata": {
    "collapsed": false,
    "pycharm": {
     "name": "#%%\n"
    }
   }
  },
  {
   "cell_type": "code",
   "execution_count": 6,
   "outputs": [
    {
     "name": "stdout",
     "output_type": "stream",
     "text": [
      "{\n",
      "  \"Dry Weather Inflow\": {\n",
      "    \"Volume_acre-feet\": 0.0,\n",
      "    \"Volume_10^6 gal\": 0.0\n",
      "  },\n",
      "  \"Wet Weather Inflow\": {\n",
      "    \"Volume_acre-feet\": 7.313,\n",
      "    \"Volume_10^6 gal\": 2.383\n",
      "  },\n",
      "  \"Groundwater Inflow\": {\n",
      "    \"Volume_acre-feet\": 0.0,\n",
      "    \"Volume_10^6 gal\": 0.0\n",
      "  },\n",
      "  \"RDII Inflow\": {\n",
      "    \"Volume_acre-feet\": 0.0,\n",
      "    \"Volume_10^6 gal\": 0.0\n",
      "  },\n",
      "  \"External Inflow\": {\n",
      "    \"Volume_acre-feet\": 0.0,\n",
      "    \"Volume_10^6 gal\": 0.0\n",
      "  },\n",
      "  \"External Outflow\": {\n",
      "    \"Volume_acre-feet\": 7.309,\n",
      "    \"Volume_10^6 gal\": 2.382\n",
      "  },\n",
      "  \"Flooding Loss\": {\n",
      "    \"Volume_acre-feet\": 0.0,\n",
      "    \"Volume_10^6 gal\": 0.0\n",
      "  },\n",
      "  \"Evaporation Loss\": {\n",
      "    \"Volume_acre-feet\": 0.0,\n",
      "    \"Volume_10^6 gal\": 0.0\n",
      "  },\n",
      "  \"Exfiltration Loss\": {\n",
      "    \"Volume_acre-feet\": 0.0,\n",
      "    \"Volume_10^6 gal\": 0.0\n",
      "  },\n",
      "  \"Initial Stored Volume\": {\n",
      "    \"Volume_acre-feet\": 0.0,\n",
      "    \"Volume_10^6 gal\": 0.0\n",
      "  },\n",
      "  \"Final Stored Volume\": {\n",
      "    \"Volume_acre-feet\": 0.0,\n",
      "    \"Volume_10^6 gal\": 0.0\n",
      "  },\n",
      "  \"Continuity Error (%)\": 0.056\n",
      "}\n"
     ]
    }
   ],
   "source": [
    "frc = r.flow_routing_continuity\n",
    "import json\n",
    "print(json.dumps(frc, indent=2))"
   ],
   "metadata": {
    "collapsed": false,
    "pycharm": {
     "name": "#%%\n"
    }
   }
  },
  {
   "cell_type": "code",
   "execution_count": 9,
   "outputs": [
    {
     "data": {
      "text/plain": "{'O1': 2382.0}"
     },
     "execution_count": 9,
     "metadata": {},
     "output_type": "execute_result"
    }
   ],
   "source": [
    "ols = r.outfall_loading_summary['Total_Volume_10^6 ' + r.UNIT.VOL2] * 1000  # m³\n",
    "ols.to_dict()\n"
   ],
   "metadata": {
    "collapsed": false,
    "pycharm": {
     "name": "#%%\n"
    }
   }
  },
  {
   "cell_type": "code",
   "execution_count": 7,
   "outputs": [
    {
     "data": {
      "text/plain": "           Adjusted_/Actual_Length   Dry  Up_Dry  Down_Dry  Sub_Crit  \\\nConduit                                                                \nC2a                            1.0  0.89    0.00       0.0      0.01   \nC2                             1.0  0.89    0.00       0.0      0.00   \nC3                             1.0  0.08    0.00       0.0      0.02   \nC4                             1.0  0.87    0.05       0.0      0.08   \nC5                             1.0  0.41    0.46       0.0      0.13   \nC6                             1.0  0.41    0.54       0.0      0.05   \nC7                             1.0  0.20    0.22       0.0      0.25   \nC8                             1.0  0.08    0.12       0.0      0.80   \nC9                             1.0  0.08    0.00       0.0      0.00   \nC10                            1.0  1.00    0.00       0.0      0.00   \nC11                            1.0  0.00    0.00       0.0      0.36   \nC_Aux1                         1.0  0.00    0.00       0.0      0.00   \nC_Aux2                         1.0  0.00    0.00       0.0      0.06   \nC_Aux1to2                      1.0  0.00    0.88       0.0      0.12   \nC_Aux3                         1.0  0.08    0.83       0.0      0.09   \nP1                             1.0  0.00    0.00       0.0      0.73   \nP2                             1.0  0.00    0.00       0.0      0.71   \nP3                             1.0  0.00    0.00       0.0      1.00   \nP4                             1.0  0.00    0.01       0.0      0.98   \nP5                             1.0  0.00    0.00       0.0      1.00   \nP6                             1.0  0.00    0.00       0.0      1.00   \nP7                             1.0  0.00    0.00       0.0      0.85   \nP8                             1.0  0.00    0.00       0.0      0.66   \n\n           Sup_Crit  Up_Crit  Down_Crit  Norm_Ltd  Inlet_Ctrl  \nConduit                                                        \nC2a            0.06      0.0       0.05      0.94         0.0  \nC2             0.00      0.0       0.11      0.00         0.0  \nC3             0.01      0.0       0.89      0.01         0.0  \nC4             0.00      0.0       0.00      0.96         0.0  \nC5             0.00      0.0       0.00      0.92         0.0  \nC6             0.00      0.0       0.00      0.95         0.0  \nC7             0.34      0.0       0.00      0.80         0.0  \nC8             0.00      0.0       0.00      0.95         0.0  \nC9             0.00      0.0       0.92      0.00         0.0  \nC10            0.00      0.0       0.00      0.00         0.0  \nC11            0.64      0.0       0.00      0.14         0.0  \nC_Aux1         0.00      0.0       1.00      0.00         0.0  \nC_Aux2         0.00      0.0       0.94      0.01         0.0  \nC_Aux1to2      0.00      0.0       0.00      0.96         0.0  \nC_Aux3         0.00      0.0       0.00      0.94         0.0  \nP1             0.26      0.0       0.00      0.93         0.0  \nP2             0.29      0.0       0.00      0.11         0.0  \nP3             0.00      0.0       0.00      0.95         0.0  \nP4             0.01      0.0       0.00      0.94         0.0  \nP5             0.00      0.0       0.00      0.94         0.0  \nP6             0.00      0.0       0.00      0.11         0.0  \nP7             0.15      0.0       0.00      0.94         0.0  \nP8             0.34      0.0       0.00      0.00         0.0  ",
      "text/html": "<div>\n<style scoped>\n    .dataframe tbody tr th:only-of-type {\n        vertical-align: middle;\n    }\n\n    .dataframe tbody tr th {\n        vertical-align: top;\n    }\n\n    .dataframe thead th {\n        text-align: right;\n    }\n</style>\n<table border=\"1\" class=\"dataframe\">\n  <thead>\n    <tr style=\"text-align: right;\">\n      <th></th>\n      <th>Adjusted_/Actual_Length</th>\n      <th>Dry</th>\n      <th>Up_Dry</th>\n      <th>Down_Dry</th>\n      <th>Sub_Crit</th>\n      <th>Sup_Crit</th>\n      <th>Up_Crit</th>\n      <th>Down_Crit</th>\n      <th>Norm_Ltd</th>\n      <th>Inlet_Ctrl</th>\n    </tr>\n    <tr>\n      <th>Conduit</th>\n      <th></th>\n      <th></th>\n      <th></th>\n      <th></th>\n      <th></th>\n      <th></th>\n      <th></th>\n      <th></th>\n      <th></th>\n      <th></th>\n    </tr>\n  </thead>\n  <tbody>\n    <tr>\n      <th>C2a</th>\n      <td>1.0</td>\n      <td>0.89</td>\n      <td>0.00</td>\n      <td>0.0</td>\n      <td>0.01</td>\n      <td>0.06</td>\n      <td>0.0</td>\n      <td>0.05</td>\n      <td>0.94</td>\n      <td>0.0</td>\n    </tr>\n    <tr>\n      <th>C2</th>\n      <td>1.0</td>\n      <td>0.89</td>\n      <td>0.00</td>\n      <td>0.0</td>\n      <td>0.00</td>\n      <td>0.00</td>\n      <td>0.0</td>\n      <td>0.11</td>\n      <td>0.00</td>\n      <td>0.0</td>\n    </tr>\n    <tr>\n      <th>C3</th>\n      <td>1.0</td>\n      <td>0.08</td>\n      <td>0.00</td>\n      <td>0.0</td>\n      <td>0.02</td>\n      <td>0.01</td>\n      <td>0.0</td>\n      <td>0.89</td>\n      <td>0.01</td>\n      <td>0.0</td>\n    </tr>\n    <tr>\n      <th>C4</th>\n      <td>1.0</td>\n      <td>0.87</td>\n      <td>0.05</td>\n      <td>0.0</td>\n      <td>0.08</td>\n      <td>0.00</td>\n      <td>0.0</td>\n      <td>0.00</td>\n      <td>0.96</td>\n      <td>0.0</td>\n    </tr>\n    <tr>\n      <th>C5</th>\n      <td>1.0</td>\n      <td>0.41</td>\n      <td>0.46</td>\n      <td>0.0</td>\n      <td>0.13</td>\n      <td>0.00</td>\n      <td>0.0</td>\n      <td>0.00</td>\n      <td>0.92</td>\n      <td>0.0</td>\n    </tr>\n    <tr>\n      <th>C6</th>\n      <td>1.0</td>\n      <td>0.41</td>\n      <td>0.54</td>\n      <td>0.0</td>\n      <td>0.05</td>\n      <td>0.00</td>\n      <td>0.0</td>\n      <td>0.00</td>\n      <td>0.95</td>\n      <td>0.0</td>\n    </tr>\n    <tr>\n      <th>C7</th>\n      <td>1.0</td>\n      <td>0.20</td>\n      <td>0.22</td>\n      <td>0.0</td>\n      <td>0.25</td>\n      <td>0.34</td>\n      <td>0.0</td>\n      <td>0.00</td>\n      <td>0.80</td>\n      <td>0.0</td>\n    </tr>\n    <tr>\n      <th>C8</th>\n      <td>1.0</td>\n      <td>0.08</td>\n      <td>0.12</td>\n      <td>0.0</td>\n      <td>0.80</td>\n      <td>0.00</td>\n      <td>0.0</td>\n      <td>0.00</td>\n      <td>0.95</td>\n      <td>0.0</td>\n    </tr>\n    <tr>\n      <th>C9</th>\n      <td>1.0</td>\n      <td>0.08</td>\n      <td>0.00</td>\n      <td>0.0</td>\n      <td>0.00</td>\n      <td>0.00</td>\n      <td>0.0</td>\n      <td>0.92</td>\n      <td>0.00</td>\n      <td>0.0</td>\n    </tr>\n    <tr>\n      <th>C10</th>\n      <td>1.0</td>\n      <td>1.00</td>\n      <td>0.00</td>\n      <td>0.0</td>\n      <td>0.00</td>\n      <td>0.00</td>\n      <td>0.0</td>\n      <td>0.00</td>\n      <td>0.00</td>\n      <td>0.0</td>\n    </tr>\n    <tr>\n      <th>C11</th>\n      <td>1.0</td>\n      <td>0.00</td>\n      <td>0.00</td>\n      <td>0.0</td>\n      <td>0.36</td>\n      <td>0.64</td>\n      <td>0.0</td>\n      <td>0.00</td>\n      <td>0.14</td>\n      <td>0.0</td>\n    </tr>\n    <tr>\n      <th>C_Aux1</th>\n      <td>1.0</td>\n      <td>0.00</td>\n      <td>0.00</td>\n      <td>0.0</td>\n      <td>0.00</td>\n      <td>0.00</td>\n      <td>0.0</td>\n      <td>1.00</td>\n      <td>0.00</td>\n      <td>0.0</td>\n    </tr>\n    <tr>\n      <th>C_Aux2</th>\n      <td>1.0</td>\n      <td>0.00</td>\n      <td>0.00</td>\n      <td>0.0</td>\n      <td>0.06</td>\n      <td>0.00</td>\n      <td>0.0</td>\n      <td>0.94</td>\n      <td>0.01</td>\n      <td>0.0</td>\n    </tr>\n    <tr>\n      <th>C_Aux1to2</th>\n      <td>1.0</td>\n      <td>0.00</td>\n      <td>0.88</td>\n      <td>0.0</td>\n      <td>0.12</td>\n      <td>0.00</td>\n      <td>0.0</td>\n      <td>0.00</td>\n      <td>0.96</td>\n      <td>0.0</td>\n    </tr>\n    <tr>\n      <th>C_Aux3</th>\n      <td>1.0</td>\n      <td>0.08</td>\n      <td>0.83</td>\n      <td>0.0</td>\n      <td>0.09</td>\n      <td>0.00</td>\n      <td>0.0</td>\n      <td>0.00</td>\n      <td>0.94</td>\n      <td>0.0</td>\n    </tr>\n    <tr>\n      <th>P1</th>\n      <td>1.0</td>\n      <td>0.00</td>\n      <td>0.00</td>\n      <td>0.0</td>\n      <td>0.73</td>\n      <td>0.26</td>\n      <td>0.0</td>\n      <td>0.00</td>\n      <td>0.93</td>\n      <td>0.0</td>\n    </tr>\n    <tr>\n      <th>P2</th>\n      <td>1.0</td>\n      <td>0.00</td>\n      <td>0.00</td>\n      <td>0.0</td>\n      <td>0.71</td>\n      <td>0.29</td>\n      <td>0.0</td>\n      <td>0.00</td>\n      <td>0.11</td>\n      <td>0.0</td>\n    </tr>\n    <tr>\n      <th>P3</th>\n      <td>1.0</td>\n      <td>0.00</td>\n      <td>0.00</td>\n      <td>0.0</td>\n      <td>1.00</td>\n      <td>0.00</td>\n      <td>0.0</td>\n      <td>0.00</td>\n      <td>0.95</td>\n      <td>0.0</td>\n    </tr>\n    <tr>\n      <th>P4</th>\n      <td>1.0</td>\n      <td>0.00</td>\n      <td>0.01</td>\n      <td>0.0</td>\n      <td>0.98</td>\n      <td>0.01</td>\n      <td>0.0</td>\n      <td>0.00</td>\n      <td>0.94</td>\n      <td>0.0</td>\n    </tr>\n    <tr>\n      <th>P5</th>\n      <td>1.0</td>\n      <td>0.00</td>\n      <td>0.00</td>\n      <td>0.0</td>\n      <td>1.00</td>\n      <td>0.00</td>\n      <td>0.0</td>\n      <td>0.00</td>\n      <td>0.94</td>\n      <td>0.0</td>\n    </tr>\n    <tr>\n      <th>P6</th>\n      <td>1.0</td>\n      <td>0.00</td>\n      <td>0.00</td>\n      <td>0.0</td>\n      <td>1.00</td>\n      <td>0.00</td>\n      <td>0.0</td>\n      <td>0.00</td>\n      <td>0.11</td>\n      <td>0.0</td>\n    </tr>\n    <tr>\n      <th>P7</th>\n      <td>1.0</td>\n      <td>0.00</td>\n      <td>0.00</td>\n      <td>0.0</td>\n      <td>0.85</td>\n      <td>0.15</td>\n      <td>0.0</td>\n      <td>0.00</td>\n      <td>0.94</td>\n      <td>0.0</td>\n    </tr>\n    <tr>\n      <th>P8</th>\n      <td>1.0</td>\n      <td>0.00</td>\n      <td>0.00</td>\n      <td>0.0</td>\n      <td>0.66</td>\n      <td>0.34</td>\n      <td>0.0</td>\n      <td>0.00</td>\n      <td>0.00</td>\n      <td>0.0</td>\n    </tr>\n  </tbody>\n</table>\n</div>"
     },
     "execution_count": 7,
     "metadata": {},
     "output_type": "execute_result"
    }
   ],
   "source": [
    "r.flow_classification_summary"
   ],
   "metadata": {
    "collapsed": false,
    "pycharm": {
     "name": "#%%\n"
    }
   }
  },
  {
   "cell_type": "code",
   "execution_count": 8,
   "outputs": [
    {
     "data": {
      "text/plain": "         HoursFull_Both_Ends  Hours Full_Upstream  HoursFull_Dnstream  \\\nConduit                                                                 \nP1                      0.59                 0.59                0.67   \nP2                      0.48                 0.51                0.49   \nP3                      0.49                 0.49                0.66   \nP4                      0.54                 0.54                0.69   \nP5                      0.64                 0.64                0.68   \nP6                      0.66                 0.67                0.68   \nP7                      0.56                 0.68                0.56   \nP8                      0.01                 0.27                0.01   \n\n         Hours_Above Full_Normal Flow  Hours_Capacity_Limited  \nConduit                                                        \nP1                               0.08                    0.07  \nP2                               0.23                    0.19  \nP3                               0.50                    0.48  \nP4                               0.34                    0.34  \nP5                               0.01                    0.01  \nP6                               0.29                    0.27  \nP7                               0.72                    0.56  \nP8                               0.43                    0.01  ",
      "text/html": "<div>\n<style scoped>\n    .dataframe tbody tr th:only-of-type {\n        vertical-align: middle;\n    }\n\n    .dataframe tbody tr th {\n        vertical-align: top;\n    }\n\n    .dataframe thead th {\n        text-align: right;\n    }\n</style>\n<table border=\"1\" class=\"dataframe\">\n  <thead>\n    <tr style=\"text-align: right;\">\n      <th></th>\n      <th>HoursFull_Both_Ends</th>\n      <th>Hours Full_Upstream</th>\n      <th>HoursFull_Dnstream</th>\n      <th>Hours_Above Full_Normal Flow</th>\n      <th>Hours_Capacity_Limited</th>\n    </tr>\n    <tr>\n      <th>Conduit</th>\n      <th></th>\n      <th></th>\n      <th></th>\n      <th></th>\n      <th></th>\n    </tr>\n  </thead>\n  <tbody>\n    <tr>\n      <th>P1</th>\n      <td>0.59</td>\n      <td>0.59</td>\n      <td>0.67</td>\n      <td>0.08</td>\n      <td>0.07</td>\n    </tr>\n    <tr>\n      <th>P2</th>\n      <td>0.48</td>\n      <td>0.51</td>\n      <td>0.49</td>\n      <td>0.23</td>\n      <td>0.19</td>\n    </tr>\n    <tr>\n      <th>P3</th>\n      <td>0.49</td>\n      <td>0.49</td>\n      <td>0.66</td>\n      <td>0.50</td>\n      <td>0.48</td>\n    </tr>\n    <tr>\n      <th>P4</th>\n      <td>0.54</td>\n      <td>0.54</td>\n      <td>0.69</td>\n      <td>0.34</td>\n      <td>0.34</td>\n    </tr>\n    <tr>\n      <th>P5</th>\n      <td>0.64</td>\n      <td>0.64</td>\n      <td>0.68</td>\n      <td>0.01</td>\n      <td>0.01</td>\n    </tr>\n    <tr>\n      <th>P6</th>\n      <td>0.66</td>\n      <td>0.67</td>\n      <td>0.68</td>\n      <td>0.29</td>\n      <td>0.27</td>\n    </tr>\n    <tr>\n      <th>P7</th>\n      <td>0.56</td>\n      <td>0.68</td>\n      <td>0.56</td>\n      <td>0.72</td>\n      <td>0.56</td>\n    </tr>\n    <tr>\n      <th>P8</th>\n      <td>0.01</td>\n      <td>0.27</td>\n      <td>0.01</td>\n      <td>0.43</td>\n      <td>0.01</td>\n    </tr>\n  </tbody>\n</table>\n</div>"
     },
     "execution_count": 8,
     "metadata": {},
     "output_type": "execute_result"
    }
   ],
   "source": [
    "r.conduit_surcharge_summary"
   ],
   "metadata": {
    "collapsed": false,
    "pycharm": {
     "name": "#%%\n"
    }
   }
  },
  {
   "cell_type": "code",
   "execution_count": 7,
   "outputs": [
    {
     "data": {
      "text/plain": "{'raw_parts': {'Simulation Infos': '  Analysis begun on:  Wed Mar 24 09:13:30 2021\\n  Analysis ended on:  Wed Mar 24 09:13:30 2021\\n  Total elapsed time: < 1 sec',\n  'Version+Title': '  EPA STORM WATER MANAGEMENT MODEL - VERSION 5.1 (Build 5.1.015)\\n  --------------------------------------------------------------\\n  Example 7 \\n  Dual Drainage System \\n  Final Design ',\n  'Element Count': '  *************\\n  Element Count\\n  *************\\n  Number of rain gages ...... 1\\n  Number of subcatchments ... 7\\n  Number of nodes ........... 16\\n  Number of links ........... 23\\n  Number of pollutants ...... 0\\n  Number of land uses ....... 0',\n  'Raingage Summary': '  ****************\\n  Raingage Summary\\n  ****************\\n                                                      Data       Recording\\n  Name                 Data Source                    Type       Interval \\n  ------------------------------------------------------------------------\\n  RainGage             100-yr                         INTENSITY    5 min.',\n  'Subcatchment Summary': '  ********************\\n  Subcatchment Summary\\n  ********************\\n  Name                       Area     Width   %Imperv    %Slope Rain Gage            Outlet              \\n  -----------------------------------------------------------------------------------------------------------\\n  S1                         4.55   1587.00     56.80    2.0000 RainGage             Aux1                \\n  S2                         4.74   1653.00     63.00    2.0000 RainGage             Aux2                \\n  S3                         3.74   1456.00     39.50    3.1000 RainGage             Aux3                \\n  S4                         6.79   2331.00     49.90    3.1000 RainGage             J7                  \\n  S5                         4.79   1670.00     87.70    2.0000 RainGage             J10                 \\n  S6                         1.98    690.00     95.00    2.0000 RainGage             J11                 \\n  S7                         2.33    907.00      0.00    3.1000 RainGage             J10                 ',\n  'Node Summary': '  ************\\n  Node Summary\\n  ************\\n                                           Invert      Max.    Ponded    External\\n  Name                 Type                 Elev.     Depth      Area    Inflow  \\n  -------------------------------------------------------------------------------\\n  J1                   JUNCTION           4969.00      5.30       0.0\\n  J2a                  JUNCTION           4966.70      5.30       0.0\\n  J2                   JUNCTION           4965.00      5.30       0.0\\n  J3                   JUNCTION           4973.00      3.00       0.0\\n  J4                   JUNCTION           4965.00      9.00       0.0\\n  J5                   JUNCTION           4965.80      7.00       0.0\\n  J6                   JUNCTION           4969.00      3.50       0.0\\n  J7                   JUNCTION           4963.50     11.00       0.0\\n  J8                   JUNCTION           4966.50      3.50       0.0\\n  J9                   JUNCTION           4964.80      3.00       0.0\\n  J10                  JUNCTION           4957.80      9.00       0.0\\n  J11                  JUNCTION           4957.00      9.00       0.0\\n  Aux1                 JUNCTION           4975.00      1.30       0.0\\n  Aux2                 JUNCTION           4971.80      1.30       0.0\\n  Aux3                 JUNCTION           4968.50      9.00       0.0\\n  O1                   OUTFALL            4956.00      4.75       0.0',\n  'Link Summary': '  ************\\n  Link Summary\\n  ************\\n  Name             From Node        To Node          Type            Length    %Slope Roughness\\n  ---------------------------------------------------------------------------------------------\\n  C2a              J2a              J2               CONDUIT          157.5    1.0796    0.0160\\n  C2               J2               J11              CONDUIT          526.0    1.1408    0.0160\\n  C3               J3               J4               CONDUIT          109.0    1.8352    0.0160\\n  C4               J4               J5               CONDUIT          133.0    0.9023    0.0500\\n  C5               J5               J6               CONDUIT          207.0    0.3865    0.0500\\n  C6               J7               J6               CONDUIT          140.0    1.7860    0.0500\\n  C7               J6               J8               CONDUIT           95.0    2.6325    0.0160\\n  C8               J8               J9               CONDUIT          166.0    1.0242    0.0500\\n  C9               J9               J10              CONDUIT          320.0    0.3125    0.0500\\n  C10              J10              J11              CONDUIT          145.0    0.5517    0.0500\\n  C11              J11              O1               CONDUIT           89.0    1.1237    0.0160\\n  C_Aux1           Aux1             J1               CONDUIT          377.3    0.5301    0.0160\\n  C_Aux2           Aux2             J2a              CONDUIT          239.4    0.4595    0.0160\\n  C_Aux1to2        J1               Aux2             CONDUIT          286.1    0.4195    0.0160\\n  C_Aux3           Aux3             J3               CONDUIT          444.8    0.3373    0.0500\\n  P1               J1               J5               CONDUIT          185.4    1.7263    0.0160\\n  P2               J2a              J2               CONDUIT          157.5    1.0796    0.0160\\n  P3               J2               J11              CONDUIT          529.2    1.5118    0.0160\\n  P4               Aux3             J4               CONDUIT          567.2    0.6171    0.0160\\n  P5               J5               J4               CONDUIT          126.0    0.6350    0.0160\\n  P6               J4               J7               CONDUIT          360.4    0.4162    0.0160\\n  P7               J7               J10              CONDUIT          507.8    1.1226    0.0160\\n  P8               J10              J11              CONDUIT          144.5    0.5536    0.0160',\n  'Cross Section Summary': '  *********************\\n  Cross Section Summary\\n  *********************\\n                                        Full     Full     Hyd.     Max.   No. of     Full\\n  Conduit          Shape               Depth     Area     Rad.    Width  Barrels     Flow\\n  ---------------------------------------------------------------------------------------\\n  C2a              Half_Street          1.30    26.00     0.63    40.00        1   184.60\\n  C2               Half_Street          1.30    26.00     0.63    40.00        1   189.76\\n  C3               CIRCULAR             2.25     3.98     0.56     2.25        1    34.09\\n  C4               TRAPEZOIDAL          3.00    60.00     1.69    35.00        1   239.91\\n  C5               TRAPEZOIDAL          3.00    60.00     1.69    35.00        1   157.02\\n  C6               TRAPEZOIDAL          3.00    60.00     1.69    35.00        1   337.54\\n  C7               CIRCULAR             3.50     9.62     0.88     3.50        1   132.63\\n  C8               TRAPEZOIDAL          3.00    60.00     1.69    35.00        1   255.60\\n  C9               TRAPEZOIDAL          3.00    60.00     1.69    35.00        1   141.19\\n  C10              TRAPEZOIDAL          3.00    60.00     1.69    35.00        1   187.61\\n  C11              CIRCULAR             4.75    17.72     1.19     4.75        1   195.64\\n  C_Aux1           Full_Street          1.30    52.00     0.64    80.00        1   260.83\\n  C_Aux2           Full_Street          1.30    52.00     0.64    80.00        1   242.84\\n  C_Aux1to2        Full_Street          1.30    52.00     0.64    80.00        1   232.03\\n  C_Aux3           TRAPEZOIDAL          3.00    60.00     1.69    35.00        1   146.68\\n  P1               CIRCULAR             1.33     1.39     0.33     1.33        1     8.14\\n  P2               CIRCULAR             1.50     1.77     0.38     1.50        1     8.87\\n  P3               CIRCULAR             1.50     1.77     0.38     1.50        1    10.49\\n  P4               CIRCULAR             1.67     2.19     0.42     1.67        1     8.93\\n  P5               CIRCULAR             1.83     2.63     0.46     1.83        1    11.56\\n  P6               CIRCULAR             2.00     3.14     0.50     2.00        1    11.86\\n  P7               CIRCULAR             2.00     3.14     0.50     2.00        1    19.48\\n  P8               CIRCULAR             3.17     7.89     0.79     3.17        1    46.71',\n  'Transect Summary': '  ****************\\n  Transect Summary\\n  ****************\\n  Transect Full_Street\\n  Area:  \\n              0.0003     0.0013     0.0029     0.0052     0.0081 \\n              0.0117     0.0159     0.0208     0.0263     0.0325 \\n              0.0393     0.0468     0.0549     0.0637     0.0731 \\n              0.0832     0.0939     0.1053     0.1173     0.1302 \\n              0.1443     0.1598     0.1765     0.1946     0.2139 \\n              0.2346     0.2565     0.2798     0.3043     0.3302 \\n              0.3573     0.3853     0.4139     0.4432     0.4731 \\n              0.5037     0.5349     0.5668     0.5993     0.6325 \\n              0.6663     0.7008     0.7359     0.7717     0.8081 \\n              0.8452     0.8829     0.9213     0.9603     1.0000 \\n  Hrad:  \\n              0.0195     0.0389     0.0584     0.0779     0.0974 \\n              0.1168     0.1363     0.1558     0.1752     0.1947 \\n              0.2142     0.2337     0.2531     0.2726     0.2921 \\n              0.3115     0.3310     0.3505     0.3700     0.3766 \\n              0.3821     0.3899     0.3994     0.4105     0.4227 \\n              0.4358     0.4498     0.4644     0.4796     0.4953 \\n              0.5141     0.5418     0.5692     0.5963     0.6231 \\n              0.6497     0.6760     0.7020     0.7278     0.7534 \\n              0.7788     0.8040     0.8291     0.8539     0.8786 \\n              0.9032     0.9276     0.9519     0.9760     1.0000 \\n  Width: \\n              0.0163     0.0325     0.0488     0.0650     0.0813 \\n              0.0975     0.1137     0.1300     0.1462     0.1625 \\n              0.1788     0.1950     0.2113     0.2275     0.2438 \\n              0.2600     0.2763     0.2925     0.3088     0.3375 \\n              0.3700     0.4025     0.4350     0.4675     0.5000 \\n              0.5325     0.5650     0.5975     0.6300     0.6625 \\n              0.6913     0.7075     0.7238     0.7400     0.7563 \\n              0.7725     0.7888     0.8050     0.8213     0.8375 \\n              0.8538     0.8700     0.8863     0.9025     0.9188 \\n              0.9350     0.9513     0.9675     0.9838     1.0000 \\n  Transect Half_Street\\n  Area:  \\n              0.0003     0.0013     0.0029     0.0052     0.0081 \\n              0.0117     0.0159     0.0208     0.0263     0.0325 \\n              0.0393     0.0468     0.0549     0.0637     0.0731 \\n              0.0832     0.0939     0.1053     0.1173     0.1302 \\n              0.1443     0.1598     0.1765     0.1946     0.2139 \\n              0.2346     0.2565     0.2798     0.3043     0.3302 \\n              0.3573     0.3853     0.4139     0.4432     0.4731 \\n              0.5037     0.5349     0.5668     0.5993     0.6325 \\n              0.6663     0.7008     0.7359     0.7717     0.8081 \\n              0.8452     0.8829     0.9213     0.9603     1.0000 \\n  Hrad:  \\n              0.0197     0.0394     0.0591     0.0788     0.0986 \\n              0.1183     0.1380     0.1577     0.1774     0.1971 \\n              0.2168     0.2365     0.2563     0.2760     0.2957 \\n              0.3154     0.3351     0.3548     0.3745     0.3813 \\n              0.3868     0.3947     0.4044     0.4155     0.4279 \\n              0.4412     0.4553     0.4701     0.4855     0.5014 \\n              0.5203     0.5479     0.5751     0.6020     0.6286 \\n              0.6549     0.6809     0.7066     0.7321     0.7574 \\n              0.7824     0.8073     0.8319     0.8564     0.8807 \\n              0.9049     0.9289     0.9527     0.9764     1.0000 \\n  Width: \\n              0.0163     0.0325     0.0488     0.0650     0.0813 \\n              0.0975     0.1137     0.1300     0.1462     0.1625 \\n              0.1788     0.1950     0.2113     0.2275     0.2438 \\n              0.2600     0.2763     0.2925     0.3088     0.3375 \\n              0.3700     0.4025     0.4350     0.4675     0.5000 \\n              0.5325     0.5650     0.5975     0.6300     0.6625 \\n              0.6913     0.7075     0.7238     0.7400     0.7563 \\n              0.7725     0.7888     0.8050     0.8213     0.8375 \\n              0.8538     0.8700     0.8863     0.9025     0.9188 \\n              0.9350     0.9513     0.9675     0.9838     1.0000 ',\n  'Note': '  *********************************************************\\n  NOTE: The summary statistics displayed in this report are\\n  based on results found at every computational time step,  \\n  not just on results from each reporting time step.\\n  *********************************************************',\n  'Analysis Options': '  ****************\\n  Analysis Options\\n  ****************\\n  Flow Units ............... CFS\\n  Process Models:\\n    Rainfall/Runoff ........ YES\\n    RDII ................... NO\\n    Snowmelt ............... NO\\n    Groundwater ............ NO\\n    Flow Routing ........... YES\\n    Ponding Allowed ........ NO\\n    Water Quality .......... NO\\n  Infiltration Method ...... HORTON\\n  Flow Routing Method ...... DYNWAVE\\n  Surcharge Method ......... EXTRAN\\n  Starting Date ............ 01/01/2007 00:00:00\\n  Ending Date .............. 01/01/2007 12:00:00\\n  Antecedent Dry Days ...... 0.0\\n  Report Time Step ......... 00:01:00\\n  Wet Time Step ............ 00:01:00\\n  Dry Time Step ............ 01:00:00\\n  Routing Time Step ........ 15.00 sec\\n  Variable Time Step ....... YES\\n  Maximum Trials ........... 8\\n  Number of Threads ........ 1\\n  Head Tolerance ........... 0.005000 ft',\n  'Runoff Quantity Continuity': '  **************************        Volume         Depth\\n  Runoff Quantity Continuity     acre-feet        inches\\n  **************************     ---------       -------\\n  Total Precipitation ......         8.843         3.669\\n  Evaporation Loss .........         0.000         0.000\\n  Infiltration Loss ........         1.470         0.610\\n  Surface Runoff ...........         7.318         3.036\\n  Final Storage ............         0.062         0.026\\n  Continuity Error (%) .....        -0.077',\n  'Flow Routing Continuity': '  **************************        Volume        Volume\\n  Flow Routing Continuity        acre-feet      10^6 gal\\n  **************************     ---------     ---------\\n  Dry Weather Inflow .......         0.000         0.000\\n  Wet Weather Inflow .......         7.313         2.383\\n  Groundwater Inflow .......         0.000         0.000\\n  RDII Inflow ..............         0.000         0.000\\n  External Inflow ..........         0.000         0.000\\n  External Outflow .........         7.309         2.382\\n  Flooding Loss ............         0.000         0.000\\n  Evaporation Loss .........         0.000         0.000\\n  Exfiltration Loss ........         0.000         0.000\\n  Initial Stored Volume ....         0.000         0.000\\n  Final Stored Volume ......         0.000         0.000\\n  Continuity Error (%) .....         0.056',\n  'Highest Continuity Errors': '  *************************\\n  Highest Continuity Errors\\n  *************************\\n  Node J3 (4.72%)\\n  Node Aux2 (1.25%)\\n  Node J8 (-1.15%)\\n  Node J9 (1.14%)',\n  'Time-Step Critical Elements': '  ***************************\\n  Time-Step Critical Elements\\n  ***************************\\n  Link C11 (42.06%)',\n  'Highest Flow Instability Indexes': '  ********************************\\n  Highest Flow Instability Indexes\\n  ********************************\\n  All links are stable.',\n  'Routing Time Step Summary': '  *************************\\n  Routing Time Step Summary\\n  *************************\\n  Minimum Time Step           :     1.41 sec\\n  Average Time Step           :    10.89 sec\\n  Maximum Time Step           :    15.00 sec\\n  Percent in Steady State     :     0.00\\n  Average Iterations per Step :     2.02\\n  Percent Not Converging      :     0.15\\n  Time Step Frequencies       :\\n     15.000 -  7.597 sec      :    61.61 %\\n      7.597 -  3.848 sec      :    29.19 %\\n      3.848 -  1.949 sec      :     9.18 %\\n      1.949 -  0.987 sec      :     0.03 %\\n      0.987 -  0.500 sec      :     0.00 %',\n  'Subcatchment Runoff Summary': '  ***************************\\n  Subcatchment Runoff Summary\\n  ***************************\\n  ------------------------------------------------------------------------------------------------------------------------------\\n                            Total      Total      Total      Total     Imperv       Perv      Total       Total     Peak  Runoff\\n                           Precip      Runon       Evap      Infil     Runoff     Runoff     Runoff      Runoff   Runoff   Coeff\\n  Subcatchment                 in         in         in         in         in         in         in    10^6 gal      CFS\\n  ------------------------------------------------------------------------------------------------------------------------------\\n  S1                         3.67       0.00       0.00       0.61       2.06       0.97       3.03        0.37    37.93   0.827\\n  S2                         3.67       0.00       0.00       0.52       2.29       0.84       3.12        0.40    41.47   0.851\\n  S3                         3.67       0.00       0.00       0.86       1.43       1.36       2.79        0.28    28.60   0.762\\n  S4                         3.67       0.00       0.00       0.71       1.81       1.13       2.94        0.54    55.35   0.801\\n  S5                         3.67       0.00       0.00       0.17       3.18       0.28       3.46        0.45    47.28   0.944\\n  S6                         3.67       0.00       0.00       0.07       3.45       0.12       3.56        0.19    19.73   0.971\\n  S7                         3.67       0.00       0.00       1.46       0.00       2.22       2.22        0.14    10.60   0.604',\n  'Node Depth Summary': '  ******************\\n  Node Depth Summary\\n  ******************\\n  ---------------------------------------------------------------------------------\\n                                 Average  Maximum  Maximum  Time of Max    Reported\\n                                   Depth    Depth      HGL   Occurrence   Max Depth\\n  Node                 Type         Feet     Feet     Feet  days hr:min        Feet\\n  ---------------------------------------------------------------------------------\\n  J1                   JUNCTION     0.75     4.63  4973.63     0  00:36        4.62\\n  J2a                  JUNCTION     0.76     4.83  4971.53     0  00:36        4.83\\n  J2                   JUNCTION     0.71     4.78  4969.78     0  00:38        4.78\\n  J3                   JUNCTION     0.07     0.86  4973.86     0  00:40        0.85\\n  J4                   JUNCTION     1.13     6.75  4971.75     0  00:40        6.75\\n  J5                   JUNCTION     0.90     5.46  4971.26     0  00:41        5.46\\n  J6                   JUNCTION     0.11     1.31  4970.31     0  00:35        1.30\\n  J7                   JUNCTION     1.26     8.82  4972.32     0  00:35        8.82\\n  J8                   JUNCTION     0.11     1.48  4967.98     0  00:36        1.48\\n  J9                   JUNCTION     0.22     1.72  4966.52     0  00:44        1.72\\n  J10                  JUNCTION     0.81     4.62  4962.42     0  00:35        4.59\\n  J11                  JUNCTION     0.63     2.92  4959.92     0  00:35        2.91\\n  Aux1                 JUNCTION     0.15     0.67  4975.67     0  00:35        0.67\\n  Aux2                 JUNCTION     0.17     0.82  4972.62     0  00:35        0.82\\n  Aux3                 JUNCTION     0.92     7.24  4975.74     0  00:35        7.24\\n  O1                   OUTFALL      0.62     2.91  4958.91     0  00:35        2.91',\n  'Node Inflow Summary': '  *******************\\n  Node Inflow Summary\\n  *******************\\n  -------------------------------------------------------------------------------------------------\\n                                  Maximum  Maximum                  Lateral       Total        Flow\\n                                  Lateral    Total  Time of Max      Inflow      Inflow     Balance\\n                                   Inflow   Inflow   Occurrence      Volume      Volume       Error\\n  Node                 Type           CFS      CFS  days hr:min    10^6 gal    10^6 gal     Percent\\n  -------------------------------------------------------------------------------------------------\\n  J1                   JUNCTION      0.00    33.83     0  00:35           0       0.375       0.196\\n  J2a                  JUNCTION      0.00    58.88     0  00:35           0       0.514      -0.470\\n  J2                   JUNCTION      0.00    56.05     0  00:36           0       0.516      -0.659\\n  J3                   JUNCTION      0.00    12.86     0  00:37           0      0.0524       4.956\\n  J4                   JUNCTION      0.00    21.51     0  00:39           0       0.492      -0.052\\n  J5                   JUNCTION      0.00    28.25     0  00:39           0       0.376      -0.216\\n  J6                   JUNCTION      0.00    43.64     0  00:35           0       0.228       0.787\\n  J7                   JUNCTION     55.35    55.35     0  00:35       0.542       0.912      -0.104\\n  J8                   JUNCTION      0.00    39.42     0  00:35           0       0.227      -1.140\\n  J9                   JUNCTION      0.00    40.84     0  00:36           0       0.229       1.150\\n  J10                  JUNCTION     57.88    85.00     0  00:35        0.59        1.67       0.008\\n  J11                  JUNCTION     19.73   135.29     0  00:39       0.191        2.38       0.020\\n  Aux1                 JUNCTION     37.93    37.93     0  00:35       0.374       0.374      -0.051\\n  Aux2                 JUNCTION     41.47    63.36     0  00:35       0.401        0.52       1.267\\n  Aux3                 JUNCTION     28.60    28.60     0  00:35       0.284       0.284      -0.930\\n  O1                   OUTFALL       0.00   135.43     0  00:35           0        2.38       0.000',\n  'Node Surcharge Summary': '  **********************\\n  Node Surcharge Summary\\n  **********************\\n  No nodes were surcharged.',\n  'Node Flooding Summary': '  *********************\\n  Node Flooding Summary\\n  *********************\\n  No nodes were flooded.',\n  'Outfall Loading Summary': '  ***********************\\n  Outfall Loading Summary\\n  ***********************\\n  -----------------------------------------------------------\\n                         Flow       Avg       Max       Total\\n                         Freq      Flow      Flow      Volume\\n  Outfall Node           Pcnt       CFS       CFS    10^6 gal\\n  -----------------------------------------------------------\\n  O1                    88.03     22.33    135.43       2.382\\n  -----------------------------------------------------------\\n  System                88.03     22.33    135.43       2.382',\n  'Link Flow Summary': '  ********************\\n  Link Flow Summary\\n  ********************\\n  -----------------------------------------------------------------------------\\n                                 Maximum  Time of Max   Maximum    Max/    Max/\\n                                  |Flow|   Occurrence   |Veloc|    Full    Full\\n  Link                 Type          CFS  days hr:min    ft/sec    Flow   Depth\\n  -----------------------------------------------------------------------------\\n  C2a                  CHANNEL     46.94     0  00:36      4.73    0.25    0.64\\n  C2                   CHANNEL     39.76     0  00:38      4.61    0.21    0.60\\n  C3                   CONDUIT     10.49     0  00:40      7.55    0.31    0.38\\n  C4                   CONDUIT     12.12     0  00:40      1.05    0.05    0.37\\n  C5                   CONDUIT     27.71     0  00:40      1.88    0.18    0.44\\n  C6                   CONDUIT     20.23     0  00:35      2.45    0.06    0.35\\n  C7                   CONDUIT     39.42     0  00:35     11.22    0.30    0.40\\n  C8                   CONDUIT     40.84     0  00:36      4.49    0.16    0.47\\n  C9                   CONDUIT     26.14     0  00:44      1.91    0.19    0.41\\n  C10                  CONDUIT      0.00     0  00:00      0.00    0.00    0.00\\n  C11                  CONDUIT    135.43     0  00:35     11.91    0.69    0.61\\n  C_Aux1               CHANNEL     33.83     0  00:35      2.92    0.13    0.51\\n  C_Aux2               CHANNEL     58.88     0  00:35      3.08    0.24    0.63\\n  C_Aux1to2            CHANNEL     25.06     0  00:36      1.80    0.11    0.55\\n  C_Aux3               CONDUIT     12.86     0  00:37      1.45    0.09    0.31\\n  P1                   CONDUIT      9.53     0  00:28      6.86    1.17    1.00\\n  P2                   CONDUIT     13.29     0  00:29      7.52    1.50    1.00\\n  P3                   CONDUIT     11.93     0  00:53      6.75    1.14    1.00\\n  P4                   CONDUIT      9.63     0  00:35      4.40    1.08    1.00\\n  P5                   CONDUIT      9.92     0  00:32      3.77    0.86    1.00\\n  P6                   CONDUIT     14.13     0  01:00      4.50    1.19    1.00\\n  P7                   CONDUIT     26.43     0  00:31      8.41    1.36    1.00\\n  P8                   CONDUIT     83.83     0  00:35     10.77    1.79    0.96',\n  'Flow Classification Summary': '  ***************************\\n  Flow Classification Summary\\n  ***************************\\n  -------------------------------------------------------------------------------------\\n                      Adjusted    ---------- Fraction of Time in Flow Class ---------- \\n                       /Actual         Up    Down  Sub   Sup   Up    Down  Norm  Inlet \\n  Conduit               Length    Dry  Dry   Dry   Crit  Crit  Crit  Crit  Ltd   Ctrl  \\n  -------------------------------------------------------------------------------------\\n  C2a                     1.00   0.89  0.00  0.00  0.01  0.06  0.00  0.05  0.94  0.00\\n  C2                      1.00   0.89  0.00  0.00  0.00  0.00  0.00  0.11  0.00  0.00\\n  C3                      1.00   0.08  0.00  0.00  0.02  0.01  0.00  0.89  0.01  0.00\\n  C4                      1.00   0.87  0.05  0.00  0.08  0.00  0.00  0.00  0.96  0.00\\n  C5                      1.00   0.41  0.46  0.00  0.13  0.00  0.00  0.00  0.92  0.00\\n  C6                      1.00   0.41  0.54  0.00  0.05  0.00  0.00  0.00  0.95  0.00\\n  C7                      1.00   0.20  0.22  0.00  0.25  0.34  0.00  0.00  0.80  0.00\\n  C8                      1.00   0.08  0.12  0.00  0.80  0.00  0.00  0.00  0.95  0.00\\n  C9                      1.00   0.08  0.00  0.00  0.00  0.00  0.00  0.92  0.00  0.00\\n  C10                     1.00   1.00  0.00  0.00  0.00  0.00  0.00  0.00  0.00  0.00\\n  C11                     1.00   0.00  0.00  0.00  0.36  0.64  0.00  0.00  0.14  0.00\\n  C_Aux1                  1.00   0.00  0.00  0.00  0.00  0.00  0.00  1.00  0.00  0.00\\n  C_Aux2                  1.00   0.00  0.00  0.00  0.06  0.00  0.00  0.94  0.01  0.00\\n  C_Aux1to2               1.00   0.00  0.88  0.00  0.12  0.00  0.00  0.00  0.96  0.00\\n  C_Aux3                  1.00   0.08  0.83  0.00  0.09  0.00  0.00  0.00  0.94  0.00\\n  P1                      1.00   0.00  0.00  0.00  0.73  0.26  0.00  0.00  0.93  0.00\\n  P2                      1.00   0.00  0.00  0.00  0.71  0.29  0.00  0.00  0.11  0.00\\n  P3                      1.00   0.00  0.00  0.00  1.00  0.00  0.00  0.00  0.95  0.00\\n  P4                      1.00   0.00  0.01  0.00  0.98  0.01  0.00  0.00  0.94  0.00\\n  P5                      1.00   0.00  0.00  0.00  1.00  0.00  0.00  0.00  0.94  0.00\\n  P6                      1.00   0.00  0.00  0.00  1.00  0.00  0.00  0.00  0.11  0.00\\n  P7                      1.00   0.00  0.00  0.00  0.85  0.15  0.00  0.00  0.94  0.00\\n  P8                      1.00   0.00  0.00  0.00  0.66  0.34  0.00  0.00  0.00  0.00',\n  'Conduit Surcharge Summary': '  *************************\\n  Conduit Surcharge Summary\\n  *************************\\n  ----------------------------------------------------------------------------\\n                                                           Hours        Hours \\n                         --------- Hours Full --------   Above Full   Capacity\\n  Conduit                Both Ends  Upstream  Dnstream   Normal Flow   Limited\\n  ----------------------------------------------------------------------------\\n  P1                          0.59      0.59      0.67      0.08         0.07\\n  P2                          0.48      0.51      0.49      0.23         0.19\\n  P3                          0.49      0.49      0.66      0.50         0.48\\n  P4                          0.54      0.54      0.69      0.34         0.34\\n  P5                          0.64      0.64      0.68      0.01         0.01\\n  P6                          0.66      0.67      0.68      0.29         0.27\\n  P7                          0.56      0.68      0.56      0.72         0.56\\n  P8                          0.01      0.27      0.01      0.43         0.01'},\n 'converted_parts': {'Node Flooding Summary': '  No nodes were flooded.'},\n '_filename': 'epaswmm5_apps_manual/Example7-Final.rpt',\n '_version_title': None,\n '_note': None,\n '_analysis_options': None,\n '_runoff_quantity_continuity': None,\n '_flow_routing_continuity': {'Dry Weather Inflow': {'Volume_acre-feet': 0.0,\n   'Volume_10^6 gal': 0.0},\n  'Wet Weather Inflow': {'Volume_acre-feet': 7.313, 'Volume_10^6 gal': 2.383},\n  'Groundwater Inflow': {'Volume_acre-feet': 0.0, 'Volume_10^6 gal': 0.0},\n  'RDII Inflow': {'Volume_acre-feet': 0.0, 'Volume_10^6 gal': 0.0},\n  'External Inflow': {'Volume_acre-feet': 0.0, 'Volume_10^6 gal': 0.0},\n  'External Outflow': {'Volume_acre-feet': 7.309, 'Volume_10^6 gal': 2.382},\n  'Flooding Loss': {'Volume_acre-feet': 0.0, 'Volume_10^6 gal': 0.0},\n  'Evaporation Loss': {'Volume_acre-feet': 0.0, 'Volume_10^6 gal': 0.0},\n  'Exfiltration Loss': {'Volume_acre-feet': 0.0, 'Volume_10^6 gal': 0.0},\n  'Initial Stored Volume': {'Volume_acre-feet': 0.0, 'Volume_10^6 gal': 0.0},\n  'Final Stored Volume': {'Volume_acre-feet': 0.0, 'Volume_10^6 gal': 0.0},\n  'Continuity Error (%)': 0.056},\n '_time_step_critical_elements': None,\n '_highest_flow_instability_indexes': None,\n '_routing_time_step_summary': None,\n '_subcatchment_runoff_summary': None,\n '_node_depth_summary': None,\n '_node_inflow_summary': None,\n '_node_surcharge_summary': None,\n '_node_flooding_summary': Empty DataFrame\n Columns: []\n Index: [],\n '_storage_volume_summary': None,\n '_outfall_loading_summary': None,\n '_link_flow_summary': None,\n '_flow_classification_summary': None,\n '_conduit_surcharge_summary': None}"
     },
     "execution_count": 7,
     "metadata": {},
     "output_type": "execute_result"
    }
   ],
   "source": [
    "vars(r)"
   ],
   "metadata": {
    "collapsed": false,
    "pycharm": {
     "name": "#%%\n"
    }
   }
  }
 ],
 "metadata": {
  "kernelspec": {
   "name": "python3",
   "language": "python",
   "display_name": "Python 3"
  },
  "language_info": {
   "codemirror_mode": {
    "name": "ipython",
    "version": 2
   },
   "file_extension": ".py",
   "mimetype": "text/x-python",
   "name": "python",
   "nbconvert_exporter": "python",
   "pygments_lexer": "ipython2",
   "version": "2.7.6"
  }
 },
 "nbformat": 4,
 "nbformat_minor": 0
}