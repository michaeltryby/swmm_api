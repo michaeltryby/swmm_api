{
 "cells": [
  {
   "cell_type": "markdown",
   "source": [
    "## Example for RPT File Reader\n"
   ],
   "metadata": {
    "collapsed": false
   }
  },
  {
   "cell_type": "code",
   "execution_count": 1,
   "metadata": {
    "collapsed": true
   },
   "outputs": [],
   "source": [
    "from swmm_api import read_rpt_file, SwmmReport"
   ]
  },
  {
   "cell_type": "code",
   "execution_count": 2,
   "outputs": [],
   "source": [
    "r = read_rpt_file('epaswmm5_apps_manual/Example7-Final.rpt')"
   ],
   "metadata": {
    "collapsed": false,
    "pycharm": {
     "name": "#%%\n"
    }
   }
  },
  {
   "cell_type": "markdown",
   "source": [
    "Is equal to:"
   ],
   "metadata": {
    "collapsed": false
   }
  },
  {
   "cell_type": "code",
   "execution_count": 3,
   "outputs": [],
   "source": [
    "r = SwmmReport('epaswmm5_apps_manual/Example7-Final.rpt')"
   ],
   "metadata": {
    "collapsed": false,
    "pycharm": {
     "name": "#%%\n"
    }
   }
  },
  {
   "cell_type": "code",
   "execution_count": 4,
   "outputs": [
    {
     "data": {
      "text/plain": "Empty DataFrame\nColumns: []\nIndex: []",
      "text/html": "<div>\n<style scoped>\n    .dataframe tbody tr th:only-of-type {\n        vertical-align: middle;\n    }\n\n    .dataframe tbody tr th {\n        vertical-align: top;\n    }\n\n    .dataframe thead th {\n        text-align: right;\n    }\n</style>\n<table border=\"1\" class=\"dataframe\">\n  <thead>\n    <tr style=\"text-align: right;\">\n      <th></th>\n    </tr>\n  </thead>\n  <tbody>\n  </tbody>\n</table>\n</div>"
     },
     "execution_count": 4,
     "metadata": {},
     "output_type": "execute_result"
    }
   ],
   "source": [
    "r.node_flooding_summary"
   ],
   "metadata": {
    "collapsed": false,
    "pycharm": {
     "name": "#%%\n"
    }
   }
  },
  {
   "cell_type": "code",
   "execution_count": 5,
   "outputs": [
    {
     "data": {
      "text/plain": "{'Dry Weather Inflow': {'Volume_acre-feet': 0.0, 'Volume_10^6 gal': 0.0},\n 'Wet Weather Inflow': {'Volume_acre-feet': 7.313, 'Volume_10^6 gal': 2.383},\n 'Groundwater Inflow': {'Volume_acre-feet': 0.0, 'Volume_10^6 gal': 0.0},\n 'RDII Inflow': {'Volume_acre-feet': 0.0, 'Volume_10^6 gal': 0.0},\n 'External Inflow': {'Volume_acre-feet': 0.0, 'Volume_10^6 gal': 0.0},\n 'External Outflow': {'Volume_acre-feet': 7.309, 'Volume_10^6 gal': 2.382},\n 'Flooding Loss': {'Volume_acre-feet': 0.0, 'Volume_10^6 gal': 0.0},\n 'Evaporation Loss': {'Volume_acre-feet': 0.0, 'Volume_10^6 gal': 0.0},\n 'Exfiltration Loss': {'Volume_acre-feet': 0.0, 'Volume_10^6 gal': 0.0},\n 'Initial Stored Volume': {'Volume_acre-feet': 0.0, 'Volume_10^6 gal': 0.0},\n 'Final Stored Volume': {'Volume_acre-feet': 0.0, 'Volume_10^6 gal': 0.0},\n 'Continuity Error (%)': 0.056}"
     },
     "execution_count": 5,
     "metadata": {},
     "output_type": "execute_result"
    }
   ],
   "source": [
    "r.flow_routing_continuity"
   ],
   "metadata": {
    "collapsed": false,
    "pycharm": {
     "name": "#%%\n"
    }
   }
  },
  {
   "cell_type": "code",
   "execution_count": 9,
   "outputs": [
    {
     "data": {
      "text/plain": "{'O1': 2382.0}"
     },
     "execution_count": 9,
     "metadata": {},
     "output_type": "execute_result"
    }
   ],
   "source": [
    "ols = r.outfall_loading_summary['Total_Volume_10^6 ' + r.UNIT.VOL2] * 1000  # m³\n",
    "ols.to_dict()\n"
   ],
   "metadata": {
    "collapsed": false,
    "pycharm": {
     "name": "#%%\n"
    }
   }
  },
  {
   "cell_type": "code",
   "execution_count": 7,
   "outputs": [
    {
     "data": {
      "text/plain": "           Adjusted_/Actual_Length   Dry  Up_Dry  Down_Dry  Sub_Crit  \\\nConduit                                                                \nC2a                            1.0  0.89    0.00       0.0      0.01   \nC2                             1.0  0.89    0.00       0.0      0.00   \nC3                             1.0  0.08    0.00       0.0      0.02   \nC4                             1.0  0.87    0.05       0.0      0.08   \nC5                             1.0  0.41    0.46       0.0      0.13   \nC6                             1.0  0.41    0.54       0.0      0.05   \nC7                             1.0  0.20    0.22       0.0      0.25   \nC8                             1.0  0.08    0.12       0.0      0.80   \nC9                             1.0  0.08    0.00       0.0      0.00   \nC10                            1.0  1.00    0.00       0.0      0.00   \nC11                            1.0  0.00    0.00       0.0      0.36   \nC_Aux1                         1.0  0.00    0.00       0.0      0.00   \nC_Aux2                         1.0  0.00    0.00       0.0      0.06   \nC_Aux1to2                      1.0  0.00    0.88       0.0      0.12   \nC_Aux3                         1.0  0.08    0.83       0.0      0.09   \nP1                             1.0  0.00    0.00       0.0      0.73   \nP2                             1.0  0.00    0.00       0.0      0.71   \nP3                             1.0  0.00    0.00       0.0      1.00   \nP4                             1.0  0.00    0.01       0.0      0.98   \nP5                             1.0  0.00    0.00       0.0      1.00   \nP6                             1.0  0.00    0.00       0.0      1.00   \nP7                             1.0  0.00    0.00       0.0      0.85   \nP8                             1.0  0.00    0.00       0.0      0.66   \n\n           Sup_Crit  Up_Crit  Down_Crit  Norm_Ltd  Inlet_Ctrl  \nConduit                                                        \nC2a            0.06      0.0       0.05      0.94         0.0  \nC2             0.00      0.0       0.11      0.00         0.0  \nC3             0.01      0.0       0.89      0.01         0.0  \nC4             0.00      0.0       0.00      0.96         0.0  \nC5             0.00      0.0       0.00      0.92         0.0  \nC6             0.00      0.0       0.00      0.95         0.0  \nC7             0.34      0.0       0.00      0.80         0.0  \nC8             0.00      0.0       0.00      0.95         0.0  \nC9             0.00      0.0       0.92      0.00         0.0  \nC10            0.00      0.0       0.00      0.00         0.0  \nC11            0.64      0.0       0.00      0.14         0.0  \nC_Aux1         0.00      0.0       1.00      0.00         0.0  \nC_Aux2         0.00      0.0       0.94      0.01         0.0  \nC_Aux1to2      0.00      0.0       0.00      0.96         0.0  \nC_Aux3         0.00      0.0       0.00      0.94         0.0  \nP1             0.26      0.0       0.00      0.93         0.0  \nP2             0.29      0.0       0.00      0.11         0.0  \nP3             0.00      0.0       0.00      0.95         0.0  \nP4             0.01      0.0       0.00      0.94         0.0  \nP5             0.00      0.0       0.00      0.94         0.0  \nP6             0.00      0.0       0.00      0.11         0.0  \nP7             0.15      0.0       0.00      0.94         0.0  \nP8             0.34      0.0       0.00      0.00         0.0  ",
      "text/html": "<div>\n<style scoped>\n    .dataframe tbody tr th:only-of-type {\n        vertical-align: middle;\n    }\n\n    .dataframe tbody tr th {\n        vertical-align: top;\n    }\n\n    .dataframe thead th {\n        text-align: right;\n    }\n</style>\n<table border=\"1\" class=\"dataframe\">\n  <thead>\n    <tr style=\"text-align: right;\">\n      <th></th>\n      <th>Adjusted_/Actual_Length</th>\n      <th>Dry</th>\n      <th>Up_Dry</th>\n      <th>Down_Dry</th>\n      <th>Sub_Crit</th>\n      <th>Sup_Crit</th>\n      <th>Up_Crit</th>\n      <th>Down_Crit</th>\n      <th>Norm_Ltd</th>\n      <th>Inlet_Ctrl</th>\n    </tr>\n    <tr>\n      <th>Conduit</th>\n      <th></th>\n      <th></th>\n      <th></th>\n      <th></th>\n      <th></th>\n      <th></th>\n      <th></th>\n      <th></th>\n      <th></th>\n      <th></th>\n    </tr>\n  </thead>\n  <tbody>\n    <tr>\n      <th>C2a</th>\n      <td>1.0</td>\n      <td>0.89</td>\n      <td>0.00</td>\n      <td>0.0</td>\n      <td>0.01</td>\n      <td>0.06</td>\n      <td>0.0</td>\n      <td>0.05</td>\n      <td>0.94</td>\n      <td>0.0</td>\n    </tr>\n    <tr>\n      <th>C2</th>\n      <td>1.0</td>\n      <td>0.89</td>\n      <td>0.00</td>\n      <td>0.0</td>\n      <td>0.00</td>\n      <td>0.00</td>\n      <td>0.0</td>\n      <td>0.11</td>\n      <td>0.00</td>\n      <td>0.0</td>\n    </tr>\n    <tr>\n      <th>C3</th>\n      <td>1.0</td>\n      <td>0.08</td>\n      <td>0.00</td>\n      <td>0.0</td>\n      <td>0.02</td>\n      <td>0.01</td>\n      <td>0.0</td>\n      <td>0.89</td>\n      <td>0.01</td>\n      <td>0.0</td>\n    </tr>\n    <tr>\n      <th>C4</th>\n      <td>1.0</td>\n      <td>0.87</td>\n      <td>0.05</td>\n      <td>0.0</td>\n      <td>0.08</td>\n      <td>0.00</td>\n      <td>0.0</td>\n      <td>0.00</td>\n      <td>0.96</td>\n      <td>0.0</td>\n    </tr>\n    <tr>\n      <th>C5</th>\n      <td>1.0</td>\n      <td>0.41</td>\n      <td>0.46</td>\n      <td>0.0</td>\n      <td>0.13</td>\n      <td>0.00</td>\n      <td>0.0</td>\n      <td>0.00</td>\n      <td>0.92</td>\n      <td>0.0</td>\n    </tr>\n    <tr>\n      <th>C6</th>\n      <td>1.0</td>\n      <td>0.41</td>\n      <td>0.54</td>\n      <td>0.0</td>\n      <td>0.05</td>\n      <td>0.00</td>\n      <td>0.0</td>\n      <td>0.00</td>\n      <td>0.95</td>\n      <td>0.0</td>\n    </tr>\n    <tr>\n      <th>C7</th>\n      <td>1.0</td>\n      <td>0.20</td>\n      <td>0.22</td>\n      <td>0.0</td>\n      <td>0.25</td>\n      <td>0.34</td>\n      <td>0.0</td>\n      <td>0.00</td>\n      <td>0.80</td>\n      <td>0.0</td>\n    </tr>\n    <tr>\n      <th>C8</th>\n      <td>1.0</td>\n      <td>0.08</td>\n      <td>0.12</td>\n      <td>0.0</td>\n      <td>0.80</td>\n      <td>0.00</td>\n      <td>0.0</td>\n      <td>0.00</td>\n      <td>0.95</td>\n      <td>0.0</td>\n    </tr>\n    <tr>\n      <th>C9</th>\n      <td>1.0</td>\n      <td>0.08</td>\n      <td>0.00</td>\n      <td>0.0</td>\n      <td>0.00</td>\n      <td>0.00</td>\n      <td>0.0</td>\n      <td>0.92</td>\n      <td>0.00</td>\n      <td>0.0</td>\n    </tr>\n    <tr>\n      <th>C10</th>\n      <td>1.0</td>\n      <td>1.00</td>\n      <td>0.00</td>\n      <td>0.0</td>\n      <td>0.00</td>\n      <td>0.00</td>\n      <td>0.0</td>\n      <td>0.00</td>\n      <td>0.00</td>\n      <td>0.0</td>\n    </tr>\n    <tr>\n      <th>C11</th>\n      <td>1.0</td>\n      <td>0.00</td>\n      <td>0.00</td>\n      <td>0.0</td>\n      <td>0.36</td>\n      <td>0.64</td>\n      <td>0.0</td>\n      <td>0.00</td>\n      <td>0.14</td>\n      <td>0.0</td>\n    </tr>\n    <tr>\n      <th>C_Aux1</th>\n      <td>1.0</td>\n      <td>0.00</td>\n      <td>0.00</td>\n      <td>0.0</td>\n      <td>0.00</td>\n      <td>0.00</td>\n      <td>0.0</td>\n      <td>1.00</td>\n      <td>0.00</td>\n      <td>0.0</td>\n    </tr>\n    <tr>\n      <th>C_Aux2</th>\n      <td>1.0</td>\n      <td>0.00</td>\n      <td>0.00</td>\n      <td>0.0</td>\n      <td>0.06</td>\n      <td>0.00</td>\n      <td>0.0</td>\n      <td>0.94</td>\n      <td>0.01</td>\n      <td>0.0</td>\n    </tr>\n    <tr>\n      <th>C_Aux1to2</th>\n      <td>1.0</td>\n      <td>0.00</td>\n      <td>0.88</td>\n      <td>0.0</td>\n      <td>0.12</td>\n      <td>0.00</td>\n      <td>0.0</td>\n      <td>0.00</td>\n      <td>0.96</td>\n      <td>0.0</td>\n    </tr>\n    <tr>\n      <th>C_Aux3</th>\n      <td>1.0</td>\n      <td>0.08</td>\n      <td>0.83</td>\n      <td>0.0</td>\n      <td>0.09</td>\n      <td>0.00</td>\n      <td>0.0</td>\n      <td>0.00</td>\n      <td>0.94</td>\n      <td>0.0</td>\n    </tr>\n    <tr>\n      <th>P1</th>\n      <td>1.0</td>\n      <td>0.00</td>\n      <td>0.00</td>\n      <td>0.0</td>\n      <td>0.73</td>\n      <td>0.26</td>\n      <td>0.0</td>\n      <td>0.00</td>\n      <td>0.93</td>\n      <td>0.0</td>\n    </tr>\n    <tr>\n      <th>P2</th>\n      <td>1.0</td>\n      <td>0.00</td>\n      <td>0.00</td>\n      <td>0.0</td>\n      <td>0.71</td>\n      <td>0.29</td>\n      <td>0.0</td>\n      <td>0.00</td>\n      <td>0.11</td>\n      <td>0.0</td>\n    </tr>\n    <tr>\n      <th>P3</th>\n      <td>1.0</td>\n      <td>0.00</td>\n      <td>0.00</td>\n      <td>0.0</td>\n      <td>1.00</td>\n      <td>0.00</td>\n      <td>0.0</td>\n      <td>0.00</td>\n      <td>0.95</td>\n      <td>0.0</td>\n    </tr>\n    <tr>\n      <th>P4</th>\n      <td>1.0</td>\n      <td>0.00</td>\n      <td>0.01</td>\n      <td>0.0</td>\n      <td>0.98</td>\n      <td>0.01</td>\n      <td>0.0</td>\n      <td>0.00</td>\n      <td>0.94</td>\n      <td>0.0</td>\n    </tr>\n    <tr>\n      <th>P5</th>\n      <td>1.0</td>\n      <td>0.00</td>\n      <td>0.00</td>\n      <td>0.0</td>\n      <td>1.00</td>\n      <td>0.00</td>\n      <td>0.0</td>\n      <td>0.00</td>\n      <td>0.94</td>\n      <td>0.0</td>\n    </tr>\n    <tr>\n      <th>P6</th>\n      <td>1.0</td>\n      <td>0.00</td>\n      <td>0.00</td>\n      <td>0.0</td>\n      <td>1.00</td>\n      <td>0.00</td>\n      <td>0.0</td>\n      <td>0.00</td>\n      <td>0.11</td>\n      <td>0.0</td>\n    </tr>\n    <tr>\n      <th>P7</th>\n      <td>1.0</td>\n      <td>0.00</td>\n      <td>0.00</td>\n      <td>0.0</td>\n      <td>0.85</td>\n      <td>0.15</td>\n      <td>0.0</td>\n      <td>0.00</td>\n      <td>0.94</td>\n      <td>0.0</td>\n    </tr>\n    <tr>\n      <th>P8</th>\n      <td>1.0</td>\n      <td>0.00</td>\n      <td>0.00</td>\n      <td>0.0</td>\n      <td>0.66</td>\n      <td>0.34</td>\n      <td>0.0</td>\n      <td>0.00</td>\n      <td>0.00</td>\n      <td>0.0</td>\n    </tr>\n  </tbody>\n</table>\n</div>"
     },
     "execution_count": 7,
     "metadata": {},
     "output_type": "execute_result"
    }
   ],
   "source": [
    "r.flow_classification_summary"
   ],
   "metadata": {
    "collapsed": false,
    "pycharm": {
     "name": "#%%\n"
    }
   }
  },
  {
   "cell_type": "code",
   "execution_count": 8,
   "outputs": [
    {
     "data": {
      "text/plain": "         HoursFull_Both_Ends  Hours Full_Upstream  HoursFull_Dnstream  \\\nConduit                                                                 \nP1                      0.59                 0.59                0.67   \nP2                      0.48                 0.51                0.49   \nP3                      0.49                 0.49                0.66   \nP4                      0.54                 0.54                0.69   \nP5                      0.64                 0.64                0.68   \nP6                      0.66                 0.67                0.68   \nP7                      0.56                 0.68                0.56   \nP8                      0.01                 0.27                0.01   \n\n         Hours_Above Full_Normal Flow  Hours_Capacity_Limited  \nConduit                                                        \nP1                               0.08                    0.07  \nP2                               0.23                    0.19  \nP3                               0.50                    0.48  \nP4                               0.34                    0.34  \nP5                               0.01                    0.01  \nP6                               0.29                    0.27  \nP7                               0.72                    0.56  \nP8                               0.43                    0.01  ",
      "text/html": "<div>\n<style scoped>\n    .dataframe tbody tr th:only-of-type {\n        vertical-align: middle;\n    }\n\n    .dataframe tbody tr th {\n        vertical-align: top;\n    }\n\n    .dataframe thead th {\n        text-align: right;\n    }\n</style>\n<table border=\"1\" class=\"dataframe\">\n  <thead>\n    <tr style=\"text-align: right;\">\n      <th></th>\n      <th>HoursFull_Both_Ends</th>\n      <th>Hours Full_Upstream</th>\n      <th>HoursFull_Dnstream</th>\n      <th>Hours_Above Full_Normal Flow</th>\n      <th>Hours_Capacity_Limited</th>\n    </tr>\n    <tr>\n      <th>Conduit</th>\n      <th></th>\n      <th></th>\n      <th></th>\n      <th></th>\n      <th></th>\n    </tr>\n  </thead>\n  <tbody>\n    <tr>\n      <th>P1</th>\n      <td>0.59</td>\n      <td>0.59</td>\n      <td>0.67</td>\n      <td>0.08</td>\n      <td>0.07</td>\n    </tr>\n    <tr>\n      <th>P2</th>\n      <td>0.48</td>\n      <td>0.51</td>\n      <td>0.49</td>\n      <td>0.23</td>\n      <td>0.19</td>\n    </tr>\n    <tr>\n      <th>P3</th>\n      <td>0.49</td>\n      <td>0.49</td>\n      <td>0.66</td>\n      <td>0.50</td>\n      <td>0.48</td>\n    </tr>\n    <tr>\n      <th>P4</th>\n      <td>0.54</td>\n      <td>0.54</td>\n      <td>0.69</td>\n      <td>0.34</td>\n      <td>0.34</td>\n    </tr>\n    <tr>\n      <th>P5</th>\n      <td>0.64</td>\n      <td>0.64</td>\n      <td>0.68</td>\n      <td>0.01</td>\n      <td>0.01</td>\n    </tr>\n    <tr>\n      <th>P6</th>\n      <td>0.66</td>\n      <td>0.67</td>\n      <td>0.68</td>\n      <td>0.29</td>\n      <td>0.27</td>\n    </tr>\n    <tr>\n      <th>P7</th>\n      <td>0.56</td>\n      <td>0.68</td>\n      <td>0.56</td>\n      <td>0.72</td>\n      <td>0.56</td>\n    </tr>\n    <tr>\n      <th>P8</th>\n      <td>0.01</td>\n      <td>0.27</td>\n      <td>0.01</td>\n      <td>0.43</td>\n      <td>0.01</td>\n    </tr>\n  </tbody>\n</table>\n</div>"
     },
     "execution_count": 8,
     "metadata": {},
     "output_type": "execute_result"
    }
   ],
   "source": [
    "r.conduit_surcharge_summary"
   ],
   "metadata": {
    "collapsed": false,
    "pycharm": {
     "name": "#%%\n"
    }
   }
  }
 ],
 "metadata": {
  "kernelspec": {
   "name": "python3",
   "language": "python",
   "display_name": "Python 3"
  },
  "language_info": {
   "codemirror_mode": {
    "name": "ipython",
    "version": 2
   },
   "file_extension": ".py",
   "mimetype": "text/x-python",
   "name": "python",
   "nbconvert_exporter": "python",
   "pygments_lexer": "ipython2",
   "version": "2.7.6"
  }
 },
 "nbformat": 4,
 "nbformat_minor": 0
}