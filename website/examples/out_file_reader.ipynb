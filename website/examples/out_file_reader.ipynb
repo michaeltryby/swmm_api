{
 "cells": [
  {
   "cell_type": "markdown",
   "source": [
    "## Example for OUT File Reader\n"
   ],
   "metadata": {
    "collapsed": false
   }
  },
  {
   "cell_type": "code",
   "execution_count": 1,
   "metadata": {
    "collapsed": true
   },
   "outputs": [],
   "source": [
    "from swmm_api import read_out_file, SwmmOutput"
   ]
  },
  {
   "cell_type": "code",
   "execution_count": 2,
   "outputs": [],
   "source": [
    "out = read_out_file('epaswmm5_apps_manual/Example7-Final.out')"
   ],
   "metadata": {
    "collapsed": false,
    "pycharm": {
     "name": "#%%\n"
    }
   }
  },
  {
   "cell_type": "markdown",
   "source": [
    "Is equal to:"
   ],
   "metadata": {
    "collapsed": false,
    "pycharm": {
     "name": "#%% md\n"
    }
   }
  },
  {
   "cell_type": "code",
   "execution_count": 3,
   "outputs": [],
   "source": [
    "out = SwmmOutput('epaswmm5_apps_manual/Example7-Final.out')\n"
   ],
   "metadata": {
    "collapsed": false,
    "pycharm": {
     "name": "#%%\n"
    }
   }
  },
  {
   "cell_type": "code",
   "execution_count": 4,
   "outputs": [
    {
     "data": {
      "text/plain": "{'subcatchment': ['rainfall',\n  'snow_depth',\n  'evaporation',\n  'infiltration',\n  'runoff',\n  'groundwater_outflow',\n  'groundwater_elevation',\n  'soil_moisture'],\n 'node': ['depth',\n  'head',\n  'volume',\n  'lateral_inflow',\n  'total_inflow',\n  'flooding'],\n 'link': ['flow', 'depth', 'velocity', 'volume', 'capacity'],\n 'pollutant': [],\n 'system': ['air_temperature',\n  'rainfall',\n  'snow_depth',\n  'infiltration',\n  'runoff',\n  'dry_weather_inflow',\n  'groundwater_inflow',\n  'RDII_inflow',\n  'direct_inflow',\n  'lateral_inflow',\n  'flooding',\n  'outflow',\n  'volume',\n  'evaporation',\n  'PET']}"
     },
     "execution_count": 4,
     "metadata": {},
     "output_type": "execute_result"
    }
   ],
   "source": [
    "out.variables"
   ],
   "metadata": {
    "collapsed": false,
    "pycharm": {
     "name": "#%%\n"
    }
   }
  },
  {
   "cell_type": "code",
   "execution_count": 5,
   "outputs": [
    {
     "data": {
      "text/plain": "{'subcatchment': ['S1', 'S2', 'S3', 'S4', 'S5', 'S6', 'S7'],\n 'node': ['J1',\n  'J2a',\n  'J2',\n  'J3',\n  'J4',\n  'J5',\n  'J6',\n  'J7',\n  'J8',\n  'J9',\n  'J10',\n  'J11',\n  'Aux1',\n  'Aux2',\n  'Aux3',\n  'O1'],\n 'link': ['C2a',\n  'C2',\n  'C3',\n  'C4',\n  'C5',\n  'C6',\n  'C7',\n  'C8',\n  'C9',\n  'C10',\n  'C11',\n  'C_Aux1',\n  'C_Aux2',\n  'C_Aux1to2',\n  'C_Aux3',\n  'P1',\n  'P2',\n  'P3',\n  'P4',\n  'P5',\n  'P6',\n  'P7',\n  'P8'],\n 'pollutant': [],\n 'system': ['']}"
     },
     "execution_count": 5,
     "metadata": {},
     "output_type": "execute_result"
    }
   ],
   "source": [
    "out.labels"
   ],
   "metadata": {
    "collapsed": false,
    "pycharm": {
     "name": "#%%\n"
    }
   }
  },
  {
   "cell_type": "code",
   "execution_count": 6,
   "outputs": [
    {
     "data": {
      "text/plain": "282"
     },
     "execution_count": 6,
     "metadata": {},
     "output_type": "execute_result"
    }
   ],
   "source": [
    "out.number_columns\n"
   ],
   "metadata": {
    "collapsed": false,
    "pycharm": {
     "name": "#%%\n"
    }
   }
  },
  {
   "cell_type": "code",
   "execution_count": 7,
   "outputs": [
    {
     "data": {
      "text/plain": "numpy.ndarray"
     },
     "execution_count": 7,
     "metadata": {},
     "output_type": "execute_result"
    }
   ],
   "source": [
    "type(out.to_numpy())\n"
   ],
   "metadata": {
    "collapsed": false,
    "pycharm": {
     "name": "#%%\n"
    }
   }
  },
  {
   "cell_type": "code",
   "execution_count": 8,
   "outputs": [
    {
     "data": {
      "text/plain": "                    subcatchment                                      \\\n                              S1                                       \n                        rainfall snow_depth evaporation infiltration   \n2007-01-01 00:01:00         1.00        0.0         0.0      0.43200   \n2007-01-01 00:02:00         1.00        0.0         0.0      0.43200   \n2007-01-01 00:03:00         1.00        0.0         0.0      0.43200   \n2007-01-01 00:04:00         1.00        0.0         0.0      0.43200   \n2007-01-01 00:05:00         1.14        0.0         0.0      0.49248   \n...                          ...        ...         ...          ...   \n2007-01-01 11:56:00         0.00        0.0         0.0      0.00000   \n2007-01-01 11:57:00         0.00        0.0         0.0      0.00000   \n2007-01-01 11:58:00         0.00        0.0         0.0      0.00000   \n2007-01-01 11:59:00         0.00        0.0         0.0      0.00000   \n2007-01-01 12:00:00         0.00        0.0         0.0      0.00000   \n\n                                                                         \\\n                                                                          \n                       runoff groundwater_outflow groundwater_elevation   \n2007-01-01 00:01:00  0.088076                 0.0                   0.0   \n2007-01-01 00:02:00  0.233792                 0.0                   0.0   \n2007-01-01 00:03:00  0.368483                 0.0                   0.0   \n2007-01-01 00:04:00  0.531651                 0.0                   0.0   \n2007-01-01 00:05:00  0.973276                 0.0                   0.0   \n...                       ...                 ...                   ...   \n2007-01-01 11:56:00  0.000000                 0.0                   0.0   \n2007-01-01 11:57:00  0.000000                 0.0                   0.0   \n2007-01-01 11:58:00  0.000000                 0.0                   0.0   \n2007-01-01 11:59:00  0.000000                 0.0                   0.0   \n2007-01-01 12:00:00  0.000000                 0.0                   0.0   \n\n                                                       ...             system  \\\n                                        S2             ...                      \n                    soil_moisture rainfall snow_depth  ... dry_weather_inflow   \n2007-01-01 00:01:00           0.0     1.00        0.0  ...                0.0   \n2007-01-01 00:02:00           0.0     1.00        0.0  ...                0.0   \n2007-01-01 00:03:00           0.0     1.00        0.0  ...                0.0   \n2007-01-01 00:04:00           0.0     1.00        0.0  ...                0.0   \n2007-01-01 00:05:00           0.0     1.14        0.0  ...                0.0   \n...                           ...      ...        ...  ...                ...   \n2007-01-01 11:56:00           0.0     0.00        0.0  ...                0.0   \n2007-01-01 11:57:00           0.0     0.00        0.0  ...                0.0   \n2007-01-01 11:58:00           0.0     0.00        0.0  ...                0.0   \n2007-01-01 11:59:00           0.0     0.00        0.0  ...                0.0   \n2007-01-01 12:00:00           0.0     0.00        0.0  ...                0.0   \n\n                                                                  \\\n                                                                   \n                    groundwater_inflow RDII_inflow direct_inflow   \n2007-01-01 00:01:00                0.0         0.0           0.0   \n2007-01-01 00:02:00                0.0         0.0           0.0   \n2007-01-01 00:03:00                0.0         0.0           0.0   \n2007-01-01 00:04:00                0.0         0.0           0.0   \n2007-01-01 00:05:00                0.0         0.0           0.0   \n...                                ...         ...           ...   \n2007-01-01 11:56:00                0.0         0.0           0.0   \n2007-01-01 11:57:00                0.0         0.0           0.0   \n2007-01-01 11:58:00                0.0         0.0           0.0   \n2007-01-01 11:59:00                0.0         0.0           0.0   \n2007-01-01 12:00:00                0.0         0.0           0.0   \n\n                                                                               \\\n                                                                                \n                    lateral_inflow flooding   outflow      volume evaporation   \n2007-01-01 00:01:00       0.563977      0.0  0.003971   14.105279         0.0   \n2007-01-01 00:02:00       1.466747      0.0  0.022646   57.129456         0.0   \n2007-01-01 00:03:00       2.281808      0.0  0.085892  158.937866         0.0   \n2007-01-01 00:04:00       3.297160      0.0  0.287618  309.448669         0.0   \n2007-01-01 00:05:00       6.085905      0.0  0.730127  536.387329         0.0   \n...                            ...      ...       ...         ...         ...   \n2007-01-01 11:56:00       0.000000      0.0  0.000612    8.957918         0.0   \n2007-01-01 11:57:00       0.000000      0.0  0.000610    8.935231         0.0   \n2007-01-01 11:58:00       0.000000      0.0  0.000608    8.912636         0.0   \n2007-01-01 11:59:00       0.000000      0.0  0.000605    8.890132         0.0   \n2007-01-01 12:00:00       0.000000      0.0  0.000603    8.867590         0.0   \n\n                          \n                          \n                     PET  \n2007-01-01 00:01:00  0.0  \n2007-01-01 00:02:00  0.0  \n2007-01-01 00:03:00  0.0  \n2007-01-01 00:04:00  0.0  \n2007-01-01 00:05:00  0.0  \n...                  ...  \n2007-01-01 11:56:00  0.0  \n2007-01-01 11:57:00  0.0  \n2007-01-01 11:58:00  0.0  \n2007-01-01 11:59:00  0.0  \n2007-01-01 12:00:00  0.0  \n\n[720 rows x 282 columns]",
      "text/html": "<div>\n<style scoped>\n    .dataframe tbody tr th:only-of-type {\n        vertical-align: middle;\n    }\n\n    .dataframe tbody tr th {\n        vertical-align: top;\n    }\n\n    .dataframe thead tr th {\n        text-align: left;\n    }\n</style>\n<table border=\"1\" class=\"dataframe\">\n  <thead>\n    <tr>\n      <th></th>\n      <th colspan=\"10\" halign=\"left\">subcatchment</th>\n      <th>...</th>\n      <th colspan=\"10\" halign=\"left\">system</th>\n    </tr>\n    <tr>\n      <th></th>\n      <th colspan=\"8\" halign=\"left\">S1</th>\n      <th colspan=\"2\" halign=\"left\">S2</th>\n      <th>...</th>\n      <th colspan=\"10\" halign=\"left\"></th>\n    </tr>\n    <tr>\n      <th></th>\n      <th>rainfall</th>\n      <th>snow_depth</th>\n      <th>evaporation</th>\n      <th>infiltration</th>\n      <th>runoff</th>\n      <th>groundwater_outflow</th>\n      <th>groundwater_elevation</th>\n      <th>soil_moisture</th>\n      <th>rainfall</th>\n      <th>snow_depth</th>\n      <th>...</th>\n      <th>dry_weather_inflow</th>\n      <th>groundwater_inflow</th>\n      <th>RDII_inflow</th>\n      <th>direct_inflow</th>\n      <th>lateral_inflow</th>\n      <th>flooding</th>\n      <th>outflow</th>\n      <th>volume</th>\n      <th>evaporation</th>\n      <th>PET</th>\n    </tr>\n  </thead>\n  <tbody>\n    <tr>\n      <th>2007-01-01 00:01:00</th>\n      <td>1.00</td>\n      <td>0.0</td>\n      <td>0.0</td>\n      <td>0.43200</td>\n      <td>0.088076</td>\n      <td>0.0</td>\n      <td>0.0</td>\n      <td>0.0</td>\n      <td>1.00</td>\n      <td>0.0</td>\n      <td>...</td>\n      <td>0.0</td>\n      <td>0.0</td>\n      <td>0.0</td>\n      <td>0.0</td>\n      <td>0.563977</td>\n      <td>0.0</td>\n      <td>0.003971</td>\n      <td>14.105279</td>\n      <td>0.0</td>\n      <td>0.0</td>\n    </tr>\n    <tr>\n      <th>2007-01-01 00:02:00</th>\n      <td>1.00</td>\n      <td>0.0</td>\n      <td>0.0</td>\n      <td>0.43200</td>\n      <td>0.233792</td>\n      <td>0.0</td>\n      <td>0.0</td>\n      <td>0.0</td>\n      <td>1.00</td>\n      <td>0.0</td>\n      <td>...</td>\n      <td>0.0</td>\n      <td>0.0</td>\n      <td>0.0</td>\n      <td>0.0</td>\n      <td>1.466747</td>\n      <td>0.0</td>\n      <td>0.022646</td>\n      <td>57.129456</td>\n      <td>0.0</td>\n      <td>0.0</td>\n    </tr>\n    <tr>\n      <th>2007-01-01 00:03:00</th>\n      <td>1.00</td>\n      <td>0.0</td>\n      <td>0.0</td>\n      <td>0.43200</td>\n      <td>0.368483</td>\n      <td>0.0</td>\n      <td>0.0</td>\n      <td>0.0</td>\n      <td>1.00</td>\n      <td>0.0</td>\n      <td>...</td>\n      <td>0.0</td>\n      <td>0.0</td>\n      <td>0.0</td>\n      <td>0.0</td>\n      <td>2.281808</td>\n      <td>0.0</td>\n      <td>0.085892</td>\n      <td>158.937866</td>\n      <td>0.0</td>\n      <td>0.0</td>\n    </tr>\n    <tr>\n      <th>2007-01-01 00:04:00</th>\n      <td>1.00</td>\n      <td>0.0</td>\n      <td>0.0</td>\n      <td>0.43200</td>\n      <td>0.531651</td>\n      <td>0.0</td>\n      <td>0.0</td>\n      <td>0.0</td>\n      <td>1.00</td>\n      <td>0.0</td>\n      <td>...</td>\n      <td>0.0</td>\n      <td>0.0</td>\n      <td>0.0</td>\n      <td>0.0</td>\n      <td>3.297160</td>\n      <td>0.0</td>\n      <td>0.287618</td>\n      <td>309.448669</td>\n      <td>0.0</td>\n      <td>0.0</td>\n    </tr>\n    <tr>\n      <th>2007-01-01 00:05:00</th>\n      <td>1.14</td>\n      <td>0.0</td>\n      <td>0.0</td>\n      <td>0.49248</td>\n      <td>0.973276</td>\n      <td>0.0</td>\n      <td>0.0</td>\n      <td>0.0</td>\n      <td>1.14</td>\n      <td>0.0</td>\n      <td>...</td>\n      <td>0.0</td>\n      <td>0.0</td>\n      <td>0.0</td>\n      <td>0.0</td>\n      <td>6.085905</td>\n      <td>0.0</td>\n      <td>0.730127</td>\n      <td>536.387329</td>\n      <td>0.0</td>\n      <td>0.0</td>\n    </tr>\n    <tr>\n      <th>...</th>\n      <td>...</td>\n      <td>...</td>\n      <td>...</td>\n      <td>...</td>\n      <td>...</td>\n      <td>...</td>\n      <td>...</td>\n      <td>...</td>\n      <td>...</td>\n      <td>...</td>\n      <td>...</td>\n      <td>...</td>\n      <td>...</td>\n      <td>...</td>\n      <td>...</td>\n      <td>...</td>\n      <td>...</td>\n      <td>...</td>\n      <td>...</td>\n      <td>...</td>\n      <td>...</td>\n    </tr>\n    <tr>\n      <th>2007-01-01 11:56:00</th>\n      <td>0.00</td>\n      <td>0.0</td>\n      <td>0.0</td>\n      <td>0.00000</td>\n      <td>0.000000</td>\n      <td>0.0</td>\n      <td>0.0</td>\n      <td>0.0</td>\n      <td>0.00</td>\n      <td>0.0</td>\n      <td>...</td>\n      <td>0.0</td>\n      <td>0.0</td>\n      <td>0.0</td>\n      <td>0.0</td>\n      <td>0.000000</td>\n      <td>0.0</td>\n      <td>0.000612</td>\n      <td>8.957918</td>\n      <td>0.0</td>\n      <td>0.0</td>\n    </tr>\n    <tr>\n      <th>2007-01-01 11:57:00</th>\n      <td>0.00</td>\n      <td>0.0</td>\n      <td>0.0</td>\n      <td>0.00000</td>\n      <td>0.000000</td>\n      <td>0.0</td>\n      <td>0.0</td>\n      <td>0.0</td>\n      <td>0.00</td>\n      <td>0.0</td>\n      <td>...</td>\n      <td>0.0</td>\n      <td>0.0</td>\n      <td>0.0</td>\n      <td>0.0</td>\n      <td>0.000000</td>\n      <td>0.0</td>\n      <td>0.000610</td>\n      <td>8.935231</td>\n      <td>0.0</td>\n      <td>0.0</td>\n    </tr>\n    <tr>\n      <th>2007-01-01 11:58:00</th>\n      <td>0.00</td>\n      <td>0.0</td>\n      <td>0.0</td>\n      <td>0.00000</td>\n      <td>0.000000</td>\n      <td>0.0</td>\n      <td>0.0</td>\n      <td>0.0</td>\n      <td>0.00</td>\n      <td>0.0</td>\n      <td>...</td>\n      <td>0.0</td>\n      <td>0.0</td>\n      <td>0.0</td>\n      <td>0.0</td>\n      <td>0.000000</td>\n      <td>0.0</td>\n      <td>0.000608</td>\n      <td>8.912636</td>\n      <td>0.0</td>\n      <td>0.0</td>\n    </tr>\n    <tr>\n      <th>2007-01-01 11:59:00</th>\n      <td>0.00</td>\n      <td>0.0</td>\n      <td>0.0</td>\n      <td>0.00000</td>\n      <td>0.000000</td>\n      <td>0.0</td>\n      <td>0.0</td>\n      <td>0.0</td>\n      <td>0.00</td>\n      <td>0.0</td>\n      <td>...</td>\n      <td>0.0</td>\n      <td>0.0</td>\n      <td>0.0</td>\n      <td>0.0</td>\n      <td>0.000000</td>\n      <td>0.0</td>\n      <td>0.000605</td>\n      <td>8.890132</td>\n      <td>0.0</td>\n      <td>0.0</td>\n    </tr>\n    <tr>\n      <th>2007-01-01 12:00:00</th>\n      <td>0.00</td>\n      <td>0.0</td>\n      <td>0.0</td>\n      <td>0.00000</td>\n      <td>0.000000</td>\n      <td>0.0</td>\n      <td>0.0</td>\n      <td>0.0</td>\n      <td>0.00</td>\n      <td>0.0</td>\n      <td>...</td>\n      <td>0.0</td>\n      <td>0.0</td>\n      <td>0.0</td>\n      <td>0.0</td>\n      <td>0.000000</td>\n      <td>0.0</td>\n      <td>0.000603</td>\n      <td>8.867590</td>\n      <td>0.0</td>\n      <td>0.0</td>\n    </tr>\n  </tbody>\n</table>\n<p>720 rows × 282 columns</p>\n</div>"
     },
     "execution_count": 8,
     "metadata": {},
     "output_type": "execute_result"
    }
   ],
   "source": [
    "# get all data as pandas.DataFrame\n",
    "out.to_frame()"
   ],
   "metadata": {
    "collapsed": false,
    "pycharm": {
     "name": "#%%\n"
    }
   }
  },
  {
   "cell_type": "code",
   "execution_count": 10,
   "outputs": [
    {
     "data": {
      "text/plain": "                     node/J1/head\n2007-01-01 00:01:00   4969.000000\n2007-01-01 00:02:00   4969.001953\n2007-01-01 00:03:00   4969.026855\n2007-01-01 00:04:00   4969.064941\n2007-01-01 00:05:00   4969.108887\n...                           ...\n2007-01-01 11:56:00   4969.001465\n2007-01-01 11:57:00   4969.001465\n2007-01-01 11:58:00   4969.001465\n2007-01-01 11:59:00   4969.001465\n2007-01-01 12:00:00   4969.001465\n\n[720 rows x 1 columns]",
      "text/html": "<div>\n<style scoped>\n    .dataframe tbody tr th:only-of-type {\n        vertical-align: middle;\n    }\n\n    .dataframe tbody tr th {\n        vertical-align: top;\n    }\n\n    .dataframe thead th {\n        text-align: right;\n    }\n</style>\n<table border=\"1\" class=\"dataframe\">\n  <thead>\n    <tr style=\"text-align: right;\">\n      <th></th>\n      <th>node/J1/head</th>\n    </tr>\n  </thead>\n  <tbody>\n    <tr>\n      <th>2007-01-01 00:01:00</th>\n      <td>4969.000000</td>\n    </tr>\n    <tr>\n      <th>2007-01-01 00:02:00</th>\n      <td>4969.001953</td>\n    </tr>\n    <tr>\n      <th>2007-01-01 00:03:00</th>\n      <td>4969.026855</td>\n    </tr>\n    <tr>\n      <th>2007-01-01 00:04:00</th>\n      <td>4969.064941</td>\n    </tr>\n    <tr>\n      <th>2007-01-01 00:05:00</th>\n      <td>4969.108887</td>\n    </tr>\n    <tr>\n      <th>...</th>\n      <td>...</td>\n    </tr>\n    <tr>\n      <th>2007-01-01 11:56:00</th>\n      <td>4969.001465</td>\n    </tr>\n    <tr>\n      <th>2007-01-01 11:57:00</th>\n      <td>4969.001465</td>\n    </tr>\n    <tr>\n      <th>2007-01-01 11:58:00</th>\n      <td>4969.001465</td>\n    </tr>\n    <tr>\n      <th>2007-01-01 11:59:00</th>\n      <td>4969.001465</td>\n    </tr>\n    <tr>\n      <th>2007-01-01 12:00:00</th>\n      <td>4969.001465</td>\n    </tr>\n  </tbody>\n</table>\n<p>720 rows × 1 columns</p>\n</div>"
     },
     "execution_count": 10,
     "metadata": {},
     "output_type": "execute_result"
    }
   ],
   "source": [
    "# get a specific part of the out data as pandas.Series\n",
    "out.get_part(OBJECTS.NODE, 'J1', 'head').to_frame()"
   ],
   "metadata": {
    "collapsed": false,
    "pycharm": {
     "name": "#%%\n"
    }
   }
  },
  {
   "cell_type": "code",
   "execution_count": 11,
   "outputs": [
    {
     "data": {
      "text/plain": "                     node/J1/head\n2007-01-01 00:01:00   4969.000000\n2007-01-01 00:02:00   4969.001953\n2007-01-01 00:03:00   4969.026855\n2007-01-01 00:04:00   4969.064941\n2007-01-01 00:05:00   4969.108887\n...                           ...\n2007-01-01 11:56:00   4969.001465\n2007-01-01 11:57:00   4969.001465\n2007-01-01 11:58:00   4969.001465\n2007-01-01 11:59:00   4969.001465\n2007-01-01 12:00:00   4969.001465\n\n[720 rows x 1 columns]",
      "text/html": "<div>\n<style scoped>\n    .dataframe tbody tr th:only-of-type {\n        vertical-align: middle;\n    }\n\n    .dataframe tbody tr th {\n        vertical-align: top;\n    }\n\n    .dataframe thead th {\n        text-align: right;\n    }\n</style>\n<table border=\"1\" class=\"dataframe\">\n  <thead>\n    <tr style=\"text-align: right;\">\n      <th></th>\n      <th>node/J1/head</th>\n    </tr>\n  </thead>\n  <tbody>\n    <tr>\n      <th>2007-01-01 00:01:00</th>\n      <td>4969.000000</td>\n    </tr>\n    <tr>\n      <th>2007-01-01 00:02:00</th>\n      <td>4969.001953</td>\n    </tr>\n    <tr>\n      <th>2007-01-01 00:03:00</th>\n      <td>4969.026855</td>\n    </tr>\n    <tr>\n      <th>2007-01-01 00:04:00</th>\n      <td>4969.064941</td>\n    </tr>\n    <tr>\n      <th>2007-01-01 00:05:00</th>\n      <td>4969.108887</td>\n    </tr>\n    <tr>\n      <th>...</th>\n      <td>...</td>\n    </tr>\n    <tr>\n      <th>2007-01-01 11:56:00</th>\n      <td>4969.001465</td>\n    </tr>\n    <tr>\n      <th>2007-01-01 11:57:00</th>\n      <td>4969.001465</td>\n    </tr>\n    <tr>\n      <th>2007-01-01 11:58:00</th>\n      <td>4969.001465</td>\n    </tr>\n    <tr>\n      <th>2007-01-01 11:59:00</th>\n      <td>4969.001465</td>\n    </tr>\n    <tr>\n      <th>2007-01-01 12:00:00</th>\n      <td>4969.001465</td>\n    </tr>\n  </tbody>\n</table>\n<p>720 rows × 1 columns</p>\n</div>"
     },
     "execution_count": 11,
     "metadata": {},
     "output_type": "execute_result"
    }
   ],
   "source": [
    "from swmm_api.output_file import VARIABLES, OBJECTS\n",
    "out.get_part(OBJECTS.NODE, 'J1', VARIABLES.NODE.HEAD).to_frame()"
   ],
   "metadata": {
    "collapsed": false,
    "pycharm": {
     "name": "#%%\n"
    }
   }
  },
  {
   "cell_type": "code",
   "execution_count": 12,
   "outputs": [
    {
     "data": {
      "text/plain": "                        depth         head  volume  lateral_inflow  \\\n2007-01-01 00:01:00  0.000000  4969.000000     0.0             0.0   \n2007-01-01 00:02:00  0.002062  4969.001953     0.0             0.0   \n2007-01-01 00:03:00  0.026991  4969.026855     0.0             0.0   \n2007-01-01 00:04:00  0.064753  4969.064941     0.0             0.0   \n2007-01-01 00:05:00  0.109040  4969.108887     0.0             0.0   \n...                       ...          ...     ...             ...   \n2007-01-01 11:56:00  0.001290  4969.001465     0.0             0.0   \n2007-01-01 11:57:00  0.001286  4969.001465     0.0             0.0   \n2007-01-01 11:58:00  0.001282  4969.001465     0.0             0.0   \n2007-01-01 11:59:00  0.001278  4969.001465     0.0             0.0   \n2007-01-01 12:00:00  0.001275  4969.001465     0.0             0.0   \n\n                     total_inflow  flooding  \n2007-01-01 00:01:00      0.000000       0.0  \n2007-01-01 00:02:00      0.001879       0.0  \n2007-01-01 00:03:00      0.019385       0.0  \n2007-01-01 00:04:00      0.063515       0.0  \n2007-01-01 00:05:00      0.138886       0.0  \n...                           ...       ...  \n2007-01-01 11:56:00      0.000057       0.0  \n2007-01-01 11:57:00      0.000057       0.0  \n2007-01-01 11:58:00      0.000057       0.0  \n2007-01-01 11:59:00      0.000056       0.0  \n2007-01-01 12:00:00      0.000056       0.0  \n\n[720 rows x 6 columns]",
      "text/html": "<div>\n<style scoped>\n    .dataframe tbody tr th:only-of-type {\n        vertical-align: middle;\n    }\n\n    .dataframe tbody tr th {\n        vertical-align: top;\n    }\n\n    .dataframe thead th {\n        text-align: right;\n    }\n</style>\n<table border=\"1\" class=\"dataframe\">\n  <thead>\n    <tr style=\"text-align: right;\">\n      <th></th>\n      <th>depth</th>\n      <th>head</th>\n      <th>volume</th>\n      <th>lateral_inflow</th>\n      <th>total_inflow</th>\n      <th>flooding</th>\n    </tr>\n  </thead>\n  <tbody>\n    <tr>\n      <th>2007-01-01 00:01:00</th>\n      <td>0.000000</td>\n      <td>4969.000000</td>\n      <td>0.0</td>\n      <td>0.0</td>\n      <td>0.000000</td>\n      <td>0.0</td>\n    </tr>\n    <tr>\n      <th>2007-01-01 00:02:00</th>\n      <td>0.002062</td>\n      <td>4969.001953</td>\n      <td>0.0</td>\n      <td>0.0</td>\n      <td>0.001879</td>\n      <td>0.0</td>\n    </tr>\n    <tr>\n      <th>2007-01-01 00:03:00</th>\n      <td>0.026991</td>\n      <td>4969.026855</td>\n      <td>0.0</td>\n      <td>0.0</td>\n      <td>0.019385</td>\n      <td>0.0</td>\n    </tr>\n    <tr>\n      <th>2007-01-01 00:04:00</th>\n      <td>0.064753</td>\n      <td>4969.064941</td>\n      <td>0.0</td>\n      <td>0.0</td>\n      <td>0.063515</td>\n      <td>0.0</td>\n    </tr>\n    <tr>\n      <th>2007-01-01 00:05:00</th>\n      <td>0.109040</td>\n      <td>4969.108887</td>\n      <td>0.0</td>\n      <td>0.0</td>\n      <td>0.138886</td>\n      <td>0.0</td>\n    </tr>\n    <tr>\n      <th>...</th>\n      <td>...</td>\n      <td>...</td>\n      <td>...</td>\n      <td>...</td>\n      <td>...</td>\n      <td>...</td>\n    </tr>\n    <tr>\n      <th>2007-01-01 11:56:00</th>\n      <td>0.001290</td>\n      <td>4969.001465</td>\n      <td>0.0</td>\n      <td>0.0</td>\n      <td>0.000057</td>\n      <td>0.0</td>\n    </tr>\n    <tr>\n      <th>2007-01-01 11:57:00</th>\n      <td>0.001286</td>\n      <td>4969.001465</td>\n      <td>0.0</td>\n      <td>0.0</td>\n      <td>0.000057</td>\n      <td>0.0</td>\n    </tr>\n    <tr>\n      <th>2007-01-01 11:58:00</th>\n      <td>0.001282</td>\n      <td>4969.001465</td>\n      <td>0.0</td>\n      <td>0.0</td>\n      <td>0.000057</td>\n      <td>0.0</td>\n    </tr>\n    <tr>\n      <th>2007-01-01 11:59:00</th>\n      <td>0.001278</td>\n      <td>4969.001465</td>\n      <td>0.0</td>\n      <td>0.0</td>\n      <td>0.000056</td>\n      <td>0.0</td>\n    </tr>\n    <tr>\n      <th>2007-01-01 12:00:00</th>\n      <td>0.001275</td>\n      <td>4969.001465</td>\n      <td>0.0</td>\n      <td>0.0</td>\n      <td>0.000056</td>\n      <td>0.0</td>\n    </tr>\n  </tbody>\n</table>\n<p>720 rows × 6 columns</p>\n</div>"
     },
     "execution_count": 12,
     "metadata": {},
     "output_type": "execute_result"
    }
   ],
   "source": [
    "# to get all data of a node, just remove the variable part\n",
    "out.get_part(OBJECTS.NODE, 'J1')"
   ],
   "metadata": {
    "collapsed": false,
    "pycharm": {
     "name": "#%%\n"
    }
   }
  }
 ],
 "metadata": {
  "kernelspec": {
   "display_name": "Python 3",
   "language": "python",
   "name": "python3"
  },
  "language_info": {
   "codemirror_mode": {
    "name": "ipython",
    "version": 2
   },
   "file_extension": ".py",
   "mimetype": "text/x-python",
   "name": "python",
   "nbconvert_exporter": "python",
   "pygments_lexer": "ipython2",
   "version": "2.7.6"
  }
 },
 "nbformat": 4,
 "nbformat_minor": 0
}