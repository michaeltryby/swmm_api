{
 "cells": [
  {
   "cell_type": "markdown",
   "source": [
    "## Example for RPT File Reader\n"
   ],
   "metadata": {
    "collapsed": false,
    "pycharm": {
     "name": "#%% md\n"
    }
   }
  },
  {
   "cell_type": "code",
   "execution_count": 1,
   "metadata": {
    "collapsed": true,
    "pycharm": {
     "name": "#%%\n"
    }
   },
   "outputs": [],
   "source": [
    "from swmm_api import read_rpt_file, SwmmReport"
   ]
  },
  {
   "cell_type": "markdown",
   "source": [
    "Print a dict in a readable way"
   ],
   "metadata": {
    "collapsed": false,
    "pycharm": {
     "name": "#%% md\n"
    }
   }
  },
  {
   "cell_type": "code",
   "execution_count": 2,
   "outputs": [],
   "source": [
    "import json\n",
    "def print_dict(obj):\n",
    "    print(json.dumps(obj, indent=4))"
   ],
   "metadata": {
    "collapsed": false,
    "pycharm": {
     "name": "#%%\n"
    }
   }
  },
  {
   "cell_type": "code",
   "execution_count": 3,
   "outputs": [],
   "source": [
    "rpt = read_rpt_file('epaswmm5_apps_manual/Example7-Final.rpt')"
   ],
   "metadata": {
    "collapsed": false,
    "pycharm": {
     "name": "#%%\n"
    }
   }
  },
  {
   "cell_type": "markdown",
   "source": [
    "is equal to"
   ],
   "metadata": {
    "collapsed": false,
    "pycharm": {
     "name": "#%% md\n"
    }
   }
  },
  {
   "cell_type": "code",
   "execution_count": 4,
   "outputs": [],
   "source": [
    "rpt = SwmmReport('epaswmm5_apps_manual/Example7-Final.rpt')"
   ],
   "metadata": {
    "collapsed": false,
    "pycharm": {
     "name": "#%%\n"
    }
   }
  },
  {
   "cell_type": "code",
   "execution_count": 5,
   "outputs": [
    {
     "name": "stdout",
     "output_type": "stream",
     "text": [
      "Help on class SwmmReport in module swmm_api.report_file.rpt:\n",
      "\n",
      "class SwmmReport(builtins.object)\n",
      " |  SwmmReport(filename)\n",
      " |  \n",
      " |  SWMM Report file (xxx.rpt).\n",
      " |  \n",
      " |  Methods defined here:\n",
      " |  \n",
      " |  __init__(self, filename)\n",
      " |      create Report instance to read an .rpt-file\n",
      " |      \n",
      " |      Args:\n",
      " |          filename (str): path to .rpt file\n",
      " |      \n",
      " |      Notes:\n",
      " |          For more information see SWMM 5.1 User Manual | 9.1 Viewing a Status Report | S. 136\n",
      " |      \n",
      " |      .. Important::\n",
      " |          The summary results displayed in these tables are based on results found at every\n",
      " |          computational time step and not just on the results from each reporting time step.\n",
      " |  \n",
      " |  __repr__(self)\n",
      " |      Return repr(self).\n",
      " |  \n",
      " |  get_errors(self)\n",
      " |      malicious objects per error.\n",
      " |      \n",
      " |      Returns:\n",
      " |          dict[str, (str | bool | list[str])]: key is the error and value is a object label, a list of object-label or a bool\n",
      " |  \n",
      " |  get_simulation_info(self)\n",
      " |      Simulation Infos\n",
      " |      \n",
      " |      Returns:\n",
      " |          dict[str, str]: Simulation Infos\n",
      " |  \n",
      " |  get_version_title(self)\n",
      " |      part of the version and title.\n",
      " |      \n",
      " |      Returns:\n",
      " |          str: version and title\n",
      " |  \n",
      " |  get_warnings(self)\n",
      " |      malicious objects per warning.\n",
      " |      \n",
      " |      Returns:\n",
      " |          dict[str, (str | bool | list[str])]: key is the warning and value is a object label, a list of object-label or a bool\n",
      " |      \n",
      " |      Notes:\n",
      " |          WARNING 01: wet weather time step reduced to recording interval for Rain Gage xxx.\n",
      " |              The wet weather time step was automatically reduced so that no period with rainfall would be skipped\n",
      " |              during a simulation.\n",
      " |          WARNING 02: maximum depth increased for Node xxx.\n",
      " |              The maximum depth for the node was automatically increased to match the top of the highest connecting\n",
      " |              conduit.\n",
      " |          WARNING 03: negative offset ignored for Link xxx.\n",
      " |              The link’s stipulated offset was below the connecting node's invert so its actual offset was set to 0.\n",
      " |          WARNING 04: minimum elevation drop used for Conduit xxx.\n",
      " |              The elevation drop between the end nodes of the conduit was below 0.001 ft (0.00035 m) so the latter\n",
      " |              value was used instead to calculate its slope.\n",
      " |          WARNING 05: minimum slope used for Conduit xxx.\n",
      " |              The conduit's computed slope was below the user-specified Minimum Conduit Slope so the latter value was\n",
      " |              used instead.\n",
      " |          WARNING 06: dry weather time step increased to wet weather time step.\n",
      " |              The user-specified time step for computing runoff during dry weather periods was lower than that set for\n",
      " |              wet weather periods and was automatically increased to the wet weather value.\n",
      " |          WARNING 07: routing time step reduced to wet weather time step.\n",
      " |              The user-specified time step for flow routing was larger than the wet weather runoff time step and was\n",
      " |              automatically reduced to the runoff time step to prevent loss of accuracy.\n",
      " |          WARNING 08: elevation drop exceeds length for Conduit xxx.\n",
      " |              The elevation drop across the ends of a conduit exceeds its length. The program computes the conduit's\n",
      " |              slope as the elevation drop divided by the length instead of using the more accurate right triangle\n",
      " |              method. The user should check for errors in the length and in both the invert elevations and offsets at\n",
      " |              the conduit's upstream and downstream nodes.\n",
      " |          WARNING 09: time series interval greater than recording interval for Rain Gage xxx.\n",
      " |              The smallest time interval between entries in the precipitation time series used by the rain gage is\n",
      " |              greater than the recording time interval specified for the gage. If this was not actually intended then\n",
      " |              what appear to be continuous periods of rainfall in the time series will instead be read with time gaps\n",
      " |              in between them.\n",
      " |          WARNING 10: crest elevation is below downstream invert for regulator Link xxx.\n",
      " |              The height of the opening on an orifice, weir, or outlet is below the invert elevation of its downstream\n",
      " |              node. Users should check to see if the regulator's offset height or the downstream node's invert\n",
      " |              elevation is in error.\n",
      " |          WARNING 11: non-matching attributes in Control Rule xxx.\n",
      " |              The premise of a control is comparing two different types of attributes to one another (for example,\n",
      " |              conduit flow and junction water depth).\n",
      " |  \n",
      " |  print_errors(self)\n",
      " |      Print the errors in the report file in a pretty way\n",
      " |  \n",
      " |  print_warnings(self)\n",
      " |      Print the warnings in the report file in a pretty way.\n",
      " |  \n",
      " |  ----------------------------------------------------------------------\n",
      " |  Readonly properties defined here:\n",
      " |  \n",
      " |  analyse_duration\n",
      " |      Total elapsed simulation duration.\n",
      " |      \n",
      " |      Returns:\n",
      " |          pandas.Timedelta: simulation duration\n",
      " |  \n",
      " |  analyse_end\n",
      " |      Timestamp of the end of the simulation\n",
      " |      \n",
      " |      Returns:\n",
      " |          pd.Timestamp: Timestamp of the end of the simulation\n",
      " |  \n",
      " |  analyse_start\n",
      " |      Timestamp of the start of the simulation\n",
      " |      \n",
      " |      Returns:\n",
      " |          pd.Timestamp: Timestamp of the start of the simulation\n",
      " |  \n",
      " |  analysis_options\n",
      " |      Analysis Options\n",
      " |      \n",
      " |      Returns:\n",
      " |          dict[str, str | dict[str, str]]: Analysis Options\n",
      " |  \n",
      " |  available_parts\n",
      " |      Available parts in the report file.\n",
      " |      \n",
      " |      Returns:\n",
      " |          list[str]: list of parts\n",
      " |  \n",
      " |  conduit_surcharge_summary\n",
      " |      Conduit Surcharge Summary\n",
      " |      \n",
      " |      Returns:\n",
      " |          pandas.DataFrame: Conduit Surcharge Summary\n",
      " |  \n",
      " |  control_actions_taken\n",
      " |      Control Actions Taken\n",
      " |      \n",
      " |      Returns:\n",
      " |          list[str]: Control Actions Taken\n",
      " |  \n",
      " |  cross_section_summary\n",
      " |      Node Depth Summary\n",
      " |      \n",
      " |      Returns:\n",
      " |          pandas.DataFrame: Node Depth Summary\n",
      " |  \n",
      " |  element_count\n",
      " |      Element Count\n",
      " |      \n",
      " |      Returns:\n",
      " |          dict[str, str]: element count\n",
      " |  \n",
      " |  flow_classification_summary\n",
      " |      Flow Classification Summary\n",
      " |      \n",
      " |      Returns:\n",
      " |          pandas.DataFrame: Flow Classification Summary\n",
      " |  \n",
      " |  flow_routing_continuity\n",
      " |      Flow Routing Continuity\n",
      " |      \n",
      " |      Returns:\n",
      " |          dict[str, str]: Flow Routing Continuity\n",
      " |  \n",
      " |  flow_unit\n",
      " |      Flow unit of the simulation.\n",
      " |      \n",
      " |      Returns:\n",
      " |          str: flow unit\n",
      " |  \n",
      " |  groundwater_continuity\n",
      " |      Groundwater Continuity\n",
      " |      \n",
      " |      Returns:\n",
      " |          dict[str, str]: Groundwater Continuity\n",
      " |  \n",
      " |  groundwater_summary\n",
      " |      Groundwater Summary\n",
      " |      \n",
      " |      Returns:\n",
      " |          pandas.DataFrame: Groundwater Summary\n",
      " |  \n",
      " |  highest_continuity_errors\n",
      " |      Highest Continuity Errors\n",
      " |      \n",
      " |      Returns:\n",
      " |          dict[str, str]: Highest Continuity Errors\n",
      " |  \n",
      " |  highest_flow_instability_indexes\n",
      " |      Highest Flow Instability Indexes\n",
      " |      \n",
      " |      Returns:\n",
      " |          dict: Highest Flow Instability Indexes\n",
      " |  \n",
      " |  landuse_summary\n",
      " |      Landuse Summary\n",
      " |      \n",
      " |      Returns:\n",
      " |          pandas.DataFrame: Landuse Summary\n",
      " |  \n",
      " |  lid_control_summary\n",
      " |      LID Control Summary\n",
      " |      \n",
      " |      Returns:\n",
      " |          pandas.DataFrame: LID Control Summary\n",
      " |  \n",
      " |  lid_performance_summary\n",
      " |      LID Performance Summary\n",
      " |      \n",
      " |      Returns:\n",
      " |          pandas.DataFrame: LID Performance Summary\n",
      " |  \n",
      " |  link_flow_summary\n",
      " |      Link Flow Summary\n",
      " |      \n",
      " |      Returns:\n",
      " |          pandas.DataFrame: Link Flow Summary\n",
      " |  \n",
      " |  link_pollutant_load_summary\n",
      " |      Link Pollutant Load Summary\n",
      " |      \n",
      " |      Returns:\n",
      " |          pandas.DataFrame: Link Pollutant Load Summary\n",
      " |  \n",
      " |  link_summary\n",
      " |      Node Depth Summary\n",
      " |      \n",
      " |      Returns:\n",
      " |          pandas.DataFrame: Node Depth Summary\n",
      " |  \n",
      " |  node_depth_summary\n",
      " |      Node Depth Summary\n",
      " |      \n",
      " |      Returns:\n",
      " |          pandas.DataFrame: Node Depth Summary\n",
      " |  \n",
      " |  node_flooding_summary\n",
      " |      Node Flooding Summary\n",
      " |      \n",
      " |      Returns:\n",
      " |          pandas.DataFrame: Node Flooding Summary\n",
      " |  \n",
      " |  node_inflow_summary\n",
      " |      Node Inflow Summary\n",
      " |      \n",
      " |      Returns:\n",
      " |          pandas.DataFrame: Node Inflow Summary\n",
      " |  \n",
      " |  node_summary\n",
      " |      Node Depth Summary\n",
      " |      \n",
      " |      Returns:\n",
      " |          pandas.DataFrame: Node Depth Summary\n",
      " |  \n",
      " |  node_surcharge_summary\n",
      " |      Node Surcharge Summary\n",
      " |      \n",
      " |      Returns:\n",
      " |          pandas.DataFrame: Node Surcharge Summary\n",
      " |  \n",
      " |  note\n",
      " |      Note\n",
      " |      \n",
      " |      Returns:\n",
      " |          str: Node\n",
      " |  \n",
      " |  outfall_loading_summary\n",
      " |      Outfall Loading Summary\n",
      " |      \n",
      " |      Returns:\n",
      " |          pandas.DataFrame: Outfall Loading Summary\n",
      " |  \n",
      " |  pollutant_summary\n",
      " |      Pollutant Summary\n",
      " |      \n",
      " |      Returns:\n",
      " |          pandas.DataFrame: Pollutant Summary\n",
      " |  \n",
      " |  pumping_summary\n",
      " |      Pumping Summary\n",
      " |      \n",
      " |      Returns:\n",
      " |          pandas.DataFrame: Pumping Summary\n",
      " |  \n",
      " |  quality_routing_continuity\n",
      " |      Quality Routing Continuity\n",
      " |      \n",
      " |      Returns:\n",
      " |          dict[str, str]: Quality Routing Continuity\n",
      " |  \n",
      " |  rainfall_file_summary\n",
      " |      Node Depth Summary\n",
      " |      \n",
      " |      Returns:\n",
      " |          pandas.DataFrame: Node Depth Summary\n",
      " |  \n",
      " |  raingage_summary\n",
      " |      Node Depth Summary\n",
      " |      \n",
      " |      Returns:\n",
      " |          pandas.DataFrame: Node Depth Summary\n",
      " |  \n",
      " |  routing_time_step_summary\n",
      " |      Routing Time Step Summary\n",
      " |      \n",
      " |      Returns:\n",
      " |          dict[str, float]: Routing Time Step Summary\n",
      " |  \n",
      " |  runoff_quality_continuity\n",
      " |      Runoff Quality Continuity\n",
      " |      \n",
      " |      Returns:\n",
      " |          dict[str, str]: Runoff Quality Continuity\n",
      " |  \n",
      " |  runoff_quantity_continuity\n",
      " |      Runoff Quantity Continuity\n",
      " |      \n",
      " |      Returns:\n",
      " |          dict[str, str]: Runoff Quantity Continuity\n",
      " |  \n",
      " |  storage_volume_summary\n",
      " |      Storage Volume Summary\n",
      " |      \n",
      " |      Returns:\n",
      " |          pandas.DataFrame: Storage Volume Summary\n",
      " |  \n",
      " |  subcatchment_runoff_summary\n",
      " |      Subcatchment Runoff Summary\n",
      " |      \n",
      " |      Returns:\n",
      " |          pandas.DataFrame: Subcatchment Runoff Summary\n",
      " |  \n",
      " |  subcatchment_summary\n",
      " |      Node Depth Summary\n",
      " |      \n",
      " |      Returns:\n",
      " |          pandas.DataFrame: Node Depth Summary\n",
      " |  \n",
      " |  subcatchment_washoff_summary\n",
      " |      Subcatchment Washoff Summary\n",
      " |      \n",
      " |      Returns:\n",
      " |          pandas.DataFrame: Subcatchment Washoff Summary\n",
      " |  \n",
      " |  time_step_critical_elements\n",
      " |      Time-Step Critical Elements\n",
      " |      \n",
      " |      Returns:\n",
      " |          dict: Time-Step Critical Elements\n",
      " |  \n",
      " |  transect_summary\n",
      " |      Transect Summary\n",
      " |      \n",
      " |      Returns:\n",
      " |          dict[pandas.DataFrame]: Transect Summary\n",
      " |  \n",
      " |  unit\n",
      " |      Unit label for some part of the report file.\n",
      " |      \n",
      " |      Some columns or keys in the report use units. To write general functions for all units use this helper.\n",
      " |      \n",
      " |      Returns:\n",
      " |          swmm_api.report_file.helpers.ReportUnitConversion: helper for unit labels\n",
      " |  \n",
      " |  ----------------------------------------------------------------------\n",
      " |  Data descriptors defined here:\n",
      " |  \n",
      " |  __dict__\n",
      " |      dictionary for instance variables (if defined)\n",
      " |  \n",
      " |  __weakref__\n",
      " |      list of weak references to the object (if defined)\n",
      "\n"
     ]
    }
   ],
   "source": [
    "help(SwmmReport)"
   ],
   "metadata": {
    "collapsed": false,
    "pycharm": {
     "name": "#%%\n"
    }
   }
  },
  {
   "cell_type": "markdown",
   "source": [
    "You can get every part of the Report-file (.rpt) using this tool."
   ],
   "metadata": {
    "collapsed": false,
    "pycharm": {
     "name": "#%% md\n"
    }
   }
  },
  {
   "cell_type": "code",
   "execution_count": 6,
   "outputs": [
    {
     "data": {
      "text/plain": "['Simulation Infos',\n 'Version+Title',\n 'Element Count',\n 'Raingage Summary',\n 'Subcatchment Summary',\n 'Node Summary',\n 'Link Summary',\n 'Cross Section Summary',\n 'Transect Summary',\n 'Note',\n 'Analysis Options',\n 'Runoff Quantity Continuity',\n 'Flow Routing Continuity',\n 'Highest Continuity Errors',\n 'Time-Step Critical Elements',\n 'Highest Flow Instability Indexes',\n 'Routing Time Step Summary',\n 'Subcatchment Runoff Summary',\n 'Node Depth Summary',\n 'Node Inflow Summary',\n 'Node Surcharge Summary',\n 'Node Flooding Summary',\n 'Outfall Loading Summary',\n 'Link Flow Summary',\n 'Flow Classification Summary',\n 'Conduit Surcharge Summary']"
     },
     "execution_count": 6,
     "metadata": {},
     "output_type": "execute_result"
    }
   ],
   "source": [
    "rpt.available_parts"
   ],
   "metadata": {
    "collapsed": false,
    "pycharm": {
     "name": "#%%\n"
    }
   }
  },
  {
   "cell_type": "code",
   "execution_count": 7,
   "outputs": [
    {
     "name": "stdout",
     "output_type": "stream",
     "text": [
      "  ****************\n",
      "  Analysis Options\n",
      "  ****************\n",
      "  Flow Units ............... CFS\n",
      "  Process Models:\n",
      "    Rainfall/Runoff ........ YES\n",
      "    RDII ................... NO\n",
      "    Snowmelt ............... NO\n",
      "    Groundwater ............ NO\n",
      "    Flow Routing ........... YES\n",
      "    Ponding Allowed ........ NO\n",
      "    Water Quality .......... NO\n",
      "  Infiltration Method ...... HORTON\n",
      "  Flow Routing Method ...... DYNWAVE\n",
      "  Surcharge Method ......... EXTRAN\n",
      "  Starting Date ............ 01/01/2007 00:00:00\n",
      "  Ending Date .............. 01/01/2007 12:00:00\n",
      "  Antecedent Dry Days ...... 0.0\n",
      "  Report Time Step ......... 00:01:00\n",
      "  Wet Time Step ............ 00:01:00\n",
      "  Dry Time Step ............ 01:00:00\n",
      "  Routing Time Step ........ 15.00 sec\n",
      "  Variable Time Step ....... YES\n",
      "  Maximum Trials ........... 8\n",
      "  Number of Threads ........ 1\n",
      "  Head Tolerance ........... 0.005000 ft\n"
     ]
    }
   ],
   "source": [
    "print(rpt._raw_parts['Analysis Options'])"
   ],
   "metadata": {
    "collapsed": false,
    "pycharm": {
     "name": "#%%\n"
    }
   }
  },
  {
   "cell_type": "code",
   "execution_count": 8,
   "outputs": [
    {
     "data": {
      "text/plain": "dict"
     },
     "execution_count": 8,
     "metadata": {},
     "output_type": "execute_result"
    }
   ],
   "source": [
    "type(rpt.analysis_options)"
   ],
   "metadata": {
    "collapsed": false,
    "pycharm": {
     "name": "#%%\n"
    }
   }
  },
  {
   "cell_type": "code",
   "execution_count": 9,
   "outputs": [
    {
     "name": "stdout",
     "output_type": "stream",
     "text": [
      "{\n",
      "    \"Flow Units\": \"CFS\",\n",
      "    \"Process Models\": {\n",
      "        \"Rainfall/Runoff\": \"YES\",\n",
      "        \"RDII\": \"NO\",\n",
      "        \"Snowmelt\": \"NO\",\n",
      "        \"Groundwater\": \"NO\",\n",
      "        \"Flow Routing\": \"YES\",\n",
      "        \"Ponding Allowed\": \"NO\",\n",
      "        \"Water Quality\": \"NO\"\n",
      "    },\n",
      "    \"Infiltration Method\": \"HORTON\",\n",
      "    \"Flow Routing Method\": \"DYNWAVE\",\n",
      "    \"Surcharge Method\": \"EXTRAN\",\n",
      "    \"Starting Date\": \"01/01/2007 00:00:00\",\n",
      "    \"Ending Date\": \"01/01/2007 12:00:00\",\n",
      "    \"Antecedent Dry Days\": \"0.0\",\n",
      "    \"Report Time Step\": \"00:01:00\",\n",
      "    \"Wet Time Step\": \"00:01:00\",\n",
      "    \"Dry Time Step\": \"01:00:00\",\n",
      "    \"Routing Time Step\": \"15.00 sec\",\n",
      "    \"Variable Time Step\": \"YES\",\n",
      "    \"Maximum Trials\": \"8\",\n",
      "    \"Number of Threads\": \"1\",\n",
      "    \"Head Tolerance\": \"0.005000 ft\"\n",
      "}\n"
     ]
    }
   ],
   "source": [
    "print_dict(rpt.analysis_options)"
   ],
   "metadata": {
    "collapsed": false,
    "pycharm": {
     "name": "#%%\n"
    }
   }
  },
  {
   "cell_type": "code",
   "execution_count": 10,
   "outputs": [
    {
     "data": {
      "text/plain": "'CFS'"
     },
     "execution_count": 10,
     "metadata": {},
     "output_type": "execute_result"
    }
   ],
   "source": [
    "rpt.analysis_options['Flow Units']"
   ],
   "metadata": {
    "collapsed": false,
    "pycharm": {
     "name": "#%%\n"
    }
   }
  },
  {
   "cell_type": "code",
   "execution_count": 11,
   "outputs": [],
   "source": [
    "rpt.node_flooding_summary"
   ],
   "metadata": {
    "collapsed": false,
    "pycharm": {
     "name": "#%%\n"
    }
   }
  },
  {
   "cell_type": "code",
   "execution_count": 12,
   "outputs": [
    {
     "name": "stdout",
     "output_type": "stream",
     "text": [
      "{\n",
      "    \"Dry Weather Inflow\": {\n",
      "        \"Volume_acre-feet\": 0.0,\n",
      "        \"Volume_10^6 gal\": 0.0\n",
      "    },\n",
      "    \"Wet Weather Inflow\": {\n",
      "        \"Volume_acre-feet\": 7.313,\n",
      "        \"Volume_10^6 gal\": 2.383\n",
      "    },\n",
      "    \"Groundwater Inflow\": {\n",
      "        \"Volume_acre-feet\": 0.0,\n",
      "        \"Volume_10^6 gal\": 0.0\n",
      "    },\n",
      "    \"RDII Inflow\": {\n",
      "        \"Volume_acre-feet\": 0.0,\n",
      "        \"Volume_10^6 gal\": 0.0\n",
      "    },\n",
      "    \"External Inflow\": {\n",
      "        \"Volume_acre-feet\": 0.0,\n",
      "        \"Volume_10^6 gal\": 0.0\n",
      "    },\n",
      "    \"External Outflow\": {\n",
      "        \"Volume_acre-feet\": 7.309,\n",
      "        \"Volume_10^6 gal\": 2.382\n",
      "    },\n",
      "    \"Flooding Loss\": {\n",
      "        \"Volume_acre-feet\": 0.0,\n",
      "        \"Volume_10^6 gal\": 0.0\n",
      "    },\n",
      "    \"Evaporation Loss\": {\n",
      "        \"Volume_acre-feet\": 0.0,\n",
      "        \"Volume_10^6 gal\": 0.0\n",
      "    },\n",
      "    \"Exfiltration Loss\": {\n",
      "        \"Volume_acre-feet\": 0.0,\n",
      "        \"Volume_10^6 gal\": 0.0\n",
      "    },\n",
      "    \"Initial Stored Volume\": {\n",
      "        \"Volume_acre-feet\": 0.0,\n",
      "        \"Volume_10^6 gal\": 0.0\n",
      "    },\n",
      "    \"Final Stored Volume\": {\n",
      "        \"Volume_acre-feet\": 0.0,\n",
      "        \"Volume_10^6 gal\": 0.0\n",
      "    },\n",
      "    \"Continuity Error (%)\": 0.056\n",
      "}\n"
     ]
    }
   ],
   "source": [
    "print_dict(rpt.flow_routing_continuity)"
   ],
   "metadata": {
    "collapsed": false,
    "pycharm": {
     "name": "#%%\n"
    }
   }
  },
  {
   "cell_type": "code",
   "execution_count": 13,
   "outputs": [
    {
     "data": {
      "text/plain": "{'O1': 2382.0}"
     },
     "execution_count": 13,
     "metadata": {},
     "output_type": "execute_result"
    }
   ],
   "source": [
    "ols = rpt.outfall_loading_summary['Total_Volume_10^6 ' + rpt.unit.VOL2] * 1000  # m³\n",
    "ols.to_dict()"
   ],
   "metadata": {
    "collapsed": false,
    "pycharm": {
     "name": "#%%\n"
    }
   }
  },
  {
   "cell_type": "code",
   "execution_count": 14,
   "outputs": [
    {
     "data": {
      "text/plain": "           Adjusted_/Actual_Length   Dry  Up_Dry  Down_Dry  Sub_Crit  \\\nConduit                                                                \nC2a                            1.0  0.89    0.00       0.0      0.01   \nC2                             1.0  0.89    0.00       0.0      0.00   \nC3                             1.0  0.08    0.00       0.0      0.02   \nC4                             1.0  0.87    0.05       0.0      0.08   \nC5                             1.0  0.41    0.46       0.0      0.13   \nC6                             1.0  0.41    0.54       0.0      0.05   \nC7                             1.0  0.20    0.22       0.0      0.25   \nC8                             1.0  0.08    0.12       0.0      0.80   \nC9                             1.0  0.08    0.00       0.0      0.00   \nC10                            1.0  1.00    0.00       0.0      0.00   \nC11                            1.0  0.00    0.00       0.0      0.36   \nC_Aux1                         1.0  0.00    0.00       0.0      0.00   \nC_Aux2                         1.0  0.00    0.00       0.0      0.06   \nC_Aux1to2                      1.0  0.00    0.88       0.0      0.12   \nC_Aux3                         1.0  0.08    0.83       0.0      0.09   \nP1                             1.0  0.00    0.00       0.0      0.73   \nP2                             1.0  0.00    0.00       0.0      0.71   \nP3                             1.0  0.00    0.00       0.0      1.00   \nP4                             1.0  0.00    0.01       0.0      0.98   \nP5                             1.0  0.00    0.00       0.0      1.00   \nP6                             1.0  0.00    0.00       0.0      1.00   \nP7                             1.0  0.00    0.00       0.0      0.85   \nP8                             1.0  0.00    0.00       0.0      0.66   \n\n           Sup_Crit  Up_Crit  Down_Crit  Norm_Ltd  Inlet_Ctrl  \nConduit                                                        \nC2a            0.06      0.0       0.05      0.94         0.0  \nC2             0.00      0.0       0.11      0.00         0.0  \nC3             0.01      0.0       0.89      0.01         0.0  \nC4             0.00      0.0       0.00      0.96         0.0  \nC5             0.00      0.0       0.00      0.92         0.0  \nC6             0.00      0.0       0.00      0.95         0.0  \nC7             0.34      0.0       0.00      0.80         0.0  \nC8             0.00      0.0       0.00      0.95         0.0  \nC9             0.00      0.0       0.92      0.00         0.0  \nC10            0.00      0.0       0.00      0.00         0.0  \nC11            0.64      0.0       0.00      0.14         0.0  \nC_Aux1         0.00      0.0       1.00      0.00         0.0  \nC_Aux2         0.00      0.0       0.94      0.01         0.0  \nC_Aux1to2      0.00      0.0       0.00      0.96         0.0  \nC_Aux3         0.00      0.0       0.00      0.94         0.0  \nP1             0.26      0.0       0.00      0.93         0.0  \nP2             0.29      0.0       0.00      0.11         0.0  \nP3             0.00      0.0       0.00      0.95         0.0  \nP4             0.01      0.0       0.00      0.94         0.0  \nP5             0.00      0.0       0.00      0.94         0.0  \nP6             0.00      0.0       0.00      0.11         0.0  \nP7             0.15      0.0       0.00      0.94         0.0  \nP8             0.34      0.0       0.00      0.00         0.0  ",
      "text/html": "<div>\n<style scoped>\n    .dataframe tbody tr th:only-of-type {\n        vertical-align: middle;\n    }\n\n    .dataframe tbody tr th {\n        vertical-align: top;\n    }\n\n    .dataframe thead th {\n        text-align: right;\n    }\n</style>\n<table border=\"1\" class=\"dataframe\">\n  <thead>\n    <tr style=\"text-align: right;\">\n      <th></th>\n      <th>Adjusted_/Actual_Length</th>\n      <th>Dry</th>\n      <th>Up_Dry</th>\n      <th>Down_Dry</th>\n      <th>Sub_Crit</th>\n      <th>Sup_Crit</th>\n      <th>Up_Crit</th>\n      <th>Down_Crit</th>\n      <th>Norm_Ltd</th>\n      <th>Inlet_Ctrl</th>\n    </tr>\n    <tr>\n      <th>Conduit</th>\n      <th></th>\n      <th></th>\n      <th></th>\n      <th></th>\n      <th></th>\n      <th></th>\n      <th></th>\n      <th></th>\n      <th></th>\n      <th></th>\n    </tr>\n  </thead>\n  <tbody>\n    <tr>\n      <th>C2a</th>\n      <td>1.0</td>\n      <td>0.89</td>\n      <td>0.00</td>\n      <td>0.0</td>\n      <td>0.01</td>\n      <td>0.06</td>\n      <td>0.0</td>\n      <td>0.05</td>\n      <td>0.94</td>\n      <td>0.0</td>\n    </tr>\n    <tr>\n      <th>C2</th>\n      <td>1.0</td>\n      <td>0.89</td>\n      <td>0.00</td>\n      <td>0.0</td>\n      <td>0.00</td>\n      <td>0.00</td>\n      <td>0.0</td>\n      <td>0.11</td>\n      <td>0.00</td>\n      <td>0.0</td>\n    </tr>\n    <tr>\n      <th>C3</th>\n      <td>1.0</td>\n      <td>0.08</td>\n      <td>0.00</td>\n      <td>0.0</td>\n      <td>0.02</td>\n      <td>0.01</td>\n      <td>0.0</td>\n      <td>0.89</td>\n      <td>0.01</td>\n      <td>0.0</td>\n    </tr>\n    <tr>\n      <th>C4</th>\n      <td>1.0</td>\n      <td>0.87</td>\n      <td>0.05</td>\n      <td>0.0</td>\n      <td>0.08</td>\n      <td>0.00</td>\n      <td>0.0</td>\n      <td>0.00</td>\n      <td>0.96</td>\n      <td>0.0</td>\n    </tr>\n    <tr>\n      <th>C5</th>\n      <td>1.0</td>\n      <td>0.41</td>\n      <td>0.46</td>\n      <td>0.0</td>\n      <td>0.13</td>\n      <td>0.00</td>\n      <td>0.0</td>\n      <td>0.00</td>\n      <td>0.92</td>\n      <td>0.0</td>\n    </tr>\n    <tr>\n      <th>C6</th>\n      <td>1.0</td>\n      <td>0.41</td>\n      <td>0.54</td>\n      <td>0.0</td>\n      <td>0.05</td>\n      <td>0.00</td>\n      <td>0.0</td>\n      <td>0.00</td>\n      <td>0.95</td>\n      <td>0.0</td>\n    </tr>\n    <tr>\n      <th>C7</th>\n      <td>1.0</td>\n      <td>0.20</td>\n      <td>0.22</td>\n      <td>0.0</td>\n      <td>0.25</td>\n      <td>0.34</td>\n      <td>0.0</td>\n      <td>0.00</td>\n      <td>0.80</td>\n      <td>0.0</td>\n    </tr>\n    <tr>\n      <th>C8</th>\n      <td>1.0</td>\n      <td>0.08</td>\n      <td>0.12</td>\n      <td>0.0</td>\n      <td>0.80</td>\n      <td>0.00</td>\n      <td>0.0</td>\n      <td>0.00</td>\n      <td>0.95</td>\n      <td>0.0</td>\n    </tr>\n    <tr>\n      <th>C9</th>\n      <td>1.0</td>\n      <td>0.08</td>\n      <td>0.00</td>\n      <td>0.0</td>\n      <td>0.00</td>\n      <td>0.00</td>\n      <td>0.0</td>\n      <td>0.92</td>\n      <td>0.00</td>\n      <td>0.0</td>\n    </tr>\n    <tr>\n      <th>C10</th>\n      <td>1.0</td>\n      <td>1.00</td>\n      <td>0.00</td>\n      <td>0.0</td>\n      <td>0.00</td>\n      <td>0.00</td>\n      <td>0.0</td>\n      <td>0.00</td>\n      <td>0.00</td>\n      <td>0.0</td>\n    </tr>\n    <tr>\n      <th>C11</th>\n      <td>1.0</td>\n      <td>0.00</td>\n      <td>0.00</td>\n      <td>0.0</td>\n      <td>0.36</td>\n      <td>0.64</td>\n      <td>0.0</td>\n      <td>0.00</td>\n      <td>0.14</td>\n      <td>0.0</td>\n    </tr>\n    <tr>\n      <th>C_Aux1</th>\n      <td>1.0</td>\n      <td>0.00</td>\n      <td>0.00</td>\n      <td>0.0</td>\n      <td>0.00</td>\n      <td>0.00</td>\n      <td>0.0</td>\n      <td>1.00</td>\n      <td>0.00</td>\n      <td>0.0</td>\n    </tr>\n    <tr>\n      <th>C_Aux2</th>\n      <td>1.0</td>\n      <td>0.00</td>\n      <td>0.00</td>\n      <td>0.0</td>\n      <td>0.06</td>\n      <td>0.00</td>\n      <td>0.0</td>\n      <td>0.94</td>\n      <td>0.01</td>\n      <td>0.0</td>\n    </tr>\n    <tr>\n      <th>C_Aux1to2</th>\n      <td>1.0</td>\n      <td>0.00</td>\n      <td>0.88</td>\n      <td>0.0</td>\n      <td>0.12</td>\n      <td>0.00</td>\n      <td>0.0</td>\n      <td>0.00</td>\n      <td>0.96</td>\n      <td>0.0</td>\n    </tr>\n    <tr>\n      <th>C_Aux3</th>\n      <td>1.0</td>\n      <td>0.08</td>\n      <td>0.83</td>\n      <td>0.0</td>\n      <td>0.09</td>\n      <td>0.00</td>\n      <td>0.0</td>\n      <td>0.00</td>\n      <td>0.94</td>\n      <td>0.0</td>\n    </tr>\n    <tr>\n      <th>P1</th>\n      <td>1.0</td>\n      <td>0.00</td>\n      <td>0.00</td>\n      <td>0.0</td>\n      <td>0.73</td>\n      <td>0.26</td>\n      <td>0.0</td>\n      <td>0.00</td>\n      <td>0.93</td>\n      <td>0.0</td>\n    </tr>\n    <tr>\n      <th>P2</th>\n      <td>1.0</td>\n      <td>0.00</td>\n      <td>0.00</td>\n      <td>0.0</td>\n      <td>0.71</td>\n      <td>0.29</td>\n      <td>0.0</td>\n      <td>0.00</td>\n      <td>0.11</td>\n      <td>0.0</td>\n    </tr>\n    <tr>\n      <th>P3</th>\n      <td>1.0</td>\n      <td>0.00</td>\n      <td>0.00</td>\n      <td>0.0</td>\n      <td>1.00</td>\n      <td>0.00</td>\n      <td>0.0</td>\n      <td>0.00</td>\n      <td>0.95</td>\n      <td>0.0</td>\n    </tr>\n    <tr>\n      <th>P4</th>\n      <td>1.0</td>\n      <td>0.00</td>\n      <td>0.01</td>\n      <td>0.0</td>\n      <td>0.98</td>\n      <td>0.01</td>\n      <td>0.0</td>\n      <td>0.00</td>\n      <td>0.94</td>\n      <td>0.0</td>\n    </tr>\n    <tr>\n      <th>P5</th>\n      <td>1.0</td>\n      <td>0.00</td>\n      <td>0.00</td>\n      <td>0.0</td>\n      <td>1.00</td>\n      <td>0.00</td>\n      <td>0.0</td>\n      <td>0.00</td>\n      <td>0.94</td>\n      <td>0.0</td>\n    </tr>\n    <tr>\n      <th>P6</th>\n      <td>1.0</td>\n      <td>0.00</td>\n      <td>0.00</td>\n      <td>0.0</td>\n      <td>1.00</td>\n      <td>0.00</td>\n      <td>0.0</td>\n      <td>0.00</td>\n      <td>0.11</td>\n      <td>0.0</td>\n    </tr>\n    <tr>\n      <th>P7</th>\n      <td>1.0</td>\n      <td>0.00</td>\n      <td>0.00</td>\n      <td>0.0</td>\n      <td>0.85</td>\n      <td>0.15</td>\n      <td>0.0</td>\n      <td>0.00</td>\n      <td>0.94</td>\n      <td>0.0</td>\n    </tr>\n    <tr>\n      <th>P8</th>\n      <td>1.0</td>\n      <td>0.00</td>\n      <td>0.00</td>\n      <td>0.0</td>\n      <td>0.66</td>\n      <td>0.34</td>\n      <td>0.0</td>\n      <td>0.00</td>\n      <td>0.00</td>\n      <td>0.0</td>\n    </tr>\n  </tbody>\n</table>\n</div>"
     },
     "execution_count": 14,
     "metadata": {},
     "output_type": "execute_result"
    }
   ],
   "source": [
    "rpt.flow_classification_summary"
   ],
   "metadata": {
    "collapsed": false,
    "pycharm": {
     "name": "#%%\n"
    }
   }
  },
  {
   "cell_type": "code",
   "execution_count": 15,
   "outputs": [
    {
     "data": {
      "text/plain": "         HoursFull_Both_Ends  Hours Full_Upstream  HoursFull_Dnstream  \\\nConduit                                                                 \nP1                      0.59                 0.59                0.67   \nP2                      0.48                 0.51                0.49   \nP3                      0.49                 0.49                0.66   \nP4                      0.54                 0.54                0.69   \nP5                      0.64                 0.64                0.68   \nP6                      0.66                 0.67                0.68   \nP7                      0.56                 0.68                0.56   \nP8                      0.01                 0.27                0.01   \n\n         Hours_Above Full_Normal Flow  Hours_Capacity_Limited  \nConduit                                                        \nP1                               0.08                    0.07  \nP2                               0.23                    0.19  \nP3                               0.50                    0.48  \nP4                               0.34                    0.34  \nP5                               0.01                    0.01  \nP6                               0.29                    0.27  \nP7                               0.72                    0.56  \nP8                               0.43                    0.01  ",
      "text/html": "<div>\n<style scoped>\n    .dataframe tbody tr th:only-of-type {\n        vertical-align: middle;\n    }\n\n    .dataframe tbody tr th {\n        vertical-align: top;\n    }\n\n    .dataframe thead th {\n        text-align: right;\n    }\n</style>\n<table border=\"1\" class=\"dataframe\">\n  <thead>\n    <tr style=\"text-align: right;\">\n      <th></th>\n      <th>HoursFull_Both_Ends</th>\n      <th>Hours Full_Upstream</th>\n      <th>HoursFull_Dnstream</th>\n      <th>Hours_Above Full_Normal Flow</th>\n      <th>Hours_Capacity_Limited</th>\n    </tr>\n    <tr>\n      <th>Conduit</th>\n      <th></th>\n      <th></th>\n      <th></th>\n      <th></th>\n      <th></th>\n    </tr>\n  </thead>\n  <tbody>\n    <tr>\n      <th>P1</th>\n      <td>0.59</td>\n      <td>0.59</td>\n      <td>0.67</td>\n      <td>0.08</td>\n      <td>0.07</td>\n    </tr>\n    <tr>\n      <th>P2</th>\n      <td>0.48</td>\n      <td>0.51</td>\n      <td>0.49</td>\n      <td>0.23</td>\n      <td>0.19</td>\n    </tr>\n    <tr>\n      <th>P3</th>\n      <td>0.49</td>\n      <td>0.49</td>\n      <td>0.66</td>\n      <td>0.50</td>\n      <td>0.48</td>\n    </tr>\n    <tr>\n      <th>P4</th>\n      <td>0.54</td>\n      <td>0.54</td>\n      <td>0.69</td>\n      <td>0.34</td>\n      <td>0.34</td>\n    </tr>\n    <tr>\n      <th>P5</th>\n      <td>0.64</td>\n      <td>0.64</td>\n      <td>0.68</td>\n      <td>0.01</td>\n      <td>0.01</td>\n    </tr>\n    <tr>\n      <th>P6</th>\n      <td>0.66</td>\n      <td>0.67</td>\n      <td>0.68</td>\n      <td>0.29</td>\n      <td>0.27</td>\n    </tr>\n    <tr>\n      <th>P7</th>\n      <td>0.56</td>\n      <td>0.68</td>\n      <td>0.56</td>\n      <td>0.72</td>\n      <td>0.56</td>\n    </tr>\n    <tr>\n      <th>P8</th>\n      <td>0.01</td>\n      <td>0.27</td>\n      <td>0.01</td>\n      <td>0.43</td>\n      <td>0.01</td>\n    </tr>\n  </tbody>\n</table>\n</div>"
     },
     "execution_count": 15,
     "metadata": {},
     "output_type": "execute_result"
    }
   ],
   "source": [
    "rpt.conduit_surcharge_summary"
   ],
   "metadata": {
    "collapsed": false,
    "pycharm": {
     "name": "#%%\n"
    }
   }
  }
 ],
 "metadata": {
  "kernelspec": {
   "name": "python3",
   "language": "python",
   "display_name": "Python 3"
  },
  "language_info": {
   "codemirror_mode": {
    "name": "ipython",
    "version": 2
   },
   "file_extension": ".py",
   "mimetype": "text/x-python",
   "name": "python",
   "nbconvert_exporter": "python",
   "pygments_lexer": "ipython2",
   "version": "2.7.6"
  }
 },
 "nbformat": 4,
 "nbformat_minor": 0
}