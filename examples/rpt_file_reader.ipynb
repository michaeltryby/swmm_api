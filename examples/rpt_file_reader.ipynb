{
 "cells": [
  {
   "cell_type": "code",
   "execution_count": 1,
   "metadata": {
    "collapsed": true
   },
   "outputs": [],
   "source": [
    "from swmm_api.report_file.report import Report"
   ]
  },
  {
   "cell_type": "code",
   "execution_count": 2,
   "outputs": [],
   "source": [
    "r = Report('epaswmm5_apps_manual/Example7-Final.rpt')"
   ],
   "metadata": {
    "collapsed": false,
    "pycharm": {
     "name": "#%%\n"
    }
   }
  },
  {
   "cell_type": "code",
   "execution_count": 3,
   "outputs": [
    {
     "data": {
      "text/plain": "Empty DataFrame\nColumns: []\nIndex: []",
      "text/html": "<div>\n<style scoped>\n    .dataframe tbody tr th:only-of-type {\n        vertical-align: middle;\n    }\n\n    .dataframe tbody tr th {\n        vertical-align: top;\n    }\n\n    .dataframe thead th {\n        text-align: right;\n    }\n</style>\n<table border=\"1\" class=\"dataframe\">\n  <thead>\n    <tr style=\"text-align: right;\">\n      <th></th>\n    </tr>\n  </thead>\n  <tbody>\n  </tbody>\n</table>\n</div>"
     },
     "execution_count": 3,
     "metadata": {},
     "output_type": "execute_result"
    }
   ],
   "source": [
    "r.node_flooding_summary"
   ],
   "metadata": {
    "collapsed": false,
    "pycharm": {
     "name": "#%%\n"
    }
   }
  },
  {
   "cell_type": "code",
   "execution_count": 4,
   "outputs": [
    {
     "data": {
      "text/plain": "{'Dry Weather Inflow': {'Volume_hectare-m': 0.0, 'Volume_10^6 ltr': 0.0},\n 'Wet Weather Inflow': {'Volume_hectare-m': 0.085, 'Volume_10^6 ltr': 0.85},\n 'Groundwater Inflow': {'Volume_hectare-m': 0.0, 'Volume_10^6 ltr': 0.0},\n 'RDII Inflow': {'Volume_hectare-m': 0.0, 'Volume_10^6 ltr': 0.0},\n 'External Inflow': {'Volume_hectare-m': 0.0, 'Volume_10^6 ltr': 0.0},\n 'External Outflow': {'Volume_hectare-m': 0.085, 'Volume_10^6 ltr': 0.846},\n 'Flooding Loss': {'Volume_hectare-m': 0.0, 'Volume_10^6 ltr': 0.0},\n 'Evaporation Loss': {'Volume_hectare-m': 0.0, 'Volume_10^6 ltr': 0.0},\n 'Exfiltration Loss': {'Volume_hectare-m': 0.0, 'Volume_10^6 ltr': 0.0},\n 'Initial Stored Volume': {'Volume_hectare-m': 0.0, 'Volume_10^6 ltr': 0.0},\n 'Final Stored Volume': {'Volume_hectare-m': 0.0, 'Volume_10^6 ltr': 0.001},\n 'Continuity Error (%)': 0.41100000000000003}"
     },
     "execution_count": 4,
     "metadata": {},
     "output_type": "execute_result"
    }
   ],
   "source": [
    "r.flow_routing_continuity"
   ],
   "metadata": {
    "collapsed": false,
    "pycharm": {
     "name": "#%%\n"
    }
   }
  },
  {
   "cell_type": "code",
   "execution_count": 5,
   "outputs": [
    {
     "name": "stdout",
     "output_type": "stream",
     "text": [
      "\n"
     ]
    }
   ],
   "source": [
    "ols = r.outfall_loading_summary['Total_Volume_10^6 ltr'] * 1000  # m³\n",
    "ols = ols.to_dict()\n",
    "print()\n"
   ],
   "metadata": {
    "collapsed": false,
    "pycharm": {
     "name": "#%%\n"
    }
   }
  },
  {
   "cell_type": "code",
   "execution_count": 6,
   "outputs": [
    {
     "data": {
      "text/plain": "           Adjusted/Actual_Length   Dry  Up_Dry  Down_Dry  Sub_Crit  Sup_Crit  \\\nC2a                           1.0  1.00    0.00       0.0      0.00      0.00   \nC2                            1.0  1.00    0.00       0.0      0.00      0.00   \nC3                            1.0  1.00    0.00       0.0      0.00      0.00   \nC4                            1.0  1.00    0.00       0.0      0.00      0.00   \nC5                            1.0  1.00    0.00       0.0      0.00      0.00   \nC6                            1.0  1.00    0.00       0.0      0.00      0.00   \nC7                            1.0  1.00    0.00       0.0      0.00      0.00   \nC8                            1.0  1.00    0.00       0.0      0.00      0.00   \nC9                            1.0  1.00    0.00       0.0      0.00      0.00   \nC10                           1.0  1.00    0.00       0.0      0.00      0.00   \nC11                           1.0  0.00    0.00       0.0      0.57      0.43   \nC_Aux1                        1.0  0.00    0.00       0.0      0.00      0.00   \nC_Aux2                        1.0  0.00    0.00       0.0      0.00      0.00   \nC_Aux1to2                     1.0  0.00    1.00       0.0      0.00      0.00   \nC_Aux3                        1.0  1.00    0.00       0.0      0.00      0.00   \nP1                            1.0  0.01    0.00       0.0      0.75      0.24   \nP2                            1.0  0.01    0.00       0.0      0.78      0.20   \nP3                            1.0  0.00    0.02       0.0      0.98      0.00   \nP4                            1.0  0.00    0.19       0.0      0.77      0.04   \nP5                            1.0  0.00    0.01       0.0      0.98      0.00   \nP6                            1.0  0.00    0.00       0.0      1.00      0.00   \nP7                            1.0  0.00    0.00       0.0      0.94      0.06   \nP8                            1.0  0.00    0.00       0.0      0.91      0.09   \n\n           Up_Crit  Down_Crit  Norm_Ltd  Inlet_Ctrl  \nC2a            0.0        0.0      0.00         0.0  \nC2             0.0        0.0      0.00         0.0  \nC3             0.0        0.0      0.00         0.0  \nC4             0.0        0.0      0.00         0.0  \nC5             0.0        0.0      0.00         0.0  \nC6             0.0        0.0      0.00         0.0  \nC7             0.0        0.0      0.00         0.0  \nC8             0.0        0.0      0.00         0.0  \nC9             0.0        0.0      0.00         0.0  \nC10            0.0        0.0      0.00         0.0  \nC11            0.0        0.0      0.01         0.0  \nC_Aux1         0.0        1.0      0.00         0.0  \nC_Aux2         0.0        1.0      0.00         0.0  \nC_Aux1to2      0.0        0.0      0.00         0.0  \nC_Aux3         0.0        0.0      0.00         0.0  \nP1             0.0        0.0      0.95         0.0  \nP2             0.0        0.0      0.65         0.0  \nP3             0.0        0.0      0.40         0.0  \nP4             0.0        0.0      0.94         0.0  \nP5             0.0        0.0      0.98         0.0  \nP6             0.0        0.0      0.15         0.0  \nP7             0.0        0.0      0.43         0.0  \nP8             0.0        0.0      0.41         0.0  ",
      "text/html": "<div>\n<style scoped>\n    .dataframe tbody tr th:only-of-type {\n        vertical-align: middle;\n    }\n\n    .dataframe tbody tr th {\n        vertical-align: top;\n    }\n\n    .dataframe thead th {\n        text-align: right;\n    }\n</style>\n<table border=\"1\" class=\"dataframe\">\n  <thead>\n    <tr style=\"text-align: right;\">\n      <th></th>\n      <th>Adjusted/Actual_Length</th>\n      <th>Dry</th>\n      <th>Up_Dry</th>\n      <th>Down_Dry</th>\n      <th>Sub_Crit</th>\n      <th>Sup_Crit</th>\n      <th>Up_Crit</th>\n      <th>Down_Crit</th>\n      <th>Norm_Ltd</th>\n      <th>Inlet_Ctrl</th>\n    </tr>\n  </thead>\n  <tbody>\n    <tr>\n      <th>C2a</th>\n      <td>1.0</td>\n      <td>1.00</td>\n      <td>0.00</td>\n      <td>0.0</td>\n      <td>0.00</td>\n      <td>0.00</td>\n      <td>0.0</td>\n      <td>0.0</td>\n      <td>0.00</td>\n      <td>0.0</td>\n    </tr>\n    <tr>\n      <th>C2</th>\n      <td>1.0</td>\n      <td>1.00</td>\n      <td>0.00</td>\n      <td>0.0</td>\n      <td>0.00</td>\n      <td>0.00</td>\n      <td>0.0</td>\n      <td>0.0</td>\n      <td>0.00</td>\n      <td>0.0</td>\n    </tr>\n    <tr>\n      <th>C3</th>\n      <td>1.0</td>\n      <td>1.00</td>\n      <td>0.00</td>\n      <td>0.0</td>\n      <td>0.00</td>\n      <td>0.00</td>\n      <td>0.0</td>\n      <td>0.0</td>\n      <td>0.00</td>\n      <td>0.0</td>\n    </tr>\n    <tr>\n      <th>C4</th>\n      <td>1.0</td>\n      <td>1.00</td>\n      <td>0.00</td>\n      <td>0.0</td>\n      <td>0.00</td>\n      <td>0.00</td>\n      <td>0.0</td>\n      <td>0.0</td>\n      <td>0.00</td>\n      <td>0.0</td>\n    </tr>\n    <tr>\n      <th>C5</th>\n      <td>1.0</td>\n      <td>1.00</td>\n      <td>0.00</td>\n      <td>0.0</td>\n      <td>0.00</td>\n      <td>0.00</td>\n      <td>0.0</td>\n      <td>0.0</td>\n      <td>0.00</td>\n      <td>0.0</td>\n    </tr>\n    <tr>\n      <th>C6</th>\n      <td>1.0</td>\n      <td>1.00</td>\n      <td>0.00</td>\n      <td>0.0</td>\n      <td>0.00</td>\n      <td>0.00</td>\n      <td>0.0</td>\n      <td>0.0</td>\n      <td>0.00</td>\n      <td>0.0</td>\n    </tr>\n    <tr>\n      <th>C7</th>\n      <td>1.0</td>\n      <td>1.00</td>\n      <td>0.00</td>\n      <td>0.0</td>\n      <td>0.00</td>\n      <td>0.00</td>\n      <td>0.0</td>\n      <td>0.0</td>\n      <td>0.00</td>\n      <td>0.0</td>\n    </tr>\n    <tr>\n      <th>C8</th>\n      <td>1.0</td>\n      <td>1.00</td>\n      <td>0.00</td>\n      <td>0.0</td>\n      <td>0.00</td>\n      <td>0.00</td>\n      <td>0.0</td>\n      <td>0.0</td>\n      <td>0.00</td>\n      <td>0.0</td>\n    </tr>\n    <tr>\n      <th>C9</th>\n      <td>1.0</td>\n      <td>1.00</td>\n      <td>0.00</td>\n      <td>0.0</td>\n      <td>0.00</td>\n      <td>0.00</td>\n      <td>0.0</td>\n      <td>0.0</td>\n      <td>0.00</td>\n      <td>0.0</td>\n    </tr>\n    <tr>\n      <th>C10</th>\n      <td>1.0</td>\n      <td>1.00</td>\n      <td>0.00</td>\n      <td>0.0</td>\n      <td>0.00</td>\n      <td>0.00</td>\n      <td>0.0</td>\n      <td>0.0</td>\n      <td>0.00</td>\n      <td>0.0</td>\n    </tr>\n    <tr>\n      <th>C11</th>\n      <td>1.0</td>\n      <td>0.00</td>\n      <td>0.00</td>\n      <td>0.0</td>\n      <td>0.57</td>\n      <td>0.43</td>\n      <td>0.0</td>\n      <td>0.0</td>\n      <td>0.01</td>\n      <td>0.0</td>\n    </tr>\n    <tr>\n      <th>C_Aux1</th>\n      <td>1.0</td>\n      <td>0.00</td>\n      <td>0.00</td>\n      <td>0.0</td>\n      <td>0.00</td>\n      <td>0.00</td>\n      <td>0.0</td>\n      <td>1.0</td>\n      <td>0.00</td>\n      <td>0.0</td>\n    </tr>\n    <tr>\n      <th>C_Aux2</th>\n      <td>1.0</td>\n      <td>0.00</td>\n      <td>0.00</td>\n      <td>0.0</td>\n      <td>0.00</td>\n      <td>0.00</td>\n      <td>0.0</td>\n      <td>1.0</td>\n      <td>0.00</td>\n      <td>0.0</td>\n    </tr>\n    <tr>\n      <th>C_Aux1to2</th>\n      <td>1.0</td>\n      <td>0.00</td>\n      <td>1.00</td>\n      <td>0.0</td>\n      <td>0.00</td>\n      <td>0.00</td>\n      <td>0.0</td>\n      <td>0.0</td>\n      <td>0.00</td>\n      <td>0.0</td>\n    </tr>\n    <tr>\n      <th>C_Aux3</th>\n      <td>1.0</td>\n      <td>1.00</td>\n      <td>0.00</td>\n      <td>0.0</td>\n      <td>0.00</td>\n      <td>0.00</td>\n      <td>0.0</td>\n      <td>0.0</td>\n      <td>0.00</td>\n      <td>0.0</td>\n    </tr>\n    <tr>\n      <th>P1</th>\n      <td>1.0</td>\n      <td>0.01</td>\n      <td>0.00</td>\n      <td>0.0</td>\n      <td>0.75</td>\n      <td>0.24</td>\n      <td>0.0</td>\n      <td>0.0</td>\n      <td>0.95</td>\n      <td>0.0</td>\n    </tr>\n    <tr>\n      <th>P2</th>\n      <td>1.0</td>\n      <td>0.01</td>\n      <td>0.00</td>\n      <td>0.0</td>\n      <td>0.78</td>\n      <td>0.20</td>\n      <td>0.0</td>\n      <td>0.0</td>\n      <td>0.65</td>\n      <td>0.0</td>\n    </tr>\n    <tr>\n      <th>P3</th>\n      <td>1.0</td>\n      <td>0.00</td>\n      <td>0.02</td>\n      <td>0.0</td>\n      <td>0.98</td>\n      <td>0.00</td>\n      <td>0.0</td>\n      <td>0.0</td>\n      <td>0.40</td>\n      <td>0.0</td>\n    </tr>\n    <tr>\n      <th>P4</th>\n      <td>1.0</td>\n      <td>0.00</td>\n      <td>0.19</td>\n      <td>0.0</td>\n      <td>0.77</td>\n      <td>0.04</td>\n      <td>0.0</td>\n      <td>0.0</td>\n      <td>0.94</td>\n      <td>0.0</td>\n    </tr>\n    <tr>\n      <th>P5</th>\n      <td>1.0</td>\n      <td>0.00</td>\n      <td>0.01</td>\n      <td>0.0</td>\n      <td>0.98</td>\n      <td>0.00</td>\n      <td>0.0</td>\n      <td>0.0</td>\n      <td>0.98</td>\n      <td>0.0</td>\n    </tr>\n    <tr>\n      <th>P6</th>\n      <td>1.0</td>\n      <td>0.00</td>\n      <td>0.00</td>\n      <td>0.0</td>\n      <td>1.00</td>\n      <td>0.00</td>\n      <td>0.0</td>\n      <td>0.0</td>\n      <td>0.15</td>\n      <td>0.0</td>\n    </tr>\n    <tr>\n      <th>P7</th>\n      <td>1.0</td>\n      <td>0.00</td>\n      <td>0.00</td>\n      <td>0.0</td>\n      <td>0.94</td>\n      <td>0.06</td>\n      <td>0.0</td>\n      <td>0.0</td>\n      <td>0.43</td>\n      <td>0.0</td>\n    </tr>\n    <tr>\n      <th>P8</th>\n      <td>1.0</td>\n      <td>0.00</td>\n      <td>0.00</td>\n      <td>0.0</td>\n      <td>0.91</td>\n      <td>0.09</td>\n      <td>0.0</td>\n      <td>0.0</td>\n      <td>0.41</td>\n      <td>0.0</td>\n    </tr>\n  </tbody>\n</table>\n</div>"
     },
     "execution_count": 6,
     "metadata": {},
     "output_type": "execute_result"
    }
   ],
   "source": [
    "r.flow_classification_summary"
   ],
   "metadata": {
    "collapsed": false,
    "pycharm": {
     "name": "#%%\n"
    }
   }
  },
  {
   "cell_type": "code",
   "execution_count": 7,
   "outputs": [
    {
     "data": {
      "text/plain": "Empty DataFrame\nColumns: []\nIndex: []",
      "text/html": "<div>\n<style scoped>\n    .dataframe tbody tr th:only-of-type {\n        vertical-align: middle;\n    }\n\n    .dataframe tbody tr th {\n        vertical-align: top;\n    }\n\n    .dataframe thead th {\n        text-align: right;\n    }\n</style>\n<table border=\"1\" class=\"dataframe\">\n  <thead>\n    <tr style=\"text-align: right;\">\n      <th></th>\n    </tr>\n  </thead>\n  <tbody>\n  </tbody>\n</table>\n</div>"
     },
     "execution_count": 7,
     "metadata": {},
     "output_type": "execute_result"
    }
   ],
   "source": [
    "r.conduit_surcharge_summary"
   ],
   "metadata": {
    "collapsed": false,
    "pycharm": {
     "name": "#%%\n"
    }
   }
  }
 ],
 "metadata": {
  "kernelspec": {
   "name": "python3",
   "language": "python",
   "display_name": "Python 3"
  },
  "language_info": {
   "codemirror_mode": {
    "name": "ipython",
    "version": 2
   },
   "file_extension": ".py",
   "mimetype": "text/x-python",
   "name": "python",
   "nbconvert_exporter": "python",
   "pygments_lexer": "ipython2",
   "version": "2.7.6"
  }
 },
 "nbformat": 4,
 "nbformat_minor": 0
}