{
 "cells": [
  {
   "cell_type": "code",
   "execution_count": 29,
   "metadata": {
    "collapsed": true
   },
   "outputs": [],
   "source": [
    "from swmm_api import SwmmInput\n",
    "from pprint import pprint"
   ]
  },
  {
   "cell_type": "code",
   "execution_count": 30,
   "outputs": [],
   "source": [
    "inp = SwmmInput.read_file('demo_catchment_adap.inp')"
   ],
   "metadata": {
    "collapsed": false,
    "pycharm": {
     "name": "#%%\n"
    }
   }
  },
  {
   "cell_type": "code",
   "execution_count": 31,
   "outputs": [
    {
     "data": {
      "text/plain": "{'STA01': RainGage(Name = \"STA01\", Format = \"VOLUME\", Interval = \"00:01\", SCF = 1.0, Source = \"FILE\", Timeseries = NaN, Filename = \"\"../../../GisToSWMM5/demo_catchment/data/prec_mm.DAT\"\", Station = \"STA01\", Units = \"MM\")}"
     },
     "execution_count": 31,
     "metadata": {},
     "output_type": "execute_result"
    }
   ],
   "source": [
    "inp.RAINGAGES"
   ],
   "metadata": {
    "collapsed": false,
    "pycharm": {
     "name": "#%%\n"
    }
   }
  },
  {
   "cell_type": "code",
   "execution_count": 32,
   "outputs": [
    {
     "name": "stdout",
     "output_type": "stream",
     "text": [
      ";;      Format Interval SCF Source Timeseries                                               Filename Station Units\n",
      ";;Name                                                                                                            \n",
      "STA01   VOLUME    00:01   1   FILE             \"../../../GisToSWMM5/demo_catchment/data/prec_mm.DAT\"   STA01    MM\n"
     ]
    }
   ],
   "source": [
    "print(inp.RAINGAGES.to_inp_lines())"
   ],
   "metadata": {
    "collapsed": false,
    "pycharm": {
     "name": "#%%\n"
    }
   }
  },
  {
   "cell_type": "code",
   "execution_count": 33,
   "outputs": [
    {
     "data": {
      "text/plain": "{'FILE': '\"../../../GisToSWMM5/demo_catchment/data/climate.DAT\"', 'WINDSPEED FILE': '', 'SNOWMELT': ['0.952966', '0.45', '0.66', '15.1', '60.243222', '0'], 'ADC IMPERVIOUS': ['1', '1', '1', '1', '1', '1', '1', '1', '1', '1'], 'ADC PERVIOUS': ['0.1', '0.35', '0.35', '0.66', '0.75', '0.82', '0.87', '0.92', '0.95', '0.98']}"
     },
     "execution_count": 33,
     "metadata": {},
     "output_type": "execute_result"
    }
   ],
   "source": [
    "inp.TEMPERATURE"
   ],
   "metadata": {
    "collapsed": false,
    "pycharm": {
     "name": "#%%\n"
    }
   }
  },
  {
   "cell_type": "code",
   "execution_count": 34,
   "outputs": [
    {
     "name": "stdout",
     "output_type": "stream",
     "text": [
      "FILE            \"../../../GisToSWMM5/demo_catchment/data/climate.DAT\"\n",
      "WINDSPEED FILE  \n",
      "SNOWMELT        0.952966 0.45 0.66 15.1 60.243222 0\n",
      "ADC IMPERVIOUS  1 1 1 1 1 1 1 1 1 1\n",
      "ADC PERVIOUS    0.1 0.35 0.35 0.66 0.75 0.82 0.87 0.92 0.95 0.98\n",
      "\n"
     ]
    }
   ],
   "source": [
    "print(inp.TEMPERATURE.to_inp_lines())\n"
   ],
   "metadata": {
    "collapsed": false,
    "pycharm": {
     "name": "#%%\n"
    }
   }
  }
 ],
 "metadata": {
  "kernelspec": {
   "display_name": "Python 3",
   "language": "python",
   "name": "python3"
  },
  "language_info": {
   "codemirror_mode": {
    "name": "ipython",
    "version": 2
   },
   "file_extension": ".py",
   "mimetype": "text/x-python",
   "name": "python",
   "nbconvert_exporter": "python",
   "pygments_lexer": "ipython2",
   "version": "2.7.6"
  }
 },
 "nbformat": 4,
 "nbformat_minor": 0
}