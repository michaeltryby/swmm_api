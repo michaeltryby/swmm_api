{
 "cells": [
  {
   "cell_type": "code",
   "execution_count": 1,
   "metadata": {
    "collapsed": true
   },
   "outputs": [],
   "source": [
    "from swmm_api import SwmmInput, __version__\n",
    "from pprint import pprint"
   ]
  },
  {
   "cell_type": "code",
   "execution_count": 2,
   "outputs": [
    {
     "name": "stdout",
     "output_type": "stream",
     "text": [
      "swmm_api version: 0.2.0.10\n"
     ]
    }
   ],
   "source": [
    "print('swmm_api version:', __version__)"
   ],
   "metadata": {
    "collapsed": false,
    "pycharm": {
     "name": "#%%\n"
    }
   }
  },
  {
   "cell_type": "code",
   "execution_count": 3,
   "outputs": [],
   "source": [
    "inp = SwmmInput.read_file('demo_catchment_adap.inp')"
   ],
   "metadata": {
    "collapsed": false,
    "pycharm": {
     "name": "#%%\n"
    }
   }
  },
  {
   "cell_type": "code",
   "execution_count": 4,
   "outputs": [],
   "source": [
    "# reads inp data as original string\n",
    "inp_raw = SwmmInput.read_file('demo_catchment_adap.inp', convert_sections=[])"
   ],
   "metadata": {
    "collapsed": false,
    "pycharm": {
     "name": "#%%\n"
    }
   }
  },
  {
   "cell_type": "code",
   "execution_count": 5,
   "outputs": [
    {
     "name": "stdout",
     "output_type": "stream",
     "text": [
      ";;Gage           Format    Interval SCF      Source\n",
      ";;-------------- --------- ------ ------ ----------\n",
      "STA01   VOLUME   00:01   1   FILE   \"../../../GisToSWMM5/demo_catchment/data/prec_mm.DAT\"   STA01   MM\n"
     ]
    }
   ],
   "source": [
    "print(inp_raw.RAINGAGES)"
   ],
   "metadata": {
    "collapsed": false,
    "pycharm": {
     "name": "#%%\n"
    }
   }
  },
  {
   "cell_type": "code",
   "execution_count": 6,
   "outputs": [
    {
     "data": {
      "text/plain": "{'STA01': RainGage(Name = \"STA01\", Format = \"VOLUME\", Interval = \"00:01\", SCF = 1.0, Source = \"FILE\", Timeseries = NaN, Filename = \"\"../../../GisToSWMM5/demo_catchment/data/prec_mm.DAT\"\", Station = \"STA01\", Units = \"MM\")}"
     },
     "execution_count": 6,
     "metadata": {},
     "output_type": "execute_result"
    }
   ],
   "source": [
    "inp.RAINGAGES"
   ],
   "metadata": {
    "collapsed": false,
    "pycharm": {
     "name": "#%%\n"
    }
   }
  },
  {
   "cell_type": "code",
   "execution_count": 7,
   "outputs": [
    {
     "name": "stdout",
     "output_type": "stream",
     "text": [
      ";;      Format Interval SCF Source Timeseries                                               Filename Station Units\n",
      ";;Name                                                                                                            \n",
      "STA01   VOLUME    00:01   1   FILE             \"../../../GisToSWMM5/demo_catchment/data/prec_mm.DAT\"   STA01    MM\n"
     ]
    }
   ],
   "source": [
    "print(inp.RAINGAGES.to_inp_lines())"
   ],
   "metadata": {
    "collapsed": false,
    "pycharm": {
     "name": "#%%\n"
    }
   }
  },
  {
   "cell_type": "code",
   "execution_count": 8,
   "outputs": [
    {
     "name": "stdout",
     "output_type": "stream",
     "text": [
      ";;Temp/Wind/Snow   Source/Data\n",
      "FILE   \"../../../GisToSWMM5/demo_catchment/data/climate.DAT\"\n",
      "WINDSPEED   FILE\n",
      "SNOWMELT   0.952966   0.45   0.66   15.1   60.243222   0\n",
      "ADC IMPERVIOUS   1   1   1   1   1   1   1   1   1   1\n",
      "ADC PERVIOUS   0.1   0.35   0.35   0.66   0.75   0.82   0.87   0.92   0.95   0.98\n"
     ]
    }
   ],
   "source": [
    "print(inp_raw.TEMPERATURE)"
   ],
   "metadata": {
    "collapsed": false,
    "pycharm": {
     "name": "#%%\n"
    }
   }
  },
  {
   "cell_type": "code",
   "execution_count": 9,
   "outputs": [
    {
     "data": {
      "text/plain": "{'FILE': '\"../../../GisToSWMM5/demo_catchment/data/climate.DAT\"', 'WINDSPEED FILE': '', 'SNOWMELT': ['0.952966', '0.45', '0.66', '15.1', '60.243222', '0'], 'ADC IMPERVIOUS': ['1', '1', '1', '1', '1', '1', '1', '1', '1', '1'], 'ADC PERVIOUS': ['0.1', '0.35', '0.35', '0.66', '0.75', '0.82', '0.87', '0.92', '0.95', '0.98']}"
     },
     "execution_count": 9,
     "metadata": {},
     "output_type": "execute_result"
    }
   ],
   "source": [
    "inp.TEMPERATURE"
   ],
   "metadata": {
    "collapsed": false,
    "pycharm": {
     "name": "#%%\n"
    }
   }
  },
  {
   "cell_type": "code",
   "execution_count": 10,
   "outputs": [
    {
     "name": "stdout",
     "output_type": "stream",
     "text": [
      "FILE            \"../../../GisToSWMM5/demo_catchment/data/climate.DAT\"\n",
      "WINDSPEED FILE  \n",
      "SNOWMELT        0.952966 0.45 0.66 15.1 60.243222 0\n",
      "ADC IMPERVIOUS  1 1 1 1 1 1 1 1 1 1\n",
      "ADC PERVIOUS    0.1 0.35 0.35 0.66 0.75 0.82 0.87 0.92 0.95 0.98\n",
      "\n"
     ]
    }
   ],
   "source": [
    "print(inp.TEMPERATURE.to_inp_lines())\n"
   ],
   "metadata": {
    "collapsed": false,
    "pycharm": {
     "name": "#%%\n"
    }
   }
  }
 ],
 "metadata": {
  "kernelspec": {
   "display_name": "Python 3",
   "language": "python",
   "name": "python3"
  },
  "language_info": {
   "codemirror_mode": {
    "name": "ipython",
    "version": 2
   },
   "file_extension": ".py",
   "mimetype": "text/x-python",
   "name": "python",
   "nbconvert_exporter": "python",
   "pygments_lexer": "ipython2",
   "version": "2.7.6"
  }
 },
 "nbformat": 4,
 "nbformat_minor": 0
}