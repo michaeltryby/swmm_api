{
 "cells": [
  {
   "cell_type": "code",
   "execution_count": 1,
   "metadata": {
    "collapsed": true
   },
   "outputs": [],
   "source": [
    "from io import StringIO\n",
    "\n",
    "from pandas import read_csv\n",
    "\n",
    "from swmm_api import SwmmInput\n",
    "from swmm_api.input_file import section_labels as sections\n",
    "from swmm_api.input_file.section_types import SECTION_TYPES\n",
    "\n",
    "from swmm_api.input_file.sections import Timeseries\n",
    "from swmm_api.input_file.sections.others import TimeseriesData, TimeseriesFile"
   ]
  },
  {
   "cell_type": "code",
   "execution_count": 2,
   "outputs": [],
   "source": [
    "csv_file = StringIO(\"\"\",TS1\n",
    "0:05,1.7\n",
    "0:10,2.3\n",
    "0:15,3.4\n",
    "0:20,8\n",
    "0:25,1.15 \"\"\")\n"
   ],
   "metadata": {
    "collapsed": false,
    "pycharm": {
     "name": "#%%\n"
    }
   }
  },
  {
   "cell_type": "code",
   "execution_count": 3,
   "outputs": [
    {
     "data": {
      "text/plain": "0:05    1.70\n0:10    2.30\n0:15    3.40\n0:20    8.00\n0:25    1.15\nName: TS1, dtype: float64"
     },
     "execution_count": 3,
     "metadata": {},
     "output_type": "execute_result"
    }
   ],
   "source": [
    "series = read_csv(csv_file, index_col=0, squeeze=True)\n",
    "series"
   ],
   "metadata": {
    "collapsed": false,
    "pycharm": {
     "name": "#%%\n"
    }
   }
  },
  {
   "cell_type": "code",
   "execution_count": 4,
   "outputs": [
    {
     "data": {
      "text/plain": "{}"
     },
     "execution_count": 4,
     "metadata": {},
     "output_type": "execute_result"
    }
   ],
   "source": [
    "inp = SwmmInput()\n",
    "inp"
   ],
   "metadata": {
    "collapsed": false,
    "pycharm": {
     "name": "#%%\n"
    }
   }
  },
  {
   "cell_type": "code",
   "execution_count": 5,
   "outputs": [
    {
     "name": "stdout",
     "output_type": "stream",
     "text": [
      ";; No Data\n"
     ]
    }
   ],
   "source": [
    "# inp[sections.TIMESERIES] = Timeseries.create_section()\n",
    "inp[sections.TIMESERIES] = SECTION_TYPES[sections.TIMESERIES].create_section()\n",
    "print(inp[sections.TIMESERIES].to_inp_lines())"
   ],
   "metadata": {
    "collapsed": false,
    "pycharm": {
     "name": "#%%\n"
    }
   }
  },
  {
   "cell_type": "code",
   "execution_count": 6,
   "outputs": [
    {
     "name": "stdout",
     "output_type": "stream",
     "text": [
      "TS1 0:05 1.7\n",
      "TS1 0:10 2.3\n",
      "TS1 0:15 3.4\n",
      "TS1 0:20 8.0\n",
      "TS1 0:25 1.15\n",
      "\n"
     ]
    }
   ],
   "source": [
    "inp[sections.TIMESERIES].add_obj(TimeseriesData('TS1', data=list(zip(series.index,series))))\n",
    "print(inp[sections.TIMESERIES].to_inp_lines())\n"
   ],
   "metadata": {
    "collapsed": false,
    "pycharm": {
     "name": "#%%\n"
    }
   }
  },
  {
   "cell_type": "code",
   "execution_count": null,
   "outputs": [],
   "source": [
    "inp[sections.TIMESERIES]['TS1']"
   ],
   "metadata": {
    "collapsed": false,
    "pycharm": {
     "name": "#%%\n"
    }
   }
  },
  {
   "cell_type": "code",
   "execution_count": null,
   "outputs": [],
   "source": [
    "inp[sections.TIMESERIES]['TS1'].frame"
   ],
   "metadata": {
    "collapsed": false,
    "pycharm": {
     "name": "#%%\n"
    }
   }
  },
  {
   "cell_type": "markdown",
   "source": [
    "Wenn die Zeitserie einen Namen hat und der Index bereits das richtige Format für SWMM besitzt,\n",
    "kann das Object so erstellt werden."
   ],
   "metadata": {
    "collapsed": false,
    "pycharm": {
     "name": "#%% md\n"
    }
   }
  },
  {
   "cell_type": "code",
   "execution_count": 7,
   "outputs": [
    {
     "name": "stdout",
     "output_type": "stream",
     "text": [
      "TS1 0:05 1.7\n",
      "TS1 0:10 2.3\n",
      "TS1 0:15 3.4\n",
      "TS1 0:20 8.0\n",
      "TS1 0:25 1.15\n",
      "\n",
      "TS3 0:05 1.7\n",
      "TS3 0:10 2.3\n",
      "TS3 0:15 3.4\n",
      "TS3 0:20 8.0\n",
      "TS3 0:25 1.15\n",
      "\n"
     ]
    }
   ],
   "source": [
    "series.name='TS3'\n",
    "inp[sections.TIMESERIES].add_obj(TimeseriesData.from_pandas(series))\n",
    "print(inp[sections.TIMESERIES].to_inp_lines())\n"
   ],
   "metadata": {
    "collapsed": false,
    "pycharm": {
     "name": "#%%\n"
    }
   }
  },
  {
   "cell_type": "code",
   "execution_count": 10,
   "outputs": [
    {
     "name": "stdout",
     "output_type": "stream",
     "text": [
      "TS1 0:05 1.7\n",
      "TS1 0:10 2.3\n",
      "TS1 0:15 3.4\n",
      "TS1 0:20 8.0\n",
      "TS1 0:25 1.15\n",
      "\n",
      "TS2 FILE \"example_file.dat\"\n",
      "TS3 0:05 1.7\n",
      "TS3 0:10 2.3\n",
      "TS3 0:15 3.4\n",
      "TS3 0:20 8.0\n",
      "TS3 0:25 1.15\n",
      "\n"
     ]
    }
   ],
   "source": [
    "inp[sections.TIMESERIES].add_obj(TimeseriesFile('TS2', filename='example_file.dat'))\n",
    "print(inp[sections.TIMESERIES].to_inp_lines())\n"
   ],
   "metadata": {
    "collapsed": false,
    "pycharm": {
     "name": "#%%\n"
    }
   }
  },
  {
   "cell_type": "code",
   "execution_count": 11,
   "outputs": [
    {
     "data": {
      "text/plain": "TimeseriesFile(Name = \"TS2\", kind = \"FILE\", filename = \"example_file.dat\")"
     },
     "execution_count": 11,
     "metadata": {},
     "output_type": "execute_result"
    }
   ],
   "source": [
    "inp[sections.TIMESERIES]['TS2']"
   ],
   "metadata": {
    "collapsed": false,
    "pycharm": {
     "name": "#%%\n"
    }
   }
  }
 ],
 "metadata": {
  "kernelspec": {
   "display_name": "Python 3",
   "language": "python",
   "name": "python3"
  },
  "language_info": {
   "codemirror_mode": {
    "name": "ipython",
    "version": 2
   },
   "file_extension": ".py",
   "mimetype": "text/x-python",
   "name": "python",
   "nbconvert_exporter": "python",
   "pygments_lexer": "ipython2",
   "version": "2.7.6"
  }
 },
 "nbformat": 4,
 "nbformat_minor": 0
}