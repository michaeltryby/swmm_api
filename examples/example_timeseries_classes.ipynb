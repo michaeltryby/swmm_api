{
 "cells": [
  {
   "cell_type": "code",
   "execution_count": 1,
   "metadata": {
    "collapsed": true
   },
   "outputs": [],
   "source": [
    "from io import StringIO\n",
    "\n",
    "from pandas import read_csv\n",
    "\n",
    "from swmm_api import SwmmInput\n",
    "from swmm_api.input_file import section_labels as sections\n",
    "from swmm_api.input_file.section_types import SECTION_TYPES\n",
    "\n",
    "from swmm_api.input_file.sections import Timeseries\n",
    "from swmm_api.input_file.sections.others import TimeseriesData, TimeseriesFile"
   ]
  },
  {
   "cell_type": "code",
   "execution_count": 2,
   "outputs": [],
   "source": [
    "csv_file = StringIO(\"\"\",TS1\n",
    "0:05,1.7\n",
    "0:10,2.3\n",
    "0:15,3.4\n",
    "0:20,8\n",
    "0:25,1.15 \"\"\")\n"
   ],
   "metadata": {
    "collapsed": false,
    "pycharm": {
     "name": "#%%\n"
    }
   }
  },
  {
   "cell_type": "code",
   "execution_count": 3,
   "outputs": [
    {
     "data": {
      "text/plain": "0:05    1.70\n0:10    2.30\n0:15    3.40\n0:20    8.00\n0:25    1.15\nName: TS1, dtype: float64"
     },
     "execution_count": 3,
     "metadata": {},
     "output_type": "execute_result"
    }
   ],
   "source": [
    "series = read_csv(csv_file, index_col=0, squeeze=True)\n",
    "series"
   ],
   "metadata": {
    "collapsed": false,
    "pycharm": {
     "name": "#%%\n"
    }
   }
  },
  {
   "cell_type": "code",
   "execution_count": 4,
   "outputs": [
    {
     "data": {
      "text/plain": "{}"
     },
     "execution_count": 4,
     "metadata": {},
     "output_type": "execute_result"
    }
   ],
   "source": [
    "inp = SwmmInput()\n",
    "inp"
   ],
   "metadata": {
    "collapsed": false,
    "pycharm": {
     "name": "#%%\n"
    }
   }
  },
  {
   "cell_type": "code",
   "execution_count": 5,
   "outputs": [
    {
     "name": "stdout",
     "output_type": "stream",
     "text": [
      ";; No Data\n"
     ]
    }
   ],
   "source": [
    "# inp[sections.TIMESERIES] = Timeseries.create_section()\n",
    "inp[sections.TIMESERIES] = SECTION_TYPES[sections.TIMESERIES].create_section()\n",
    "print(inp[sections.TIMESERIES].to_inp_lines())"
   ],
   "metadata": {
    "collapsed": false,
    "pycharm": {
     "name": "#%%\n"
    }
   }
  },
  {
   "cell_type": "code",
   "execution_count": 6,
   "outputs": [
    {
     "name": "stdout",
     "output_type": "stream",
     "text": [
      "TS1 00:05 1.7\n",
      "TS1 00:10 2.3\n",
      "TS1 00:15 3.4\n",
      "TS1 00:20 8.0\n",
      "TS1 00:25 1.15\n",
      "\n"
     ]
    }
   ],
   "source": [
    "inp[sections.TIMESERIES].add_obj(TimeseriesData('TS1', data=list(zip(series.index,series))))\n",
    "print(inp[sections.TIMESERIES].to_inp_lines())\n"
   ],
   "metadata": {
    "collapsed": false,
    "pycharm": {
     "name": "#%%\n"
    }
   }
  },
  {
   "cell_type": "code",
   "execution_count": 7,
   "outputs": [
    {
     "data": {
      "text/plain": "TimeseriesData(Name = \"TS1\", data = [(0.08333333333333333, 1.7), (0.16666666666666666, 2.3), (0.25, 3.4), (0.3333333333333333, 8.0), (0.4166666666666667, 1.15)])"
     },
     "execution_count": 7,
     "metadata": {},
     "output_type": "execute_result"
    }
   ],
   "source": [
    "inp[sections.TIMESERIES]['TS1']"
   ],
   "metadata": {
    "collapsed": false,
    "pycharm": {
     "name": "#%%\n"
    }
   }
  },
  {
   "cell_type": "code",
   "execution_count": 8,
   "outputs": [
    {
     "data": {
      "text/plain": "0.083333    1.70\n0.166667    2.30\n0.250000    3.40\n0.333333    8.00\n0.416667    1.15\nName: TS1, dtype: float64"
     },
     "execution_count": 8,
     "metadata": {},
     "output_type": "execute_result"
    }
   ],
   "source": [
    "inp[sections.TIMESERIES]['TS1'].frame"
   ],
   "metadata": {
    "collapsed": false,
    "pycharm": {
     "name": "#%%\n"
    }
   }
  },
  {
   "cell_type": "markdown",
   "source": [
    "Wenn die Zeitserie einen Namen hat und der Index bereits das richtige Format für SWMM besitzt,\n",
    "kann das Object so erstellt werden."
   ],
   "metadata": {
    "collapsed": false,
    "pycharm": {
     "name": "#%% md\n"
    }
   }
  },
  {
   "cell_type": "code",
   "execution_count": 9,
   "outputs": [
    {
     "name": "stdout",
     "output_type": "stream",
     "text": [
      "TS1 00:05 1.7\n",
      "TS1 00:10 2.3\n",
      "TS1 00:15 3.4\n",
      "TS1 00:20 8.0\n",
      "TS1 00:25 1.15\n",
      "\n",
      "TS3 00:05 1.7\n",
      "TS3 00:10 2.3\n",
      "TS3 00:15 3.4\n",
      "TS3 00:20 8.0\n",
      "TS3 00:25 1.15\n",
      "\n"
     ]
    }
   ],
   "source": [
    "series.name='TS3'\n",
    "inp[sections.TIMESERIES].add_obj(TimeseriesData.from_pandas(series))\n",
    "print(inp[sections.TIMESERIES].to_inp_lines())\n"
   ],
   "metadata": {
    "collapsed": false,
    "pycharm": {
     "name": "#%%\n"
    }
   }
  },
  {
   "cell_type": "code",
   "execution_count": 10,
   "outputs": [
    {
     "name": "stdout",
     "output_type": "stream",
     "text": [
      "TS1 00:05 1.7\n",
      "TS1 00:10 2.3\n",
      "TS1 00:15 3.4\n",
      "TS1 00:20 8.0\n",
      "TS1 00:25 1.15\n",
      "\n",
      "TS2 FILE \"example_file.dat\"\n",
      "TS3 00:05 1.7\n",
      "TS3 00:10 2.3\n",
      "TS3 00:15 3.4\n",
      "TS3 00:20 8.0\n",
      "TS3 00:25 1.15\n",
      "\n"
     ]
    }
   ],
   "source": [
    "inp[sections.TIMESERIES].add_obj(TimeseriesFile('TS2', filename='example_file.dat'))\n",
    "print(inp[sections.TIMESERIES].to_inp_lines())\n"
   ],
   "metadata": {
    "collapsed": false,
    "pycharm": {
     "name": "#%%\n"
    }
   }
  },
  {
   "cell_type": "code",
   "execution_count": 11,
   "outputs": [
    {
     "data": {
      "text/plain": "TimeseriesFile(Name = \"TS2\", kind = \"FILE\", filename = \"example_file.dat\")"
     },
     "execution_count": 11,
     "metadata": {},
     "output_type": "execute_result"
    }
   ],
   "source": [
    "inp[sections.TIMESERIES]['TS2']"
   ],
   "metadata": {
    "collapsed": false,
    "pycharm": {
     "name": "#%%\n"
    }
   }
  },
  {
   "cell_type": "code",
   "execution_count": 12,
   "outputs": [
    {
     "data": {
      "text/plain": "2021-01-01 00:00:00    0.00\n2021-01-01 00:05:00    2.00\n2021-01-01 00:10:00    2.80\n2021-01-01 00:15:00    4.10\n2021-01-01 00:20:00    8.00\n2021-01-01 00:25:00    1.45\n2021-01-01 00:30:00    1.45\n2021-01-01 00:35:00    0.97\n2021-01-01 00:40:00    0.97\n2021-01-01 00:45:00    0.97\n2021-01-01 00:50:00    0.70\n2021-01-01 00:55:00    0.70\n2021-01-01 01:00:00    0.70\nName: KOSTRA, dtype: float64"
     },
     "execution_count": 12,
     "metadata": {},
     "output_type": "execute_result"
    }
   ],
   "source": [
    "rain = \"\"\"duration,1,2,3,5,10,20,30,50,100\n",
    "5,5.4,7,8,9.3,10.9,12.6,13.6,14.8,16.5\n",
    "10,8.4,10.7,12.1,13.9,16.2,18.6,20,21.7,24.1\n",
    "15,10.3,13.2,14.9,17,19.9,22.8,24.5,26.6,29.5\n",
    "20,11.6,15,16.9,19.4,22.7,26,28,30.4,33.8\n",
    "30,13.4,17.4,19.8,22.8,26.9,31,33.4,36.4,40.4\n",
    "45,14.8,19.8,22.7,26.4,31.4,36.4,39.3,43,48\n",
    "60,15.7,21.4,24.8,29.1,34.8,40.5,43.9,48.2,53.9\n",
    "90,17,22.8,26.2,30.5,36.3,42.1,45.5,49.8,55.6\n",
    "120,17.9,23.8,27.2,31.6,37.4,43.3,46.7,51,56.9\n",
    "180,19.4,25.3,28.8,33.2,39.1,45,48.5,52.9,58.8\n",
    "240,20.5,26.5,30,34.4,40.4,46.3,49.8,54.2,60.2\n",
    "360,22.2,28.2,31.8,36.2,42.3,48.3,51.8,56.3,62.3\n",
    "540,24,30.1,33.7,38.2,44.3,50.4,54,58.5,64.6\n",
    "720,25.4,31.5,35.1,39.7,45.8,52,55.6,60.1,66.3\n",
    "1080,27.4,33.7,37.3,41.9,48.1,54.3,58,62.6,68.8\n",
    "1440,29,35.3,38.9,43.6,49.9,56.1,59.8,64.4,70.7\n",
    "2880,36.2,44.6,49.6,55.8,64.2,72.7,77.6,83.8,92.3\n",
    "4320,41.2,50.9,56.6,63.7,73.5,83.2,88.8,96,105.7\n",
    "\"\"\"\n",
    "import io\n",
    "from pandas import read_csv\n",
    "from ehyd_tools.synthetic_rainseries import RainModeller\n",
    "kostra = read_csv(io.StringIO(rain), index_col=0)\n",
    "model_rain = RainModeller()\n",
    "model_rain.idf_table = kostra\n",
    "model_rain.idf_table.columns = model_rain.idf_table.columns.astype(int)\n",
    "ts = model_rain.euler.get_time_series(return_period=3, duration=60, interval=5, kind=2, start_time='2021-01-01 00:00')\n",
    "ts = ts.round(2)\n",
    "ts = ts.rename('KOSTRA')\n",
    "ts"
   ],
   "metadata": {
    "collapsed": false,
    "pycharm": {
     "name": "#%%\n"
    }
   }
  },
  {
   "cell_type": "code",
   "execution_count": 13,
   "outputs": [],
   "source": [
    "from swmm_api.input_file.sections.others import TimeseriesData\n"
   ],
   "metadata": {
    "collapsed": false,
    "pycharm": {
     "name": "#%%\n"
    }
   }
  },
  {
   "cell_type": "code",
   "execution_count": 15,
   "outputs": [
    {
     "data": {
      "text/plain": "TimeseriesData(Name = \"KOSTRA\", data = [(Timestamp('2021-01-01 00:00:00'), 0.0), (Timestamp('2021-01-01 00:05:00'), 2.0), (Timestamp('2021-01-01 00:10:00'), 2.8), (Timestamp('2021-01-01 00:15:00'), 4.1), (Timestamp('2021-01-01 00:20:00'), 8.0), (Timestamp('2021-01-01 00:25:00'), 1.45), (Timestamp('2021-01-01 00:30:00'), 1.45), (Timestamp('2021-01-01 00:35:00'), 0.97), (Timestamp('2021-01-01 00:40:00'), 0.97), (Timestamp('2021-01-01 00:45:00'), 0.97), (Timestamp('2021-01-01 00:50:00'), 0.7), (Timestamp('2021-01-01 00:55:00'), 0.7), (Timestamp('2021-01-01 01:00:00'), 0.7)])"
     },
     "execution_count": 15,
     "metadata": {},
     "output_type": "execute_result"
    }
   ],
   "source": [
    "TimeseriesData.from_pandas(ts)"
   ],
   "metadata": {
    "collapsed": false,
    "pycharm": {
     "name": "#%%\n"
    }
   }
  }
 ],
 "metadata": {
  "kernelspec": {
   "display_name": "Python 3",
   "language": "python",
   "name": "python3"
  },
  "language_info": {
   "codemirror_mode": {
    "name": "ipython",
    "version": 2
   },
   "file_extension": ".py",
   "mimetype": "text/x-python",
   "name": "python",
   "nbconvert_exporter": "python",
   "pygments_lexer": "ipython2",
   "version": "2.7.6"
  }
 },
 "nbformat": 4,
 "nbformat_minor": 0
}