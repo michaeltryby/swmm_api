{
 "cells": [
  {
   "cell_type": "markdown",
   "metadata": {
    "pycharm": {
     "name": "#%% md\n"
    }
   },
   "source": [
    "## Show how the inp-file is structured in this package"
   ]
  },
  {
   "cell_type": "code",
   "execution_count": 1,
   "metadata": {
    "pycharm": {
     "name": "#%%\n"
    }
   },
   "outputs": [],
   "source": [
    "import sys\n",
    "sys.path.append(r'C:\\Users\\mp\\PycharmProjects\\swmm_api')"
   ]
  },
  {
   "cell_type": "code",
   "execution_count": 2,
   "metadata": {
    "pycharm": {
     "name": "#%%\n"
    }
   },
   "outputs": [],
   "source": [
    "from swmm_api.input_file import read_inp_file\n",
    "from swmm_api.input_file.section_labels import *\n",
    "from swmm_api.input_file.sections import *"
   ]
  },
  {
   "cell_type": "code",
   "execution_count": 3,
   "metadata": {
    "pycharm": {
     "name": "#%%\n"
    }
   },
   "outputs": [],
   "source": [
    "inp = read_inp_file('epaswmm5_apps_manual/Example7-Final.inp')"
   ]
  },
  {
   "cell_type": "code",
   "execution_count": 4,
   "metadata": {
    "pycharm": {
     "name": "#%%\n"
    }
   },
   "outputs": [
    {
     "name": "stdout",
     "output_type": "stream",
     "text": [
      "\"TITLE\": \"<class 'str'>\"\n",
      "\"OPTIONS\": \"<class 'swmm_api.input_file.sections.generic_section.OptionSection'>\"\n",
      "\"EVAPORATION\": \"<class 'swmm_api.input_file.sections.generic_section.EvaporationSection'>\"\n",
      "\"RAINGAGES\": \"<class 'swmm_api.input_file.helpers.InpSection'>\"\n",
      "\"SUBCATCHMENTS\": \"<class 'swmm_api.input_file.helpers.InpSection'>\"\n",
      "\"SUBAREAS\": \"<class 'swmm_api.input_file.helpers.InpSection'>\"\n",
      "\"INFILTRATION\": \"<class 'swmm_api.input_file.helpers.InpSection'>\"\n",
      "\"JUNCTIONS\": \"<class 'swmm_api.input_file.helpers.InpSection'>\"\n",
      "\"OUTFALLS\": \"<class 'swmm_api.input_file.helpers.InpSection'>\"\n",
      "\"CONDUITS\": \"<class 'swmm_api.input_file.helpers.InpSection'>\"\n",
      "\"XSECTIONS\": \"<class 'swmm_api.input_file.helpers.InpSection'>\"\n",
      "\"TRANSECTS\": \"<class 'swmm_api.input_file.helpers.InpSection'>\"\n",
      "\"LOSSES\": \"<class 'swmm_api.input_file.helpers.InpSection'>\"\n",
      "\"TIMESERIES\": \"<class 'swmm_api.input_file.helpers.InpSection'>\"\n",
      "\"REPORT\": \"<class 'swmm_api.input_file.sections.generic_section.ReportSection'>\"\n",
      "\"TAGS\": \"<class 'swmm_api.input_file.helpers.InpSection'>\"\n",
      "\"MAP\": \"<class 'str'>\"\n",
      "\"COORDINATES\": \"<class 'swmm_api.input_file.helpers.InpSection'>\"\n",
      "\"VERTICES\": \"<class 'swmm_api.input_file.helpers.InpSection'>\"\n",
      "\"POLYGONS\": \"<class 'swmm_api.input_file.helpers.InpSection'>\"\n",
      "\"SYMBOLS\": \"<class 'str'>\"\n",
      "\"LABELS\": \"<class 'str'>\"\n",
      "\"BACKDROP\": \"<class 'str'>\"\n"
     ]
    }
   ],
   "source": [
    "for key, value in inp.items():\n",
    "    print(f'\"{key}\": \"{type(value)}\"')"
   ]
  },
  {
   "cell_type": "code",
   "execution_count": 5,
   "metadata": {
    "pycharm": {
     "name": "#%%\n"
    }
   },
   "outputs": [
    {
     "name": "stdout",
     "output_type": "stream",
     "text": [
      "\"FLOW_UNITS\": \"<class 'str'>\"\n",
      "\"INFILTRATION\": \"<class 'str'>\"\n",
      "\"FLOW_ROUTING\": \"<class 'str'>\"\n",
      "\"START_DATE\": \"<class 'datetime.date'>\"\n",
      "\"START_TIME\": \"<class 'datetime.time'>\"\n",
      "\"REPORT_START_DATE\": \"<class 'datetime.date'>\"\n",
      "\"REPORT_START_TIME\": \"<class 'datetime.time'>\"\n",
      "\"END_DATE\": \"<class 'datetime.date'>\"\n",
      "\"END_TIME\": \"<class 'datetime.time'>\"\n",
      "\"SWEEP_START\": \"<class 'str'>\"\n",
      "\"SWEEP_END\": \"<class 'str'>\"\n",
      "\"DRY_DAYS\": \"<class 'int'>\"\n",
      "\"REPORT_STEP\": \"<class 'datetime.time'>\"\n",
      "\"WET_STEP\": \"<class 'datetime.time'>\"\n",
      "\"DRY_STEP\": \"<class 'datetime.time'>\"\n",
      "\"ROUTING_STEP\": \"<class 'str'>\"\n",
      "\"ALLOW_PONDING\": \"<class 'bool'>\"\n",
      "\"INERTIAL_DAMPING\": \"<class 'str'>\"\n",
      "\"VARIABLE_STEP\": \"<class 'float'>\"\n",
      "\"LENGTHENING_STEP\": \"<class 'int'>\"\n",
      "\"MIN_SURFAREA\": \"<class 'int'>\"\n",
      "\"NORMAL_FLOW_LIMITED\": \"<class 'str'>\"\n",
      "\"SKIP_STEADY_STATE\": \"<class 'bool'>\"\n",
      "\"FORCE_MAIN_EQUATION\": \"<class 'str'>\"\n",
      "\"LINK_OFFSETS\": \"<class 'str'>\"\n",
      "\"MIN_SLOPE\": \"<class 'int'>\"\n"
     ]
    }
   ],
   "source": [
    "for key, value in inp[OPTIONS].items():\n",
    "    print(f'\"{key}\": \"{type(value)}\"')"
   ]
  },
  {
   "cell_type": "code",
   "execution_count": 6,
   "metadata": {
    "pycharm": {
     "name": "#%%\n"
    }
   },
   "outputs": [
    {
     "name": "stdout",
     "output_type": "stream",
     "text": [
      "          FLOW_UNITS         CFS\n",
      "        INFILTRATION      HORTON\n",
      "        FLOW_ROUTING     DYNWAVE\n",
      "          START_DATE  2007-01-01\n",
      "          START_TIME    00:00:00\n",
      "   REPORT_START_DATE  2007-01-01\n",
      "   REPORT_START_TIME    00:00:00\n",
      "            END_DATE  2007-01-01\n",
      "            END_TIME    12:00:00\n",
      "         SWEEP_START       01/01\n",
      "           SWEEP_END       12/31\n",
      "            DRY_DAYS           0\n",
      "         REPORT_STEP    00:01:00\n",
      "            WET_STEP    00:01:00\n",
      "            DRY_STEP    01:00:00\n",
      "        ROUTING_STEP     0:00:15\n",
      "       ALLOW_PONDING       False\n",
      "    INERTIAL_DAMPING     PARTIAL\n",
      "       VARIABLE_STEP        0.75\n",
      "    LENGTHENING_STEP           0\n",
      "        MIN_SURFAREA           0\n",
      " NORMAL_FLOW_LIMITED       SLOPE\n",
      "   SKIP_STEADY_STATE       False\n",
      " FORCE_MAIN_EQUATION         H-W\n",
      "        LINK_OFFSETS       DEPTH\n",
      "           MIN_SLOPE           0\n"
     ]
    }
   ],
   "source": [
    "for key, value in inp[OPTIONS].items():\n",
    "    print(f'{key:>20} {str(value):>11}')"
   ]
  },
  {
   "cell_type": "code",
   "execution_count": 7,
   "metadata": {
    "pycharm": {
     "name": "#%%\n"
    }
   },
   "outputs": [
    {
     "name": "stdout",
     "output_type": "stream",
     "text": [
      "\"J1\": \"<class 'swmm_api.input_file.sections.node.Junction'>\"\n",
      "\"J2a\": \"<class 'swmm_api.input_file.sections.node.Junction'>\"\n",
      "\"J2\": \"<class 'swmm_api.input_file.sections.node.Junction'>\"\n",
      "\"J3\": \"<class 'swmm_api.input_file.sections.node.Junction'>\"\n",
      "\"J4\": \"<class 'swmm_api.input_file.sections.node.Junction'>\"\n",
      "\"J5\": \"<class 'swmm_api.input_file.sections.node.Junction'>\"\n",
      "\"J6\": \"<class 'swmm_api.input_file.sections.node.Junction'>\"\n",
      "\"J7\": \"<class 'swmm_api.input_file.sections.node.Junction'>\"\n",
      "\"J8\": \"<class 'swmm_api.input_file.sections.node.Junction'>\"\n",
      "\"J9\": \"<class 'swmm_api.input_file.sections.node.Junction'>\"\n",
      "\"J10\": \"<class 'swmm_api.input_file.sections.node.Junction'>\"\n",
      "\"J11\": \"<class 'swmm_api.input_file.sections.node.Junction'>\"\n",
      "\"Aux1\": \"<class 'swmm_api.input_file.sections.node.Junction'>\"\n",
      "\"Aux2\": \"<class 'swmm_api.input_file.sections.node.Junction'>\"\n",
      "\"Aux3\": \"<class 'swmm_api.input_file.sections.node.Junction'>\"\n"
     ]
    }
   ],
   "source": [
    "for key, value in inp[JUNCTIONS].items():\n",
    "    print(f'\"{key}\": \"{type(value)}\"')"
   ]
  },
  {
   "cell_type": "code",
   "execution_count": 8,
   "metadata": {
    "pycharm": {
     "name": "#%%\n"
    }
   },
   "outputs": [
    {
     "name": "stdout",
     "output_type": "stream",
     "text": [
      "\"J1\": \"Junction(Name = \"J1\", Elevation = 4969.0, MaxDepth = 0.0, InitDepth = 0.0, SurDepth = 0.0, Aponded = 0.0)\"\n",
      "\"J2a\": \"Junction(Name = \"J2a\", Elevation = 4966.7, MaxDepth = 0.0, InitDepth = 0.0, SurDepth = 0.0, Aponded = 0.0)\"\n",
      "\"J2\": \"Junction(Name = \"J2\", Elevation = 4965.0, MaxDepth = 0.0, InitDepth = 0.0, SurDepth = 0.0, Aponded = 0.0)\"\n",
      "\"J3\": \"Junction(Name = \"J3\", Elevation = 4973.0, MaxDepth = 0.0, InitDepth = 0.0, SurDepth = 0.0, Aponded = 0.0)\"\n",
      "\"J4\": \"Junction(Name = \"J4\", Elevation = 4965.0, MaxDepth = 0.0, InitDepth = 0.0, SurDepth = 0.0, Aponded = 0.0)\"\n",
      "\"J5\": \"Junction(Name = \"J5\", Elevation = 4965.8, MaxDepth = 0.0, InitDepth = 0.0, SurDepth = 0.0, Aponded = 0.0)\"\n",
      "\"J6\": \"Junction(Name = \"J6\", Elevation = 4969.0, MaxDepth = 0.0, InitDepth = 0.0, SurDepth = 0.0, Aponded = 0.0)\"\n",
      "\"J7\": \"Junction(Name = \"J7\", Elevation = 4963.5, MaxDepth = 0.0, InitDepth = 0.0, SurDepth = 0.0, Aponded = 0.0)\"\n",
      "\"J8\": \"Junction(Name = \"J8\", Elevation = 4966.5, MaxDepth = 0.0, InitDepth = 0.0, SurDepth = 0.0, Aponded = 0.0)\"\n",
      "\"J9\": \"Junction(Name = \"J9\", Elevation = 4964.8, MaxDepth = 0.0, InitDepth = 0.0, SurDepth = 0.0, Aponded = 0.0)\"\n",
      "\"J10\": \"Junction(Name = \"J10\", Elevation = 4957.8, MaxDepth = 0.0, InitDepth = 0.0, SurDepth = 0.0, Aponded = 0.0)\"\n",
      "\"J11\": \"Junction(Name = \"J11\", Elevation = 4957.0, MaxDepth = 0.0, InitDepth = 0.0, SurDepth = 0.0, Aponded = 0.0)\"\n",
      "\"Aux1\": \"Junction(Name = \"Aux1\", Elevation = 4975.0, MaxDepth = 0.0, InitDepth = 0.0, SurDepth = 0.0, Aponded = 0.0)\"\n",
      "\"Aux2\": \"Junction(Name = \"Aux2\", Elevation = 4971.8, MaxDepth = 0.0, InitDepth = 0.0, SurDepth = 0.0, Aponded = 0.0)\"\n",
      "\"Aux3\": \"Junction(Name = \"Aux3\", Elevation = 4968.5, MaxDepth = 0.0, InitDepth = 0.0, SurDepth = 0.0, Aponded = 0.0)\"\n"
     ]
    }
   ],
   "source": [
    "for key, value in inp[JUNCTIONS].items():\n",
    "    print(f'\"{key}\": \"{value}\"')"
   ]
  },
  {
   "cell_type": "code",
   "execution_count": 9,
   "metadata": {
    "pycharm": {
     "name": "#%%\n"
    }
   },
   "outputs": [],
   "source": [
    "from swmm_api.input_file.macros import nodes_dict, links_dict"
   ]
  },
  {
   "cell_type": "code",
   "execution_count": 10,
   "metadata": {
    "pycharm": {
     "name": "#%%\n"
    }
   },
   "outputs": [
    {
     "name": "stdout",
     "output_type": "stream",
     "text": [
      "\"O1\": \"<class 'swmm_api.input_file.sections.node.Outfall'>\"\n",
      "\"J1\": \"<class 'swmm_api.input_file.sections.node.Junction'>\"\n",
      "\"J2a\": \"<class 'swmm_api.input_file.sections.node.Junction'>\"\n",
      "\"J2\": \"<class 'swmm_api.input_file.sections.node.Junction'>\"\n",
      "\"J3\": \"<class 'swmm_api.input_file.sections.node.Junction'>\"\n",
      "\"J4\": \"<class 'swmm_api.input_file.sections.node.Junction'>\"\n",
      "\"J5\": \"<class 'swmm_api.input_file.sections.node.Junction'>\"\n",
      "\"J6\": \"<class 'swmm_api.input_file.sections.node.Junction'>\"\n",
      "\"J7\": \"<class 'swmm_api.input_file.sections.node.Junction'>\"\n",
      "\"J8\": \"<class 'swmm_api.input_file.sections.node.Junction'>\"\n",
      "\"J9\": \"<class 'swmm_api.input_file.sections.node.Junction'>\"\n",
      "\"J10\": \"<class 'swmm_api.input_file.sections.node.Junction'>\"\n",
      "\"J11\": \"<class 'swmm_api.input_file.sections.node.Junction'>\"\n",
      "\"Aux1\": \"<class 'swmm_api.input_file.sections.node.Junction'>\"\n",
      "\"Aux2\": \"<class 'swmm_api.input_file.sections.node.Junction'>\"\n",
      "\"Aux3\": \"<class 'swmm_api.input_file.sections.node.Junction'>\"\n"
     ]
    }
   ],
   "source": [
    "for key, value in nodes_dict(inp).items():\n",
    "    print(f'\"{key}\": \"{type(value)}\"')"
   ]
  },
  {
   "cell_type": "code",
   "execution_count": 11,
   "metadata": {
    "pycharm": {
     "name": "#%%\n"
    }
   },
   "outputs": [
    {
     "name": "stdout",
     "output_type": "stream",
     "text": [
      "\"C2a\": \"<class 'swmm_api.input_file.sections.link.Conduit'>\"\n",
      "\"C2\": \"<class 'swmm_api.input_file.sections.link.Conduit'>\"\n",
      "\"C3\": \"<class 'swmm_api.input_file.sections.link.Conduit'>\"\n",
      "\"C4\": \"<class 'swmm_api.input_file.sections.link.Conduit'>\"\n",
      "\"C5\": \"<class 'swmm_api.input_file.sections.link.Conduit'>\"\n",
      "\"C6\": \"<class 'swmm_api.input_file.sections.link.Conduit'>\"\n",
      "\"C7\": \"<class 'swmm_api.input_file.sections.link.Conduit'>\"\n",
      "\"C8\": \"<class 'swmm_api.input_file.sections.link.Conduit'>\"\n",
      "\"C9\": \"<class 'swmm_api.input_file.sections.link.Conduit'>\"\n",
      "\"C10\": \"<class 'swmm_api.input_file.sections.link.Conduit'>\"\n",
      "\"C11\": \"<class 'swmm_api.input_file.sections.link.Conduit'>\"\n",
      "\"C_Aux1\": \"<class 'swmm_api.input_file.sections.link.Conduit'>\"\n",
      "\"C_Aux2\": \"<class 'swmm_api.input_file.sections.link.Conduit'>\"\n",
      "\"C_Aux1to2\": \"<class 'swmm_api.input_file.sections.link.Conduit'>\"\n",
      "\"C_Aux3\": \"<class 'swmm_api.input_file.sections.link.Conduit'>\"\n",
      "\"P1\": \"<class 'swmm_api.input_file.sections.link.Conduit'>\"\n",
      "\"P2\": \"<class 'swmm_api.input_file.sections.link.Conduit'>\"\n",
      "\"P3\": \"<class 'swmm_api.input_file.sections.link.Conduit'>\"\n",
      "\"P4\": \"<class 'swmm_api.input_file.sections.link.Conduit'>\"\n",
      "\"P5\": \"<class 'swmm_api.input_file.sections.link.Conduit'>\"\n",
      "\"P6\": \"<class 'swmm_api.input_file.sections.link.Conduit'>\"\n",
      "\"P7\": \"<class 'swmm_api.input_file.sections.link.Conduit'>\"\n",
      "\"P8\": \"<class 'swmm_api.input_file.sections.link.Conduit'>\"\n"
     ]
    }
   ],
   "source": [
    "for key, value in links_dict(inp).items():\n",
    "    print(f'\"{key}\": \"{type(value)}\"')"
   ]
  }
 ],
 "metadata": {
  "kernelspec": {
   "display_name": "Python 3",
   "language": "python",
   "name": "python3"
  },
  "language_info": {
   "codemirror_mode": {
    "name": "ipython",
    "version": 3
   },
   "file_extension": ".py",
   "mimetype": "text/x-python",
   "name": "python",
   "nbconvert_exporter": "python",
   "pygments_lexer": "ipython3",
   "version": "3.9.2"
  }
 },
 "nbformat": 4,
 "nbformat_minor": 1
}