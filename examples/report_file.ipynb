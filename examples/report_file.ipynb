{
 "cells": [
  {
   "cell_type": "code",
   "execution_count": 1,
   "metadata": {
    "collapsed": true
   },
   "outputs": [],
   "source": [
    "from swmm_api.report_file.report import Report"
   ]
  },
  {
   "cell_type": "code",
   "execution_count": 2,
   "outputs": [],
   "source": [
    "r = Report('report_file_1.rpt')"
   ],
   "metadata": {
    "collapsed": false,
    "pycharm": {
     "name": "#%%\n"
    }
   }
  },
  {
   "cell_type": "code",
   "execution_count": 3,
   "outputs": [
    {
     "data": {
      "text/plain": "     Hours_Flooded  Maximum_Rate_LPS Time of Max_Occurrence_days hr:min  \\\nJ02           0.01            120.67                          50  04:29   \nJ04           0.03            345.44                          50  04:26   \nJ06           0.21            556.25                          89  10:20   \nJ07           0.09           1088.94                          89  10:18   \nJ08           0.13           1445.79                          89  10:18   \nJ09           0.01           1035.64                          89  10:19   \n\n     Total_Flood_Volume_10^6 ltr  Maximum_Ponded_Depth_Meters  \nJ02                        0.001                          0.0  \nJ04                        0.013                          0.0  \nJ06                        0.236                          0.0  \nJ07                        0.052                          0.0  \nJ08                        0.208                          0.0  \nJ09                        0.025                          0.0  ",
      "text/html": "<div>\n<style scoped>\n    .dataframe tbody tr th:only-of-type {\n        vertical-align: middle;\n    }\n\n    .dataframe tbody tr th {\n        vertical-align: top;\n    }\n\n    .dataframe thead th {\n        text-align: right;\n    }\n</style>\n<table border=\"1\" class=\"dataframe\">\n  <thead>\n    <tr style=\"text-align: right;\">\n      <th></th>\n      <th>Hours_Flooded</th>\n      <th>Maximum_Rate_LPS</th>\n      <th>Time of Max_Occurrence_days hr:min</th>\n      <th>Total_Flood_Volume_10^6 ltr</th>\n      <th>Maximum_Ponded_Depth_Meters</th>\n    </tr>\n  </thead>\n  <tbody>\n    <tr>\n      <th>J02</th>\n      <td>0.01</td>\n      <td>120.67</td>\n      <td>50  04:29</td>\n      <td>0.001</td>\n      <td>0.0</td>\n    </tr>\n    <tr>\n      <th>J04</th>\n      <td>0.03</td>\n      <td>345.44</td>\n      <td>50  04:26</td>\n      <td>0.013</td>\n      <td>0.0</td>\n    </tr>\n    <tr>\n      <th>J06</th>\n      <td>0.21</td>\n      <td>556.25</td>\n      <td>89  10:20</td>\n      <td>0.236</td>\n      <td>0.0</td>\n    </tr>\n    <tr>\n      <th>J07</th>\n      <td>0.09</td>\n      <td>1088.94</td>\n      <td>89  10:18</td>\n      <td>0.052</td>\n      <td>0.0</td>\n    </tr>\n    <tr>\n      <th>J08</th>\n      <td>0.13</td>\n      <td>1445.79</td>\n      <td>89  10:18</td>\n      <td>0.208</td>\n      <td>0.0</td>\n    </tr>\n    <tr>\n      <th>J09</th>\n      <td>0.01</td>\n      <td>1035.64</td>\n      <td>89  10:19</td>\n      <td>0.025</td>\n      <td>0.0</td>\n    </tr>\n  </tbody>\n</table>\n</div>"
     },
     "execution_count": 3,
     "metadata": {},
     "output_type": "execute_result"
    }
   ],
   "source": [
    "r.node_flooding_summary"
   ],
   "metadata": {
    "collapsed": false,
    "pycharm": {
     "name": "#%%\n"
    }
   }
  },
  {
   "cell_type": "code",
   "execution_count": 4,
   "outputs": [
    {
     "data": {
      "text/plain": "{'Dry Weather Inflow': {'Volume_hectare-m': 67.83800000000001,\n  'Volume_10^6 ltr': 678.382},\n 'Wet Weather Inflow': {'Volume_hectare-m': 20.094, 'Volume_10^6 ltr': 200.94},\n 'Groundwater Inflow': {'Volume_hectare-m': 0.0, 'Volume_10^6 ltr': 0.0},\n 'RDII Inflow': {'Volume_hectare-m': 0.0, 'Volume_10^6 ltr': 0.0},\n 'External Inflow': {'Volume_hectare-m': 0.0, 'Volume_10^6 ltr': 0.0},\n 'External Outflow': {'Volume_hectare-m': 87.906, 'Volume_10^6 ltr': 879.065},\n 'Flooding Loss': {'Volume_hectare-m': 0.053, 'Volume_10^6 ltr': 0.535},\n 'Evaporation Loss': {'Volume_hectare-m': 0.0, 'Volume_10^6 ltr': 0.0},\n 'Exfiltration Loss': {'Volume_hectare-m': 0.0, 'Volume_10^6 ltr': 0.0},\n 'Initial Stored Volume': {'Volume_hectare-m': 0.0, 'Volume_10^6 ltr': 0.0},\n 'Final Stored Volume': {'Volume_hectare-m': 0.013000000000000001,\n  'Volume_10^6 ltr': 0.128},\n 'Continuity Error (%)': -0.046}"
     },
     "execution_count": 4,
     "metadata": {},
     "output_type": "execute_result"
    }
   ],
   "source": [
    "r.flow_routing_continuity"
   ],
   "metadata": {
    "collapsed": false,
    "pycharm": {
     "name": "#%%\n"
    }
   }
  },
  {
   "cell_type": "code",
   "execution_count": 5,
   "outputs": [
    {
     "name": "stdout",
     "output_type": "stream",
     "text": [
      "\n"
     ]
    }
   ],
   "source": [
    "ols = r.outfall_loading_summary['Total_Volume_10^6 ltr'] * 1000  # m³\n",
    "ols = ols.to_dict()\n",
    "print()\n"
   ],
   "metadata": {
    "collapsed": false,
    "pycharm": {
     "name": "#%%\n"
    }
   }
  },
  {
   "cell_type": "code",
   "execution_count": 6,
   "outputs": [
    {
     "data": {
      "text/plain": "               Adjusted_/Actual_Length  Dry  Up_Dry  Down_Dry  Sub_Crit  \\\nC01                                1.0  0.0     0.0       0.0      1.00   \nC02                                1.0  0.0     0.0       0.0      1.00   \nC03                                1.0  0.0     0.0       0.0      0.97   \nC04                                1.0  0.0     0.0       0.0      0.03   \nC05_Drossel_N                      1.0  0.0     0.0       0.0      1.00   \nC06                                1.0  0.0     0.0       0.0      1.00   \nC07                                1.0  0.0     0.0       0.0      1.00   \nC08                                1.0  0.0     0.0       0.0      1.00   \nC09                                1.0  0.0     0.0       0.0      0.00   \nC10                                1.0  0.0     0.0       0.0      0.00   \nC12                                1.0  0.0     0.0       0.0      0.07   \n\n               Sup_Crit  Up_Crit  Down_Crit  Norm_Ltd  Inlet_Ctrl  \nC01                0.00      0.0       0.00      1.00         0.0  \nC02                0.00      0.0       0.00      1.00         0.0  \nC03                0.03      0.0       0.00      0.04         0.0  \nC04                0.00      0.0       0.96      0.04         0.0  \nC05_Drossel_N      0.00      0.0       0.00      0.96         0.0  \nC06                0.00      0.0       0.00      1.00         0.0  \nC07                0.00      0.0       0.00      0.98         0.0  \nC08                0.00      0.0       0.00      1.00         0.0  \nC09                0.01      0.0       0.99      0.01         0.0  \nC10                1.00      0.0       0.00      0.00         0.0  \nC12                0.93      0.0       0.00      0.08         0.0  ",
      "text/html": "<div>\n<style scoped>\n    .dataframe tbody tr th:only-of-type {\n        vertical-align: middle;\n    }\n\n    .dataframe tbody tr th {\n        vertical-align: top;\n    }\n\n    .dataframe thead th {\n        text-align: right;\n    }\n</style>\n<table border=\"1\" class=\"dataframe\">\n  <thead>\n    <tr style=\"text-align: right;\">\n      <th></th>\n      <th>Adjusted_/Actual_Length</th>\n      <th>Dry</th>\n      <th>Up_Dry</th>\n      <th>Down_Dry</th>\n      <th>Sub_Crit</th>\n      <th>Sup_Crit</th>\n      <th>Up_Crit</th>\n      <th>Down_Crit</th>\n      <th>Norm_Ltd</th>\n      <th>Inlet_Ctrl</th>\n    </tr>\n  </thead>\n  <tbody>\n    <tr>\n      <th>C01</th>\n      <td>1.0</td>\n      <td>0.0</td>\n      <td>0.0</td>\n      <td>0.0</td>\n      <td>1.00</td>\n      <td>0.00</td>\n      <td>0.0</td>\n      <td>0.00</td>\n      <td>1.00</td>\n      <td>0.0</td>\n    </tr>\n    <tr>\n      <th>C02</th>\n      <td>1.0</td>\n      <td>0.0</td>\n      <td>0.0</td>\n      <td>0.0</td>\n      <td>1.00</td>\n      <td>0.00</td>\n      <td>0.0</td>\n      <td>0.00</td>\n      <td>1.00</td>\n      <td>0.0</td>\n    </tr>\n    <tr>\n      <th>C03</th>\n      <td>1.0</td>\n      <td>0.0</td>\n      <td>0.0</td>\n      <td>0.0</td>\n      <td>0.97</td>\n      <td>0.03</td>\n      <td>0.0</td>\n      <td>0.00</td>\n      <td>0.04</td>\n      <td>0.0</td>\n    </tr>\n    <tr>\n      <th>C04</th>\n      <td>1.0</td>\n      <td>0.0</td>\n      <td>0.0</td>\n      <td>0.0</td>\n      <td>0.03</td>\n      <td>0.00</td>\n      <td>0.0</td>\n      <td>0.96</td>\n      <td>0.04</td>\n      <td>0.0</td>\n    </tr>\n    <tr>\n      <th>C05_Drossel_N</th>\n      <td>1.0</td>\n      <td>0.0</td>\n      <td>0.0</td>\n      <td>0.0</td>\n      <td>1.00</td>\n      <td>0.00</td>\n      <td>0.0</td>\n      <td>0.00</td>\n      <td>0.96</td>\n      <td>0.0</td>\n    </tr>\n    <tr>\n      <th>C06</th>\n      <td>1.0</td>\n      <td>0.0</td>\n      <td>0.0</td>\n      <td>0.0</td>\n      <td>1.00</td>\n      <td>0.00</td>\n      <td>0.0</td>\n      <td>0.00</td>\n      <td>1.00</td>\n      <td>0.0</td>\n    </tr>\n    <tr>\n      <th>C07</th>\n      <td>1.0</td>\n      <td>0.0</td>\n      <td>0.0</td>\n      <td>0.0</td>\n      <td>1.00</td>\n      <td>0.00</td>\n      <td>0.0</td>\n      <td>0.00</td>\n      <td>0.98</td>\n      <td>0.0</td>\n    </tr>\n    <tr>\n      <th>C08</th>\n      <td>1.0</td>\n      <td>0.0</td>\n      <td>0.0</td>\n      <td>0.0</td>\n      <td>1.00</td>\n      <td>0.00</td>\n      <td>0.0</td>\n      <td>0.00</td>\n      <td>1.00</td>\n      <td>0.0</td>\n    </tr>\n    <tr>\n      <th>C09</th>\n      <td>1.0</td>\n      <td>0.0</td>\n      <td>0.0</td>\n      <td>0.0</td>\n      <td>0.00</td>\n      <td>0.01</td>\n      <td>0.0</td>\n      <td>0.99</td>\n      <td>0.01</td>\n      <td>0.0</td>\n    </tr>\n    <tr>\n      <th>C10</th>\n      <td>1.0</td>\n      <td>0.0</td>\n      <td>0.0</td>\n      <td>0.0</td>\n      <td>0.00</td>\n      <td>1.00</td>\n      <td>0.0</td>\n      <td>0.00</td>\n      <td>0.00</td>\n      <td>0.0</td>\n    </tr>\n    <tr>\n      <th>C12</th>\n      <td>1.0</td>\n      <td>0.0</td>\n      <td>0.0</td>\n      <td>0.0</td>\n      <td>0.07</td>\n      <td>0.93</td>\n      <td>0.0</td>\n      <td>0.00</td>\n      <td>0.08</td>\n      <td>0.0</td>\n    </tr>\n  </tbody>\n</table>\n</div>"
     },
     "execution_count": 6,
     "metadata": {},
     "output_type": "execute_result"
    }
   ],
   "source": [
    "r.flow_classification_summary"
   ],
   "metadata": {
    "collapsed": false,
    "pycharm": {
     "name": "#%%\n"
    }
   }
  },
  {
   "cell_type": "code",
   "execution_count": 7,
   "outputs": [
    {
     "data": {
      "text/plain": "               HoursFull_Both_Ends  Hours Full_Upstream  HoursFull_Dnstream  \\\nC02                           0.01                 0.01                0.30   \nC03                           0.22                 0.30               44.83   \nC04                           0.01                 0.01               97.11   \nC05_Drossel_N                 0.44                48.28                0.46   \nC06                           0.41                 0.41                0.80   \nC07                           0.76                 0.80                0.89   \nC08                           0.53                 0.53                2.79   \nC09                           0.18                 0.18                0.79   \nC10                           0.01                 1.83                0.01   \nC12                           0.01               248.88                0.01   \n\n               Hours_Above Full_Normal Flow  Hours_Capacity_Limited  \nC02                                    0.01                    0.01  \nC03                                    0.24                    0.12  \nC04                                    0.01                    0.01  \nC05_Drossel_N                          0.01                    0.17  \nC06                                    0.01                    0.01  \nC07                                    1.33                    0.53  \nC08                                    0.09                    0.05  \nC09                                    0.01                    0.01  \nC10                                    2.50                    0.01  \nC12                                    0.01                    0.01  ",
      "text/html": "<div>\n<style scoped>\n    .dataframe tbody tr th:only-of-type {\n        vertical-align: middle;\n    }\n\n    .dataframe tbody tr th {\n        vertical-align: top;\n    }\n\n    .dataframe thead th {\n        text-align: right;\n    }\n</style>\n<table border=\"1\" class=\"dataframe\">\n  <thead>\n    <tr style=\"text-align: right;\">\n      <th></th>\n      <th>HoursFull_Both_Ends</th>\n      <th>Hours Full_Upstream</th>\n      <th>HoursFull_Dnstream</th>\n      <th>Hours_Above Full_Normal Flow</th>\n      <th>Hours_Capacity_Limited</th>\n    </tr>\n  </thead>\n  <tbody>\n    <tr>\n      <th>C02</th>\n      <td>0.01</td>\n      <td>0.01</td>\n      <td>0.30</td>\n      <td>0.01</td>\n      <td>0.01</td>\n    </tr>\n    <tr>\n      <th>C03</th>\n      <td>0.22</td>\n      <td>0.30</td>\n      <td>44.83</td>\n      <td>0.24</td>\n      <td>0.12</td>\n    </tr>\n    <tr>\n      <th>C04</th>\n      <td>0.01</td>\n      <td>0.01</td>\n      <td>97.11</td>\n      <td>0.01</td>\n      <td>0.01</td>\n    </tr>\n    <tr>\n      <th>C05_Drossel_N</th>\n      <td>0.44</td>\n      <td>48.28</td>\n      <td>0.46</td>\n      <td>0.01</td>\n      <td>0.17</td>\n    </tr>\n    <tr>\n      <th>C06</th>\n      <td>0.41</td>\n      <td>0.41</td>\n      <td>0.80</td>\n      <td>0.01</td>\n      <td>0.01</td>\n    </tr>\n    <tr>\n      <th>C07</th>\n      <td>0.76</td>\n      <td>0.80</td>\n      <td>0.89</td>\n      <td>1.33</td>\n      <td>0.53</td>\n    </tr>\n    <tr>\n      <th>C08</th>\n      <td>0.53</td>\n      <td>0.53</td>\n      <td>2.79</td>\n      <td>0.09</td>\n      <td>0.05</td>\n    </tr>\n    <tr>\n      <th>C09</th>\n      <td>0.18</td>\n      <td>0.18</td>\n      <td>0.79</td>\n      <td>0.01</td>\n      <td>0.01</td>\n    </tr>\n    <tr>\n      <th>C10</th>\n      <td>0.01</td>\n      <td>1.83</td>\n      <td>0.01</td>\n      <td>2.50</td>\n      <td>0.01</td>\n    </tr>\n    <tr>\n      <th>C12</th>\n      <td>0.01</td>\n      <td>248.88</td>\n      <td>0.01</td>\n      <td>0.01</td>\n      <td>0.01</td>\n    </tr>\n  </tbody>\n</table>\n</div>"
     },
     "execution_count": 7,
     "metadata": {},
     "output_type": "execute_result"
    }
   ],
   "source": [
    "r.conduit_surcharge_summary"
   ],
   "metadata": {
    "collapsed": false,
    "pycharm": {
     "name": "#%%\n"
    }
   }
  }
 ],
 "metadata": {
  "kernelspec": {
   "name": "python3",
   "language": "python",
   "display_name": "Python 3"
  },
  "language_info": {
   "codemirror_mode": {
    "name": "ipython",
    "version": 2
   },
   "file_extension": ".py",
   "mimetype": "text/x-python",
   "name": "python",
   "nbconvert_exporter": "python",
   "pygments_lexer": "ipython2",
   "version": "2.7.6"
  }
 },
 "nbformat": 4,
 "nbformat_minor": 0
}