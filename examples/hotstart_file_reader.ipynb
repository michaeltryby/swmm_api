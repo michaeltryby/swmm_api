{
 "cells": [
  {
   "cell_type": "code",
   "execution_count": 1,
   "metadata": {
    "collapsed": true
   },
   "outputs": [],
   "source": [
    "from swmm_api.hotstart import SwmmHotstart\n",
    "from swmm_api import SwmmInput, SwmmOutput, SwmmReport"
   ]
  },
  {
   "cell_type": "code",
   "execution_count": 2,
   "outputs": [],
   "source": [
    "inp = SwmmInput.read_file('epaswmm5_apps_manual/Example6-Final.inp')"
   ],
   "metadata": {
    "collapsed": false,
    "pycharm": {
     "name": "#%%\n"
    }
   }
  },
  {
   "cell_type": "code",
   "execution_count": 3,
   "outputs": [],
   "source": [
    "out = SwmmOutput('epaswmm5_apps_manual/Example6-Final.out')"
   ],
   "metadata": {
    "collapsed": false,
    "pycharm": {
     "name": "#%%\n"
    }
   }
  },
  {
   "cell_type": "code",
   "execution_count": 4,
   "outputs": [],
   "source": [
    "rpt = SwmmReport('epaswmm5_apps_manual/Example6-Final.rpt')"
   ],
   "metadata": {
    "collapsed": false,
    "pycharm": {
     "name": "#%%\n"
    }
   }
  },
  {
   "cell_type": "markdown",
   "source": [
    "Read the content of the hotstart-file.\n",
    "\n",
    "You need to give the inp-file-data object (`inp`) to know the object labels and if groundwater and snowpacks are beeing used, as well the names of the pollutants and landuses.\n",
    "\n",
    "The order of the objects in the inp-file is identical to the order of the objects in the rpt-, out- and hotstart-file!"
   ],
   "metadata": {
    "collapsed": false
   }
  },
  {
   "cell_type": "code",
   "execution_count": 5,
   "outputs": [],
   "source": [
    "hsf = SwmmHotstart('epaswmm5_apps_manual/Example6-Final.hsf', inp)"
   ],
   "metadata": {
    "collapsed": false,
    "pycharm": {
     "name": "#%%\n"
    }
   }
  },
  {
   "cell_type": "code",
   "execution_count": 6,
   "outputs": [
    {
     "data": {
      "text/plain": "    label      kind          flow     depth  setting         TSS\n0      C1  CONDUITS  4.428573e-06  0.000181      1.0  102.720718\n1      C2  CONDUITS  0.000000e+00  0.002735      1.0   30.045168\n2      C3  CONDUITS  0.000000e+00  0.000278      1.0    0.000000\n3      C4  CONDUITS  0.000000e+00  0.000179      1.0   11.963262\n4      C5  CONDUITS  7.696231e-06  0.000225      1.0   91.062538\n5      C6  CONDUITS  0.000000e+00  0.000146      1.0    2.853457\n6      C7  CONDUITS  0.000000e+00  0.000147      1.0    0.000000\n7      C8  CONDUITS  1.397272e-05  0.000402      1.0   19.382462\n8      C9  CONDUITS  2.023555e-05  0.000361      1.0   19.913610\n9     C10  CONDUITS  3.348084e-06  0.000223      1.0    0.052746\n10    C11  CONDUITS  0.000000e+00  0.000181      1.0    0.000000\n11    C12  CONDUITS  0.000000e+00  0.000102      1.0   10.217697\n12    C13  CONDUITS  0.000000e+00  0.002448      1.0    0.000000\n13    C14  CONDUITS  1.093464e-03  0.012685      1.0   19.730124\n14    C15  CONDUITS  5.069166e-08  0.002868      1.0    0.000000\n15    C16  CONDUITS  0.000000e+00  0.000278      1.0   39.657757\n16    C17  CONDUITS  0.000000e+00  0.000179      1.0   53.657200\n17  C_out  CONDUITS  0.000000e+00  0.002452      1.0   61.231472\n18    Or1  ORIFICES  0.000000e+00  0.000000      1.0   19.724318\n19    Or2  ORIFICES  1.090401e-03  0.011182      1.0   19.724318\n20     W1     WEIRS  0.000000e+00  0.000000      1.0   19.724318",
      "text/html": "<div>\n<style scoped>\n    .dataframe tbody tr th:only-of-type {\n        vertical-align: middle;\n    }\n\n    .dataframe tbody tr th {\n        vertical-align: top;\n    }\n\n    .dataframe thead th {\n        text-align: right;\n    }\n</style>\n<table border=\"1\" class=\"dataframe\">\n  <thead>\n    <tr style=\"text-align: right;\">\n      <th></th>\n      <th>label</th>\n      <th>kind</th>\n      <th>flow</th>\n      <th>depth</th>\n      <th>setting</th>\n      <th>TSS</th>\n    </tr>\n  </thead>\n  <tbody>\n    <tr>\n      <th>0</th>\n      <td>C1</td>\n      <td>CONDUITS</td>\n      <td>4.428573e-06</td>\n      <td>0.000181</td>\n      <td>1.0</td>\n      <td>102.720718</td>\n    </tr>\n    <tr>\n      <th>1</th>\n      <td>C2</td>\n      <td>CONDUITS</td>\n      <td>0.000000e+00</td>\n      <td>0.002735</td>\n      <td>1.0</td>\n      <td>30.045168</td>\n    </tr>\n    <tr>\n      <th>2</th>\n      <td>C3</td>\n      <td>CONDUITS</td>\n      <td>0.000000e+00</td>\n      <td>0.000278</td>\n      <td>1.0</td>\n      <td>0.000000</td>\n    </tr>\n    <tr>\n      <th>3</th>\n      <td>C4</td>\n      <td>CONDUITS</td>\n      <td>0.000000e+00</td>\n      <td>0.000179</td>\n      <td>1.0</td>\n      <td>11.963262</td>\n    </tr>\n    <tr>\n      <th>4</th>\n      <td>C5</td>\n      <td>CONDUITS</td>\n      <td>7.696231e-06</td>\n      <td>0.000225</td>\n      <td>1.0</td>\n      <td>91.062538</td>\n    </tr>\n    <tr>\n      <th>5</th>\n      <td>C6</td>\n      <td>CONDUITS</td>\n      <td>0.000000e+00</td>\n      <td>0.000146</td>\n      <td>1.0</td>\n      <td>2.853457</td>\n    </tr>\n    <tr>\n      <th>6</th>\n      <td>C7</td>\n      <td>CONDUITS</td>\n      <td>0.000000e+00</td>\n      <td>0.000147</td>\n      <td>1.0</td>\n      <td>0.000000</td>\n    </tr>\n    <tr>\n      <th>7</th>\n      <td>C8</td>\n      <td>CONDUITS</td>\n      <td>1.397272e-05</td>\n      <td>0.000402</td>\n      <td>1.0</td>\n      <td>19.382462</td>\n    </tr>\n    <tr>\n      <th>8</th>\n      <td>C9</td>\n      <td>CONDUITS</td>\n      <td>2.023555e-05</td>\n      <td>0.000361</td>\n      <td>1.0</td>\n      <td>19.913610</td>\n    </tr>\n    <tr>\n      <th>9</th>\n      <td>C10</td>\n      <td>CONDUITS</td>\n      <td>3.348084e-06</td>\n      <td>0.000223</td>\n      <td>1.0</td>\n      <td>0.052746</td>\n    </tr>\n    <tr>\n      <th>10</th>\n      <td>C11</td>\n      <td>CONDUITS</td>\n      <td>0.000000e+00</td>\n      <td>0.000181</td>\n      <td>1.0</td>\n      <td>0.000000</td>\n    </tr>\n    <tr>\n      <th>11</th>\n      <td>C12</td>\n      <td>CONDUITS</td>\n      <td>0.000000e+00</td>\n      <td>0.000102</td>\n      <td>1.0</td>\n      <td>10.217697</td>\n    </tr>\n    <tr>\n      <th>12</th>\n      <td>C13</td>\n      <td>CONDUITS</td>\n      <td>0.000000e+00</td>\n      <td>0.002448</td>\n      <td>1.0</td>\n      <td>0.000000</td>\n    </tr>\n    <tr>\n      <th>13</th>\n      <td>C14</td>\n      <td>CONDUITS</td>\n      <td>1.093464e-03</td>\n      <td>0.012685</td>\n      <td>1.0</td>\n      <td>19.730124</td>\n    </tr>\n    <tr>\n      <th>14</th>\n      <td>C15</td>\n      <td>CONDUITS</td>\n      <td>5.069166e-08</td>\n      <td>0.002868</td>\n      <td>1.0</td>\n      <td>0.000000</td>\n    </tr>\n    <tr>\n      <th>15</th>\n      <td>C16</td>\n      <td>CONDUITS</td>\n      <td>0.000000e+00</td>\n      <td>0.000278</td>\n      <td>1.0</td>\n      <td>39.657757</td>\n    </tr>\n    <tr>\n      <th>16</th>\n      <td>C17</td>\n      <td>CONDUITS</td>\n      <td>0.000000e+00</td>\n      <td>0.000179</td>\n      <td>1.0</td>\n      <td>53.657200</td>\n    </tr>\n    <tr>\n      <th>17</th>\n      <td>C_out</td>\n      <td>CONDUITS</td>\n      <td>0.000000e+00</td>\n      <td>0.002452</td>\n      <td>1.0</td>\n      <td>61.231472</td>\n    </tr>\n    <tr>\n      <th>18</th>\n      <td>Or1</td>\n      <td>ORIFICES</td>\n      <td>0.000000e+00</td>\n      <td>0.000000</td>\n      <td>1.0</td>\n      <td>19.724318</td>\n    </tr>\n    <tr>\n      <th>19</th>\n      <td>Or2</td>\n      <td>ORIFICES</td>\n      <td>1.090401e-03</td>\n      <td>0.011182</td>\n      <td>1.0</td>\n      <td>19.724318</td>\n    </tr>\n    <tr>\n      <th>20</th>\n      <td>W1</td>\n      <td>WEIRS</td>\n      <td>0.000000e+00</td>\n      <td>0.000000</td>\n      <td>1.0</td>\n      <td>19.724318</td>\n    </tr>\n  </tbody>\n</table>\n</div>"
     },
     "execution_count": 6,
     "metadata": {},
     "output_type": "execute_result"
    }
   ],
   "source": [
    "hsf.links_frame"
   ],
   "metadata": {
    "collapsed": false,
    "pycharm": {
     "name": "#%%\n"
    }
   }
  },
  {
   "cell_type": "code",
   "execution_count": 7,
   "outputs": [
    {
     "data": {
      "text/plain": "    label       kind     depth  lateral_flow            TSS\n0      J1  JUNCTIONS  0.000103  0.000000e+00       0.000000\n1      J2  JUNCTIONS  0.005371  0.000000e+00       0.000000\n2      J3  JUNCTIONS  0.000456  0.000000e+00       0.000000\n3      J4  JUNCTIONS  0.000100  0.000000e+00       0.000000\n4      J5  JUNCTIONS  0.000258  0.000000e+00     102.728767\n5      J6  JUNCTIONS  0.000192  0.000000e+00      91.058487\n6      J7  JUNCTIONS  0.000100  0.000000e+00       0.000000\n7      J8  JUNCTIONS  0.000102  0.000000e+00       0.000000\n8      J9  JUNCTIONS  0.000462  9.550392e-07      18.143011\n9     J10  JUNCTIONS  0.000343  2.627069e-07       0.048909\n10    J11  JUNCTIONS  0.000261  4.817728e-07      19.450527\n11    J12  JUNCTIONS  0.000094  1.145814e-07       0.000000\n12    J13  JUNCTIONS  0.000366  0.000000e+00       0.000000\n13    J14  JUNCTIONS  0.004530  4.939776e-08       0.000000\n14    J15  JUNCTIONS  0.000100  0.000000e+00       0.000000\n15    J16  JUNCTIONS  0.004804  0.000000e+00       0.000000\n16    J17  JUNCTIONS  0.000100  0.000000e+00       0.000000\n17  J_out  JUNCTIONS  0.024939  0.000000e+00      19.724318\n18     O2   OUTFALLS  0.011182  0.000000e+00  160881.312500",
      "text/html": "<div>\n<style scoped>\n    .dataframe tbody tr th:only-of-type {\n        vertical-align: middle;\n    }\n\n    .dataframe tbody tr th {\n        vertical-align: top;\n    }\n\n    .dataframe thead th {\n        text-align: right;\n    }\n</style>\n<table border=\"1\" class=\"dataframe\">\n  <thead>\n    <tr style=\"text-align: right;\">\n      <th></th>\n      <th>label</th>\n      <th>kind</th>\n      <th>depth</th>\n      <th>lateral_flow</th>\n      <th>TSS</th>\n    </tr>\n  </thead>\n  <tbody>\n    <tr>\n      <th>0</th>\n      <td>J1</td>\n      <td>JUNCTIONS</td>\n      <td>0.000103</td>\n      <td>0.000000e+00</td>\n      <td>0.000000</td>\n    </tr>\n    <tr>\n      <th>1</th>\n      <td>J2</td>\n      <td>JUNCTIONS</td>\n      <td>0.005371</td>\n      <td>0.000000e+00</td>\n      <td>0.000000</td>\n    </tr>\n    <tr>\n      <th>2</th>\n      <td>J3</td>\n      <td>JUNCTIONS</td>\n      <td>0.000456</td>\n      <td>0.000000e+00</td>\n      <td>0.000000</td>\n    </tr>\n    <tr>\n      <th>3</th>\n      <td>J4</td>\n      <td>JUNCTIONS</td>\n      <td>0.000100</td>\n      <td>0.000000e+00</td>\n      <td>0.000000</td>\n    </tr>\n    <tr>\n      <th>4</th>\n      <td>J5</td>\n      <td>JUNCTIONS</td>\n      <td>0.000258</td>\n      <td>0.000000e+00</td>\n      <td>102.728767</td>\n    </tr>\n    <tr>\n      <th>5</th>\n      <td>J6</td>\n      <td>JUNCTIONS</td>\n      <td>0.000192</td>\n      <td>0.000000e+00</td>\n      <td>91.058487</td>\n    </tr>\n    <tr>\n      <th>6</th>\n      <td>J7</td>\n      <td>JUNCTIONS</td>\n      <td>0.000100</td>\n      <td>0.000000e+00</td>\n      <td>0.000000</td>\n    </tr>\n    <tr>\n      <th>7</th>\n      <td>J8</td>\n      <td>JUNCTIONS</td>\n      <td>0.000102</td>\n      <td>0.000000e+00</td>\n      <td>0.000000</td>\n    </tr>\n    <tr>\n      <th>8</th>\n      <td>J9</td>\n      <td>JUNCTIONS</td>\n      <td>0.000462</td>\n      <td>9.550392e-07</td>\n      <td>18.143011</td>\n    </tr>\n    <tr>\n      <th>9</th>\n      <td>J10</td>\n      <td>JUNCTIONS</td>\n      <td>0.000343</td>\n      <td>2.627069e-07</td>\n      <td>0.048909</td>\n    </tr>\n    <tr>\n      <th>10</th>\n      <td>J11</td>\n      <td>JUNCTIONS</td>\n      <td>0.000261</td>\n      <td>4.817728e-07</td>\n      <td>19.450527</td>\n    </tr>\n    <tr>\n      <th>11</th>\n      <td>J12</td>\n      <td>JUNCTIONS</td>\n      <td>0.000094</td>\n      <td>1.145814e-07</td>\n      <td>0.000000</td>\n    </tr>\n    <tr>\n      <th>12</th>\n      <td>J13</td>\n      <td>JUNCTIONS</td>\n      <td>0.000366</td>\n      <td>0.000000e+00</td>\n      <td>0.000000</td>\n    </tr>\n    <tr>\n      <th>13</th>\n      <td>J14</td>\n      <td>JUNCTIONS</td>\n      <td>0.004530</td>\n      <td>4.939776e-08</td>\n      <td>0.000000</td>\n    </tr>\n    <tr>\n      <th>14</th>\n      <td>J15</td>\n      <td>JUNCTIONS</td>\n      <td>0.000100</td>\n      <td>0.000000e+00</td>\n      <td>0.000000</td>\n    </tr>\n    <tr>\n      <th>15</th>\n      <td>J16</td>\n      <td>JUNCTIONS</td>\n      <td>0.004804</td>\n      <td>0.000000e+00</td>\n      <td>0.000000</td>\n    </tr>\n    <tr>\n      <th>16</th>\n      <td>J17</td>\n      <td>JUNCTIONS</td>\n      <td>0.000100</td>\n      <td>0.000000e+00</td>\n      <td>0.000000</td>\n    </tr>\n    <tr>\n      <th>17</th>\n      <td>J_out</td>\n      <td>JUNCTIONS</td>\n      <td>0.024939</td>\n      <td>0.000000e+00</td>\n      <td>19.724318</td>\n    </tr>\n    <tr>\n      <th>18</th>\n      <td>O2</td>\n      <td>OUTFALLS</td>\n      <td>0.011182</td>\n      <td>0.000000e+00</td>\n      <td>160881.312500</td>\n    </tr>\n  </tbody>\n</table>\n</div>"
     },
     "execution_count": 7,
     "metadata": {},
     "output_type": "execute_result"
    }
   ],
   "source": [
    "hsf.nodes_frame"
   ],
   "metadata": {
    "collapsed": false,
    "pycharm": {
     "name": "#%%\n"
    }
   }
  },
  {
   "cell_type": "code",
   "execution_count": 8,
   "outputs": [
    {
     "data": {
      "text/plain": "  label     kind      depth  lateral_flow  hydraulic_residence_time        TSS\n0   SU2  STORAGE  19.724318      0.000432                       0.0  19.730183",
      "text/html": "<div>\n<style scoped>\n    .dataframe tbody tr th:only-of-type {\n        vertical-align: middle;\n    }\n\n    .dataframe tbody tr th {\n        vertical-align: top;\n    }\n\n    .dataframe thead th {\n        text-align: right;\n    }\n</style>\n<table border=\"1\" class=\"dataframe\">\n  <thead>\n    <tr style=\"text-align: right;\">\n      <th></th>\n      <th>label</th>\n      <th>kind</th>\n      <th>depth</th>\n      <th>lateral_flow</th>\n      <th>hydraulic_residence_time</th>\n      <th>TSS</th>\n    </tr>\n  </thead>\n  <tbody>\n    <tr>\n      <th>0</th>\n      <td>SU2</td>\n      <td>STORAGE</td>\n      <td>19.724318</td>\n      <td>0.000432</td>\n      <td>0.0</td>\n      <td>19.730183</td>\n    </tr>\n  </tbody>\n</table>\n</div>"
     },
     "execution_count": 8,
     "metadata": {},
     "output_type": "execute_result"
    }
   ],
   "source": [
    "hsf.storages_frame"
   ],
   "metadata": {
    "collapsed": false,
    "pycharm": {
     "name": "#%%\n"
    }
   }
  },
  {
   "cell_type": "code",
   "execution_count": 9,
   "outputs": [
    {
     "data": {
      "text/plain": "     label  depth_imperv_zero  depth_imperv  depth_perv        runoff  \\\n0       S5       5.831685e-07      0.005001         0.0  9.549377e-07   \n1       S6       6.573694e-07      0.005001         0.0  4.817216e-07   \n2       S7       0.000000e+00      0.000000         0.0  0.000000e+00   \n3     S3.1       0.000000e+00      0.000000         0.0  0.000000e+00   \n4     S3.2       3.837669e-07      0.005000         0.0  9.936025e-08   \n5     S3.3       3.073174e-07      0.005000         0.0  9.613834e-08   \n6     S4.1       0.000000e+00      0.000000         0.0  0.000000e+00   \n7     S4.2       4.341040e-07      0.005000         0.0  9.369826e-08   \n8     S4.3       3.807395e-07      0.005000         0.0  1.845950e-07   \n9     S4.4       4.062874e-07      0.005000         0.0  2.626789e-07   \n10  S_FS_1       0.000000e+00      0.000000         0.0  0.000000e+00   \n11  S_FS_2       0.000000e+00      0.000000         0.0  0.000000e+00   \n12  S_FS_3       0.000000e+00      0.000000         0.0  0.000000e+00   \n13  S_FS_4       0.000000e+00      0.000000         0.0  0.000000e+00   \n14    S1.1       3.729824e-07      0.005000         0.0  1.145692e-07   \n15    S1.2       3.731901e-07      0.005000         0.0  1.383173e-07   \n16    S1.3       2.158134e-07      0.005000         0.0  7.144661e-08   \n17    S2.1       2.157604e-07      0.005000         0.0  4.939248e-08   \n18    S2.2       4.167251e-07      0.005000         0.0  1.708147e-07   \n19    S2.3       4.171931e-07      0.005000         0.0  2.143272e-07   \n20  S_IT_1       0.000000e+00      0.000000         0.0  0.000000e+00   \n21  S_IT_2       0.000000e+00      0.000000         0.0  0.000000e+00   \n22  S_IT_3       0.000000e+00      0.000000         0.0  0.000000e+00   \n23  S_IT_4       0.000000e+00      0.000000         0.0  0.000000e+00   \n\n    Infiltration_0  Infiltration_1  Infiltration_2  Infiltration_3  \\\n0        27.937296             0.0             0.0             0.0   \n1        27.937296             0.0             0.0             0.0   \n2        27.937296             0.0             0.0             0.0   \n3        27.937296             0.0             0.0             0.0   \n4        27.937296             0.0             0.0             0.0   \n5        27.937296             0.0             0.0             0.0   \n6        27.937296             0.0             0.0             0.0   \n7        27.937296             0.0             0.0             0.0   \n8        27.937296             0.0             0.0             0.0   \n9        27.937296             0.0             0.0             0.0   \n10        0.000000             0.0             0.0             0.0   \n11        0.000000             0.0             0.0             0.0   \n12        0.000000             0.0             0.0             0.0   \n13        0.000000             0.0             0.0             0.0   \n14       27.937296             0.0             0.0             0.0   \n15       27.937296             0.0             0.0             0.0   \n16       27.937296             0.0             0.0             0.0   \n17       27.937296             0.0             0.0             0.0   \n18       27.937296             0.0             0.0             0.0   \n19       27.937296             0.0             0.0             0.0   \n20        0.000000             0.0             0.0             0.0   \n21        0.000000             0.0             0.0             0.0   \n22        0.000000             0.0             0.0             0.0   \n23        0.000000             0.0             0.0             0.0   \n\n    Infiltration_4  ...  runoff_TSS     ponded_TSS  Residential_1_TSS_buildup  \\\n0              0.0  ...         0.0  194350.172787                   0.000000   \n1              0.0  ...         0.0   87025.637080                   0.000000   \n2              0.0  ...         0.0       0.000000                   0.000000   \n3              0.0  ...         0.0       0.000000                   0.000000   \n4              0.0  ...         0.0   30671.870595                  45.292438   \n5              0.0  ...         0.0   37027.548711                   0.000000   \n6              0.0  ...         0.0       0.000000                   0.000000   \n7              0.0  ...         0.0   25583.366653                   0.000000   \n8              0.0  ...         0.0   57434.534850                  43.751502   \n9              0.0  ...         0.0   76610.743143                   0.000000   \n10             0.0  ...         0.0       0.000000                   0.000000   \n11             0.0  ...         0.0       0.000000                   0.000000   \n12             0.0  ...         0.0       0.000000                   0.000000   \n13             0.0  ...         0.0       0.000000                   0.000000   \n14             0.0  ...         0.0   36385.153628                  47.329908   \n15             0.0  ...         0.0   43902.749785                  63.181725   \n16             0.0  ...         0.0   39136.109324                  66.469050   \n17             0.0  ...         0.0   27062.202874                  47.492362   \n18             0.0  ...         0.0   48575.787544                   0.000000   \n19             0.0  ...         0.0   60881.661319                   0.000000   \n20             0.0  ...         0.0       0.000000                   0.000000   \n21             0.0  ...         0.0       0.000000                   0.000000   \n22             0.0  ...         0.0       0.000000                   0.000000   \n23             0.0  ...         0.0       0.000000                   0.000000   \n\n    Residential_1_lastSwept  Residential_2_TSS_buildup  \\\n0                   39083.0                   0.000000   \n1                   39083.0                   0.000000   \n2                   39083.0                   0.000000   \n3                   39083.0                   0.000000   \n4                   39083.0                   0.000000   \n5                   39083.0                  52.853495   \n6                   39083.0                   0.000000   \n7                   39083.0                  49.818426   \n8                   39083.0                  91.881467   \n9                   39083.0                   0.000000   \n10                  39083.0                   0.000000   \n11                  39083.0                   0.000000   \n12                  39083.0                   0.000000   \n13                  39083.0                   0.000000   \n14                  39083.0                   0.000000   \n15                  39083.0                   0.000000   \n16                  39083.0                   0.000000   \n17                  39083.0                   0.000000   \n18                  39083.0                  74.520405   \n19                  39083.0                  78.044870   \n20                  39083.0                   0.000000   \n21                  39083.0                   0.000000   \n22                  39083.0                   0.000000   \n23                  39083.0                   0.000000   \n\n    Residential_2_lastSwept  Commercial_TSS_buildup  Commercial_lastSwept  \\\n0                   39083.0              266.298176               39083.0   \n1                   39083.0              120.463005               39083.0   \n2                   39083.0                0.000000               39083.0   \n3                   39083.0                0.000000               39083.0   \n4                   39083.0                0.000000               39083.0   \n5                   39083.0                0.000000               39083.0   \n6                   39083.0                0.000000               39083.0   \n7                   39083.0                0.000000               39083.0   \n8                   39083.0                0.000000               39083.0   \n9                   39083.0               53.997892               39083.0   \n10                  39083.0                0.000000               39083.0   \n11                  39083.0                0.000000               39083.0   \n12                  39083.0                0.000000               39083.0   \n13                  39083.0                0.000000               39083.0   \n14                  39083.0                0.000000               39083.0   \n15                  39083.0                0.000000               39083.0   \n16                  39083.0                0.000000               39083.0   \n17                  39083.0                0.000000               39083.0   \n18                  39083.0                0.000000               39083.0   \n19                  39083.0                0.000000               39083.0   \n20                  39083.0                0.000000               39083.0   \n21                  39083.0                0.000000               39083.0   \n22                  39083.0                0.000000               39083.0   \n23                  39083.0                0.000000               39083.0   \n\n    LID_TSS_buildup  LID_lastSwept  \n0               0.0        39083.0  \n1               0.0        39083.0  \n2               0.0        39083.0  \n3               0.0        39083.0  \n4               0.0        39083.0  \n5               0.0        39083.0  \n6               0.0        39083.0  \n7               0.0        39083.0  \n8               0.0        39083.0  \n9               0.0        39083.0  \n10              0.0        39083.0  \n11              0.0        39083.0  \n12              0.0        39083.0  \n13              0.0        39083.0  \n14              0.0        39083.0  \n15              0.0        39083.0  \n16              0.0        39083.0  \n17              0.0        39083.0  \n18              0.0        39083.0  \n19              0.0        39083.0  \n20              0.0        39083.0  \n21              0.0        39083.0  \n22              0.0        39083.0  \n23              0.0        39083.0  \n\n[24 rows x 21 columns]",
      "text/html": "<div>\n<style scoped>\n    .dataframe tbody tr th:only-of-type {\n        vertical-align: middle;\n    }\n\n    .dataframe tbody tr th {\n        vertical-align: top;\n    }\n\n    .dataframe thead th {\n        text-align: right;\n    }\n</style>\n<table border=\"1\" class=\"dataframe\">\n  <thead>\n    <tr style=\"text-align: right;\">\n      <th></th>\n      <th>label</th>\n      <th>depth_imperv_zero</th>\n      <th>depth_imperv</th>\n      <th>depth_perv</th>\n      <th>runoff</th>\n      <th>Infiltration_0</th>\n      <th>Infiltration_1</th>\n      <th>Infiltration_2</th>\n      <th>Infiltration_3</th>\n      <th>Infiltration_4</th>\n      <th>...</th>\n      <th>runoff_TSS</th>\n      <th>ponded_TSS</th>\n      <th>Residential_1_TSS_buildup</th>\n      <th>Residential_1_lastSwept</th>\n      <th>Residential_2_TSS_buildup</th>\n      <th>Residential_2_lastSwept</th>\n      <th>Commercial_TSS_buildup</th>\n      <th>Commercial_lastSwept</th>\n      <th>LID_TSS_buildup</th>\n      <th>LID_lastSwept</th>\n    </tr>\n  </thead>\n  <tbody>\n    <tr>\n      <th>0</th>\n      <td>S5</td>\n      <td>5.831685e-07</td>\n      <td>0.005001</td>\n      <td>0.0</td>\n      <td>9.549377e-07</td>\n      <td>27.937296</td>\n      <td>0.0</td>\n      <td>0.0</td>\n      <td>0.0</td>\n      <td>0.0</td>\n      <td>...</td>\n      <td>0.0</td>\n      <td>194350.172787</td>\n      <td>0.000000</td>\n      <td>39083.0</td>\n      <td>0.000000</td>\n      <td>39083.0</td>\n      <td>266.298176</td>\n      <td>39083.0</td>\n      <td>0.0</td>\n      <td>39083.0</td>\n    </tr>\n    <tr>\n      <th>1</th>\n      <td>S6</td>\n      <td>6.573694e-07</td>\n      <td>0.005001</td>\n      <td>0.0</td>\n      <td>4.817216e-07</td>\n      <td>27.937296</td>\n      <td>0.0</td>\n      <td>0.0</td>\n      <td>0.0</td>\n      <td>0.0</td>\n      <td>...</td>\n      <td>0.0</td>\n      <td>87025.637080</td>\n      <td>0.000000</td>\n      <td>39083.0</td>\n      <td>0.000000</td>\n      <td>39083.0</td>\n      <td>120.463005</td>\n      <td>39083.0</td>\n      <td>0.0</td>\n      <td>39083.0</td>\n    </tr>\n    <tr>\n      <th>2</th>\n      <td>S7</td>\n      <td>0.000000e+00</td>\n      <td>0.000000</td>\n      <td>0.0</td>\n      <td>0.000000e+00</td>\n      <td>27.937296</td>\n      <td>0.0</td>\n      <td>0.0</td>\n      <td>0.0</td>\n      <td>0.0</td>\n      <td>...</td>\n      <td>0.0</td>\n      <td>0.000000</td>\n      <td>0.000000</td>\n      <td>39083.0</td>\n      <td>0.000000</td>\n      <td>39083.0</td>\n      <td>0.000000</td>\n      <td>39083.0</td>\n      <td>0.0</td>\n      <td>39083.0</td>\n    </tr>\n    <tr>\n      <th>3</th>\n      <td>S3.1</td>\n      <td>0.000000e+00</td>\n      <td>0.000000</td>\n      <td>0.0</td>\n      <td>0.000000e+00</td>\n      <td>27.937296</td>\n      <td>0.0</td>\n      <td>0.0</td>\n      <td>0.0</td>\n      <td>0.0</td>\n      <td>...</td>\n      <td>0.0</td>\n      <td>0.000000</td>\n      <td>0.000000</td>\n      <td>39083.0</td>\n      <td>0.000000</td>\n      <td>39083.0</td>\n      <td>0.000000</td>\n      <td>39083.0</td>\n      <td>0.0</td>\n      <td>39083.0</td>\n    </tr>\n    <tr>\n      <th>4</th>\n      <td>S3.2</td>\n      <td>3.837669e-07</td>\n      <td>0.005000</td>\n      <td>0.0</td>\n      <td>9.936025e-08</td>\n      <td>27.937296</td>\n      <td>0.0</td>\n      <td>0.0</td>\n      <td>0.0</td>\n      <td>0.0</td>\n      <td>...</td>\n      <td>0.0</td>\n      <td>30671.870595</td>\n      <td>45.292438</td>\n      <td>39083.0</td>\n      <td>0.000000</td>\n      <td>39083.0</td>\n      <td>0.000000</td>\n      <td>39083.0</td>\n      <td>0.0</td>\n      <td>39083.0</td>\n    </tr>\n    <tr>\n      <th>5</th>\n      <td>S3.3</td>\n      <td>3.073174e-07</td>\n      <td>0.005000</td>\n      <td>0.0</td>\n      <td>9.613834e-08</td>\n      <td>27.937296</td>\n      <td>0.0</td>\n      <td>0.0</td>\n      <td>0.0</td>\n      <td>0.0</td>\n      <td>...</td>\n      <td>0.0</td>\n      <td>37027.548711</td>\n      <td>0.000000</td>\n      <td>39083.0</td>\n      <td>52.853495</td>\n      <td>39083.0</td>\n      <td>0.000000</td>\n      <td>39083.0</td>\n      <td>0.0</td>\n      <td>39083.0</td>\n    </tr>\n    <tr>\n      <th>6</th>\n      <td>S4.1</td>\n      <td>0.000000e+00</td>\n      <td>0.000000</td>\n      <td>0.0</td>\n      <td>0.000000e+00</td>\n      <td>27.937296</td>\n      <td>0.0</td>\n      <td>0.0</td>\n      <td>0.0</td>\n      <td>0.0</td>\n      <td>...</td>\n      <td>0.0</td>\n      <td>0.000000</td>\n      <td>0.000000</td>\n      <td>39083.0</td>\n      <td>0.000000</td>\n      <td>39083.0</td>\n      <td>0.000000</td>\n      <td>39083.0</td>\n      <td>0.0</td>\n      <td>39083.0</td>\n    </tr>\n    <tr>\n      <th>7</th>\n      <td>S4.2</td>\n      <td>4.341040e-07</td>\n      <td>0.005000</td>\n      <td>0.0</td>\n      <td>9.369826e-08</td>\n      <td>27.937296</td>\n      <td>0.0</td>\n      <td>0.0</td>\n      <td>0.0</td>\n      <td>0.0</td>\n      <td>...</td>\n      <td>0.0</td>\n      <td>25583.366653</td>\n      <td>0.000000</td>\n      <td>39083.0</td>\n      <td>49.818426</td>\n      <td>39083.0</td>\n      <td>0.000000</td>\n      <td>39083.0</td>\n      <td>0.0</td>\n      <td>39083.0</td>\n    </tr>\n    <tr>\n      <th>8</th>\n      <td>S4.3</td>\n      <td>3.807395e-07</td>\n      <td>0.005000</td>\n      <td>0.0</td>\n      <td>1.845950e-07</td>\n      <td>27.937296</td>\n      <td>0.0</td>\n      <td>0.0</td>\n      <td>0.0</td>\n      <td>0.0</td>\n      <td>...</td>\n      <td>0.0</td>\n      <td>57434.534850</td>\n      <td>43.751502</td>\n      <td>39083.0</td>\n      <td>91.881467</td>\n      <td>39083.0</td>\n      <td>0.000000</td>\n      <td>39083.0</td>\n      <td>0.0</td>\n      <td>39083.0</td>\n    </tr>\n    <tr>\n      <th>9</th>\n      <td>S4.4</td>\n      <td>4.062874e-07</td>\n      <td>0.005000</td>\n      <td>0.0</td>\n      <td>2.626789e-07</td>\n      <td>27.937296</td>\n      <td>0.0</td>\n      <td>0.0</td>\n      <td>0.0</td>\n      <td>0.0</td>\n      <td>...</td>\n      <td>0.0</td>\n      <td>76610.743143</td>\n      <td>0.000000</td>\n      <td>39083.0</td>\n      <td>0.000000</td>\n      <td>39083.0</td>\n      <td>53.997892</td>\n      <td>39083.0</td>\n      <td>0.0</td>\n      <td>39083.0</td>\n    </tr>\n    <tr>\n      <th>10</th>\n      <td>S_FS_1</td>\n      <td>0.000000e+00</td>\n      <td>0.000000</td>\n      <td>0.0</td>\n      <td>0.000000e+00</td>\n      <td>0.000000</td>\n      <td>0.0</td>\n      <td>0.0</td>\n      <td>0.0</td>\n      <td>0.0</td>\n      <td>...</td>\n      <td>0.0</td>\n      <td>0.000000</td>\n      <td>0.000000</td>\n      <td>39083.0</td>\n      <td>0.000000</td>\n      <td>39083.0</td>\n      <td>0.000000</td>\n      <td>39083.0</td>\n      <td>0.0</td>\n      <td>39083.0</td>\n    </tr>\n    <tr>\n      <th>11</th>\n      <td>S_FS_2</td>\n      <td>0.000000e+00</td>\n      <td>0.000000</td>\n      <td>0.0</td>\n      <td>0.000000e+00</td>\n      <td>0.000000</td>\n      <td>0.0</td>\n      <td>0.0</td>\n      <td>0.0</td>\n      <td>0.0</td>\n      <td>...</td>\n      <td>0.0</td>\n      <td>0.000000</td>\n      <td>0.000000</td>\n      <td>39083.0</td>\n      <td>0.000000</td>\n      <td>39083.0</td>\n      <td>0.000000</td>\n      <td>39083.0</td>\n      <td>0.0</td>\n      <td>39083.0</td>\n    </tr>\n    <tr>\n      <th>12</th>\n      <td>S_FS_3</td>\n      <td>0.000000e+00</td>\n      <td>0.000000</td>\n      <td>0.0</td>\n      <td>0.000000e+00</td>\n      <td>0.000000</td>\n      <td>0.0</td>\n      <td>0.0</td>\n      <td>0.0</td>\n      <td>0.0</td>\n      <td>...</td>\n      <td>0.0</td>\n      <td>0.000000</td>\n      <td>0.000000</td>\n      <td>39083.0</td>\n      <td>0.000000</td>\n      <td>39083.0</td>\n      <td>0.000000</td>\n      <td>39083.0</td>\n      <td>0.0</td>\n      <td>39083.0</td>\n    </tr>\n    <tr>\n      <th>13</th>\n      <td>S_FS_4</td>\n      <td>0.000000e+00</td>\n      <td>0.000000</td>\n      <td>0.0</td>\n      <td>0.000000e+00</td>\n      <td>0.000000</td>\n      <td>0.0</td>\n      <td>0.0</td>\n      <td>0.0</td>\n      <td>0.0</td>\n      <td>...</td>\n      <td>0.0</td>\n      <td>0.000000</td>\n      <td>0.000000</td>\n      <td>39083.0</td>\n      <td>0.000000</td>\n      <td>39083.0</td>\n      <td>0.000000</td>\n      <td>39083.0</td>\n      <td>0.0</td>\n      <td>39083.0</td>\n    </tr>\n    <tr>\n      <th>14</th>\n      <td>S1.1</td>\n      <td>3.729824e-07</td>\n      <td>0.005000</td>\n      <td>0.0</td>\n      <td>1.145692e-07</td>\n      <td>27.937296</td>\n      <td>0.0</td>\n      <td>0.0</td>\n      <td>0.0</td>\n      <td>0.0</td>\n      <td>...</td>\n      <td>0.0</td>\n      <td>36385.153628</td>\n      <td>47.329908</td>\n      <td>39083.0</td>\n      <td>0.000000</td>\n      <td>39083.0</td>\n      <td>0.000000</td>\n      <td>39083.0</td>\n      <td>0.0</td>\n      <td>39083.0</td>\n    </tr>\n    <tr>\n      <th>15</th>\n      <td>S1.2</td>\n      <td>3.731901e-07</td>\n      <td>0.005000</td>\n      <td>0.0</td>\n      <td>1.383173e-07</td>\n      <td>27.937296</td>\n      <td>0.0</td>\n      <td>0.0</td>\n      <td>0.0</td>\n      <td>0.0</td>\n      <td>...</td>\n      <td>0.0</td>\n      <td>43902.749785</td>\n      <td>63.181725</td>\n      <td>39083.0</td>\n      <td>0.000000</td>\n      <td>39083.0</td>\n      <td>0.000000</td>\n      <td>39083.0</td>\n      <td>0.0</td>\n      <td>39083.0</td>\n    </tr>\n    <tr>\n      <th>16</th>\n      <td>S1.3</td>\n      <td>2.158134e-07</td>\n      <td>0.005000</td>\n      <td>0.0</td>\n      <td>7.144661e-08</td>\n      <td>27.937296</td>\n      <td>0.0</td>\n      <td>0.0</td>\n      <td>0.0</td>\n      <td>0.0</td>\n      <td>...</td>\n      <td>0.0</td>\n      <td>39136.109324</td>\n      <td>66.469050</td>\n      <td>39083.0</td>\n      <td>0.000000</td>\n      <td>39083.0</td>\n      <td>0.000000</td>\n      <td>39083.0</td>\n      <td>0.0</td>\n      <td>39083.0</td>\n    </tr>\n    <tr>\n      <th>17</th>\n      <td>S2.1</td>\n      <td>2.157604e-07</td>\n      <td>0.005000</td>\n      <td>0.0</td>\n      <td>4.939248e-08</td>\n      <td>27.937296</td>\n      <td>0.0</td>\n      <td>0.0</td>\n      <td>0.0</td>\n      <td>0.0</td>\n      <td>...</td>\n      <td>0.0</td>\n      <td>27062.202874</td>\n      <td>47.492362</td>\n      <td>39083.0</td>\n      <td>0.000000</td>\n      <td>39083.0</td>\n      <td>0.000000</td>\n      <td>39083.0</td>\n      <td>0.0</td>\n      <td>39083.0</td>\n    </tr>\n    <tr>\n      <th>18</th>\n      <td>S2.2</td>\n      <td>4.167251e-07</td>\n      <td>0.005000</td>\n      <td>0.0</td>\n      <td>1.708147e-07</td>\n      <td>27.937296</td>\n      <td>0.0</td>\n      <td>0.0</td>\n      <td>0.0</td>\n      <td>0.0</td>\n      <td>...</td>\n      <td>0.0</td>\n      <td>48575.787544</td>\n      <td>0.000000</td>\n      <td>39083.0</td>\n      <td>74.520405</td>\n      <td>39083.0</td>\n      <td>0.000000</td>\n      <td>39083.0</td>\n      <td>0.0</td>\n      <td>39083.0</td>\n    </tr>\n    <tr>\n      <th>19</th>\n      <td>S2.3</td>\n      <td>4.171931e-07</td>\n      <td>0.005000</td>\n      <td>0.0</td>\n      <td>2.143272e-07</td>\n      <td>27.937296</td>\n      <td>0.0</td>\n      <td>0.0</td>\n      <td>0.0</td>\n      <td>0.0</td>\n      <td>...</td>\n      <td>0.0</td>\n      <td>60881.661319</td>\n      <td>0.000000</td>\n      <td>39083.0</td>\n      <td>78.044870</td>\n      <td>39083.0</td>\n      <td>0.000000</td>\n      <td>39083.0</td>\n      <td>0.0</td>\n      <td>39083.0</td>\n    </tr>\n    <tr>\n      <th>20</th>\n      <td>S_IT_1</td>\n      <td>0.000000e+00</td>\n      <td>0.000000</td>\n      <td>0.0</td>\n      <td>0.000000e+00</td>\n      <td>0.000000</td>\n      <td>0.0</td>\n      <td>0.0</td>\n      <td>0.0</td>\n      <td>0.0</td>\n      <td>...</td>\n      <td>0.0</td>\n      <td>0.000000</td>\n      <td>0.000000</td>\n      <td>39083.0</td>\n      <td>0.000000</td>\n      <td>39083.0</td>\n      <td>0.000000</td>\n      <td>39083.0</td>\n      <td>0.0</td>\n      <td>39083.0</td>\n    </tr>\n    <tr>\n      <th>21</th>\n      <td>S_IT_2</td>\n      <td>0.000000e+00</td>\n      <td>0.000000</td>\n      <td>0.0</td>\n      <td>0.000000e+00</td>\n      <td>0.000000</td>\n      <td>0.0</td>\n      <td>0.0</td>\n      <td>0.0</td>\n      <td>0.0</td>\n      <td>...</td>\n      <td>0.0</td>\n      <td>0.000000</td>\n      <td>0.000000</td>\n      <td>39083.0</td>\n      <td>0.000000</td>\n      <td>39083.0</td>\n      <td>0.000000</td>\n      <td>39083.0</td>\n      <td>0.0</td>\n      <td>39083.0</td>\n    </tr>\n    <tr>\n      <th>22</th>\n      <td>S_IT_3</td>\n      <td>0.000000e+00</td>\n      <td>0.000000</td>\n      <td>0.0</td>\n      <td>0.000000e+00</td>\n      <td>0.000000</td>\n      <td>0.0</td>\n      <td>0.0</td>\n      <td>0.0</td>\n      <td>0.0</td>\n      <td>...</td>\n      <td>0.0</td>\n      <td>0.000000</td>\n      <td>0.000000</td>\n      <td>39083.0</td>\n      <td>0.000000</td>\n      <td>39083.0</td>\n      <td>0.000000</td>\n      <td>39083.0</td>\n      <td>0.0</td>\n      <td>39083.0</td>\n    </tr>\n    <tr>\n      <th>23</th>\n      <td>S_IT_4</td>\n      <td>0.000000e+00</td>\n      <td>0.000000</td>\n      <td>0.0</td>\n      <td>0.000000e+00</td>\n      <td>0.000000</td>\n      <td>0.0</td>\n      <td>0.0</td>\n      <td>0.0</td>\n      <td>0.0</td>\n      <td>...</td>\n      <td>0.0</td>\n      <td>0.000000</td>\n      <td>0.000000</td>\n      <td>39083.0</td>\n      <td>0.000000</td>\n      <td>39083.0</td>\n      <td>0.000000</td>\n      <td>39083.0</td>\n      <td>0.0</td>\n      <td>39083.0</td>\n    </tr>\n  </tbody>\n</table>\n<p>24 rows × 21 columns</p>\n</div>"
     },
     "execution_count": 9,
     "metadata": {},
     "output_type": "execute_result"
    }
   ],
   "source": [
    "hsf.subcatchments_frame"
   ],
   "metadata": {
    "collapsed": false,
    "pycharm": {
     "name": "#%%\n"
    }
   }
  }
 ],
 "metadata": {
  "kernelspec": {
   "display_name": "Python 3",
   "language": "python",
   "name": "python3"
  },
  "language_info": {
   "codemirror_mode": {
    "name": "ipython",
    "version": 2
   },
   "file_extension": ".py",
   "mimetype": "text/x-python",
   "name": "python",
   "nbconvert_exporter": "python",
   "pygments_lexer": "ipython2",
   "version": "2.7.6"
  }
 },
 "nbformat": 4,
 "nbformat_minor": 0
}