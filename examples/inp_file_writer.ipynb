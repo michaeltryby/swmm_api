{
 "cells": [
  {
   "cell_type": "code",
   "execution_count": 1,
   "metadata": {
    "collapsed": true
   },
   "outputs": [],
   "source": [
    "import os\n",
    "\n",
    "from examples.epaswmm5_apps_manual import PATH_EXAMPLES\n",
    "from swmm_api import SwmmInput"
   ]
  },
  {
   "cell_type": "code",
   "execution_count": 2,
   "outputs": [],
   "source": [
    "inp = SwmmInput.read_file(os.path.join(PATH_EXAMPLES, 'Example6-Final_AllSections_GUI', 'Example6-Final_AllSections_GUI.inp'))"
   ],
   "metadata": {
    "collapsed": false,
    "pycharm": {
     "name": "#%%\n"
    }
   }
  },
  {
   "cell_type": "code",
   "execution_count": 3,
   "outputs": [
    {
     "name": "stdout",
     "output_type": "stream",
     "text": [
      "J1 4973 0 0 0 0\n",
      "J2 4969 0 0 0 0\n",
      "J3 4973 0 0 0 0\n",
      "J4 4971 0 0 0 0\n",
      "J5 4969.8 0 0 0 0\n",
      "J6 4969 0 0 0 0\n",
      "J7 4971.5 0 0 0 0\n",
      "J8 4966.5 0 0 0 0\n",
      "J9 4964.8 0 0 0 0\n",
      "J10 4963.8 0 0 0 0\n",
      "J11 4963 0 0 0 0\n",
      "J12 4973.8 0 0 0 0\n",
      "J13 4970.7 0 0 0 0\n",
      "J14 4972.9 0 0 0 0\n",
      "J15 4974.5 0 0 0 0\n",
      "J16 4973.5 0 0 0 0\n",
      "J17 4973.5 0 0 0 0\n",
      "J_out 4954 0 0 0 0\n"
     ]
    }
   ],
   "source": [
    "print(inp.JUNCTIONS.to_inp_lines(sort_objects_alphabetical=True, fast=True))"
   ],
   "metadata": {
    "collapsed": false,
    "pycharm": {
     "name": "#%%\n"
    }
   }
  },
  {
   "cell_type": "code",
   "execution_count": 4,
   "outputs": [
    {
     "name": "stdout",
     "output_type": "stream",
     "text": [
      "J1 4973 0 0 0 0\n",
      "J2 4969 0 0 0 0\n",
      "J3 4973 0 0 0 0\n",
      "J4 4971 0 0 0 0\n",
      "J5 4969.8 0 0 0 0\n",
      "J6 4969 0 0 0 0\n",
      "J7 4971.5 0 0 0 0\n",
      "J8 4966.5 0 0 0 0\n",
      "J10 4963.8 0 0 0 0\n",
      "J9 4964.8 0 0 0 0\n",
      "J11 4963 0 0 0 0\n",
      "J12 4973.8 0 0 0 0\n",
      "J13 4970.7 0 0 0 0\n",
      "J14 4972.9 0 0 0 0\n",
      "J15 4974.5 0 0 0 0\n",
      "J16 4973.5 0 0 0 0\n",
      "J17 4973.5 0 0 0 0\n",
      "J_out 4954 0 0 0 0\n"
     ]
    }
   ],
   "source": [
    "print(inp.JUNCTIONS.to_inp_lines(sort_objects_alphabetical=False, fast=True))"
   ],
   "metadata": {
    "collapsed": false,
    "pycharm": {
     "name": "#%%\n"
    }
   }
  },
  {
   "cell_type": "code",
   "execution_count": 5,
   "outputs": [
    {
     "name": "stdout",
     "output_type": "stream",
     "text": [
      ";;     Elevation MaxDepth InitDepth SurDepth Aponded\n",
      ";;Name                                              \n",
      "J1          4973        0         0        0       0\n",
      "J2          4969        0         0        0       0\n",
      "J3          4973        0         0        0       0\n",
      "J4          4971        0         0        0       0\n",
      "J5        4969.8        0         0        0       0\n",
      "J6          4969        0         0        0       0\n",
      "J7        4971.5        0         0        0       0\n",
      "J8        4966.5        0         0        0       0\n",
      "J10       4963.8        0         0        0       0\n",
      "J9        4964.8        0         0        0       0\n",
      "J11         4963        0         0        0       0\n",
      "J12       4973.8        0         0        0       0\n",
      "J13       4970.7        0         0        0       0\n",
      "J14       4972.9        0         0        0       0\n",
      "J15       4974.5        0         0        0       0\n",
      "J16       4973.5        0         0        0       0\n",
      "J17       4973.5        0         0        0       0\n",
      "J_out       4954        0         0        0       0\n"
     ]
    }
   ],
   "source": [
    "print(inp.JUNCTIONS.to_inp_lines(sort_objects_alphabetical=False, fast=False))"
   ],
   "metadata": {
    "collapsed": false,
    "pycharm": {
     "name": "#%%\n"
    }
   }
  },
  {
   "cell_type": "code",
   "execution_count": 6,
   "outputs": [
    {
     "name": "stdout",
     "output_type": "stream",
     "text": [
      ";;     Elevation MaxDepth InitDepth SurDepth Aponded\n",
      ";;Name                                              \n",
      "J1          4973        0         0        0       0\n",
      "J2          4969        0         0        0       0\n",
      "J3          4973        0         0        0       0\n",
      "J4          4971        0         0        0       0\n",
      "J5        4969.8        0         0        0       0\n",
      "J6          4969        0         0        0       0\n",
      "J7        4971.5        0         0        0       0\n",
      "J8        4966.5        0         0        0       0\n",
      "J9        4964.8        0         0        0       0\n",
      "J10       4963.8        0         0        0       0\n",
      "J11         4963        0         0        0       0\n",
      "J12       4973.8        0         0        0       0\n",
      "J13       4970.7        0         0        0       0\n",
      "J14       4972.9        0         0        0       0\n",
      "J15       4974.5        0         0        0       0\n",
      "J16       4973.5        0         0        0       0\n",
      "J17       4973.5        0         0        0       0\n",
      "J_out       4954        0         0        0       0\n"
     ]
    }
   ],
   "source": [
    "print(inp.JUNCTIONS.to_inp_lines(sort_objects_alphabetical=True, fast=False))"
   ],
   "metadata": {
    "collapsed": false,
    "pycharm": {
     "name": "#%%\n"
    }
   }
  }
 ],
 "metadata": {
  "kernelspec": {
   "display_name": "Python 3",
   "language": "python",
   "name": "python3"
  },
  "language_info": {
   "codemirror_mode": {
    "name": "ipython",
    "version": 2
   },
   "file_extension": ".py",
   "mimetype": "text/x-python",
   "name": "python",
   "nbconvert_exporter": "python",
   "pygments_lexer": "ipython2",
   "version": "2.7.6"
  }
 },
 "nbformat": 4,
 "nbformat_minor": 0
}