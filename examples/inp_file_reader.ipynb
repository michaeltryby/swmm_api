{
 "cells": [
  {
   "cell_type": "markdown",
   "source": [
    "## Example for INP File Reader"
   ],
   "metadata": {
    "collapsed": false,
    "pycharm": {
     "name": "#%% md\n"
    }
   }
  },
  {
   "cell_type": "code",
   "execution_count": 1,
   "metadata": {
    "collapsed": true
   },
   "outputs": [],
   "source": [
    "from swmm_api.input_file import read_inp_file, InpSection\n",
    "from swmm_api.input_file.inp_sections import labels as sections\n",
    "from swmm_api.input_file.inp_sections import Outfall\n"
   ]
  },
  {
   "cell_type": "markdown",
   "source": [
    "Read der ``.inp``-file\n",
    "the ``inp`` object is like a dictionary"
   ],
   "metadata": {
    "collapsed": false
   }
  },
  {
   "cell_type": "code",
   "execution_count": 2,
   "outputs": [],
   "source": [
    "inp = read_inp_file('epaswmm5_apps_manual/Example7-Final.inp')\n"
   ],
   "metadata": {
    "collapsed": false,
    "pycharm": {
     "name": "#%%\n"
    }
   }
  },
  {
   "cell_type": "markdown",
   "source": [
    "Get the Options as a dictionary"
   ],
   "metadata": {
    "collapsed": false
   }
  },
  {
   "cell_type": "code",
   "execution_count": 3,
   "outputs": [
    {
     "data": {
      "text/plain": "{'FLOW_UNITS': 'CMS',\n 'INFILTRATION': 'HORTON',\n 'FLOW_ROUTING': 'DYNWAVE',\n 'LINK_OFFSETS': 'DEPTH',\n 'MIN_SLOPE': 0,\n 'ALLOW_PONDING': False,\n 'SKIP_STEADY_STATE': False,\n 'START_DATE': datetime.date(2007, 1, 1),\n 'START_TIME': datetime.time(0, 0),\n 'REPORT_START_DATE': datetime.date(2007, 1, 1),\n 'REPORT_START_TIME': datetime.time(0, 0),\n 'END_DATE': datetime.date(2007, 1, 1),\n 'END_TIME': datetime.time(12, 0),\n 'SWEEP_START': '01/01',\n 'SWEEP_END': '12/31',\n 'DRY_DAYS': 0,\n 'REPORT_STEP': datetime.time(0, 1),\n 'WET_STEP': datetime.time(0, 1),\n 'DRY_STEP': datetime.time(1, 0),\n 'ROUTING_STEP': '0:00:15',\n 'RULE_STEP': datetime.time(0, 0),\n 'INERTIAL_DAMPING': 'PARTIAL',\n 'NORMAL_FLOW_LIMITED': 'SLOPE',\n 'FORCE_MAIN_EQUATION': 'H-W',\n 'VARIABLE_STEP': 0.75,\n 'LENGTHENING_STEP': 0,\n 'MIN_SURFAREA': 0,\n 'MAX_TRIALS': 0,\n 'HEAD_TOLERANCE': 0,\n 'SYS_FLOW_TOL': 5,\n 'LAT_FLOW_TOL': 5,\n 'MINIMUM_STEP': 0.5,\n 'THREADS': 1}"
     },
     "execution_count": 3,
     "metadata": {},
     "output_type": "execute_result"
    }
   ],
   "source": [
    "inp[sections.OPTIONS]\n"
   ],
   "metadata": {
    "collapsed": false,
    "pycharm": {
     "name": "#%%\n"
    }
   }
  },
  {
   "cell_type": "markdown",
   "source": [
    "to convert a section to a string, use the ``.to_inp()`` method"
   ],
   "metadata": {
    "collapsed": false
   }
  },
  {
   "cell_type": "code",
   "execution_count": 4,
   "outputs": [
    {
     "name": "stdout",
     "output_type": "stream",
     "text": [
      "INPUT          YES\n",
      "SUBCATCHMENTS  ALL\n",
      "NODES          ALL\n",
      "LINKS          ALL\n",
      "\n"
     ]
    }
   ],
   "source": [
    "print(inp[sections.REPORT].to_inp())"
   ],
   "metadata": {
    "collapsed": false,
    "pycharm": {
     "name": "#%%\n"
    }
   }
  },
  {
   "cell_type": "markdown",
   "source": [
    "to convert a section to a pandas-dataframe, use the ``.frame`` property method\n",
    "\n",
    "this is only possible for sections with a table-like structure (i.e. not for OPTIONS, REPORT, ...)"
   ],
   "metadata": {
    "collapsed": false
   }
  },
  {
   "cell_type": "code",
   "execution_count": 5,
   "outputs": [
    {
     "data": {
      "text/plain": "      RainGage Outlet  Area  Imperv  Width  Slope  CurbLen  SnowPack\nName                                                                \nS1    RainGage   Aux1  4.55    56.8   1587    2.0        0       NaN\nS2    RainGage   Aux2  4.74    63.0   1653    2.0        0       NaN\nS3    RainGage   Aux3  3.74    39.5   1456    3.1        0       NaN\nS4    RainGage     J7  6.79    49.9   2331    3.1        0       NaN\nS5    RainGage    J10  4.79    87.7   1670    2.0        0       NaN\nS6    RainGage    J11  1.98    95.0    690    2.0        0       NaN\nS7    RainGage    J10  2.33     0.0    907    3.1        0       NaN",
      "text/html": "<div>\n<style scoped>\n    .dataframe tbody tr th:only-of-type {\n        vertical-align: middle;\n    }\n\n    .dataframe tbody tr th {\n        vertical-align: top;\n    }\n\n    .dataframe thead th {\n        text-align: right;\n    }\n</style>\n<table border=\"1\" class=\"dataframe\">\n  <thead>\n    <tr style=\"text-align: right;\">\n      <th></th>\n      <th>RainGage</th>\n      <th>Outlet</th>\n      <th>Area</th>\n      <th>Imperv</th>\n      <th>Width</th>\n      <th>Slope</th>\n      <th>CurbLen</th>\n      <th>SnowPack</th>\n    </tr>\n    <tr>\n      <th>Name</th>\n      <th></th>\n      <th></th>\n      <th></th>\n      <th></th>\n      <th></th>\n      <th></th>\n      <th></th>\n      <th></th>\n    </tr>\n  </thead>\n  <tbody>\n    <tr>\n      <th>S1</th>\n      <td>RainGage</td>\n      <td>Aux1</td>\n      <td>4.55</td>\n      <td>56.8</td>\n      <td>1587</td>\n      <td>2.0</td>\n      <td>0</td>\n      <td>NaN</td>\n    </tr>\n    <tr>\n      <th>S2</th>\n      <td>RainGage</td>\n      <td>Aux2</td>\n      <td>4.74</td>\n      <td>63.0</td>\n      <td>1653</td>\n      <td>2.0</td>\n      <td>0</td>\n      <td>NaN</td>\n    </tr>\n    <tr>\n      <th>S3</th>\n      <td>RainGage</td>\n      <td>Aux3</td>\n      <td>3.74</td>\n      <td>39.5</td>\n      <td>1456</td>\n      <td>3.1</td>\n      <td>0</td>\n      <td>NaN</td>\n    </tr>\n    <tr>\n      <th>S4</th>\n      <td>RainGage</td>\n      <td>J7</td>\n      <td>6.79</td>\n      <td>49.9</td>\n      <td>2331</td>\n      <td>3.1</td>\n      <td>0</td>\n      <td>NaN</td>\n    </tr>\n    <tr>\n      <th>S5</th>\n      <td>RainGage</td>\n      <td>J10</td>\n      <td>4.79</td>\n      <td>87.7</td>\n      <td>1670</td>\n      <td>2.0</td>\n      <td>0</td>\n      <td>NaN</td>\n    </tr>\n    <tr>\n      <th>S6</th>\n      <td>RainGage</td>\n      <td>J11</td>\n      <td>1.98</td>\n      <td>95.0</td>\n      <td>690</td>\n      <td>2.0</td>\n      <td>0</td>\n      <td>NaN</td>\n    </tr>\n    <tr>\n      <th>S7</th>\n      <td>RainGage</td>\n      <td>J10</td>\n      <td>2.33</td>\n      <td>0.0</td>\n      <td>907</td>\n      <td>3.1</td>\n      <td>0</td>\n      <td>NaN</td>\n    </tr>\n  </tbody>\n</table>\n</div>"
     },
     "execution_count": 5,
     "metadata": {},
     "output_type": "execute_result"
    }
   ],
   "source": [
    "inp[sections.SUBCATCHMENTS].frame"
   ],
   "metadata": {
    "collapsed": false,
    "pycharm": {
     "name": "#%%\n"
    }
   }
  },
  {
   "cell_type": "markdown",
   "source": [
    "now you can combine all connected subcatchment data to a single dataframe"
   ],
   "metadata": {
    "collapsed": false
   }
  },
  {
   "cell_type": "code",
   "execution_count": 6,
   "outputs": [
    {
     "data": {
      "text/plain": "      RainGage Outlet  Area  Imperv  Width  Slope  CurbLen  SnowPack  \\\nName                                                                   \nS1    RainGage   Aux1  4.55    56.8   1587    2.0        0       NaN   \nS2    RainGage   Aux2  4.74    63.0   1653    2.0        0       NaN   \nS3    RainGage   Aux3  3.74    39.5   1456    3.1        0       NaN   \nS4    RainGage     J7  6.79    49.9   2331    3.1        0       NaN   \nS5    RainGage    J10  4.79    87.7   1670    2.0        0       NaN   \nS6    RainGage    J11  1.98    95.0    690    2.0        0       NaN   \nS7    RainGage    J10  2.33     0.0    907    3.1        0       NaN   \n\n      N_Imperv  N_Perv  ...  S_Perv  PctZero  RouteTo PctRouted  MaxRate  \\\nName                    ...                                                \nS1       0.015    0.24  ...     0.3       25   OUTLET       100      4.5   \nS2       0.015    0.24  ...     0.3       25   OUTLET       100      4.5   \nS3       0.015    0.24  ...     0.3       25   OUTLET       100      4.5   \nS4       0.015    0.24  ...     0.3       25   OUTLET       100      4.5   \nS5       0.015    0.24  ...     0.3       25   OUTLET       100      4.5   \nS6       0.015    0.24  ...     0.3       25   OUTLET       100      4.5   \nS7       0.015    0.24  ...     0.3       25   OUTLET       100      4.5   \n\n      MinRate  Decay  DryTime  MaxInf  kind  \nName                                         \nS1        0.2    6.5        7       0   NaN  \nS2        0.2    6.5        7       0   NaN  \nS3        0.2    6.5        7       0   NaN  \nS4        0.2    6.5        7       0   NaN  \nS5        0.2    6.5        7       0   NaN  \nS6        0.2    6.5        7       0   NaN  \nS7        0.2    6.5        7       0   NaN  \n\n[7 rows x 21 columns]",
      "text/html": "<div>\n<style scoped>\n    .dataframe tbody tr th:only-of-type {\n        vertical-align: middle;\n    }\n\n    .dataframe tbody tr th {\n        vertical-align: top;\n    }\n\n    .dataframe thead th {\n        text-align: right;\n    }\n</style>\n<table border=\"1\" class=\"dataframe\">\n  <thead>\n    <tr style=\"text-align: right;\">\n      <th></th>\n      <th>RainGage</th>\n      <th>Outlet</th>\n      <th>Area</th>\n      <th>Imperv</th>\n      <th>Width</th>\n      <th>Slope</th>\n      <th>CurbLen</th>\n      <th>SnowPack</th>\n      <th>N_Imperv</th>\n      <th>N_Perv</th>\n      <th>...</th>\n      <th>S_Perv</th>\n      <th>PctZero</th>\n      <th>RouteTo</th>\n      <th>PctRouted</th>\n      <th>MaxRate</th>\n      <th>MinRate</th>\n      <th>Decay</th>\n      <th>DryTime</th>\n      <th>MaxInf</th>\n      <th>kind</th>\n    </tr>\n    <tr>\n      <th>Name</th>\n      <th></th>\n      <th></th>\n      <th></th>\n      <th></th>\n      <th></th>\n      <th></th>\n      <th></th>\n      <th></th>\n      <th></th>\n      <th></th>\n      <th></th>\n      <th></th>\n      <th></th>\n      <th></th>\n      <th></th>\n      <th></th>\n      <th></th>\n      <th></th>\n      <th></th>\n      <th></th>\n      <th></th>\n    </tr>\n  </thead>\n  <tbody>\n    <tr>\n      <th>S1</th>\n      <td>RainGage</td>\n      <td>Aux1</td>\n      <td>4.55</td>\n      <td>56.8</td>\n      <td>1587</td>\n      <td>2.0</td>\n      <td>0</td>\n      <td>NaN</td>\n      <td>0.015</td>\n      <td>0.24</td>\n      <td>...</td>\n      <td>0.3</td>\n      <td>25</td>\n      <td>OUTLET</td>\n      <td>100</td>\n      <td>4.5</td>\n      <td>0.2</td>\n      <td>6.5</td>\n      <td>7</td>\n      <td>0</td>\n      <td>NaN</td>\n    </tr>\n    <tr>\n      <th>S2</th>\n      <td>RainGage</td>\n      <td>Aux2</td>\n      <td>4.74</td>\n      <td>63.0</td>\n      <td>1653</td>\n      <td>2.0</td>\n      <td>0</td>\n      <td>NaN</td>\n      <td>0.015</td>\n      <td>0.24</td>\n      <td>...</td>\n      <td>0.3</td>\n      <td>25</td>\n      <td>OUTLET</td>\n      <td>100</td>\n      <td>4.5</td>\n      <td>0.2</td>\n      <td>6.5</td>\n      <td>7</td>\n      <td>0</td>\n      <td>NaN</td>\n    </tr>\n    <tr>\n      <th>S3</th>\n      <td>RainGage</td>\n      <td>Aux3</td>\n      <td>3.74</td>\n      <td>39.5</td>\n      <td>1456</td>\n      <td>3.1</td>\n      <td>0</td>\n      <td>NaN</td>\n      <td>0.015</td>\n      <td>0.24</td>\n      <td>...</td>\n      <td>0.3</td>\n      <td>25</td>\n      <td>OUTLET</td>\n      <td>100</td>\n      <td>4.5</td>\n      <td>0.2</td>\n      <td>6.5</td>\n      <td>7</td>\n      <td>0</td>\n      <td>NaN</td>\n    </tr>\n    <tr>\n      <th>S4</th>\n      <td>RainGage</td>\n      <td>J7</td>\n      <td>6.79</td>\n      <td>49.9</td>\n      <td>2331</td>\n      <td>3.1</td>\n      <td>0</td>\n      <td>NaN</td>\n      <td>0.015</td>\n      <td>0.24</td>\n      <td>...</td>\n      <td>0.3</td>\n      <td>25</td>\n      <td>OUTLET</td>\n      <td>100</td>\n      <td>4.5</td>\n      <td>0.2</td>\n      <td>6.5</td>\n      <td>7</td>\n      <td>0</td>\n      <td>NaN</td>\n    </tr>\n    <tr>\n      <th>S5</th>\n      <td>RainGage</td>\n      <td>J10</td>\n      <td>4.79</td>\n      <td>87.7</td>\n      <td>1670</td>\n      <td>2.0</td>\n      <td>0</td>\n      <td>NaN</td>\n      <td>0.015</td>\n      <td>0.24</td>\n      <td>...</td>\n      <td>0.3</td>\n      <td>25</td>\n      <td>OUTLET</td>\n      <td>100</td>\n      <td>4.5</td>\n      <td>0.2</td>\n      <td>6.5</td>\n      <td>7</td>\n      <td>0</td>\n      <td>NaN</td>\n    </tr>\n    <tr>\n      <th>S6</th>\n      <td>RainGage</td>\n      <td>J11</td>\n      <td>1.98</td>\n      <td>95.0</td>\n      <td>690</td>\n      <td>2.0</td>\n      <td>0</td>\n      <td>NaN</td>\n      <td>0.015</td>\n      <td>0.24</td>\n      <td>...</td>\n      <td>0.3</td>\n      <td>25</td>\n      <td>OUTLET</td>\n      <td>100</td>\n      <td>4.5</td>\n      <td>0.2</td>\n      <td>6.5</td>\n      <td>7</td>\n      <td>0</td>\n      <td>NaN</td>\n    </tr>\n    <tr>\n      <th>S7</th>\n      <td>RainGage</td>\n      <td>J10</td>\n      <td>2.33</td>\n      <td>0.0</td>\n      <td>907</td>\n      <td>3.1</td>\n      <td>0</td>\n      <td>NaN</td>\n      <td>0.015</td>\n      <td>0.24</td>\n      <td>...</td>\n      <td>0.3</td>\n      <td>25</td>\n      <td>OUTLET</td>\n      <td>100</td>\n      <td>4.5</td>\n      <td>0.2</td>\n      <td>6.5</td>\n      <td>7</td>\n      <td>0</td>\n      <td>NaN</td>\n    </tr>\n  </tbody>\n</table>\n<p>7 rows × 21 columns</p>\n</div>"
     },
     "execution_count": 6,
     "metadata": {},
     "output_type": "execute_result"
    }
   ],
   "source": [
    "inp[sections.SUBCATCHMENTS].frame.join(inp[sections.SUBAREAS].frame).join(inp[sections.INFILTRATION].frame)\n"
   ],
   "metadata": {
    "collapsed": false,
    "pycharm": {
     "name": "#%%\n"
    }
   }
  },
  {
   "cell_type": "markdown",
   "source": [
    "single sections are build like a dict"
   ],
   "metadata": {
    "collapsed": false
   }
  },
  {
   "cell_type": "code",
   "execution_count": 7,
   "outputs": [
    {
     "data": {
      "text/plain": "{'O1': Outfall(Name = \"O1\", Elevation = 4956, Type = \"FREE\", Data = NaN, FlapGate = False, RouteTo = NaN)}"
     },
     "execution_count": 7,
     "metadata": {},
     "output_type": "execute_result"
    }
   ],
   "source": [
    "inp[sections.OUTFALLS]"
   ],
   "metadata": {
    "collapsed": false,
    "pycharm": {
     "name": "#%%\n"
    }
   }
  },
  {
   "cell_type": "code",
   "execution_count": 8,
   "outputs": [
    {
     "data": {
      "text/plain": "Outfall(Name = \"O1\", Elevation = 4956, Type = \"FREE\", Data = NaN, FlapGate = False, RouteTo = NaN)"
     },
     "execution_count": 8,
     "metadata": {},
     "output_type": "execute_result"
    }
   ],
   "source": [
    "inp[sections.OUTFALLS]['O1']\n"
   ],
   "metadata": {
    "collapsed": false,
    "pycharm": {
     "name": "#%%\n"
    }
   }
  },
  {
   "cell_type": "markdown",
   "source": [
    "you can get and edit single values of objects"
   ],
   "metadata": {
    "collapsed": false
   }
  },
  {
   "cell_type": "code",
   "execution_count": 9,
   "outputs": [
    {
     "data": {
      "text/plain": "4956"
     },
     "execution_count": 9,
     "metadata": {},
     "output_type": "execute_result"
    }
   ],
   "source": [
    "inp[sections.OUTFALLS]['O1'].Elevation\n"
   ],
   "metadata": {
    "collapsed": false,
    "pycharm": {
     "name": "#%%\n"
    }
   }
  },
  {
   "cell_type": "markdown",
   "source": [
    "... and you can add new objects, or even build the whole model in python"
   ],
   "metadata": {
    "collapsed": false
   }
  },
  {
   "cell_type": "code",
   "execution_count": 10,
   "outputs": [
    {
     "data": {
      "text/plain": "      Elevation  Type  Data  FlapGate  RouteTo\nName                                          \nO1         4956  FREE   NaN     False      NaN\nO2         4999  FREE   NaN     False      NaN",
      "text/html": "<div>\n<style scoped>\n    .dataframe tbody tr th:only-of-type {\n        vertical-align: middle;\n    }\n\n    .dataframe tbody tr th {\n        vertical-align: top;\n    }\n\n    .dataframe thead th {\n        text-align: right;\n    }\n</style>\n<table border=\"1\" class=\"dataframe\">\n  <thead>\n    <tr style=\"text-align: right;\">\n      <th></th>\n      <th>Elevation</th>\n      <th>Type</th>\n      <th>Data</th>\n      <th>FlapGate</th>\n      <th>RouteTo</th>\n    </tr>\n    <tr>\n      <th>Name</th>\n      <th></th>\n      <th></th>\n      <th></th>\n      <th></th>\n      <th></th>\n    </tr>\n  </thead>\n  <tbody>\n    <tr>\n      <th>O1</th>\n      <td>4956</td>\n      <td>FREE</td>\n      <td>NaN</td>\n      <td>False</td>\n      <td>NaN</td>\n    </tr>\n    <tr>\n      <th>O2</th>\n      <td>4999</td>\n      <td>FREE</td>\n      <td>NaN</td>\n      <td>False</td>\n      <td>NaN</td>\n    </tr>\n  </tbody>\n</table>\n</div>"
     },
     "execution_count": 10,
     "metadata": {},
     "output_type": "execute_result"
    }
   ],
   "source": [
    "inp[sections.OUTFALLS].append(Outfall('O2', Elevation=4999, Type=Outfall.Types.FREE))\n",
    "inp[sections.OUTFALLS].frame"
   ],
   "metadata": {
    "collapsed": false,
    "pycharm": {
     "name": "#%%\n"
    }
   }
  },
  {
   "cell_type": "markdown",
   "source": [
    "or even build the whole model in python"
   ],
   "metadata": {
    "collapsed": false
   }
  },
  {
   "cell_type": "code",
   "execution_count": 11,
   "outputs": [
    {
     "data": {
      "text/plain": "      Elevation  Type  Data  FlapGate  RouteTo\nName                                          \nO1         1234  FREE   NaN     False      NaN\nO2          689  FREE   NaN     False      NaN",
      "text/html": "<div>\n<style scoped>\n    .dataframe tbody tr th:only-of-type {\n        vertical-align: middle;\n    }\n\n    .dataframe tbody tr th {\n        vertical-align: top;\n    }\n\n    .dataframe thead th {\n        text-align: right;\n    }\n</style>\n<table border=\"1\" class=\"dataframe\">\n  <thead>\n    <tr style=\"text-align: right;\">\n      <th></th>\n      <th>Elevation</th>\n      <th>Type</th>\n      <th>Data</th>\n      <th>FlapGate</th>\n      <th>RouteTo</th>\n    </tr>\n    <tr>\n      <th>Name</th>\n      <th></th>\n      <th></th>\n      <th></th>\n      <th></th>\n      <th></th>\n    </tr>\n  </thead>\n  <tbody>\n    <tr>\n      <th>O1</th>\n      <td>1234</td>\n      <td>FREE</td>\n      <td>NaN</td>\n      <td>False</td>\n      <td>NaN</td>\n    </tr>\n    <tr>\n      <th>O2</th>\n      <td>689</td>\n      <td>FREE</td>\n      <td>NaN</td>\n      <td>False</td>\n      <td>NaN</td>\n    </tr>\n  </tbody>\n</table>\n</div>"
     },
     "execution_count": 11,
     "metadata": {},
     "output_type": "execute_result"
    }
   ],
   "source": [
    "inp[sections.OUTFALLS] = InpSection(Outfall)\n",
    "inp[sections.OUTFALLS].append(Outfall('O1', Elevation=1234, Type=Outfall.Types.FREE))\n",
    "inp[sections.OUTFALLS].append(Outfall('O2', Elevation=689, Type=Outfall.Types.FREE))\n",
    "inp[sections.OUTFALLS].frame"
   ],
   "metadata": {
    "collapsed": false,
    "pycharm": {
     "name": "#%%\n"
    }
   }
  },
  {
   "cell_type": "markdown",
   "source": [
    "to convert a section with multiple dataframe to pandas-dataframes, use the ``.frame`` property method\n",
    "\n",
    "this is only possible for sections with a multi-table-like structure (i.e.TIMESERIES, CURVES ...)\n",
    "\n",
    "this will return a pandas.Series (TIMESERIES) or pandas.DataFrame (CURVES)"
   ],
   "metadata": {
    "collapsed": false
   }
  },
  {
   "cell_type": "code",
   "execution_count": 12,
   "outputs": [
    {
     "data": {
      "text/plain": "0:00    1.00\n0:05    1.14\n0:10    1.33\n0:15    2.23\n0:20    2.84\n0:25    5.49\n0:30    9.95\n0:35    4.12\n0:40    2.48\n0:45    1.46\n0:50    1.22\n0:55    1.06\n1:00    1.00\n1:05    0.95\n1:10    0.91\n1:15    0.87\n1:20    0.84\n1:25    0.81\n1:30    0.78\n1:35    0.75\n1:40    0.73\n1:45    0.71\n1:50    0.69\n1:55    0.67\nName: 100-yr, dtype: float64"
     },
     "execution_count": 12,
     "metadata": {},
     "output_type": "execute_result"
    }
   ],
   "source": [
    "timeseries = inp[sections.TIMESERIES]['100-yr'].frame\n",
    "timeseries\n"
   ],
   "metadata": {
    "collapsed": false,
    "pycharm": {
     "name": "#%%\n"
    }
   }
  },
  {
   "cell_type": "markdown",
   "source": [
    "if you want to delete sections, you can do that in a pythonic way"
   ],
   "metadata": {
    "collapsed": false,
    "pycharm": {
     "name": "#%% md\n"
    }
   }
  },
  {
   "cell_type": "code",
   "execution_count": 13,
   "outputs": [
    {
     "name": "stdout",
     "output_type": "stream",
     "text": [
      "Before\n",
      "dict_keys(['TITLE', 'OPTIONS', 'EVAPORATION', 'RAINGAGES', 'SUBCATCHMENTS', 'SUBAREAS', 'INFILTRATION', 'JUNCTIONS', 'OUTFALLS', 'CONDUITS', 'XSECTIONS', 'TRANSECTS', 'TIMESERIES', 'REPORT', 'TAGS', 'MAP', 'COORDINATES', 'VERTICES', 'POLYGONS', 'SYMBOLS', 'LABELS', 'BACKDROP'])\n",
      "After\n",
      "dict_keys(['TITLE', 'OPTIONS', 'EVAPORATION', 'RAINGAGES', 'SUBCATCHMENTS', 'SUBAREAS', 'INFILTRATION', 'JUNCTIONS', 'OUTFALLS', 'CONDUITS', 'XSECTIONS', 'TIMESERIES', 'REPORT', 'TAGS', 'MAP', 'COORDINATES', 'VERTICES', 'POLYGONS', 'SYMBOLS', 'LABELS', 'BACKDROP'])\n"
     ]
    }
   ],
   "source": [
    "print('Before')\n",
    "print(inp.keys())\n",
    "del inp[sections.TRANSECTS]\n",
    "print('After')\n",
    "print(inp.keys())"
   ],
   "metadata": {
    "collapsed": false,
    "pycharm": {
     "name": "#%%\n"
    }
   }
  }
 ],
 "metadata": {
  "kernelspec": {
   "display_name": "Python 3",
   "language": "python",
   "name": "python3"
  },
  "language_info": {
   "codemirror_mode": {
    "name": "ipython",
    "version": 2
   },
   "file_extension": ".py",
   "mimetype": "text/x-python",
   "name": "python",
   "nbconvert_exporter": "python",
   "pygments_lexer": "ipython2",
   "version": "2.7.6"
  }
 },
 "nbformat": 4,
 "nbformat_minor": 0
}