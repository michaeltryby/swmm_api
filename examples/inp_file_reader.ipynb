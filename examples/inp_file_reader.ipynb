{
 "cells": [
  {
   "cell_type": "markdown",
   "metadata": {
    "pycharm": {
     "name": "#%% md\n"
    }
   },
   "source": [
    "## Example for INP File Reader"
   ]
  },
  {
   "cell_type": "code",
   "execution_count": 15,
   "metadata": {},
   "outputs": [],
   "source": [
    "from swmm_api.input_file import read_inp_file, InpSection\n",
    "from swmm_api.input_file.inp_sections import labels as sections\n",
    "from swmm_api.input_file.inp_sections import Outfall"
   ]
  },
  {
   "cell_type": "markdown",
   "metadata": {},
   "source": [
    "Read der ``.inp``-file\n",
    "\n",
    "the ``inp`` object is like a dictionary"
   ]
  },
  {
   "cell_type": "code",
   "execution_count": 16,
   "metadata": {
    "pycharm": {
     "name": "#%%\n"
    }
   },
   "outputs": [],
   "source": [
    "inp = read_inp_file('epaswmm5_apps_manual/Example7-Final.inp')"
   ]
  },
  {
   "cell_type": "markdown",
   "metadata": {},
   "source": [
    "Get the Options as a dictionary"
   ]
  },
  {
   "cell_type": "code",
   "execution_count": 17,
   "metadata": {
    "pycharm": {
     "name": "#%%\n"
    }
   },
   "outputs": [
    {
     "data": {
      "text/plain": [
       "{'FLOW_UNITS': 'CFS',\n",
       " 'INFILTRATION': 'HORTON',\n",
       " 'FLOW_ROUTING': 'DYNWAVE',\n",
       " 'START_DATE': datetime.date(2007, 1, 1),\n",
       " 'START_TIME': datetime.time(0, 0),\n",
       " 'REPORT_START_DATE': datetime.date(2007, 1, 1),\n",
       " 'REPORT_START_TIME': datetime.time(0, 0),\n",
       " 'END_DATE': datetime.date(2007, 1, 1),\n",
       " 'END_TIME': datetime.time(12, 0),\n",
       " 'SWEEP_START': '01/01',\n",
       " 'SWEEP_END': '12/31',\n",
       " 'DRY_DAYS': 0,\n",
       " 'REPORT_STEP': datetime.time(0, 1),\n",
       " 'WET_STEP': datetime.time(0, 1),\n",
       " 'DRY_STEP': datetime.time(1, 0),\n",
       " 'ROUTING_STEP': '0:00:15',\n",
       " 'ALLOW_PONDING': False,\n",
       " 'INERTIAL_DAMPING': 'PARTIAL',\n",
       " 'VARIABLE_STEP': 0.75,\n",
       " 'LENGTHENING_STEP': 0,\n",
       " 'MIN_SURFAREA': 0,\n",
       " 'NORMAL_FLOW_LIMITED': 'SLOPE',\n",
       " 'SKIP_STEADY_STATE': False,\n",
       " 'FORCE_MAIN_EQUATION': 'H-W',\n",
       " 'LINK_OFFSETS': 'DEPTH',\n",
       " 'MIN_SLOPE': 0}"
      ]
     },
     "execution_count": 17,
     "metadata": {},
     "output_type": "execute_result"
    }
   ],
   "source": [
    "inp[sections.OPTIONS]"
   ]
  },
  {
   "cell_type": "markdown",
   "metadata": {},
   "source": [
    "Another way to get sections is to call them like an attribute"
   ]
  },
  {
   "cell_type": "code",
   "execution_count": 18,
   "metadata": {
    "pycharm": {
     "name": "#%%\n"
    }
   },
   "outputs": [
    {
     "data": {
      "text/plain": [
       "{'FLOW_UNITS': 'CFS',\n",
       " 'INFILTRATION': 'HORTON',\n",
       " 'FLOW_ROUTING': 'DYNWAVE',\n",
       " 'START_DATE': datetime.date(2007, 1, 1),\n",
       " 'START_TIME': datetime.time(0, 0),\n",
       " 'REPORT_START_DATE': datetime.date(2007, 1, 1),\n",
       " 'REPORT_START_TIME': datetime.time(0, 0),\n",
       " 'END_DATE': datetime.date(2007, 1, 1),\n",
       " 'END_TIME': datetime.time(12, 0),\n",
       " 'SWEEP_START': '01/01',\n",
       " 'SWEEP_END': '12/31',\n",
       " 'DRY_DAYS': 0,\n",
       " 'REPORT_STEP': datetime.time(0, 1),\n",
       " 'WET_STEP': datetime.time(0, 1),\n",
       " 'DRY_STEP': datetime.time(1, 0),\n",
       " 'ROUTING_STEP': '0:00:15',\n",
       " 'ALLOW_PONDING': False,\n",
       " 'INERTIAL_DAMPING': 'PARTIAL',\n",
       " 'VARIABLE_STEP': 0.75,\n",
       " 'LENGTHENING_STEP': 0,\n",
       " 'MIN_SURFAREA': 0,\n",
       " 'NORMAL_FLOW_LIMITED': 'SLOPE',\n",
       " 'SKIP_STEADY_STATE': False,\n",
       " 'FORCE_MAIN_EQUATION': 'H-W',\n",
       " 'LINK_OFFSETS': 'DEPTH',\n",
       " 'MIN_SLOPE': 0}"
      ]
     },
     "execution_count": 18,
     "metadata": {},
     "output_type": "execute_result"
    }
   ],
   "source": [
    "inp.OPTIONS"
   ]
  },
  {
   "cell_type": "markdown",
   "metadata": {},
   "source": [
    "But be aware that this is only for getting sections. You can't create objects like this."
   ]
  },
  {
   "cell_type": "code",
   "execution_count": 19,
   "metadata": {},
   "outputs": [
    {
     "data": {
      "text/plain": [
       "dict_keys(['TITLE', 'OPTIONS', 'EVAPORATION', 'RAINGAGES', 'SUBCATCHMENTS', 'SUBAREAS', 'INFILTRATION', 'JUNCTIONS', 'OUTFALLS', 'CONDUITS', 'XSECTIONS', 'TRANSECTS', 'LOSSES', 'TIMESERIES', 'REPORT', 'TAGS', 'MAP', 'COORDINATES', 'VERTICES', 'POLYGONS', 'SYMBOLS', 'LABELS', 'BACKDROP'])"
      ]
     },
     "execution_count": 19,
     "metadata": {},
     "output_type": "execute_result"
    }
   ],
   "source": [
    "inp.keys()"
   ]
  },
  {
   "cell_type": "code",
   "execution_count": 20,
   "metadata": {},
   "outputs": [
    {
     "data": {
      "text/plain": [
       "'POLLUTANTS'"
      ]
     },
     "execution_count": 20,
     "metadata": {},
     "output_type": "execute_result"
    }
   ],
   "source": [
    "sections.POLLUTANTS"
   ]
  },
  {
   "cell_type": "code",
   "execution_count": 21,
   "metadata": {},
   "outputs": [],
   "source": [
    "from swmm_api.input_file.inp_sections import Pollutant\n",
    "inp.POLLUTANTS = InpSection(Pollutant)\n",
    "inp.POLLUTANTS.append(Pollutant('test', Pollutant.UNITS.MG_PER_L, 0,0,0, 0))"
   ]
  },
  {
   "cell_type": "code",
   "execution_count": 22,
   "metadata": {},
   "outputs": [
    {
     "data": {
      "text/plain": [
       "{'test': Pollutant(Name = \"test\", Units = \"MG/L\", Crain = 0.0, Cgw = 0.0, Crdii = 0.0, Kdecay = 0.0, SnowOnly = False, Co_Pollutant = \"*\", Co_Frac = 0.0, Cdwf = 0.0, Cinit = 0.0)}"
      ]
     },
     "execution_count": 22,
     "metadata": {},
     "output_type": "execute_result"
    }
   ],
   "source": [
    "inp.POLLUTANTS"
   ]
  },
  {
   "cell_type": "code",
   "execution_count": 23,
   "metadata": {},
   "outputs": [
    {
     "data": {
      "text/plain": [
       "False"
      ]
     },
     "execution_count": 23,
     "metadata": {},
     "output_type": "execute_result"
    }
   ],
   "source": [
    "sections.POLLUTANTS in inp"
   ]
  },
  {
   "cell_type": "code",
   "execution_count": 24,
   "metadata": {},
   "outputs": [],
   "source": [
    "inp[sections.POLLUTANTS] = InpSection(Pollutant)\n",
    "inp.POLLUTANTS.append(Pollutant('test_NEU', Pollutant.UNITS.MG_PER_L, 0,0,0, 0))"
   ]
  },
  {
   "cell_type": "code",
   "execution_count": 25,
   "metadata": {},
   "outputs": [
    {
     "data": {
      "text/plain": [
       "True"
      ]
     },
     "execution_count": 25,
     "metadata": {},
     "output_type": "execute_result"
    }
   ],
   "source": [
    "sections.POLLUTANTS in inp"
   ]
  },
  {
   "cell_type": "code",
   "execution_count": 26,
   "metadata": {},
   "outputs": [
    {
     "data": {
      "text/plain": [
       "{'test_NEU': Pollutant(Name = \"test_NEU\", Units = \"MG/L\", Crain = 0.0, Cgw = 0.0, Crdii = 0.0, Kdecay = 0.0, SnowOnly = False, Co_Pollutant = \"*\", Co_Frac = 0.0, Cdwf = 0.0, Cinit = 0.0)}"
      ]
     },
     "execution_count": 26,
     "metadata": {},
     "output_type": "execute_result"
    }
   ],
   "source": [
    "inp.POLLUTANTS"
   ]
  },
  {
   "cell_type": "markdown",
   "metadata": {
    "pycharm": {
     "name": "#%% md\n"
    }
   },
   "source": [
    "to convert a section to a string, use the ``.to_inp_lines()`` method"
   ]
  },
  {
   "cell_type": "code",
   "execution_count": 27,
   "metadata": {
    "pycharm": {
     "name": "#%%\n"
    }
   },
   "outputs": [
    {
     "name": "stdout",
     "output_type": "stream",
     "text": [
      "FLOW_UNITS           CFS\n",
      "INFILTRATION         HORTON\n",
      "FLOW_ROUTING         DYNWAVE\n",
      "START_DATE           01/01/2007\n",
      "START_TIME           00:00:00\n",
      "REPORT_START_DATE    01/01/2007\n",
      "REPORT_START_TIME    00:00:00\n",
      "END_DATE             01/01/2007\n",
      "END_TIME             12:00:00\n",
      "SWEEP_START          01/01\n",
      "SWEEP_END            12/31\n",
      "DRY_DAYS             0\n",
      "REPORT_STEP          00:01:00\n",
      "WET_STEP             00:01:00\n",
      "DRY_STEP             01:00:00\n",
      "ROUTING_STEP         0:00:15\n",
      "ALLOW_PONDING        NO\n",
      "INERTIAL_DAMPING     PARTIAL\n",
      "VARIABLE_STEP        0.75\n",
      "LENGTHENING_STEP     0\n",
      "MIN_SURFAREA         0\n",
      "NORMAL_FLOW_LIMITED  SLOPE\n",
      "SKIP_STEADY_STATE    NO\n",
      "FORCE_MAIN_EQUATION  H-W\n",
      "LINK_OFFSETS         DEPTH\n",
      "MIN_SLOPE            0\n",
      "\n"
     ]
    }
   ],
   "source": [
    "print(inp[sections.OPTIONS].to_inp_lines())"
   ]
  },
  {
   "cell_type": "markdown",
   "metadata": {
    "pycharm": {
     "name": "#%% md\n"
    }
   },
   "source": [
    "to convert a section to a pandas-dataframe, use the ``.frame`` property method\n",
    "\n",
    "this is only possible for sections with a table-like structure (i.e. not for OPTIONS, REPORT, ...)"
   ]
  },
  {
   "cell_type": "code",
   "execution_count": 28,
   "metadata": {},
   "outputs": [
    {
     "name": "stdout",
     "output_type": "stream",
     "text": [
      "\"S1\": SubCatchment(Name = \"S1\", RainGage = \"RainGage\", Outlet = \"Aux1\", Area = 4.55, Imperv = 56.8, Width = 1587.0, Slope = 2.0, CurbLen = 0.0, SnowPack = NaN),\n",
      "\"S2\": SubCatchment(Name = \"S2\", RainGage = \"RainGage\", Outlet = \"Aux2\", Area = 4.74, Imperv = 63.0, Width = 1653.0, Slope = 2.0, CurbLen = 0.0, SnowPack = NaN),\n",
      "\"S3\": SubCatchment(Name = \"S3\", RainGage = \"RainGage\", Outlet = \"Aux3\", Area = 3.74, Imperv = 39.5, Width = 1456.0, Slope = 3.1, CurbLen = 0.0, SnowPack = NaN),\n",
      "\"S4\": SubCatchment(Name = \"S4\", RainGage = \"RainGage\", Outlet = \"J7\", Area = 6.79, Imperv = 49.9, Width = 2331.0, Slope = 3.1, CurbLen = 0.0, SnowPack = NaN),\n",
      "\"S5\": SubCatchment(Name = \"S5\", RainGage = \"RainGage\", Outlet = \"J10\", Area = 4.79, Imperv = 87.7, Width = 1670.0, Slope = 2.0, CurbLen = 0.0, SnowPack = NaN),\n",
      "\"S6\": SubCatchment(Name = \"S6\", RainGage = \"RainGage\", Outlet = \"J11\", Area = 1.98, Imperv = 95.0, Width = 690.0, Slope = 2.0, CurbLen = 0.0, SnowPack = NaN),\n",
      "\"S7\": SubCatchment(Name = \"S7\", RainGage = \"RainGage\", Outlet = \"J10\", Area = 2.33, Imperv = 0.0, Width = 907.0, Slope = 3.1, CurbLen = 0.0, SnowPack = NaN),\n"
     ]
    }
   ],
   "source": [
    "for label, obj in inp[sections.SUBCATCHMENTS].items():\n",
    "    print(f'\"{label}\": {obj},')"
   ]
  },
  {
   "cell_type": "code",
   "execution_count": 44,
   "metadata": {},
   "outputs": [
    {
     "name": "stdout",
     "output_type": "stream",
     "text": [
      ";;      RainGage Outlet  Area Imperv Width Slope CurbLen SnowPack\n",
      ";;Name                                                           \n",
      "S1      RainGage   Aux1  4.55   56.8  1587     2       0         \n",
      "S2      RainGage   Aux2  4.74     63  1653     2       0         \n",
      "S3      RainGage   Aux3  3.74   39.5  1456   3.1       0         \n",
      "S4      RainGage     J7  6.79   49.9  2331   3.1       0         \n",
      "S5      RainGage    J10  4.79   87.7  1670     2       0         \n",
      "S6      RainGage    J11  1.98     95   690     2       0         \n",
      "S7      RainGage    J10  2.33      0   907   3.1       0         \n"
     ]
    }
   ],
   "source": [
    "print(inp[sections.SUBCATCHMENTS].to_inp_lines())"
   ]
  },
  {
   "cell_type": "code",
   "execution_count": 29,
   "metadata": {
    "pycharm": {
     "name": "#%%\n"
    }
   },
   "outputs": [
    {
     "data": {
      "text/html": [
       "<div>\n",
       "<style scoped>\n",
       "    .dataframe tbody tr th:only-of-type {\n",
       "        vertical-align: middle;\n",
       "    }\n",
       "\n",
       "    .dataframe tbody tr th {\n",
       "        vertical-align: top;\n",
       "    }\n",
       "\n",
       "    .dataframe thead th {\n",
       "        text-align: right;\n",
       "    }\n",
       "</style>\n",
       "<table border=\"1\" class=\"dataframe\">\n",
       "  <thead>\n",
       "    <tr style=\"text-align: right;\">\n",
       "      <th></th>\n",
       "      <th>RainGage</th>\n",
       "      <th>Outlet</th>\n",
       "      <th>Area</th>\n",
       "      <th>Imperv</th>\n",
       "      <th>Width</th>\n",
       "      <th>Slope</th>\n",
       "      <th>CurbLen</th>\n",
       "      <th>SnowPack</th>\n",
       "    </tr>\n",
       "    <tr>\n",
       "      <th>Name</th>\n",
       "      <th></th>\n",
       "      <th></th>\n",
       "      <th></th>\n",
       "      <th></th>\n",
       "      <th></th>\n",
       "      <th></th>\n",
       "      <th></th>\n",
       "      <th></th>\n",
       "    </tr>\n",
       "  </thead>\n",
       "  <tbody>\n",
       "    <tr>\n",
       "      <th>S1</th>\n",
       "      <td>RainGage</td>\n",
       "      <td>Aux1</td>\n",
       "      <td>4.55</td>\n",
       "      <td>56.8</td>\n",
       "      <td>1587.0</td>\n",
       "      <td>2.0</td>\n",
       "      <td>0.0</td>\n",
       "      <td>NaN</td>\n",
       "    </tr>\n",
       "    <tr>\n",
       "      <th>S2</th>\n",
       "      <td>RainGage</td>\n",
       "      <td>Aux2</td>\n",
       "      <td>4.74</td>\n",
       "      <td>63.0</td>\n",
       "      <td>1653.0</td>\n",
       "      <td>2.0</td>\n",
       "      <td>0.0</td>\n",
       "      <td>NaN</td>\n",
       "    </tr>\n",
       "    <tr>\n",
       "      <th>S3</th>\n",
       "      <td>RainGage</td>\n",
       "      <td>Aux3</td>\n",
       "      <td>3.74</td>\n",
       "      <td>39.5</td>\n",
       "      <td>1456.0</td>\n",
       "      <td>3.1</td>\n",
       "      <td>0.0</td>\n",
       "      <td>NaN</td>\n",
       "    </tr>\n",
       "    <tr>\n",
       "      <th>S4</th>\n",
       "      <td>RainGage</td>\n",
       "      <td>J7</td>\n",
       "      <td>6.79</td>\n",
       "      <td>49.9</td>\n",
       "      <td>2331.0</td>\n",
       "      <td>3.1</td>\n",
       "      <td>0.0</td>\n",
       "      <td>NaN</td>\n",
       "    </tr>\n",
       "    <tr>\n",
       "      <th>S5</th>\n",
       "      <td>RainGage</td>\n",
       "      <td>J10</td>\n",
       "      <td>4.79</td>\n",
       "      <td>87.7</td>\n",
       "      <td>1670.0</td>\n",
       "      <td>2.0</td>\n",
       "      <td>0.0</td>\n",
       "      <td>NaN</td>\n",
       "    </tr>\n",
       "    <tr>\n",
       "      <th>S6</th>\n",
       "      <td>RainGage</td>\n",
       "      <td>J11</td>\n",
       "      <td>1.98</td>\n",
       "      <td>95.0</td>\n",
       "      <td>690.0</td>\n",
       "      <td>2.0</td>\n",
       "      <td>0.0</td>\n",
       "      <td>NaN</td>\n",
       "    </tr>\n",
       "    <tr>\n",
       "      <th>S7</th>\n",
       "      <td>RainGage</td>\n",
       "      <td>J10</td>\n",
       "      <td>2.33</td>\n",
       "      <td>0.0</td>\n",
       "      <td>907.0</td>\n",
       "      <td>3.1</td>\n",
       "      <td>0.0</td>\n",
       "      <td>NaN</td>\n",
       "    </tr>\n",
       "  </tbody>\n",
       "</table>\n",
       "</div>"
      ],
      "text/plain": [
       "      RainGage Outlet  Area  Imperv   Width  Slope  CurbLen  SnowPack\n",
       "Name                                                                 \n",
       "S1    RainGage   Aux1  4.55    56.8  1587.0    2.0      0.0       NaN\n",
       "S2    RainGage   Aux2  4.74    63.0  1653.0    2.0      0.0       NaN\n",
       "S3    RainGage   Aux3  3.74    39.5  1456.0    3.1      0.0       NaN\n",
       "S4    RainGage     J7  6.79    49.9  2331.0    3.1      0.0       NaN\n",
       "S5    RainGage    J10  4.79    87.7  1670.0    2.0      0.0       NaN\n",
       "S6    RainGage    J11  1.98    95.0   690.0    2.0      0.0       NaN\n",
       "S7    RainGage    J10  2.33     0.0   907.0    3.1      0.0       NaN"
      ]
     },
     "execution_count": 29,
     "metadata": {},
     "output_type": "execute_result"
    }
   ],
   "source": [
    "inp[sections.SUBCATCHMENTS].frame"
   ]
  },
  {
   "cell_type": "markdown",
   "metadata": {
    "pycharm": {
     "name": "#%% md\n"
    }
   },
   "source": [
    "now you can combine all connected subcatchment data to a single dataframe"
   ]
  },
  {
   "cell_type": "code",
   "execution_count": 30,
   "metadata": {
    "pycharm": {
     "name": "#%%\n"
    }
   },
   "outputs": [
    {
     "data": {
      "text/html": [
       "<div>\n",
       "<style scoped>\n",
       "    .dataframe tbody tr th:only-of-type {\n",
       "        vertical-align: middle;\n",
       "    }\n",
       "\n",
       "    .dataframe tbody tr th {\n",
       "        vertical-align: top;\n",
       "    }\n",
       "\n",
       "    .dataframe thead th {\n",
       "        text-align: right;\n",
       "    }\n",
       "</style>\n",
       "<table border=\"1\" class=\"dataframe\">\n",
       "  <thead>\n",
       "    <tr style=\"text-align: right;\">\n",
       "      <th></th>\n",
       "      <th>RainGage</th>\n",
       "      <th>Outlet</th>\n",
       "      <th>Area</th>\n",
       "      <th>Imperv</th>\n",
       "      <th>Width</th>\n",
       "      <th>Slope</th>\n",
       "      <th>CurbLen</th>\n",
       "      <th>SnowPack</th>\n",
       "      <th>N_Imperv</th>\n",
       "      <th>N_Perv</th>\n",
       "      <th>...</th>\n",
       "      <th>S_Perv</th>\n",
       "      <th>PctZero</th>\n",
       "      <th>RouteTo</th>\n",
       "      <th>PctRouted</th>\n",
       "      <th>MaxRate</th>\n",
       "      <th>MinRate</th>\n",
       "      <th>Decay</th>\n",
       "      <th>DryTime</th>\n",
       "      <th>MaxInf</th>\n",
       "      <th>kind</th>\n",
       "    </tr>\n",
       "    <tr>\n",
       "      <th>Name</th>\n",
       "      <th></th>\n",
       "      <th></th>\n",
       "      <th></th>\n",
       "      <th></th>\n",
       "      <th></th>\n",
       "      <th></th>\n",
       "      <th></th>\n",
       "      <th></th>\n",
       "      <th></th>\n",
       "      <th></th>\n",
       "      <th></th>\n",
       "      <th></th>\n",
       "      <th></th>\n",
       "      <th></th>\n",
       "      <th></th>\n",
       "      <th></th>\n",
       "      <th></th>\n",
       "      <th></th>\n",
       "      <th></th>\n",
       "      <th></th>\n",
       "      <th></th>\n",
       "    </tr>\n",
       "  </thead>\n",
       "  <tbody>\n",
       "    <tr>\n",
       "      <th>S1</th>\n",
       "      <td>RainGage</td>\n",
       "      <td>Aux1</td>\n",
       "      <td>4.55</td>\n",
       "      <td>56.8</td>\n",
       "      <td>1587.0</td>\n",
       "      <td>2.0</td>\n",
       "      <td>0.0</td>\n",
       "      <td>NaN</td>\n",
       "      <td>0.015</td>\n",
       "      <td>0.24</td>\n",
       "      <td>...</td>\n",
       "      <td>0.3</td>\n",
       "      <td>25.0</td>\n",
       "      <td>OUTLET</td>\n",
       "      <td>100.0</td>\n",
       "      <td>4.5</td>\n",
       "      <td>0.2</td>\n",
       "      <td>6.5</td>\n",
       "      <td>7.0</td>\n",
       "      <td>0.0</td>\n",
       "      <td>NaN</td>\n",
       "    </tr>\n",
       "    <tr>\n",
       "      <th>S2</th>\n",
       "      <td>RainGage</td>\n",
       "      <td>Aux2</td>\n",
       "      <td>4.74</td>\n",
       "      <td>63.0</td>\n",
       "      <td>1653.0</td>\n",
       "      <td>2.0</td>\n",
       "      <td>0.0</td>\n",
       "      <td>NaN</td>\n",
       "      <td>0.015</td>\n",
       "      <td>0.24</td>\n",
       "      <td>...</td>\n",
       "      <td>0.3</td>\n",
       "      <td>25.0</td>\n",
       "      <td>OUTLET</td>\n",
       "      <td>100.0</td>\n",
       "      <td>4.5</td>\n",
       "      <td>0.2</td>\n",
       "      <td>6.5</td>\n",
       "      <td>7.0</td>\n",
       "      <td>0.0</td>\n",
       "      <td>NaN</td>\n",
       "    </tr>\n",
       "    <tr>\n",
       "      <th>S3</th>\n",
       "      <td>RainGage</td>\n",
       "      <td>Aux3</td>\n",
       "      <td>3.74</td>\n",
       "      <td>39.5</td>\n",
       "      <td>1456.0</td>\n",
       "      <td>3.1</td>\n",
       "      <td>0.0</td>\n",
       "      <td>NaN</td>\n",
       "      <td>0.015</td>\n",
       "      <td>0.24</td>\n",
       "      <td>...</td>\n",
       "      <td>0.3</td>\n",
       "      <td>25.0</td>\n",
       "      <td>OUTLET</td>\n",
       "      <td>100.0</td>\n",
       "      <td>4.5</td>\n",
       "      <td>0.2</td>\n",
       "      <td>6.5</td>\n",
       "      <td>7.0</td>\n",
       "      <td>0.0</td>\n",
       "      <td>NaN</td>\n",
       "    </tr>\n",
       "    <tr>\n",
       "      <th>S4</th>\n",
       "      <td>RainGage</td>\n",
       "      <td>J7</td>\n",
       "      <td>6.79</td>\n",
       "      <td>49.9</td>\n",
       "      <td>2331.0</td>\n",
       "      <td>3.1</td>\n",
       "      <td>0.0</td>\n",
       "      <td>NaN</td>\n",
       "      <td>0.015</td>\n",
       "      <td>0.24</td>\n",
       "      <td>...</td>\n",
       "      <td>0.3</td>\n",
       "      <td>25.0</td>\n",
       "      <td>OUTLET</td>\n",
       "      <td>100.0</td>\n",
       "      <td>4.5</td>\n",
       "      <td>0.2</td>\n",
       "      <td>6.5</td>\n",
       "      <td>7.0</td>\n",
       "      <td>0.0</td>\n",
       "      <td>NaN</td>\n",
       "    </tr>\n",
       "    <tr>\n",
       "      <th>S5</th>\n",
       "      <td>RainGage</td>\n",
       "      <td>J10</td>\n",
       "      <td>4.79</td>\n",
       "      <td>87.7</td>\n",
       "      <td>1670.0</td>\n",
       "      <td>2.0</td>\n",
       "      <td>0.0</td>\n",
       "      <td>NaN</td>\n",
       "      <td>0.015</td>\n",
       "      <td>0.24</td>\n",
       "      <td>...</td>\n",
       "      <td>0.3</td>\n",
       "      <td>25.0</td>\n",
       "      <td>OUTLET</td>\n",
       "      <td>100.0</td>\n",
       "      <td>4.5</td>\n",
       "      <td>0.2</td>\n",
       "      <td>6.5</td>\n",
       "      <td>7.0</td>\n",
       "      <td>0.0</td>\n",
       "      <td>NaN</td>\n",
       "    </tr>\n",
       "    <tr>\n",
       "      <th>S6</th>\n",
       "      <td>RainGage</td>\n",
       "      <td>J11</td>\n",
       "      <td>1.98</td>\n",
       "      <td>95.0</td>\n",
       "      <td>690.0</td>\n",
       "      <td>2.0</td>\n",
       "      <td>0.0</td>\n",
       "      <td>NaN</td>\n",
       "      <td>0.015</td>\n",
       "      <td>0.24</td>\n",
       "      <td>...</td>\n",
       "      <td>0.3</td>\n",
       "      <td>25.0</td>\n",
       "      <td>OUTLET</td>\n",
       "      <td>100.0</td>\n",
       "      <td>4.5</td>\n",
       "      <td>0.2</td>\n",
       "      <td>6.5</td>\n",
       "      <td>7.0</td>\n",
       "      <td>0.0</td>\n",
       "      <td>NaN</td>\n",
       "    </tr>\n",
       "    <tr>\n",
       "      <th>S7</th>\n",
       "      <td>RainGage</td>\n",
       "      <td>J10</td>\n",
       "      <td>2.33</td>\n",
       "      <td>0.0</td>\n",
       "      <td>907.0</td>\n",
       "      <td>3.1</td>\n",
       "      <td>0.0</td>\n",
       "      <td>NaN</td>\n",
       "      <td>0.015</td>\n",
       "      <td>0.24</td>\n",
       "      <td>...</td>\n",
       "      <td>0.3</td>\n",
       "      <td>25.0</td>\n",
       "      <td>OUTLET</td>\n",
       "      <td>100.0</td>\n",
       "      <td>4.5</td>\n",
       "      <td>0.2</td>\n",
       "      <td>6.5</td>\n",
       "      <td>7.0</td>\n",
       "      <td>0.0</td>\n",
       "      <td>NaN</td>\n",
       "    </tr>\n",
       "  </tbody>\n",
       "</table>\n",
       "<p>7 rows × 21 columns</p>\n",
       "</div>"
      ],
      "text/plain": [
       "      RainGage Outlet  Area  Imperv   Width  Slope  CurbLen  SnowPack  \\\n",
       "Name                                                                    \n",
       "S1    RainGage   Aux1  4.55    56.8  1587.0    2.0      0.0       NaN   \n",
       "S2    RainGage   Aux2  4.74    63.0  1653.0    2.0      0.0       NaN   \n",
       "S3    RainGage   Aux3  3.74    39.5  1456.0    3.1      0.0       NaN   \n",
       "S4    RainGage     J7  6.79    49.9  2331.0    3.1      0.0       NaN   \n",
       "S5    RainGage    J10  4.79    87.7  1670.0    2.0      0.0       NaN   \n",
       "S6    RainGage    J11  1.98    95.0   690.0    2.0      0.0       NaN   \n",
       "S7    RainGage    J10  2.33     0.0   907.0    3.1      0.0       NaN   \n",
       "\n",
       "      N_Imperv  N_Perv  ...  S_Perv  PctZero  RouteTo PctRouted  MaxRate  \\\n",
       "Name                    ...                                                \n",
       "S1       0.015    0.24  ...     0.3     25.0   OUTLET     100.0      4.5   \n",
       "S2       0.015    0.24  ...     0.3     25.0   OUTLET     100.0      4.5   \n",
       "S3       0.015    0.24  ...     0.3     25.0   OUTLET     100.0      4.5   \n",
       "S4       0.015    0.24  ...     0.3     25.0   OUTLET     100.0      4.5   \n",
       "S5       0.015    0.24  ...     0.3     25.0   OUTLET     100.0      4.5   \n",
       "S6       0.015    0.24  ...     0.3     25.0   OUTLET     100.0      4.5   \n",
       "S7       0.015    0.24  ...     0.3     25.0   OUTLET     100.0      4.5   \n",
       "\n",
       "      MinRate  Decay  DryTime  MaxInf  kind  \n",
       "Name                                         \n",
       "S1        0.2    6.5      7.0     0.0   NaN  \n",
       "S2        0.2    6.5      7.0     0.0   NaN  \n",
       "S3        0.2    6.5      7.0     0.0   NaN  \n",
       "S4        0.2    6.5      7.0     0.0   NaN  \n",
       "S5        0.2    6.5      7.0     0.0   NaN  \n",
       "S6        0.2    6.5      7.0     0.0   NaN  \n",
       "S7        0.2    6.5      7.0     0.0   NaN  \n",
       "\n",
       "[7 rows x 21 columns]"
      ]
     },
     "execution_count": 30,
     "metadata": {},
     "output_type": "execute_result"
    }
   ],
   "source": [
    "inp[sections.SUBCATCHMENTS].frame.join(inp[sections.SUBAREAS].frame).join(inp[sections.INFILTRATION].frame)"
   ]
  },
  {
   "cell_type": "markdown",
   "metadata": {
    "pycharm": {
     "name": "#%% md\n"
    }
   },
   "source": [
    "single sections are build like a dict"
   ]
  },
  {
   "cell_type": "code",
   "execution_count": 31,
   "metadata": {
    "pycharm": {
     "name": "#%%\n"
    }
   },
   "outputs": [
    {
     "data": {
      "text/plain": [
       "{'O1': Outfall(Name = \"O1\", Elevation = 4956.0, Type = \"FREE\", Data = NaN, FlapGate = False, RouteTo = NaN)}"
      ]
     },
     "execution_count": 31,
     "metadata": {},
     "output_type": "execute_result"
    }
   ],
   "source": [
    "inp[sections.OUTFALLS]"
   ]
  },
  {
   "cell_type": "code",
   "execution_count": 32,
   "metadata": {
    "pycharm": {
     "name": "#%%\n"
    }
   },
   "outputs": [
    {
     "data": {
      "text/plain": [
       "Outfall(Name = \"O1\", Elevation = 4956.0, Type = \"FREE\", Data = NaN, FlapGate = False, RouteTo = NaN)"
      ]
     },
     "execution_count": 32,
     "metadata": {},
     "output_type": "execute_result"
    }
   ],
   "source": [
    "inp[sections.OUTFALLS]['O1']"
   ]
  },
  {
   "cell_type": "markdown",
   "metadata": {},
   "source": [
    "you can get and edit single values of objects"
   ]
  },
  {
   "cell_type": "code",
   "execution_count": 33,
   "metadata": {
    "pycharm": {
     "name": "#%%\n"
    }
   },
   "outputs": [
    {
     "data": {
      "text/plain": [
       "4956.0"
      ]
     },
     "execution_count": 33,
     "metadata": {},
     "output_type": "execute_result"
    }
   ],
   "source": [
    "inp[sections.OUTFALLS]['O1'].Elevation"
   ]
  },
  {
   "cell_type": "code",
   "execution_count": 34,
   "metadata": {},
   "outputs": [
    {
     "data": {
      "text/plain": [
       "4956.0"
      ]
     },
     "execution_count": 34,
     "metadata": {},
     "output_type": "execute_result"
    }
   ],
   "source": [
    "inp.OUTFALLS['O1'].Elevation"
   ]
  },
  {
   "cell_type": "markdown",
   "metadata": {},
   "source": [
    "... and you can add new objects, or even build the whole model in python"
   ]
  },
  {
   "cell_type": "code",
   "execution_count": 35,
   "metadata": {
    "pycharm": {
     "name": "#%%\n"
    }
   },
   "outputs": [
    {
     "data": {
      "text/html": [
       "<div>\n",
       "<style scoped>\n",
       "    .dataframe tbody tr th:only-of-type {\n",
       "        vertical-align: middle;\n",
       "    }\n",
       "\n",
       "    .dataframe tbody tr th {\n",
       "        vertical-align: top;\n",
       "    }\n",
       "\n",
       "    .dataframe thead th {\n",
       "        text-align: right;\n",
       "    }\n",
       "</style>\n",
       "<table border=\"1\" class=\"dataframe\">\n",
       "  <thead>\n",
       "    <tr style=\"text-align: right;\">\n",
       "      <th></th>\n",
       "      <th>Elevation</th>\n",
       "      <th>Type</th>\n",
       "      <th>Data</th>\n",
       "      <th>FlapGate</th>\n",
       "      <th>RouteTo</th>\n",
       "    </tr>\n",
       "    <tr>\n",
       "      <th>Name</th>\n",
       "      <th></th>\n",
       "      <th></th>\n",
       "      <th></th>\n",
       "      <th></th>\n",
       "      <th></th>\n",
       "    </tr>\n",
       "  </thead>\n",
       "  <tbody>\n",
       "    <tr>\n",
       "      <th>O1</th>\n",
       "      <td>4956.0</td>\n",
       "      <td>FREE</td>\n",
       "      <td>NaN</td>\n",
       "      <td>False</td>\n",
       "      <td>NaN</td>\n",
       "    </tr>\n",
       "    <tr>\n",
       "      <th>O2</th>\n",
       "      <td>4999.0</td>\n",
       "      <td>FREE</td>\n",
       "      <td>NaN</td>\n",
       "      <td>False</td>\n",
       "      <td>NaN</td>\n",
       "    </tr>\n",
       "  </tbody>\n",
       "</table>\n",
       "</div>"
      ],
      "text/plain": [
       "      Elevation  Type  Data  FlapGate  RouteTo\n",
       "Name                                          \n",
       "O1       4956.0  FREE   NaN     False      NaN\n",
       "O2       4999.0  FREE   NaN     False      NaN"
      ]
     },
     "execution_count": 35,
     "metadata": {},
     "output_type": "execute_result"
    }
   ],
   "source": [
    "inp[sections.OUTFALLS].append(Outfall('O2', Elevation=4999, Type=Outfall.TYPES.FREE))\n",
    "inp[sections.OUTFALLS].frame"
   ]
  },
  {
   "cell_type": "markdown",
   "metadata": {},
   "source": [
    "or even build the whole model in python"
   ]
  },
  {
   "cell_type": "code",
   "execution_count": 36,
   "metadata": {
    "pycharm": {
     "name": "#%%\n"
    }
   },
   "outputs": [
    {
     "data": {
      "text/html": [
       "<div>\n",
       "<style scoped>\n",
       "    .dataframe tbody tr th:only-of-type {\n",
       "        vertical-align: middle;\n",
       "    }\n",
       "\n",
       "    .dataframe tbody tr th {\n",
       "        vertical-align: top;\n",
       "    }\n",
       "\n",
       "    .dataframe thead th {\n",
       "        text-align: right;\n",
       "    }\n",
       "</style>\n",
       "<table border=\"1\" class=\"dataframe\">\n",
       "  <thead>\n",
       "    <tr style=\"text-align: right;\">\n",
       "      <th></th>\n",
       "      <th>Elevation</th>\n",
       "      <th>Type</th>\n",
       "      <th>Data</th>\n",
       "      <th>FlapGate</th>\n",
       "      <th>RouteTo</th>\n",
       "    </tr>\n",
       "    <tr>\n",
       "      <th>Name</th>\n",
       "      <th></th>\n",
       "      <th></th>\n",
       "      <th></th>\n",
       "      <th></th>\n",
       "      <th></th>\n",
       "    </tr>\n",
       "  </thead>\n",
       "  <tbody>\n",
       "    <tr>\n",
       "      <th>O1</th>\n",
       "      <td>1234.0</td>\n",
       "      <td>FREE</td>\n",
       "      <td>NaN</td>\n",
       "      <td>False</td>\n",
       "      <td>NaN</td>\n",
       "    </tr>\n",
       "    <tr>\n",
       "      <th>O2</th>\n",
       "      <td>689.0</td>\n",
       "      <td>FREE</td>\n",
       "      <td>NaN</td>\n",
       "      <td>False</td>\n",
       "      <td>NaN</td>\n",
       "    </tr>\n",
       "  </tbody>\n",
       "</table>\n",
       "</div>"
      ],
      "text/plain": [
       "      Elevation  Type  Data  FlapGate  RouteTo\n",
       "Name                                          \n",
       "O1       1234.0  FREE   NaN     False      NaN\n",
       "O2        689.0  FREE   NaN     False      NaN"
      ]
     },
     "execution_count": 36,
     "metadata": {},
     "output_type": "execute_result"
    }
   ],
   "source": [
    "inp[sections.OUTFALLS] = InpSection(Outfall)\n",
    "inp[sections.OUTFALLS].append(Outfall('O1', Elevation=1234, Type=Outfall.TYPES.FREE))\n",
    "inp[sections.OUTFALLS].append(Outfall('O2', Elevation=689, Type=Outfall.TYPES.FREE))\n",
    "inp[sections.OUTFALLS].frame"
   ]
  },
  {
   "cell_type": "code",
   "execution_count": 37,
   "metadata": {
    "pycharm": {
     "name": "#%%\n"
    }
   },
   "outputs": [
    {
     "data": {
      "text/html": [
       "<div>\n",
       "<style scoped>\n",
       "    .dataframe tbody tr th:only-of-type {\n",
       "        vertical-align: middle;\n",
       "    }\n",
       "\n",
       "    .dataframe tbody tr th {\n",
       "        vertical-align: top;\n",
       "    }\n",
       "\n",
       "    .dataframe thead th {\n",
       "        text-align: right;\n",
       "    }\n",
       "</style>\n",
       "<table border=\"1\" class=\"dataframe\">\n",
       "  <thead>\n",
       "    <tr style=\"text-align: right;\">\n",
       "      <th></th>\n",
       "      <th>Elevation</th>\n",
       "      <th>Type</th>\n",
       "      <th>Data</th>\n",
       "      <th>FlapGate</th>\n",
       "      <th>RouteTo</th>\n",
       "    </tr>\n",
       "    <tr>\n",
       "      <th>Name</th>\n",
       "      <th></th>\n",
       "      <th></th>\n",
       "      <th></th>\n",
       "      <th></th>\n",
       "      <th></th>\n",
       "    </tr>\n",
       "  </thead>\n",
       "  <tbody>\n",
       "    <tr>\n",
       "      <th>O1</th>\n",
       "      <td>4321.0</td>\n",
       "      <td>FREE</td>\n",
       "      <td>NaN</td>\n",
       "      <td>False</td>\n",
       "      <td>NaN</td>\n",
       "    </tr>\n",
       "    <tr>\n",
       "      <th>O2</th>\n",
       "      <td>987.0</td>\n",
       "      <td>FREE</td>\n",
       "      <td>NaN</td>\n",
       "      <td>False</td>\n",
       "      <td>NaN</td>\n",
       "    </tr>\n",
       "  </tbody>\n",
       "</table>\n",
       "</div>"
      ],
      "text/plain": [
       "      Elevation  Type  Data  FlapGate  RouteTo\n",
       "Name                                          \n",
       "O1       4321.0  FREE   NaN     False      NaN\n",
       "O2        987.0  FREE   NaN     False      NaN"
      ]
     },
     "execution_count": 37,
     "metadata": {},
     "output_type": "execute_result"
    }
   ],
   "source": [
    "inp[sections.OUTFALLS] = Outfall.create_section()\n",
    "inp[sections.OUTFALLS].append(Outfall('O1', Elevation=4321, Type=Outfall.TYPES.FREE))\n",
    "inp[sections.OUTFALLS].append(Outfall('O2', Elevation=987, Type=Outfall.TYPES.FREE))\n",
    "inp[sections.OUTFALLS].frame"
   ]
  },
  {
   "cell_type": "markdown",
   "metadata": {
    "pycharm": {
     "name": "#%% md\n"
    }
   },
   "source": [
    "to convert a section with multiple dataframe to pandas-dataframes, use the ``.frame`` property method\n",
    "\n",
    "this is only possible for sections with a multi-table-like structure (i.e.TIMESERIES, CURVES ...)\n",
    "\n",
    "this will return a pandas.Series (TIMESERIES) or pandas.DataFrame (CURVES)"
   ]
  },
  {
   "cell_type": "code",
   "execution_count": 38,
   "metadata": {
    "pycharm": {
     "name": "#%%\n"
    }
   },
   "outputs": [
    {
     "data": {
      "text/plain": [
       "0:00    1.00\n",
       "0:05    1.14\n",
       "0:10    1.33\n",
       "0:15    2.23\n",
       "0:20    2.84\n",
       "0:25    5.49\n",
       "0:30    9.95\n",
       "0:35    4.12\n",
       "0:40    2.48\n",
       "0:45    1.46\n",
       "0:50    1.22\n",
       "0:55    1.06\n",
       "1:00    1.00\n",
       "1:05    0.95\n",
       "1:10    0.91\n",
       "1:15    0.87\n",
       "1:20    0.84\n",
       "1:25    0.81\n",
       "1:30    0.78\n",
       "1:35    0.75\n",
       "1:40    0.73\n",
       "1:45    0.71\n",
       "1:50    0.69\n",
       "1:55    0.67\n",
       "Name: 100-yr, dtype: float64"
      ]
     },
     "execution_count": 38,
     "metadata": {},
     "output_type": "execute_result"
    }
   ],
   "source": [
    "timeseries = inp[sections.TIMESERIES]['100-yr'].frame\n",
    "timeseries"
   ]
  },
  {
   "cell_type": "markdown",
   "metadata": {},
   "source": [
    "if you want to delete sections, you can do that in a pythonic way"
   ]
  },
  {
   "cell_type": "code",
   "execution_count": 39,
   "metadata": {},
   "outputs": [
    {
     "data": {
      "text/plain": [
       "dict_keys(['TITLE', 'OPTIONS', 'EVAPORATION', 'RAINGAGES', 'SUBCATCHMENTS', 'SUBAREAS', 'INFILTRATION', 'JUNCTIONS', 'OUTFALLS', 'CONDUITS', 'XSECTIONS', 'TRANSECTS', 'LOSSES', 'TIMESERIES', 'REPORT', 'TAGS', 'MAP', 'COORDINATES', 'VERTICES', 'POLYGONS', 'SYMBOLS', 'LABELS', 'BACKDROP', 'POLLUTANTS'])"
      ]
     },
     "execution_count": 39,
     "metadata": {},
     "output_type": "execute_result"
    }
   ],
   "source": [
    "inp.keys()"
   ]
  },
  {
   "cell_type": "code",
   "execution_count": 40,
   "metadata": {
    "pycharm": {
     "name": "#%%\n"
    }
   },
   "outputs": [
    {
     "name": "stdout",
     "output_type": "stream",
     "text": [
      "Before\n",
      "dict_keys(['TITLE', 'OPTIONS', 'EVAPORATION', 'RAINGAGES', 'SUBCATCHMENTS', 'SUBAREAS', 'INFILTRATION', 'JUNCTIONS', 'OUTFALLS', 'CONDUITS', 'XSECTIONS', 'TRANSECTS', 'LOSSES', 'TIMESERIES', 'REPORT', 'TAGS', 'MAP', 'COORDINATES', 'VERTICES', 'POLYGONS', 'SYMBOLS', 'LABELS', 'BACKDROP', 'POLLUTANTS'])\n",
      "After\n",
      "dict_keys(['TITLE', 'OPTIONS', 'EVAPORATION', 'RAINGAGES', 'SUBCATCHMENTS', 'SUBAREAS', 'INFILTRATION', 'JUNCTIONS', 'OUTFALLS', 'CONDUITS', 'XSECTIONS', 'LOSSES', 'TIMESERIES', 'REPORT', 'TAGS', 'MAP', 'COORDINATES', 'VERTICES', 'POLYGONS', 'SYMBOLS', 'LABELS', 'BACKDROP', 'POLLUTANTS'])\n"
     ]
    }
   ],
   "source": [
    "print('Before')\n",
    "print(inp.keys())\n",
    "del inp[sections.TRANSECTS]\n",
    "print('After')\n",
    "print(inp.keys())"
   ]
  },
  {
   "cell_type": "markdown",
   "metadata": {
    "pycharm": {
     "name": "#%% md\n"
    }
   },
   "source": [
    "But again: you can't delete a section with the \"attribute caller\". This will just delete the attribute, not the section itself."
   ]
  },
  {
   "cell_type": "code",
   "execution_count": 41,
   "metadata": {
    "pycharm": {
     "name": "#%%\n"
    }
   },
   "outputs": [
    {
     "name": "stdout",
     "output_type": "stream",
     "text": [
      "Before\n",
      "dict_keys(['TITLE', 'OPTIONS', 'EVAPORATION', 'RAINGAGES', 'SUBCATCHMENTS', 'SUBAREAS', 'INFILTRATION', 'JUNCTIONS', 'OUTFALLS', 'CONDUITS', 'XSECTIONS', 'LOSSES', 'TIMESERIES', 'REPORT', 'TAGS', 'MAP', 'COORDINATES', 'VERTICES', 'POLYGONS', 'SYMBOLS', 'LABELS', 'BACKDROP', 'POLLUTANTS'])\n",
      "After\n",
      "dict_keys(['TITLE', 'OPTIONS', 'EVAPORATION', 'RAINGAGES', 'SUBCATCHMENTS', 'SUBAREAS', 'INFILTRATION', 'JUNCTIONS', 'OUTFALLS', 'CONDUITS', 'XSECTIONS', 'LOSSES', 'TIMESERIES', 'REPORT', 'TAGS', 'MAP', 'COORDINATES', 'VERTICES', 'POLYGONS', 'SYMBOLS', 'LABELS', 'BACKDROP', 'POLLUTANTS'])\n"
     ]
    }
   ],
   "source": [
    "print('Before')\n",
    "print(inp.keys())\n",
    "del inp.TIMESERIES\n",
    "print('After')\n",
    "print(inp.keys())"
   ]
  },
  {
   "cell_type": "code",
   "execution_count": 45,
   "metadata": {},
   "outputs": [
    {
     "ename": "AttributeError",
     "evalue": "'InpData' object has no attribute 'TIMESERIES'",
     "output_type": "error",
     "traceback": [
      "\u001b[1;31m---------------------------------------------------------------------------\u001b[0m",
      "\u001b[1;31mAttributeError\u001b[0m                            Traceback (most recent call last)",
      "\u001b[1;32m<ipython-input-45-bc65f3b3270b>\u001b[0m in \u001b[0;36m<module>\u001b[1;34m\u001b[0m\n\u001b[1;32m----> 1\u001b[1;33m \u001b[0minp\u001b[0m\u001b[1;33m.\u001b[0m\u001b[0mTIMESERIES\u001b[0m\u001b[1;33m\u001b[0m\u001b[1;33m\u001b[0m\u001b[0m\n\u001b[0m",
      "\u001b[1;31mAttributeError\u001b[0m: 'InpData' object has no attribute 'TIMESERIES'"
     ]
    }
   ],
   "source": [
    "inp.TIMESERIES"
   ]
  }
 ],
 "metadata": {
  "kernelspec": {
   "display_name": "Python 3",
   "language": "python",
   "name": "python3"
  },
  "language_info": {
   "codemirror_mode": {
    "name": "ipython",
    "version": 3
   },
   "file_extension": ".py",
   "mimetype": "text/x-python",
   "name": "python",
   "nbconvert_exporter": "python",
   "pygments_lexer": "ipython3",
   "version": "3.8.1"
  }
 },
 "nbformat": 4,
 "nbformat_minor": 1
}
